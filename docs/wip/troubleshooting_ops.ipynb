{
 "cells": [
  {
   "cell_type": "markdown",
   "metadata": {},
   "source": [
    "# Troubleshooting OPS\n",
    "\n",
    "We've tried to make OPS as easy to use as possible, and we hope that usually it \"just works.\" But a mistyped letter in your input could make the results nonsensical, or you might find yourself coming across a situation that we hadn't considered. In that case you need to do some troubleshooting.\n",
    "\n",
    "Because OPS is a framework, you have access to all the functions used internally by the code itself. Many of these can help you identify any problems in your setup."
   ]
  },
  {
   "cell_type": "markdown",
   "metadata": {},
   "source": [
    "To make this notebook work, let's first load some toy data from a notebook:"
   ]
  },
  {
   "cell_type": "code",
   "execution_count": 1,
   "metadata": {},
   "outputs": [],
   "source": [
    "import openpathsampling as paths\n",
    "# storage = \n",
    "\n",
    "# trajectory = storage.trajectory[0] \n",
    "# ensemble = \n",
    "# stateA = \n",
    "# stateB = \n",
    "# interface ="
   ]
  },
  {
   "cell_type": "markdown",
   "metadata": {},
   "source": [
    "## Does OPS see your trajectory the way it should?\n",
    "\n",
    "You're pretty sure you gave OPS a trajectory that should be A to B, but it says otherwise. How do you figure out what's going on?"
   ]
  },
  {
   "cell_type": "markdown",
   "metadata": {},
   "source": [
    "Checking whether a trajectory is in a given ensemble is easy:"
   ]
  },
  {
   "cell_type": "code",
   "execution_count": 2,
   "metadata": {},
   "outputs": [],
   "source": [
    "# ensemble(trajectory)"
   ]
  },
  {
   "cell_type": "markdown",
   "metadata": {},
   "source": [
    "Some ensembles implement the helper function `.trajectory_summary(trajectory)` to tell you a little about how they see your trajectory. That function returns a dictionary for later analysis, whereas `.trajectory_summary_str(trajectory)` returns a string."
   ]
  },
  {
   "cell_type": "code",
   "execution_count": 3,
   "metadata": {},
   "outputs": [],
   "source": [
    "# ensemble.trajectory_summary(trajectory)"
   ]
  },
  {
   "cell_type": "code",
   "execution_count": 4,
   "metadata": {},
   "outputs": [],
   "source": [
    "# ensemble.trajectory_summary_str(trajectory)"
   ]
  },
  {
   "cell_type": "markdown",
   "metadata": {},
   "source": [
    "If you define a dictionary of volumes, you can get a summary of the trajectory in terms of those volumes. This will tell you how which volume the trajectory is in, and for how many frames:"
   ]
  },
  {
   "cell_type": "code",
   "execution_count": 5,
   "metadata": {},
   "outputs": [],
   "source": [
    "# trajectory.summarize_by_volumes({\"A\" : stateA, \"B\" : stateB, \"I\" : interface & ~stateA, \"X\" : ~interface & ~stateB})"
   ]
  },
  {
   "cell_type": "markdown",
   "metadata": {},
   "source": [
    "Note: for the above, the volumes need to be disjoint, otherwise OPS can't assign each frame to a unique volume. For example, interfaces are defined so that the state is a subset of the interface. If a frame is in the state, then it is also in the interface: since it can't be assigned to a unique volume, the trajectory summary will raise an error. This can be handled with an \"and not\" construction, i.e., `interface & ~state`.\n",
    "\n",
    "If the frame does not match any volume in your list, it returns `None` as the volume label."
   ]
  },
  {
   "cell_type": "code",
   "execution_count": 6,
   "metadata": {},
   "outputs": [],
   "source": [
    "# trajectory.summarize_by_volumes({\"A\" : stateA, \"B\" : stateB, \"X\" : ~interface & ~stateB})"
   ]
  },
  {
   "cell_type": "markdown",
   "metadata": {},
   "source": [
    "If you want to see what values OPS assigns to collective variables for your trajectory, it is also straightforward to get that:"
   ]
  },
  {
   "cell_type": "code",
   "execution_count": 7,
   "metadata": {},
   "outputs": [],
   "source": [
    "# cv(trajectory)"
   ]
  },
  {
   "cell_type": "markdown",
   "metadata": {},
   "source": [
    "You can, of course, also look at the data in the trajectory directly. This little example consists of 2 atoms in 3D (although they are fixed to the $x$-axis, so $y=z=0$.) You can either see the data with `simtk.units` unit values attached by using `trajectory.coordinates`, or without by using `trajectory.xyz`. Each individual frame also has the same properties. "
   ]
  },
  {
   "cell_type": "code",
   "execution_count": 8,
   "metadata": {},
   "outputs": [],
   "source": [
    "# trajectory.coordinates"
   ]
  },
  {
   "cell_type": "code",
   "execution_count": 9,
   "metadata": {},
   "outputs": [],
   "source": [
    "# trajectory.xyz"
   ]
  },
  {
   "cell_type": "code",
   "execution_count": 10,
   "metadata": {},
   "outputs": [],
   "source": [
    "# trajectory[5].coordinates"
   ]
  },
  {
   "cell_type": "markdown",
   "metadata": {},
   "source": [
    "## How does OPS see this object?\n",
    "\n",
    "Maybe the `ensemble` isn't actually the ensemble you thought it was. How do you check that? To make it as easy as possible, we've implemented several methods to make a string out of objects in OPS.\n",
    "\n",
    "The first approach, which is usually the most readable, is  `str(object)` (which is also what you get from `print object`. If an object has a name, this will give that to you:"
   ]
  },
  {
   "cell_type": "code",
   "execution_count": 11,
   "metadata": {},
   "outputs": [],
   "source": [
    "#print ensemble"
   ]
  },
  {
   "cell_type": "markdown",
   "metadata": {},
   "source": [
    "All objects also have `repr(object)` function, which will usually give you output that is more code-like:"
   ]
  },
  {
   "cell_type": "code",
   "execution_count": 12,
   "metadata": {},
   "outputs": [],
   "source": [
    "#repr(ensemble)"
   ]
  },
  {
   "cell_type": "markdown",
   "metadata": {},
   "source": [
    "Some objects, such as `Ensemble`s, have an additional function `object.description()`. This provides you with a longer (but still mostly human-readable) description of the object. For ensembles, this gives us a set-theory based description:"
   ]
  },
  {
   "cell_type": "code",
   "execution_count": 13,
   "metadata": {},
   "outputs": [],
   "source": [
    "#ensemble.description()"
   ]
  },
  {
   "cell_type": "markdown",
   "metadata": {},
   "source": [
    "Some objects have different levels of verbosity within their `description()` functions. "
   ]
  },
  {
   "cell_type": "markdown",
   "metadata": {},
   "source": [
    "## Finding other functions\n",
    "\n",
    "Many standard tools can help you more fully explore to functions and features built into the objects in OpenPathSampling. Summary versions of the API are provided at ???. A detailed hyperlinked version of the API can be found at ???.\n",
    "\n",
    "If using IPython, we recommend exploring the options given by autocomplete (hit TAB after type a `object.` for some `object`) or by `?object` and the more detailed `??object`. There are also the standard Python docstrings (`print object.__doc__`) and `help` (`help(object)`).\n",
    "\n",
    "Altogether, these tools provide many ways to explore capabilities of OpenPathSampling."
   ]
  },
  {
   "cell_type": "markdown",
   "metadata": {},
   "source": [
    "## Checking your simulation for red flags\n",
    "\n",
    "If doing a custom move scheme, it is possible to set up your simulation in such a way that certain moves are never called, or that certain moves have 0% acceptance.\n",
    "\n",
    "We created a \"red flag\" checker that will look over your simulation and warn you if anything like that seems weird. Of course, it can only check these things *after* you've run your simulation. However, we recommend always using it as a part of your analysis process:"
   ]
  },
  {
   "cell_type": "code",
   "execution_count": 14,
   "metadata": {},
   "outputs": [],
   "source": [
    "# redflags = paths.analysis.RedFlags(storage)"
   ]
  },
  {
   "cell_type": "markdown",
   "metadata": {},
   "source": [
    "Note that, because the checks in `RedFlags` include a lot of the actual analysis of your objects, checking for red flags first can take a while but means that much of the remaining analysis is cached.\n",
    "\n",
    "The `RedFlags` class contains several functions to check various objects within the code; if you create the object without a `storage` associated, you can use those functions directly:"
   ]
  },
  {
   "cell_type": "code",
   "execution_count": 15,
   "metadata": {},
   "outputs": [],
   "source": [
    "# subflags = paths.analysis.RedFlags()\n",
    "# subflags.check_zero_acceptance(storage.pathmovers, storage.steps)"
   ]
  },
  {
   "cell_type": "code",
   "execution_count": null,
   "metadata": {},
   "outputs": [],
   "source": [
    ""
   ]
  }
 ],
 "metadata": {
  "kernelspec": {
   "display_name": "Python 2",
   "language": "python",
   "name": "python2"
  },
  "language_info": {
   "codemirror_mode": {
    "name": "ipython",
    "version": 2.0
   },
   "file_extension": ".py",
   "mimetype": "text/x-python",
   "name": "python",
   "nbconvert_exporter": "python",
   "pygments_lexer": "ipython2",
   "version": "2.7.9"
  }
 },
 "nbformat": 4,
 "nbformat_minor": 0
}