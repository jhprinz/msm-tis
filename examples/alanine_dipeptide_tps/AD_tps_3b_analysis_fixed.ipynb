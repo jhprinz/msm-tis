{
 "cells": [
  {
   "cell_type": "markdown",
   "metadata": {},
   "source": [
    "# Analyzing the fixed path length simulation\n",
    "\n",
    "We start with the same sorts of analysis as we did in the flexible path length example: we get an overview of the file, then we look at the acceptance ratio, and then we look at the move history tree and the decorrelated trajectories."
   ]
  },
  {
   "cell_type": "code",
   "execution_count": 1,
   "metadata": {},
   "outputs": [],
   "source": [
    "from __future__ import print_function\n",
    "%matplotlib inline\n",
    "import openpathsampling as paths\n",
    "import numpy as np\n",
    "import matplotlib.pyplot as plt\n",
    "import os\n",
    "import openpathsampling.visualize as ops_vis\n",
    "from IPython.display import SVG"
   ]
  },
  {
   "cell_type": "code",
   "execution_count": 2,
   "metadata": {},
   "outputs": [],
   "source": [
    "# note that this log will overwrite the log from the previous notebook\n",
    "#import logging.config\n",
    "#logging.config.fileConfig(\"../resources/logging.conf\", disable_existing_loggers=False)"
   ]
  },
  {
   "cell_type": "code",
   "execution_count": 3,
   "metadata": {},
   "outputs": [
    {
     "name": "stdout",
     "output_type": "stream",
     "text": [
      "CPU times: user 40.2 s, sys: 4.36 s, total: 44.5 s\n",
      "Wall time: 45 s\n"
     ]
    }
   ],
   "source": [
    "%%time\n",
    "fixed = paths.Storage(\"ad_fixed_tps.nc\", 'r')"
   ]
  },
  {
   "cell_type": "code",
   "execution_count": 4,
   "metadata": {},
   "outputs": [
    {
     "name": "stdout",
     "output_type": "stream",
     "text": [
      "File size: 74.98GB for 10001 steps, 3985370 snapshots\n"
     ]
    }
   ],
   "source": [
    "engine = fixed.engines[0]\n",
    "fixed_scheme = fixed.schemes[0]\n",
    "\n",
    "print(\"File size: {0} for {1} steps, {2} snapshots\".format(\n",
    "    fixed.file_size_str,\n",
    "    len(fixed.steps),\n",
    "    len(fixed.snapshots)\n",
    "))"
   ]
  },
  {
   "cell_type": "code",
   "execution_count": 5,
   "metadata": {},
   "outputs": [
    {
     "data": {
      "application/vnd.jupyter.widget-view+json": {
       "model_id": "0407d78543af4309aecd48a6aaa1377c",
       "version_major": 2,
       "version_minor": 0
      },
      "text/plain": [
       "HBox(children=(HTML(value=''), FloatProgress(value=0.0, max=10001.0), HTML(value='')))"
      ]
     },
     "metadata": {},
     "output_type": "display_data"
    },
    {
     "name": "stdout",
     "output_type": "stream",
     "text": [
      "\n",
      "shooting ran 100.000% (expected 100.00%) of the cycles with acceptance 5045/10000 (50.45%)\n"
     ]
    }
   ],
   "source": [
    "fixed_scheme.move_summary(fixed.steps)"
   ]
  },
  {
   "cell_type": "code",
   "execution_count": 6,
   "metadata": {},
   "outputs": [
    {
     "name": "stdout",
     "output_type": "stream",
     "text": [
      "15\n"
     ]
    },
    {
     "data": {
      "image/svg+xml": [
       "<svg baseProfile=\"full\" class=\"opstree\" height=\"100%\" id=\"pathtree-0\" version=\"1.1\" viewBox=\"-80.00 -22.50 2149.00 255.00\" width=\"100%\" xmlns=\"http://www.w3.org/2000/svg\" xmlns:ev=\"http://www.w3.org/2001/xml-events\" xmlns:xlink=\"http://www.w3.org/1999/xlink\"><defs><style type=\"text/css\"><![CDATA[.opstree text, .movetree text {\n",
       "    alignment-baseline: central;\n",
       "    font-size: 10px;\n",
       "    text-anchor: middle;\n",
       "    font-family: Futura-CondensedMedium;\n",
       "    font-weight: lighter;\n",
       "    stroke: none !important;\n",
       "}\n",
       ".opstree .block text, .movetree .block text {\n",
       "    alignment-baseline: central;\n",
       "    font-size: 8px;\n",
       "    text-anchor: middle;\n",
       "    font-family: Futura-CondensedMedium;\n",
       "    font-weight: lighter;\n",
       "    stroke: none !important;\n",
       "}\n",
       ".opstree text.shadow {\n",
       "    stroke-width: 3;\n",
       "    stroke: white !important;\n",
       "}\n",
       ".opstree .left.label .shift text {\n",
       "    text-anchor: end;\n",
       "}\n",
       ".opstree .right.label .shift text {\n",
       "    text-anchor: start;\n",
       "}\n",
       ".opstree .block text, .movetree .block text {\n",
       "    fill: white !important;\n",
       "    stroke: none !important;\n",
       "}\n",
       ".opstree .block {\n",
       "    stroke: none !important;\n",
       "}\n",
       ".opstree g.block:hover rect {\n",
       "    opacity: 0.5;\n",
       "}\n",
       ".opstree .repex {\n",
       "    fill: green;\n",
       "    stroke: green;\n",
       "}\n",
       ".opstree .extend {\n",
       "    fill: green;\n",
       "    stroke: green;\n",
       "}\n",
       ".opstree .truncate {\n",
       "    fill: green;\n",
       "    stroke: green;\n",
       "}\n",
       ".opstree .new {\n",
       "    fill: black;\n",
       "    stroke: black;\n",
       "}\n",
       ".opstree .unknown {\n",
       "    fill: gray;\n",
       "    stroke: gray;\n",
       "}\n",
       ".opstree .hop {\n",
       "    fill: green;\n",
       "    stroke: green;\n",
       "}\n",
       ".opstree .correlation {\n",
       "    fill: black;\n",
       "    stroke: black;\n",
       "}\n",
       ".opstree .shooting.bw {\n",
       "    fill: blue;\n",
       "    stroke: blue;\n",
       "}\n",
       ".opstree .shooting.fw {\n",
       "    fill: red;\n",
       "    stroke: red;\n",
       "}\n",
       ".opstree .shooting.overlap {\n",
       "    fill: #666;\n",
       "    stroke: #666;\n",
       "}\n",
       ".opstree .reversal {\n",
       "    fill: gold;\n",
       "    stroke: gold;\n",
       "}\n",
       ".opstree .virtual {\n",
       "    opacity: 0.1;\n",
       "    fill:gray;\n",
       "    stroke: none;\n",
       "}\n",
       ".opstree line {\n",
       "    stroke-width: 2px;\n",
       "}\n",
       ".opstree .label {\n",
       "    fill: black !important;\n",
       "}\n",
       ".opstree .h-connector {\n",
       "    stroke-width: 0.1px;\n",
       "    stroke-dasharray: 3 3;\n",
       "}\n",
       ".opstree .rejected {\n",
       "    opacity: 0.25;\n",
       "}\n",
       ".opstree .level {\n",
       "    opacity: 0.25;\n",
       "}\n",
       ".opstree .orange {\n",
       "    fill: orange;\n",
       "}\n",
       ".tableline {\n",
       "    fill: gray;\n",
       "    opacity: 0.0;\n",
       "}\n",
       ".tableline:hover {\n",
       "    opacity: 0.2;\n",
       "}\n",
       ".opstree .left.label g.shift {\n",
       "    transform: translateX(-6px);\n",
       "}\n",
       ".opstree .right.label g.shift {\n",
       "    transform: translateX(+6px);\n",
       "}\n",
       ".opstree .infobox text {\n",
       "    text-anchor: start;\n",
       "}\n",
       ".opstree .shade {\n",
       "    stroke: none;\n",
       "}\n",
       "\n",
       ".movetree .label .shift {\n",
       "    transform: translateX(-18px);\n",
       "}\n",
       "\n",
       ".movetree .label text {\n",
       "    text-anchor: end;\n",
       "}\n",
       ".movetree .v-connector {\n",
       "    stroke: black;\n",
       "}\n",
       ".movetree .v-hook {\n",
       "    stroke: black;\n",
       "}\n",
       ".movetree .h-connector {\n",
       "    stroke: black;\n",
       "}\n",
       ".movetree .ensembles .head .shift {\n",
       "    transform: translateY(0px) rotate(270deg) ;\n",
       "}\n",
       ".movetree .ensembles .head text {\n",
       "    text-anchor: start;\n",
       "}\n",
       ".movetree .connector.input {\n",
       "    fill: blue;\n",
       "}\n",
       ".movetree .connector.output {\n",
       "    fill: red;\n",
       "}\n",
       ".movetree .unknown {\n",
       "    fill: #aaa;\n",
       "    /*stroke: white;*/\n",
       "}\n",
       "]]></style></defs><g transform=\"scale(1.0)\"><g class=\"tree\" transform=\"translate(37,15)\"><g class=\"trajectory-label\"><g class=\"unknown left label\" transform=\"translate(0,0)\"><g class=\"shift\"><text x=\"0\" y=\"0\">+</text></g></g><g class=\"shooting left label\" transform=\"translate(0,15)\"><g class=\"shift\"><text x=\"0\" y=\"0\">B</text></g></g><g class=\"shooting left label\" transform=\"translate(0,30)\"><g class=\"shift\"><text x=\"0\" y=\"0\">B</text></g></g><g class=\"shooting right label\" transform=\"translate(1995,45)\"><g class=\"shift\"><text x=\"0\" y=\"0\">F</text></g></g><g class=\"shooting right label\" transform=\"translate(1995,60)\"><g class=\"shift\"><text x=\"0\" y=\"0\">F</text></g></g><g class=\"shooting left label\" transform=\"translate(0,75)\"><g class=\"shift\"><text x=\"0\" y=\"0\">B</text></g></g><g class=\"shooting left label\" transform=\"translate(0,90)\"><g class=\"shift\"><text x=\"0\" y=\"0\">B</text></g></g><g class=\"shooting right label\" transform=\"translate(1995,105)\"><g class=\"shift\"><text x=\"0\" y=\"0\">F</text></g></g><g class=\"shooting right label\" transform=\"translate(1995,120)\"><g class=\"shift\"><text x=\"0\" y=\"0\">F</text></g></g><g class=\"shooting right label\" transform=\"translate(1995,135)\"><g class=\"shift\"><text x=\"0\" y=\"0\">F</text></g></g><g class=\"shooting right label\" transform=\"translate(1995,150)\"><g class=\"shift\"><text x=\"0\" y=\"0\">F</text></g></g><g class=\"shooting right label\" transform=\"translate(1995,165)\"><g class=\"shift\"><text x=\"0\" y=\"0\">F</text></g></g><g class=\"shooting left label\" transform=\"translate(0,180)\"><g class=\"shift\"><text x=\"0\" y=\"0\">B</text></g></g><g class=\"shooting right label\" transform=\"translate(1995,195)\"><g class=\"shift\"><text x=\"0\" y=\"0\">F</text></g></g><g class=\"shooting right label\" transform=\"translate(1995,210)\"><g class=\"shift\"><text x=\"0\" y=\"0\">F</text></g></g></g><g class=\"shooting-hooks\"><line class=\"shooting bw connection v-connector\" x1=\"657.5\" x2=\"657.5\" y1=\"0.0\" y2=\"15.0\"/><line class=\"shooting bw connection v-connector\" x1=\"1727.5\" x2=\"1727.5\" y1=\"0.0\" y2=\"30.0\"/><line class=\"shooting fw connection v-connector\" x1=\"1767.5\" x2=\"1767.5\" y1=\"0.0\" y2=\"45.0\"/><line class=\"shooting fw connection v-connector\" x1=\"1577.5\" x2=\"1577.5\" y1=\"30.0\" y2=\"60.0\"/><line class=\"shooting bw connection v-connector\" x1=\"607.5\" x2=\"607.5\" y1=\"30.0\" y2=\"75.0\"/><line class=\"shooting bw connection v-connector\" x1=\"67.5\" x2=\"67.5\" y1=\"75.0\" y2=\"90.0\"/><line class=\"shooting fw connection v-connector\" x1=\"1847.5\" x2=\"1847.5\" y1=\"60.0\" y2=\"105.0\"/><line class=\"shooting fw connection v-connector\" x1=\"1507.5\" x2=\"1507.5\" y1=\"30.0\" y2=\"120.0\"/><line class=\"shooting fw connection v-connector\" x1=\"1977.5\" x2=\"1977.5\" y1=\"120.0\" y2=\"135.0\"/><line class=\"shooting fw connection v-connector\" x1=\"1467.5\" x2=\"1467.5\" y1=\"30.0\" y2=\"150.0\"/><line class=\"shooting fw connection v-connector\" x1=\"762.5\" x2=\"762.5\" y1=\"30.0\" y2=\"165.0\"/><line class=\"shooting bw connection v-connector\" x1=\"357.5\" x2=\"357.5\" y1=\"75.0\" y2=\"180.0\"/><line class=\"shooting fw connection v-connector\" x1=\"1757.5\" x2=\"1757.5\" y1=\"165.0\" y2=\"195.0\"/><line class=\"shooting fw connection v-connector\" x1=\"1407.5\" x2=\"1407.5\" y1=\"165.0\" y2=\"210.0\"/></g><g class=\"snapshot-blocks\"><g class=\"unknown new block\"><rect height=\"9.0\" width=\"2000.0\" x=\"-2.5\" y=\"-4.5\"/><circle cx=\"1997.5\" cy=\"0\" r=\"0.0\"/><text x=\"997.5\" y=\"0\"/></g><g class=\"shooting bw block\"><rect height=\"9.0\" width=\"660.0\" x=\"-2.5\" y=\"10.5\"/><circle cx=\"657.5\" cy=\"15\" r=\"0.0\"/><text x=\"327.5\" y=\"15\"/></g><g class=\"shooting bw block\"><rect height=\"9.0\" width=\"1730.0\" x=\"-2.5\" y=\"25.5\"/><circle cx=\"1727.5\" cy=\"30\" r=\"0.0\"/><text x=\"862.5\" y=\"30\"/></g><g class=\"shooting fw block\"><rect height=\"9.0\" width=\"230.0\" x=\"1767.5\" y=\"40.5\"/><circle cx=\"1997.5\" cy=\"45\" r=\"0.0\"/><text x=\"1882.5\" y=\"45\"/></g><g class=\"shooting fw block\"><rect height=\"9.0\" width=\"420.0\" x=\"1577.5\" y=\"55.5\"/><circle cx=\"1997.5\" cy=\"60\" r=\"0.0\"/><text x=\"1787.5\" y=\"60\"/></g><g class=\"shooting bw block\"><rect height=\"9.0\" width=\"610.0\" x=\"-2.5\" y=\"70.5\"/><circle cx=\"607.5\" cy=\"75\" r=\"0.0\"/><text x=\"302.5\" y=\"75\"/></g><g class=\"shooting bw block\"><rect height=\"9.0\" width=\"70.0\" x=\"-2.5\" y=\"85.5\"/><circle cx=\"67.5\" cy=\"90\" r=\"0.0\"/><text x=\"32.5\" y=\"90\"/></g><g class=\"shooting fw block\"><rect height=\"9.0\" width=\"150.0\" x=\"1847.5\" y=\"100.5\"/><circle cx=\"1997.5\" cy=\"105\" r=\"0.0\"/><text x=\"1922.5\" y=\"105\"/></g><g class=\"shooting fw block\"><rect height=\"9.0\" width=\"490.0\" x=\"1507.5\" y=\"115.5\"/><circle cx=\"1997.5\" cy=\"120\" r=\"0.0\"/><text x=\"1752.5\" y=\"120\"/></g><g class=\"shooting fw block\"><rect height=\"9.0\" width=\"20.0\" x=\"1977.5\" y=\"130.5\"/><circle cx=\"1997.5\" cy=\"135\" r=\"0.0\"/><text x=\"1987.5\" y=\"135\"/></g><g class=\"shooting fw block\"><rect height=\"9.0\" width=\"530.0\" x=\"1467.5\" y=\"145.5\"/><circle cx=\"1997.5\" cy=\"150\" r=\"0.0\"/><text x=\"1732.5\" y=\"150\"/></g><g class=\"shooting fw block\"><rect height=\"9.0\" width=\"1235.0\" x=\"762.5\" y=\"160.5\"/><circle cx=\"1997.5\" cy=\"165\" r=\"0.0\"/><text x=\"1380.0\" y=\"165\"/></g><g class=\"shooting bw block\"><rect height=\"9.0\" width=\"360.0\" x=\"-2.5\" y=\"175.5\"/><circle cx=\"357.5\" cy=\"180\" r=\"0.0\"/><text x=\"177.5\" y=\"180\"/></g><g class=\"shooting fw block\"><rect height=\"9.0\" width=\"240.0\" x=\"1757.5\" y=\"190.5\"/><circle cx=\"1997.5\" cy=\"195\" r=\"0.0\"/><text x=\"1877.5\" y=\"195\"/></g><g class=\"shooting fw block\"><rect height=\"9.0\" width=\"590.0\" x=\"1407.5\" y=\"205.5\"/><circle cx=\"1997.5\" cy=\"210\" r=\"0.0\"/><text x=\"1702.5\" y=\"210\"/></g></g></g><g class=\"legend\"><g class=\"legend-correlation\" transform=\"translate(0)\"><g class=\"head label\" transform=\"translate(0,0)\"><g class=\"shift\"><text x=\"0\" y=\"0\">cor</text></g></g><g class=\"correlation v-region\"><line x1=\"0\" x2=\"0\" y1=\"7.5\" y2=\"67.5\"/><circle cx=\"0\" cy=\"7.5\" r=\"2.24\"/><line x1=\"-6.4\" x2=\"6.4\" y1=\"7.5\" y2=\"7.5\"/><circle cx=\"0\" cy=\"67.5\" r=\"2.24\"/><line x1=\"-6.4\" x2=\"6.4\" y1=\"67.5\" y2=\"67.5\"/><text x=\"-6.4\" y=\"37.5\"/></g><g class=\"correlation v-region\"><line x1=\"0\" x2=\"0\" y1=\"67.5\" y2=\"232.5\"/><circle cx=\"0\" cy=\"67.5\" r=\"2.24\"/><line x1=\"-6.4\" x2=\"6.4\" y1=\"67.5\" y2=\"67.5\"/><text x=\"-6.4\" y=\"150.0\"/></g></g><g class=\"legend-step\" transform=\"translate(-32)\"><g class=\"head label\" transform=\"translate(0,0)\"><g class=\"shift\"><text x=\"0\" y=\"0\">step</text></g></g><g class=\"label\" transform=\"translate(0,15)\"><g class=\"shift\"><text x=\"0\" y=\"0\">0</text></g></g><g class=\"label\" transform=\"translate(0,30)\"><g class=\"shift\"><text x=\"0\" y=\"0\">1</text></g></g><g class=\"label\" transform=\"translate(0,45)\"><g class=\"shift\"><text x=\"0\" y=\"0\">2</text></g></g><g class=\"label\" transform=\"translate(0,60)\"><g class=\"shift\"><text x=\"0\" y=\"0\">4</text></g></g><g class=\"label\" transform=\"translate(0,75)\"><g class=\"shift\"><text x=\"0\" y=\"0\">5</text></g></g><g class=\"label\" transform=\"translate(0,90)\"><g class=\"shift\"><text x=\"0\" y=\"0\">6</text></g></g><g class=\"label\" transform=\"translate(0,105)\"><g class=\"shift\"><text x=\"0\" y=\"0\">7</text></g></g><g class=\"label\" transform=\"translate(0,120)\"><g class=\"shift\"><text x=\"0\" y=\"0\">9</text></g></g><g class=\"label\" transform=\"translate(0,135)\"><g class=\"shift\"><text x=\"0\" y=\"0\">10</text></g></g><g class=\"label\" transform=\"translate(0,150)\"><g class=\"shift\"><text x=\"0\" y=\"0\">11</text></g></g><g class=\"label\" transform=\"translate(0,165)\"><g class=\"shift\"><text x=\"0\" y=\"0\">13</text></g></g><g class=\"label\" transform=\"translate(0,180)\"><g class=\"shift\"><text x=\"0\" y=\"0\">21</text></g></g><g class=\"label\" transform=\"translate(0,195)\"><g class=\"shift\"><text x=\"0\" y=\"0\">22</text></g></g><g class=\"label\" transform=\"translate(0,210)\"><g class=\"shift\"><text x=\"0\" y=\"0\">23</text></g></g><g class=\"label\" transform=\"translate(0,225)\"><g class=\"shift\"><text x=\"0\" y=\"0\">24</text></g></g></g></g><g class=\"hovering-blocks\"><rect class=\"tableline\" height=\"13.5\" width=\"2149.0\" x=\"-80.0\" y=\"8.25\"/><rect class=\"tableline\" height=\"13.5\" width=\"2149.0\" x=\"-80.0\" y=\"23.25\"/><rect class=\"tableline\" height=\"13.5\" width=\"2149.0\" x=\"-80.0\" y=\"38.25\"/><rect class=\"tableline\" height=\"13.5\" width=\"2149.0\" x=\"-80.0\" y=\"53.25\"/><rect class=\"tableline\" height=\"13.5\" width=\"2149.0\" x=\"-80.0\" y=\"68.25\"/><rect class=\"tableline\" height=\"13.5\" width=\"2149.0\" x=\"-80.0\" y=\"83.25\"/><rect class=\"tableline\" height=\"13.5\" width=\"2149.0\" x=\"-80.0\" y=\"98.25\"/><rect class=\"tableline\" height=\"13.5\" width=\"2149.0\" x=\"-80.0\" y=\"113.25\"/><rect class=\"tableline\" height=\"13.5\" width=\"2149.0\" x=\"-80.0\" y=\"128.25\"/><rect class=\"tableline\" height=\"13.5\" width=\"2149.0\" x=\"-80.0\" y=\"143.25\"/><rect class=\"tableline\" height=\"13.5\" width=\"2149.0\" x=\"-80.0\" y=\"158.25\"/><rect class=\"tableline\" height=\"13.5\" width=\"2149.0\" x=\"-80.0\" y=\"173.25\"/><rect class=\"tableline\" height=\"13.5\" width=\"2149.0\" x=\"-80.0\" y=\"188.25\"/><rect class=\"tableline\" height=\"13.5\" width=\"2149.0\" x=\"-80.0\" y=\"203.25\"/><rect class=\"tableline\" height=\"13.5\" width=\"2149.0\" x=\"-80.0\" y=\"218.25\"/></g></g></svg>"
      ],
      "text/plain": [
       "<IPython.core.display.SVG object>"
      ]
     },
     "execution_count": 6,
     "metadata": {},
     "output_type": "execute_result"
    }
   ],
   "source": [
    "history = ops_vis.PathTree(\n",
    "    fixed.steps[0:25],\n",
    "    ops_vis.ReplicaEvolution(\n",
    "        replica=0\n",
    "    )\n",
    ")\n",
    "print(len(list(history.samples)))\n",
    "\n",
    "SVG(history.svg())"
   ]
  },
  {
   "cell_type": "code",
   "execution_count": 7,
   "metadata": {},
   "outputs": [
    {
     "data": {
      "image/svg+xml": [
       "<svg baseProfile=\"full\" class=\"opstree\" height=\"100%\" id=\"pathtree-1\" version=\"1.1\" viewBox=\"-80.00 -22.50 545.00 255.00\" width=\"100%\" xmlns=\"http://www.w3.org/2000/svg\" xmlns:ev=\"http://www.w3.org/2001/xml-events\" xmlns:xlink=\"http://www.w3.org/1999/xlink\"><defs><style type=\"text/css\"><![CDATA[.opstree text, .movetree text {\n",
       "    alignment-baseline: central;\n",
       "    font-size: 10px;\n",
       "    text-anchor: middle;\n",
       "    font-family: Futura-CondensedMedium;\n",
       "    font-weight: lighter;\n",
       "    stroke: none !important;\n",
       "}\n",
       ".opstree .block text, .movetree .block text {\n",
       "    alignment-baseline: central;\n",
       "    font-size: 8px;\n",
       "    text-anchor: middle;\n",
       "    font-family: Futura-CondensedMedium;\n",
       "    font-weight: lighter;\n",
       "    stroke: none !important;\n",
       "}\n",
       ".opstree text.shadow {\n",
       "    stroke-width: 3;\n",
       "    stroke: white !important;\n",
       "}\n",
       ".opstree .left.label .shift text {\n",
       "    text-anchor: end;\n",
       "}\n",
       ".opstree .right.label .shift text {\n",
       "    text-anchor: start;\n",
       "}\n",
       ".opstree .block text, .movetree .block text {\n",
       "    fill: white !important;\n",
       "    stroke: none !important;\n",
       "}\n",
       ".opstree .block {\n",
       "    stroke: none !important;\n",
       "}\n",
       ".opstree g.block:hover rect {\n",
       "    opacity: 0.5;\n",
       "}\n",
       ".opstree .repex {\n",
       "    fill: green;\n",
       "    stroke: green;\n",
       "}\n",
       ".opstree .extend {\n",
       "    fill: green;\n",
       "    stroke: green;\n",
       "}\n",
       ".opstree .truncate {\n",
       "    fill: green;\n",
       "    stroke: green;\n",
       "}\n",
       ".opstree .new {\n",
       "    fill: black;\n",
       "    stroke: black;\n",
       "}\n",
       ".opstree .unknown {\n",
       "    fill: gray;\n",
       "    stroke: gray;\n",
       "}\n",
       ".opstree .hop {\n",
       "    fill: green;\n",
       "    stroke: green;\n",
       "}\n",
       ".opstree .correlation {\n",
       "    fill: black;\n",
       "    stroke: black;\n",
       "}\n",
       ".opstree .shooting.bw {\n",
       "    fill: blue;\n",
       "    stroke: blue;\n",
       "}\n",
       ".opstree .shooting.fw {\n",
       "    fill: red;\n",
       "    stroke: red;\n",
       "}\n",
       ".opstree .shooting.overlap {\n",
       "    fill: #666;\n",
       "    stroke: #666;\n",
       "}\n",
       ".opstree .reversal {\n",
       "    fill: gold;\n",
       "    stroke: gold;\n",
       "}\n",
       ".opstree .virtual {\n",
       "    opacity: 0.1;\n",
       "    fill:gray;\n",
       "    stroke: none;\n",
       "}\n",
       ".opstree line {\n",
       "    stroke-width: 2px;\n",
       "}\n",
       ".opstree .label {\n",
       "    fill: black !important;\n",
       "}\n",
       ".opstree .h-connector {\n",
       "    stroke-width: 0.1px;\n",
       "    stroke-dasharray: 3 3;\n",
       "}\n",
       ".opstree .rejected {\n",
       "    opacity: 0.25;\n",
       "}\n",
       ".opstree .level {\n",
       "    opacity: 0.25;\n",
       "}\n",
       ".opstree .orange {\n",
       "    fill: orange;\n",
       "}\n",
       ".tableline {\n",
       "    fill: gray;\n",
       "    opacity: 0.0;\n",
       "}\n",
       ".tableline:hover {\n",
       "    opacity: 0.2;\n",
       "}\n",
       ".opstree .left.label g.shift {\n",
       "    transform: translateX(-6px);\n",
       "}\n",
       ".opstree .right.label g.shift {\n",
       "    transform: translateX(+6px);\n",
       "}\n",
       ".opstree .infobox text {\n",
       "    text-anchor: start;\n",
       "}\n",
       ".opstree .shade {\n",
       "    stroke: none;\n",
       "}\n",
       "\n",
       ".movetree .label .shift {\n",
       "    transform: translateX(-18px);\n",
       "}\n",
       "\n",
       ".movetree .label text {\n",
       "    text-anchor: end;\n",
       "}\n",
       ".movetree .v-connector {\n",
       "    stroke: black;\n",
       "}\n",
       ".movetree .v-hook {\n",
       "    stroke: black;\n",
       "}\n",
       ".movetree .h-connector {\n",
       "    stroke: black;\n",
       "}\n",
       ".movetree .ensembles .head .shift {\n",
       "    transform: translateY(0px) rotate(270deg) ;\n",
       "}\n",
       ".movetree .ensembles .head text {\n",
       "    text-anchor: start;\n",
       "}\n",
       ".movetree .connector.input {\n",
       "    fill: blue;\n",
       "}\n",
       ".movetree .connector.output {\n",
       "    fill: red;\n",
       "}\n",
       ".movetree .unknown {\n",
       "    fill: #aaa;\n",
       "    /*stroke: white;*/\n",
       "}\n",
       "]]></style></defs><g transform=\"scale(1.0)\"><g class=\"tree\" transform=\"translate(33,15)\"><g class=\"trajectory-label\"><g class=\"unknown left label\" transform=\"translate(0,0)\"><g class=\"shift\"><text x=\"0\" y=\"0\">+</text></g></g><g class=\"shooting left label\" transform=\"translate(0,15)\"><g class=\"shift\"><text x=\"0\" y=\"0\">B</text></g></g><g class=\"shooting left label\" transform=\"translate(0,30)\"><g class=\"shift\"><text x=\"0\" y=\"0\">B</text></g></g><g class=\"shooting right label\" transform=\"translate(399,45)\"><g class=\"shift\"><text x=\"0\" y=\"0\">F</text></g></g><g class=\"shooting right label\" transform=\"translate(399,60)\"><g class=\"shift\"><text x=\"0\" y=\"0\">F</text></g></g><g class=\"shooting left label\" transform=\"translate(0,75)\"><g class=\"shift\"><text x=\"0\" y=\"0\">B</text></g></g><g class=\"shooting left label\" transform=\"translate(0,90)\"><g class=\"shift\"><text x=\"0\" y=\"0\">B</text></g></g><g class=\"shooting right label\" transform=\"translate(399,105)\"><g class=\"shift\"><text x=\"0\" y=\"0\">F</text></g></g><g class=\"shooting right label\" transform=\"translate(399,120)\"><g class=\"shift\"><text x=\"0\" y=\"0\">F</text></g></g><g class=\"shooting right label\" transform=\"translate(399,135)\"><g class=\"shift\"><text x=\"0\" y=\"0\">F</text></g></g><g class=\"shooting right label\" transform=\"translate(399,150)\"><g class=\"shift\"><text x=\"0\" y=\"0\">F</text></g></g><g class=\"shooting right label\" transform=\"translate(399,165)\"><g class=\"shift\"><text x=\"0\" y=\"0\">F</text></g></g><g class=\"shooting left label\" transform=\"translate(0,180)\"><g class=\"shift\"><text x=\"0\" y=\"0\">B</text></g></g><g class=\"shooting right label\" transform=\"translate(399,195)\"><g class=\"shift\"><text x=\"0\" y=\"0\">F</text></g></g><g class=\"shooting right label\" transform=\"translate(399,210)\"><g class=\"shift\"><text x=\"0\" y=\"0\">F</text></g></g></g><g class=\"shooting-hooks\"><line class=\"shooting bw connection v-connector\" x1=\"131.5\" x2=\"131.5\" y1=\"0.0\" y2=\"15.0\"/><line class=\"shooting bw connection v-connector\" x1=\"345.5\" x2=\"345.5\" y1=\"0.0\" y2=\"30.0\"/><line class=\"shooting fw connection v-connector\" x1=\"353.5\" x2=\"353.5\" y1=\"0.0\" y2=\"45.0\"/><line class=\"shooting fw connection v-connector\" x1=\"315.5\" x2=\"315.5\" y1=\"30.0\" y2=\"60.0\"/><line class=\"shooting bw connection v-connector\" x1=\"121.5\" x2=\"121.5\" y1=\"30.0\" y2=\"75.0\"/><line class=\"shooting bw connection v-connector\" x1=\"13.5\" x2=\"13.5\" y1=\"75.0\" y2=\"90.0\"/><line class=\"shooting fw connection v-connector\" x1=\"369.5\" x2=\"369.5\" y1=\"60.0\" y2=\"105.0\"/><line class=\"shooting fw connection v-connector\" x1=\"301.5\" x2=\"301.5\" y1=\"30.0\" y2=\"120.0\"/><line class=\"shooting fw connection v-connector\" x1=\"395.5\" x2=\"395.5\" y1=\"120.0\" y2=\"135.0\"/><line class=\"shooting fw connection v-connector\" x1=\"293.5\" x2=\"293.5\" y1=\"30.0\" y2=\"150.0\"/><line class=\"shooting fw connection v-connector\" x1=\"152.5\" x2=\"152.5\" y1=\"30.0\" y2=\"165.0\"/><line class=\"shooting bw connection v-connector\" x1=\"71.5\" x2=\"71.5\" y1=\"75.0\" y2=\"180.0\"/><line class=\"shooting fw connection v-connector\" x1=\"351.5\" x2=\"351.5\" y1=\"165.0\" y2=\"195.0\"/><line class=\"shooting fw connection v-connector\" x1=\"281.5\" x2=\"281.5\" y1=\"165.0\" y2=\"210.0\"/></g><g class=\"snapshot-blocks\"><g class=\"unknown new block\"><rect height=\"9.0\" width=\"400.0\" x=\"-0.5\" y=\"-4.5\"/><circle cx=\"399.5\" cy=\"0\" r=\"0.0\"/><text x=\"199.5\" y=\"0\"/></g><g class=\"shooting bw block\"><rect height=\"9.0\" width=\"132.0\" x=\"-0.5\" y=\"10.5\"/><circle cx=\"131.5\" cy=\"15\" r=\"0.0\"/><text x=\"65.5\" y=\"15\"/></g><g class=\"shooting bw block\"><rect height=\"9.0\" width=\"346.0\" x=\"-0.5\" y=\"25.5\"/><circle cx=\"345.5\" cy=\"30\" r=\"0.0\"/><text x=\"172.5\" y=\"30\"/></g><g class=\"shooting fw block\"><rect height=\"9.0\" width=\"46.0\" x=\"353.5\" y=\"40.5\"/><circle cx=\"399.5\" cy=\"45\" r=\"0.0\"/><text x=\"376.5\" y=\"45\"/></g><g class=\"shooting fw block\"><rect height=\"9.0\" width=\"84.0\" x=\"315.5\" y=\"55.5\"/><circle cx=\"399.5\" cy=\"60\" r=\"0.0\"/><text x=\"357.5\" y=\"60\"/></g><g class=\"shooting bw block\"><rect height=\"9.0\" width=\"122.0\" x=\"-0.5\" y=\"70.5\"/><circle cx=\"121.5\" cy=\"75\" r=\"0.0\"/><text x=\"60.5\" y=\"75\"/></g><g class=\"shooting bw block\"><rect height=\"9.0\" width=\"14.0\" x=\"-0.5\" y=\"85.5\"/><circle cx=\"13.5\" cy=\"90\" r=\"0.0\"/><text x=\"6.5\" y=\"90\"/></g><g class=\"shooting fw block\"><rect height=\"9.0\" width=\"30.0\" x=\"369.5\" y=\"100.5\"/><circle cx=\"399.5\" cy=\"105\" r=\"0.0\"/><text x=\"384.5\" y=\"105\"/></g><g class=\"shooting fw block\"><rect height=\"9.0\" width=\"98.0\" x=\"301.5\" y=\"115.5\"/><circle cx=\"399.5\" cy=\"120\" r=\"0.0\"/><text x=\"350.5\" y=\"120\"/></g><g class=\"shooting fw block\"><rect height=\"9.0\" width=\"4.0\" x=\"395.5\" y=\"130.5\"/><circle cx=\"399.5\" cy=\"135\" r=\"0.0\"/><text x=\"397.5\" y=\"135\"/></g><g class=\"shooting fw block\"><rect height=\"9.0\" width=\"106.0\" x=\"293.5\" y=\"145.5\"/><circle cx=\"399.5\" cy=\"150\" r=\"0.0\"/><text x=\"346.5\" y=\"150\"/></g><g class=\"shooting fw block\"><rect height=\"9.0\" width=\"247.0\" x=\"152.5\" y=\"160.5\"/><circle cx=\"399.5\" cy=\"165\" r=\"0.0\"/><text x=\"276.0\" y=\"165\"/></g><g class=\"shooting bw block\"><rect height=\"9.0\" width=\"72.0\" x=\"-0.5\" y=\"175.5\"/><circle cx=\"71.5\" cy=\"180\" r=\"0.0\"/><text x=\"35.5\" y=\"180\"/></g><g class=\"shooting fw block\"><rect height=\"9.0\" width=\"48.0\" x=\"351.5\" y=\"190.5\"/><circle cx=\"399.5\" cy=\"195\" r=\"0.0\"/><text x=\"375.5\" y=\"195\"/></g><g class=\"shooting fw block\"><rect height=\"9.0\" width=\"118.0\" x=\"281.5\" y=\"205.5\"/><circle cx=\"399.5\" cy=\"210\" r=\"0.0\"/><text x=\"340.5\" y=\"210\"/></g></g></g><g class=\"legend\"><g class=\"legend-correlation\" transform=\"translate(0)\"><g class=\"head label\" transform=\"translate(0,0)\"><g class=\"shift\"><text x=\"0\" y=\"0\">cor</text></g></g><g class=\"correlation v-region\"><line x1=\"0\" x2=\"0\" y1=\"7.5\" y2=\"67.5\"/><circle cx=\"0\" cy=\"7.5\" r=\"2.24\"/><line x1=\"-6.4\" x2=\"6.4\" y1=\"7.5\" y2=\"7.5\"/><circle cx=\"0\" cy=\"67.5\" r=\"2.24\"/><line x1=\"-6.4\" x2=\"6.4\" y1=\"67.5\" y2=\"67.5\"/><text x=\"-6.4\" y=\"37.5\"/></g><g class=\"correlation v-region\"><line x1=\"0\" x2=\"0\" y1=\"67.5\" y2=\"232.5\"/><circle cx=\"0\" cy=\"67.5\" r=\"2.24\"/><line x1=\"-6.4\" x2=\"6.4\" y1=\"67.5\" y2=\"67.5\"/><text x=\"-6.4\" y=\"150.0\"/></g></g><g class=\"legend-step\" transform=\"translate(-32)\"><g class=\"head label\" transform=\"translate(0,0)\"><g class=\"shift\"><text x=\"0\" y=\"0\">step</text></g></g><g class=\"label\" transform=\"translate(0,15)\"><g class=\"shift\"><text x=\"0\" y=\"0\">0</text></g></g><g class=\"label\" transform=\"translate(0,30)\"><g class=\"shift\"><text x=\"0\" y=\"0\">1</text></g></g><g class=\"label\" transform=\"translate(0,45)\"><g class=\"shift\"><text x=\"0\" y=\"0\">2</text></g></g><g class=\"label\" transform=\"translate(0,60)\"><g class=\"shift\"><text x=\"0\" y=\"0\">4</text></g></g><g class=\"label\" transform=\"translate(0,75)\"><g class=\"shift\"><text x=\"0\" y=\"0\">5</text></g></g><g class=\"label\" transform=\"translate(0,90)\"><g class=\"shift\"><text x=\"0\" y=\"0\">6</text></g></g><g class=\"label\" transform=\"translate(0,105)\"><g class=\"shift\"><text x=\"0\" y=\"0\">7</text></g></g><g class=\"label\" transform=\"translate(0,120)\"><g class=\"shift\"><text x=\"0\" y=\"0\">9</text></g></g><g class=\"label\" transform=\"translate(0,135)\"><g class=\"shift\"><text x=\"0\" y=\"0\">10</text></g></g><g class=\"label\" transform=\"translate(0,150)\"><g class=\"shift\"><text x=\"0\" y=\"0\">11</text></g></g><g class=\"label\" transform=\"translate(0,165)\"><g class=\"shift\"><text x=\"0\" y=\"0\">13</text></g></g><g class=\"label\" transform=\"translate(0,180)\"><g class=\"shift\"><text x=\"0\" y=\"0\">21</text></g></g><g class=\"label\" transform=\"translate(0,195)\"><g class=\"shift\"><text x=\"0\" y=\"0\">22</text></g></g><g class=\"label\" transform=\"translate(0,210)\"><g class=\"shift\"><text x=\"0\" y=\"0\">23</text></g></g><g class=\"label\" transform=\"translate(0,225)\"><g class=\"shift\"><text x=\"0\" y=\"0\">24</text></g></g></g></g><g class=\"hovering-blocks\"><rect class=\"tableline\" height=\"13.5\" width=\"545.0\" x=\"-80.0\" y=\"8.25\"/><rect class=\"tableline\" height=\"13.5\" width=\"545.0\" x=\"-80.0\" y=\"23.25\"/><rect class=\"tableline\" height=\"13.5\" width=\"545.0\" x=\"-80.0\" y=\"38.25\"/><rect class=\"tableline\" height=\"13.5\" width=\"545.0\" x=\"-80.0\" y=\"53.25\"/><rect class=\"tableline\" height=\"13.5\" width=\"545.0\" x=\"-80.0\" y=\"68.25\"/><rect class=\"tableline\" height=\"13.5\" width=\"545.0\" x=\"-80.0\" y=\"83.25\"/><rect class=\"tableline\" height=\"13.5\" width=\"545.0\" x=\"-80.0\" y=\"98.25\"/><rect class=\"tableline\" height=\"13.5\" width=\"545.0\" x=\"-80.0\" y=\"113.25\"/><rect class=\"tableline\" height=\"13.5\" width=\"545.0\" x=\"-80.0\" y=\"128.25\"/><rect class=\"tableline\" height=\"13.5\" width=\"545.0\" x=\"-80.0\" y=\"143.25\"/><rect class=\"tableline\" height=\"13.5\" width=\"545.0\" x=\"-80.0\" y=\"158.25\"/><rect class=\"tableline\" height=\"13.5\" width=\"545.0\" x=\"-80.0\" y=\"173.25\"/><rect class=\"tableline\" height=\"13.5\" width=\"545.0\" x=\"-80.0\" y=\"188.25\"/><rect class=\"tableline\" height=\"13.5\" width=\"545.0\" x=\"-80.0\" y=\"203.25\"/><rect class=\"tableline\" height=\"13.5\" width=\"545.0\" x=\"-80.0\" y=\"218.25\"/></g></g></svg>"
      ],
      "text/plain": [
       "<IPython.core.display.SVG object>"
      ]
     },
     "execution_count": 7,
     "metadata": {},
     "output_type": "execute_result"
    }
   ],
   "source": [
    "history.options.css['scale_x'] = 1\n",
    "SVG(history.svg())"
   ]
  },
  {
   "cell_type": "code",
   "execution_count": 8,
   "metadata": {},
   "outputs": [],
   "source": [
    "with open(\"fixed_tps_tree.svg\", 'w') as svg_out:\n",
    "    svg_out.write(history.svg())"
   ]
  },
  {
   "cell_type": "code",
   "execution_count": 9,
   "metadata": {},
   "outputs": [
    {
     "name": "stdout",
     "output_type": "stream",
     "text": [
      "Decorrelated trajectories: 2\n"
     ]
    }
   ],
   "source": [
    "print(\"Decorrelated trajectories:\", len(history.generator.decorrelated_trajectories))"
   ]
  },
  {
   "cell_type": "code",
   "execution_count": 10,
   "metadata": {},
   "outputs": [
    {
     "name": "stdout",
     "output_type": "stream",
     "text": [
      "All decorrelated trajectories: 443\n"
     ]
    }
   ],
   "source": [
    "full_history = ops_vis.PathTree(\n",
    "    fixed.steps,\n",
    "    ops_vis.ReplicaEvolution(\n",
    "        replica=0\n",
    "    )\n",
    ")\n",
    "\n",
    "n_decorrelated = len(full_history.generator.decorrelated_trajectories)\n",
    "\n",
    "print(\"All decorrelated trajectories:\", n_decorrelated)"
   ]
  },
  {
   "cell_type": "markdown",
   "metadata": {},
   "source": [
    "Note that the number of MC steps (and even more so, time steps) per decorrelated trajectory is much higher than in the case of flexible path length TPS. This is the heart of the argument that flexible path length approaches are more efficient than fixed path length approaches: with a fixed path length, it takes much more effort to get a decorrelated trajectory."
   ]
  },
  {
   "cell_type": "code",
   "execution_count": null,
   "metadata": {},
   "outputs": [],
   "source": []
  }
 ],
 "metadata": {
  "kernelspec": {
   "display_name": "Python 3",
   "language": "python",
   "name": "python3"
  },
  "language_info": {
   "codemirror_mode": {
    "name": "ipython",
    "version": 3
   },
   "file_extension": ".py",
   "mimetype": "text/x-python",
   "name": "python",
   "nbconvert_exporter": "python",
   "pygments_lexer": "ipython3",
   "version": "3.7.8"
  },
  "toc": {
   "base_numbering": 1,
   "nav_menu": {},
   "number_sections": true,
   "sideBar": true,
   "skip_h1_title": true,
   "title_cell": "Table of Contents",
   "title_sidebar": "Contents",
   "toc_cell": false,
   "toc_position": {},
   "toc_section_display": true,
   "toc_window_display": true
  },
  "varInspector": {
   "cols": {
    "lenName": 16,
    "lenType": 16,
    "lenVar": 40
   },
   "kernels_config": {
    "python": {
     "delete_cmd_postfix": "",
     "delete_cmd_prefix": "del ",
     "library": "var_list.py",
     "varRefreshCmd": "print(var_dic_list())"
    },
    "r": {
     "delete_cmd_postfix": ") ",
     "delete_cmd_prefix": "rm(",
     "library": "var_list.r",
     "varRefreshCmd": "cat(var_dic_list()) "
    }
   },
   "types_to_exclude": [
    "module",
    "function",
    "builtin_function_or_method",
    "instance",
    "_Feature"
   ],
   "window_display": false
  },
  "widgets": {
   "application/vnd.jupyter.widget-state+json": {
    "state": {
     "0407d78543af4309aecd48a6aaa1377c": {
      "model_module": "@jupyter-widgets/controls",
      "model_module_version": "1.5.0",
      "model_name": "HBoxModel",
      "state": {
       "children": [
        "IPY_MODEL_f20d8012bcc443498f642fe9d992e177",
        "IPY_MODEL_e8a2aa8b5fc74559af6567a5cfc99f9a",
        "IPY_MODEL_87fa839151194ca4a738c621627a69ac"
       ],
       "layout": "IPY_MODEL_6462018156714cb99c123cac21602d17"
      }
     },
     "10dc2a3c3cfc443593a98b10c19d2173": {
      "model_module": "@jupyter-widgets/controls",
      "model_module_version": "1.5.0",
      "model_name": "ProgressStyleModel",
      "state": {
       "description_width": ""
      }
     },
     "5e287118a01c46dea7187ad6ac0e7119": {
      "model_module": "@jupyter-widgets/controls",
      "model_module_version": "1.5.0",
      "model_name": "DescriptionStyleModel",
      "state": {
       "description_width": ""
      }
     },
     "6462018156714cb99c123cac21602d17": {
      "model_module": "@jupyter-widgets/base",
      "model_module_version": "1.2.0",
      "model_name": "LayoutModel",
      "state": {}
     },
     "87fa839151194ca4a738c621627a69ac": {
      "model_module": "@jupyter-widgets/controls",
      "model_module_version": "1.5.0",
      "model_name": "HTMLModel",
      "state": {
       "layout": "IPY_MODEL_959e02c10e3846bdbba0405bcce24e6f",
       "style": "IPY_MODEL_5e287118a01c46dea7187ad6ac0e7119",
       "value": " 10001/10001 [09:47&lt;00:00, 17.03it/s]"
      }
     },
     "959e02c10e3846bdbba0405bcce24e6f": {
      "model_module": "@jupyter-widgets/base",
      "model_module_version": "1.2.0",
      "model_name": "LayoutModel",
      "state": {}
     },
     "9a810ffe610643d7b5ba43d9bff6ed6f": {
      "model_module": "@jupyter-widgets/base",
      "model_module_version": "1.2.0",
      "model_name": "LayoutModel",
      "state": {}
     },
     "d4efd0a24943475d8a6fb10a37a443da": {
      "model_module": "@jupyter-widgets/base",
      "model_module_version": "1.2.0",
      "model_name": "LayoutModel",
      "state": {}
     },
     "e8a2aa8b5fc74559af6567a5cfc99f9a": {
      "model_module": "@jupyter-widgets/controls",
      "model_module_version": "1.5.0",
      "model_name": "FloatProgressModel",
      "state": {
       "bar_style": "success",
       "layout": "IPY_MODEL_d4efd0a24943475d8a6fb10a37a443da",
       "max": 10001,
       "style": "IPY_MODEL_10dc2a3c3cfc443593a98b10c19d2173",
       "value": 10001
      }
     },
     "f20d8012bcc443498f642fe9d992e177": {
      "model_module": "@jupyter-widgets/controls",
      "model_module_version": "1.5.0",
      "model_name": "HTMLModel",
      "state": {
       "layout": "IPY_MODEL_9a810ffe610643d7b5ba43d9bff6ed6f",
       "style": "IPY_MODEL_ff88b91061594bd08f86b328fad57a37",
       "value": "100%"
      }
     },
     "ff88b91061594bd08f86b328fad57a37": {
      "model_module": "@jupyter-widgets/controls",
      "model_module_version": "1.5.0",
      "model_name": "DescriptionStyleModel",
      "state": {
       "description_width": ""
      }
     }
    },
    "version_major": 2,
    "version_minor": 0
   }
  }
 },
 "nbformat": 4,
 "nbformat_minor": 4
}
