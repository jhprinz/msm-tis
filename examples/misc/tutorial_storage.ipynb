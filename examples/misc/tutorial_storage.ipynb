{
 "cells": [
  {
   "cell_type": "markdown",
   "metadata": {},
   "source": [
    "# An introduction to Storage"
   ]
  },
  {
   "cell_type": "markdown",
   "metadata": {},
   "source": [
    "### Introduction"
   ]
  },
  {
   "cell_type": "markdown",
   "metadata": {},
   "source": [
    "All we need is contained in the `openpathsampling` package"
   ]
  },
  {
   "cell_type": "code",
   "execution_count": 1,
   "metadata": {},
   "outputs": [],
   "source": [
    "import openpathsampling as paths"
   ]
  },
  {
   "cell_type": "markdown",
   "metadata": {},
   "source": [
    "The storage itself is mainly a netCDF file and can also be used as such. Technically it is a subclass of `netCDF4.Dataset` and can use all of its functions in case we want to add additional tables to the file besides what we store using stores. You can of course also add new stores to the storage. Using `Storage()` will automatically create a set of needed storages when a new file is created. "
   ]
  },
  {
   "cell_type": "markdown",
   "metadata": {},
   "source": [
    "netCDF files are very generic while our Storage is more tuned to needs we have. It support etc native support for simtk.units, and can recursively store nested objects using JSON pickling. But we will get to that."
   ]
  },
  {
   "cell_type": "markdown",
   "metadata": {},
   "source": [
    "Open the output from the 'alanine.ipynb' notebook to have something to work with"
   ]
  },
  {
   "cell_type": "code",
   "execution_count": 2,
   "metadata": {},
   "outputs": [
    {
     "data": {
      "text/plain": [
       "Storage @ 'mstis.nc'"
      ]
     },
     "execution_count": 2,
     "metadata": {},
     "output_type": "execute_result"
    }
   ],
   "source": [
    "storage = paths.Storage('mstis.nc', 'r')\n",
    "storage.simplifier.safemode = True  # to not load actual CV code (caching still works)\n",
    "storage"
   ]
  },
  {
   "cell_type": "markdown",
   "metadata": {},
   "source": [
    "and have a look at what stores are available"
   ]
  },
  {
   "cell_type": "code",
   "execution_count": 6,
   "metadata": {},
   "outputs": [
    {
     "name": "stdout",
     "output_type": "stream",
     "text": [
      "['stores', 'trajectories', 'topologies', 'cvs', 'snapshots', 'samples', 'samplesets', 'movechanges', 'steps', 'details', 'pathmovers', 'shootingpointselectors', 'engines', 'pathsimulators', 'transitions', 'networks', 'schemes', 'interfacesets', 'msouters', 'volumes', 'ensembles', 'tag', 'snapshot0', 'cv0', 'cv1', 'cv2']\n"
     ]
    }
   ],
   "source": [
    "print(storage.list_stores())"
   ]
  },
  {
   "cell_type": "code",
   "execution_count": 7,
   "metadata": {},
   "outputs": [],
   "source": [
    "cv = storage.cvs[0]"
   ]
  },
  {
   "cell_type": "code",
   "execution_count": 8,
   "metadata": {
    "scrolled": true
   },
   "outputs": [
    {
     "data": {
      "text/plain": [
       "[0.19958673417568207,\n",
       " 0.2097039520740509,\n",
       " 0.21874895691871643,\n",
       " 0.22582970559597015,\n",
       " 0.23340286314487457,\n",
       " 0.24211987853050232,\n",
       " 0.25293034315109253,\n",
       " 0.2662259638309479,\n",
       " 0.27970921993255615,\n",
       " 0.29388806223869324]"
      ]
     },
     "execution_count": 8,
     "metadata": {},
     "output_type": "execute_result"
    }
   ],
   "source": [
    "cv(storage.trajectories[0])[0:10]"
   ]
  },
  {
   "cell_type": "markdown",
   "metadata": {},
   "source": [
    "and we can access all of these using"
   ]
  },
  {
   "cell_type": "code",
   "execution_count": 9,
   "metadata": {
    "collapsed": true
   },
   "outputs": [],
   "source": [
    "snapshot_store = storage.snapshots"
   ]
  },
  {
   "cell_type": "markdown",
   "metadata": {},
   "source": [
    "### Stores are lists"
   ]
  },
  {
   "cell_type": "markdown",
   "metadata": {},
   "source": [
    "In general it is useful to think about the storage as a set of lists. Each of these lists contain objects of the same type, e.g. `Sample`, `Trajectory`, `Ensemble`, `Volume`, ... The class instances used to access elements from the storage are called a store. Imagine you go into a store to *buy* and *sell* objects (luckily our stores are free). All the stores share the same storage space, which is a netCDF file on disc.\n",
    "\n",
    "Still, a store is not really a list or subclassed from a list, but it almost acts like one."
   ]
  },
  {
   "cell_type": "code",
   "execution_count": 11,
   "metadata": {},
   "outputs": [
    {
     "name": "stdout",
     "output_type": "stream",
     "text": [
      "We have 32882 snapshots in our storage\n"
     ]
    }
   ],
   "source": [
    "print('We have %d snapshots in our storage' % len(storage.snapshots))"
   ]
  },
  {
   "cell_type": "markdown",
   "metadata": {},
   "source": [
    "### Loading objects"
   ]
  },
  {
   "cell_type": "markdown",
   "metadata": {},
   "source": [
    " In the same way we access lists we can also access these lists using slicing, and even lists of indices."
   ]
  },
  {
   "cell_type": "markdown",
   "metadata": {},
   "source": [
    "Load by slicing"
   ]
  },
  {
   "cell_type": "code",
   "execution_count": 12,
   "metadata": {},
   "outputs": [
    {
     "name": "stdout",
     "output_type": "stream",
     "text": [
      "[<Sample @ 0x102d17668>, <Sample @ 0x112b49fd0>]\n"
     ]
    }
   ],
   "source": [
    "print(storage.samples[2:4])"
   ]
  },
  {
   "cell_type": "markdown",
   "metadata": {},
   "source": [
    "Load by list of indices"
   ]
  },
  {
   "cell_type": "code",
   "execution_count": 13,
   "metadata": {},
   "outputs": [
    {
     "name": "stdout",
     "output_type": "stream",
     "text": [
      "[<openpathsampling.ensemble.TISEnsemble object at 0x1137359b0>, <openpathsampling.ensemble.IntersectionEnsemble object at 0x113863048>, <openpathsampling.ensemble.AllInXEnsemble object at 0x1138632e8>]\n"
     ]
    }
   ],
   "source": [
    "print(storage.ensembles[[0,1,3]])"
   ]
  },
  {
   "cell_type": "markdown",
   "metadata": {},
   "source": [
    "### Saving objects"
   ]
  },
  {
   "cell_type": "markdown",
   "metadata": {},
   "source": [
    "Saving is somehow special, since we try to deal exclusively with immutable objects. That means that once an object is saved, it cannot be changed. This is not completely true, since the netCDF file allow changing, but we try not to do it. The only exeption are collective variables, these can store their cached values and we want to store intermediate states so we add new values once we have computed these. This should be the only exception and we use the `.sync` command to update the status of a once saved collectivevariable"
   ]
  },
  {
   "cell_type": "markdown",
   "metadata": {},
   "source": [
    "Saving is easy. Just use `.save` on the store "
   ]
  },
  {
   "cell_type": "code",
   "execution_count": 14,
   "metadata": {},
   "outputs": [],
   "source": [
    "# storage.samples.save(my_sample)"
   ]
  },
  {
   "cell_type": "markdown",
   "metadata": {},
   "source": [
    "and it will add the object to the end of our store list or do nothing, if the object has already been stored. It is important to note, that each object knows, if it has been stored already. This allows to write nice recursive saving without worrying that we save the same object several times."
   ]
  },
  {
   "cell_type": "markdown",
   "metadata": {},
   "source": [
    "You can also store directly using the storage. Both is fine and the storage just delegates the task to the appropriate store."
   ]
  },
  {
   "cell_type": "code",
   "execution_count": 15,
   "metadata": {
    "collapsed": true
   },
   "outputs": [],
   "source": [
    "# storage.save(my_sample)"
   ]
  },
  {
   "cell_type": "markdown",
   "metadata": {},
   "source": [
    "For completeness you can also use `__setitem__` to save, but since you cannot explicitely set the number you have to use `None` as the key or `Ellipsis`, `...` is fine."
   ]
  },
  {
   "cell_type": "code",
   "execution_count": 16,
   "metadata": {
    "collapsed": true
   },
   "outputs": [],
   "source": [
    "# storage.samples[None] = my_sample\n",
    "# storage.samples[Ellipsis] = my_sample\n",
    "# storage.samples[...] = my_sample"
   ]
  },
  {
   "cell_type": "markdown",
   "metadata": {},
   "source": [
    "I mentioned recursive saving. This does the following. Imagine a sample `snapshot` which itself has a `Configuration` and a `Momentum` object. If you store the snapshot it also store the content using the approriate stores. This can be arbitrarily complex. And most object can be either stored in a special way or get converted into a JSON string that we can turn into an object again. Python has something like this build it, which works similar, but we needed something that add the recursive storage connection and uses JSON. If you are curious, the json string can be accessed for some objects using `.json` but is only available for loaded or saved objects. It will not be computed unless it is used."
   ]
  },
  {
   "cell_type": "code",
   "execution_count": 17,
   "metadata": {
    "scrolled": true
   },
   "outputs": [
    {
     "name": "stdout",
     "output_type": "stream",
     "text": [
      "{\"_cls\":\"CVDefinedVolume\",\"_dict\":{\"collectivevariable\":{\"_store\":\"cvs\",\"_obj_uuid\":\"cb90664f-80cc-11e6-90fa-00000000001e\"},\"lambda_max\":0.3,\"lambda_min\":0.0}}\n"
     ]
    }
   ],
   "source": [
    "volume = storage.volumes[1]\n",
    "print(storage.repr_json(volume))"
   ]
  },
  {
   "cell_type": "markdown",
   "metadata": {},
   "source": [
    "### Naming"
   ]
  },
  {
   "cell_type": "markdown",
   "metadata": {},
   "source": [
    "Load by name"
   ]
  },
  {
   "cell_type": "code",
   "execution_count": 18,
   "metadata": {},
   "outputs": [
    {
     "name": "stdout",
     "output_type": "stream",
     "text": [
      "A\n"
     ]
    }
   ],
   "source": [
    "print(storage.volumes['A'].name)"
   ]
  },
  {
   "cell_type": "markdown",
   "metadata": {},
   "source": [
    "Equivalent to using `.find(<name>)`"
   ]
  },
  {
   "cell_type": "code",
   "execution_count": 19,
   "metadata": {},
   "outputs": [
    {
     "name": "stdout",
     "output_type": "stream",
     "text": [
      "A\n"
     ]
    }
   ],
   "source": [
    "print(storage.volumes.find('A').name)"
   ]
  },
  {
   "cell_type": "markdown",
   "metadata": {},
   "source": [
    "Names can exist multiple times. To find all use `.find_all()` which returns a list of objects."
   ]
  },
  {
   "cell_type": "code",
   "execution_count": 21,
   "metadata": {},
   "outputs": [
    {
     "name": "stdout",
     "output_type": "stream",
     "text": [
      "[<openpathsampling.volume.CVDefinedVolume object at 0x1138649b0>]\n"
     ]
    }
   ],
   "source": [
    "print(storage.volumes.find_all('A'))"
   ]
  },
  {
   "cell_type": "markdown",
   "metadata": {},
   "source": [
    "To get indices only use `.find_indices(<name>)`"
   ]
  },
  {
   "cell_type": "code",
   "execution_count": 22,
   "metadata": {},
   "outputs": [
    {
     "name": "stdout",
     "output_type": "stream",
     "text": [
      "[4]\n"
     ]
    }
   ],
   "source": [
    "print(storage.volumes.find_indices('A'))"
   ]
  },
  {
   "cell_type": "markdown",
   "metadata": {},
   "source": [
    "A look at the internal list of names"
   ]
  },
  {
   "cell_type": "code",
   "execution_count": 23,
   "metadata": {},
   "outputs": [
    {
     "data": {
      "text/plain": [
       "{'A': {4},\n",
       " 'B': {5},\n",
       " 'C': {0},\n",
       " 'all states except A': {12},\n",
       " 'all states except B': {22},\n",
       " 'all states except C': {3}}"
      ]
     },
     "execution_count": 23,
     "metadata": {},
     "output_type": "execute_result"
    }
   ],
   "source": [
    "storage.volumes.name_idx"
   ]
  },
  {
   "cell_type": "markdown",
   "metadata": {},
   "source": [
    "Objects can be saved by name. To do this we need a new objects that we can actually save. All loaded objects cannot be saved again of course."
   ]
  },
  {
   "cell_type": "code",
   "execution_count": 24,
   "metadata": {
    "collapsed": true
   },
   "outputs": [],
   "source": [
    "empty_ensemble = paths.EmptyEnsemble()\n",
    "full_ensemble = paths.EmptyEnsemble()"
   ]
  },
  {
   "cell_type": "markdown",
   "metadata": {},
   "source": [
    "Now store as you would set a dictionary"
   ]
  },
  {
   "cell_type": "code",
   "execution_count": 25,
   "metadata": {},
   "outputs": [
    {
     "data": {
      "text/plain": [
       "158"
      ]
     },
     "execution_count": 25,
     "metadata": {},
     "output_type": "execute_result"
    }
   ],
   "source": [
    "len(storage.ensembles)"
   ]
  },
  {
   "cell_type": "code",
   "execution_count": 30,
   "metadata": {},
   "outputs": [],
   "source": [
    "# storage.ensembles['empty'] = empty_ensemble"
   ]
  },
  {
   "cell_type": "code",
   "execution_count": 32,
   "metadata": {},
   "outputs": [],
   "source": [
    "# print storage.ensembles.index[empty_ensemble.__uuid__]"
   ]
  },
  {
   "cell_type": "code",
   "execution_count": 33,
   "metadata": {},
   "outputs": [
    {
     "data": {
      "text/plain": [
       "array([ '{\"_cls\":\"AllInXEnsemble\",\"_dict\":{\"volume\":{\"_store\":\"volumes\",\"_obj_uuid\":\"6a5b9e8a-80d5-11e6-b0c9-0000029b24b0\"},\"trusted\":true}}',\n",
       "       '{\"_cls\":\"MinusInterfaceEnsemble\",\"_dict\":{\"n_l\":2,\"state_vol\":{\"_store\":\"volumes\",\"_obj_uuid\":\"cb90664f-80cc-11e6-90fa-000000000024\"},\"innermost_vols\":[{\"_store\":\"volumes\",\"_obj_uuid\":\"6a5b9e8a-80d5-11e6-b0c9-0000029b23cc\"}],\"innermost_vol\":{\"_store\":\"volumes\",\"_obj_uuid\":\"6a5b9e8a-80d5-11e6-b0c9-0000029b23cc\"},\"greedy\":false}}',\n",
       "       '{\"_cls\":\"TISEnsemble\",\"_dict\":{\"orderparameter\":null,\"ensembles\":[{\"_store\":\"ensembles\",\"_obj_uuid\":\"6a5b9e8a-80d5-11e6-b0c9-0000029b25d2\"},{\"_store\":\"ensembles\",\"_obj_uuid\":\"6a5b9e8a-80d5-11e6-b0c9-0000029b25d8\"},{\"_store\":\"ensembles\",\"_obj_uuid\":\"6a5b9e8a-80d5-11e6-b0c9-0000029b25de\"}],\"min_overlap\":{\"_tuple\":[0,0]},\"max_overlap\":{\"_tuple\":[0,0]},\"greedy\":false,\"final_states\":[{\"_store\":\"volumes\",\"_obj_uuid\":\"cb90664f-80cc-11e6-90fa-000000000024\"}],\"interface\":{\"_store\":\"volumes\",\"_obj_uuid\":\"6a5b9e8a-80d5-11e6-b0c9-0000029b23cc\"},\"lambda_i\":null,\"initial_states\":[{\"_store\":\"volumes\",\"_obj_uuid\":\"cb90664f-80cc-11e6-90fa-000000000024\"}]}}',\n",
       "       '{\"_cls\":\"IntersectionEnsemble\",\"_dict\":{\"ensemble2\":{\"_store\":\"ensembles\",\"_obj_uuid\":\"6a5b9e8a-80d5-11e6-b0c9-0000029b25d0\"},\"ensemble1\":{\"_store\":\"ensembles\",\"_obj_uuid\":\"6a5b9e8a-80d5-11e6-b0c9-0000029b25ce\"}}}',\n",
       "       '{\"_cls\":\"LengthEnsemble\",\"_dict\":{\"length\":1}}',\n",
       "       '{\"_cls\":\"AllInXEnsemble\",\"_dict\":{\"volume\":{\"_store\":\"volumes\",\"_obj_uuid\":\"cb90664f-80cc-11e6-90fa-000000000024\"},\"trusted\":true}}',\n",
       "       '{\"_cls\":\"IntersectionEnsemble\",\"_dict\":{\"ensemble2\":{\"_store\":\"ensembles\",\"_obj_uuid\":\"6a5b9e8a-80d5-11e6-b0c9-0000029b25d6\"},\"ensemble1\":{\"_store\":\"ensembles\",\"_obj_uuid\":\"6a5b9e8a-80d5-11e6-b0c9-0000029b25d4\"}}}',\n",
       "       '{\"_cls\":\"PartOutXEnsemble\",\"_dict\":{\"volume\":{\"_store\":\"volumes\",\"_obj_uuid\":\"6a5b9e8a-80d5-11e6-b0c9-0000029b23cc\"},\"trusted\":true}}',\n",
       "       '{\"_cls\":\"AllOutXEnsemble\",\"_dict\":{\"volume\":{\"_store\":\"volumes\",\"_obj_uuid\":\"cb90664f-80cc-11e6-90fa-000000000024\"},\"trusted\":true}}',\n",
       "       '{\"_cls\":\"IntersectionEnsemble\",\"_dict\":{\"ensemble2\":{\"_store\":\"ensembles\",\"_obj_uuid\":\"6a5b9e8a-80d5-11e6-b0c9-0000029b25dc\"},\"ensemble1\":{\"_store\":\"ensembles\",\"_obj_uuid\":\"6a5b9e8a-80d5-11e6-b0c9-0000029b25da\"}}}'], dtype=object)"
      ]
     },
     "execution_count": 33,
     "metadata": {},
     "output_type": "execute_result"
    }
   ],
   "source": [
    "storage.variables['ensembles_json'][70:80]"
   ]
  },
  {
   "cell_type": "markdown",
   "metadata": {},
   "source": [
    "Alternatively you can use save."
   ]
  },
  {
   "cell_type": "code",
   "execution_count": 34,
   "metadata": {},
   "outputs": [],
   "source": [
    "# storage.ensembles.save(full_ensemble, 'full')"
   ]
  },
  {
   "cell_type": "markdown",
   "metadata": {},
   "source": [
    "And the ensemble now has the `.name` property set"
   ]
  },
  {
   "cell_type": "code",
   "execution_count": 36,
   "metadata": {},
   "outputs": [
    {
     "name": "stdout",
     "output_type": "stream",
     "text": [
      "empty\n",
      "full\n"
     ]
    }
   ],
   "source": [
    "print(empty_ensemble.name)\n",
    "print(full_ensemble.name)"
   ]
  },
  {
   "cell_type": "markdown",
   "metadata": {},
   "source": [
    "### tags"
   ]
  },
  {
   "cell_type": "markdown",
   "metadata": {},
   "source": [
    "In storage exists a special store name `tag`. This is to reference any object and mostly to name stuff for later easy access. "
   ]
  },
  {
   "cell_type": "code",
   "execution_count": 38,
   "metadata": {},
   "outputs": [
    {
     "name": "stdout",
     "output_type": "stream",
     "text": [
      "0\n"
     ]
    }
   ],
   "source": [
    "print(len(storage.tag))"
   ]
  },
  {
   "cell_type": "code",
   "execution_count": 39,
   "metadata": {},
   "outputs": [],
   "source": [
    "for t in storage.tag:\n",
    "    print(t)"
   ]
  },
  {
   "cell_type": "code",
   "execution_count": 44,
   "metadata": {},
   "outputs": [
    {
     "data": {
      "text/plain": [
       "[]"
      ]
     },
     "execution_count": 44,
     "metadata": {},
     "output_type": "execute_result"
    }
   ],
   "source": [
    "list(storage.tag.keys())"
   ]
  },
  {
   "cell_type": "code",
   "execution_count": 42,
   "metadata": {},
   "outputs": [],
   "source": [
    "for name, obj in storage.tag.iteritems():\n",
    "    print('{:20s} : {:20s}'.format(name, obj.__class__.__name__))"
   ]
  },
  {
   "cell_type": "code",
   "execution_count": 43,
   "metadata": {},
   "outputs": [
    {
     "data": {
      "text/plain": [
       "{}"
      ]
     },
     "execution_count": 43,
     "metadata": {},
     "output_type": "execute_result"
    }
   ],
   "source": [
    "dict(storage.tag)"
   ]
  },
  {
   "cell_type": "markdown",
   "metadata": {},
   "source": [
    "### Indexing"
   ]
  },
  {
   "cell_type": "markdown",
   "metadata": {},
   "source": [
    "Each loaded object is equipped with a `.idx` attribute which is a dictionary that contains the index for a specific storage. This is necessary since we can - in theory - store an object in several different stores at once and these might have different indices. Note that idx is NOT a function, but a dictionary, hence the square brackets."
   ]
  },
  {
   "cell_type": "code",
   "execution_count": 45,
   "metadata": {},
   "outputs": [
    {
     "name": "stdout",
     "output_type": "stream",
     "text": [
      "0\n",
      "0\n",
      "None\n"
     ]
    }
   ],
   "source": [
    "samp = storage.samples[0]\n",
    "print(storage.idx(samp))\n",
    "print(samp.idx(storage))\n",
    "print(samp.idx(storage.samples))"
   ]
  },
  {
   "cell_type": "markdown",
   "metadata": {},
   "source": [
    "### Iterators"
   ]
  },
  {
   "cell_type": "markdown",
   "metadata": {},
   "source": [
    "A list is iterable and so is a store. Lets load all ensembles and list their names"
   ]
  },
  {
   "cell_type": "code",
   "execution_count": 47,
   "metadata": {},
   "outputs": [
    {
     "ename": "ValueError",
     "evalue": "str 255428226282157096619627533200426795254 not found in storage or fallback",
     "output_type": "error",
     "traceback": [
      "\u001b[0;31m---------------------------------------------------------------------------\u001b[0m",
      "\u001b[0;31mValueError\u001b[0m                                Traceback (most recent call last)",
      "\u001b[0;32m<ipython-input-47-27672d2876cb>\u001b[0m in \u001b[0;36m<module>\u001b[0;34m()\u001b[0m\n\u001b[0;32m----> 1\u001b[0;31m \u001b[0;34m[\u001b[0m\u001b[0mens\u001b[0m\u001b[0;34m.\u001b[0m\u001b[0mname\u001b[0m \u001b[0;32mfor\u001b[0m \u001b[0mens\u001b[0m \u001b[0;32min\u001b[0m \u001b[0mstorage\u001b[0m\u001b[0;34m.\u001b[0m\u001b[0mensembles\u001b[0m\u001b[0;34m]\u001b[0m\u001b[0;34m[\u001b[0m\u001b[0;36m2\u001b[0m\u001b[0;34m:\u001b[0m\u001b[0;36m4\u001b[0m\u001b[0;34m]\u001b[0m\u001b[0;34m\u001b[0m\u001b[0m\n\u001b[0m",
      "\u001b[0;32m<ipython-input-47-27672d2876cb>\u001b[0m in \u001b[0;36m<listcomp>\u001b[0;34m(.0)\u001b[0m\n\u001b[0;32m----> 1\u001b[0;31m \u001b[0;34m[\u001b[0m\u001b[0mens\u001b[0m\u001b[0;34m.\u001b[0m\u001b[0mname\u001b[0m \u001b[0;32mfor\u001b[0m \u001b[0mens\u001b[0m \u001b[0;32min\u001b[0m \u001b[0mstorage\u001b[0m\u001b[0;34m.\u001b[0m\u001b[0mensembles\u001b[0m\u001b[0;34m]\u001b[0m\u001b[0;34m[\u001b[0m\u001b[0;36m2\u001b[0m\u001b[0;34m:\u001b[0m\u001b[0;36m4\u001b[0m\u001b[0;34m]\u001b[0m\u001b[0;34m\u001b[0m\u001b[0m\n\u001b[0m",
      "\u001b[0;32m~/Studium/git/openpathsampling/openpathsampling/netcdfplus/stores/object.py\u001b[0m in \u001b[0;36m__iter__\u001b[0;34m(self)\u001b[0m\n\u001b[1;32m    336\u001b[0m         \u001b[0;31m# we want to iterator in the order object were saved!\u001b[0m\u001b[0;34m\u001b[0m\u001b[0;34m\u001b[0m\u001b[0m\n\u001b[1;32m    337\u001b[0m         \u001b[0;32mfor\u001b[0m \u001b[0muuid\u001b[0m \u001b[0;32min\u001b[0m \u001b[0mself\u001b[0m\u001b[0;34m.\u001b[0m\u001b[0mindex\u001b[0m\u001b[0;34m.\u001b[0m\u001b[0m_list\u001b[0m\u001b[0;34m:\u001b[0m\u001b[0;34m\u001b[0m\u001b[0m\n\u001b[0;32m--> 338\u001b[0;31m             \u001b[0;32myield\u001b[0m \u001b[0mself\u001b[0m\u001b[0;34m.\u001b[0m\u001b[0mload\u001b[0m\u001b[0;34m(\u001b[0m\u001b[0muuid\u001b[0m\u001b[0;34m)\u001b[0m\u001b[0;34m\u001b[0m\u001b[0m\n\u001b[0m\u001b[1;32m    339\u001b[0m \u001b[0;34m\u001b[0m\u001b[0m\n\u001b[1;32m    340\u001b[0m     \u001b[0;32mdef\u001b[0m \u001b[0m__len__\u001b[0m\u001b[0;34m(\u001b[0m\u001b[0mself\u001b[0m\u001b[0;34m)\u001b[0m\u001b[0;34m:\u001b[0m\u001b[0;34m\u001b[0m\u001b[0m\n",
      "\u001b[0;32m~/Studium/git/openpathsampling/openpathsampling/netcdfplus/stores/named.py\u001b[0m in \u001b[0;36mload\u001b[0;34m(self, idx)\u001b[0m\n\u001b[1;32m    229\u001b[0m                 \u001b[0;32melse\u001b[0m\u001b[0;34m:\u001b[0m\u001b[0;34m\u001b[0m\u001b[0m\n\u001b[1;32m    230\u001b[0m                     raise ValueError(\n\u001b[0;32m--> 231\u001b[0;31m                         'str %s not found in storage or fallback' % idx)\n\u001b[0m\u001b[1;32m    232\u001b[0m \u001b[0;34m\u001b[0m\u001b[0m\n\u001b[1;32m    233\u001b[0m         \u001b[0;31m# elif type(idx) is not int:\u001b[0m\u001b[0;34m\u001b[0m\u001b[0;34m\u001b[0m\u001b[0m\n",
      "\u001b[0;31mValueError\u001b[0m: str 255428226282157096619627533200426795254 not found in storage or fallback"
     ]
    }
   ],
   "source": [
    "[ens.name for ens in storage.ensembles][2:4]"
   ]
  },
  {
   "cell_type": "markdown",
   "metadata": {},
   "source": [
    "Maybe you have realized that some command run slower the first time. This is because we use caching and once an object is loaded it stays in memory and can be accessed much faster."
   ]
  },
  {
   "cell_type": "markdown",
   "metadata": {},
   "source": [
    "### Searching for objects"
   ]
  },
  {
   "cell_type": "markdown",
   "metadata": {},
   "source": [
    "One way to find objects is to use their name, which I mentioned before, but in general there are no search functions, but we can use python notation in the usual way to load what we need. *List comprehensions* is the magic word.\n",
    "Say, we want to get all snapshots that are reversed. We could just load all of these and filter them, but there is a more elegant way to do that, or let's say a more elegant way of writing it in python, because the underlying code does just that."
   ]
  },
  {
   "cell_type": "code",
   "execution_count": 50,
   "metadata": {},
   "outputs": [
    {
     "name": "stdout",
     "output_type": "stream",
     "text": [
      "We found 1304 snapshots in StateA among 5000 total snapshots\n"
     ]
    }
   ],
   "source": [
    "stA = storage.volumes['A']\n",
    "first_5000_snaps = storage.snapshots[0:5000]\n",
    "reversed_samples = [snapshot for snapshot in first_5000_snaps if stA(snapshot)]\n",
    "print('We found %d snapshots in StateA among %d total snapshots' % (len(reversed_samples), len(first_5000_snaps)))"
   ]
  },
  {
   "cell_type": "markdown",
   "metadata": {},
   "source": [
    "Lets do something more useful: For TIS ensemble we want statistics on pathlengths associated with sampled trajectories `Sample` objects that are sampled for a specific ensemble. And we one want samples that have been generated in our production runs and are present in a `SampleSet`\n",
    "\n",
    "> TODO: add a way to select only specific SampleSets"
   ]
  },
  {
   "cell_type": "code",
   "execution_count": 52,
   "metadata": {},
   "outputs": [
    {
     "name": "stdout",
     "output_type": "stream",
     "text": [
      "<openpathsampling.sample.SampleSet object at 0x1139bcdd8>\n"
     ]
    }
   ],
   "source": [
    "print(storage.samplesets[0])"
   ]
  },
  {
   "cell_type": "code",
   "execution_count": 53,
   "metadata": {},
   "outputs": [
    {
     "name": "stdout",
     "output_type": "stream",
     "text": [
      "601\n"
     ]
    }
   ],
   "source": [
    "my_network = storage.networks[0]\n",
    "my_ensemble = my_network.sampling_ensembles[0]\n",
    "relevant_samples = [\n",
    "    sample \n",
    "    for sample_set in storage.samplesets \n",
    "    for sample in sample_set \n",
    "    if sample.ensemble is my_ensemble\n",
    "]\n",
    "print(len(relevant_samples))"
   ]
  },
  {
   "cell_type": "markdown",
   "metadata": {},
   "source": [
    "and finally compute the average length"
   ]
  },
  {
   "cell_type": "code",
   "execution_count": 54,
   "metadata": {},
   "outputs": [
    {
     "name": "stdout",
     "output_type": "stream",
     "text": [
      "[36, 36, 36, 36, 36, 36, 36, 36, 36, 36, 36, 36, 36, 36, 36, 36, 36, 36, 36, 36, 36, 36, 29, 29, 29, 29, 29, 29, 29, 29, 29, 29, 29, 29, 29, 29, 29, 29, 29, 29, 29, 29, 29, 30, 30, 30, 30, 30, 30, 30, 30, 30, 30, 30, 30, 30, 30, 30, 30, 30, 30, 30, 30, 30, 30, 30, 30, 63, 66, 66, 66, 66, 66, 66, 66, 66, 66, 66, 66, 66, 66, 66, 66, 81, 81, 81, 81, 81, 81, 81, 81, 81, 81, 81, 81, 81, 81, 81, 81, 81, 81, 81, 81, 81, 81, 81, 81, 81, 81, 81, 81, 81, 81, 81, 81, 81, 81, 81, 81, 74, 74, 74, 74, 74, 74, 74, 74, 74, 74, 74, 74, 74, 74, 74, 72, 72, 40, 40, 40, 40, 40, 50, 50, 50, 50, 50, 50, 50, 50, 50, 50, 50, 50, 50, 50, 50, 50, 50, 50, 50, 50, 50, 50, 46, 46, 46, 46, 46, 46, 22, 22, 22, 22, 22, 22, 22, 22, 22, 22, 22, 22, 22, 22, 22, 22, 22, 22, 22, 22, 22, 22, 22, 22, 22, 22, 22, 22, 22, 31, 31, 31, 31, 31, 31, 31, 31, 31, 31, 31, 31, 31, 31, 31, 31, 31, 31, 31, 31, 31, 31, 31, 31, 31, 31, 31, 31, 31, 31, 31, 31, 31, 31, 31, 31, 31, 31, 31, 31, 31, 31, 31, 31, 31, 31, 31, 31, 31, 31, 31, 31, 31, 31, 31, 31, 31, 31, 31, 31, 31, 31, 31, 31, 31, 31, 31, 31, 31, 31, 32, 32, 32, 32, 32, 32, 32, 32, 32, 32, 32, 32, 32, 32, 32, 32, 32, 32, 32, 32, 32, 32, 32, 32, 32, 32, 32, 32, 32, 32, 32, 32, 32, 32, 32, 34, 34, 34, 34, 34, 34, 34, 34, 34, 34, 34, 34, 34, 34, 34, 34, 37, 37, 37, 37, 36, 36, 36, 39, 39, 39, 39, 39, 39, 64, 64, 64, 64, 64, 64, 64, 64, 64, 64, 64, 64, 64, 64, 64, 64, 64, 64, 64, 64, 64, 51, 51, 51, 51, 51, 51, 51, 51, 51, 51, 51, 51, 51, 51, 51, 51, 51, 51, 51, 51, 51, 51, 51, 51, 51, 51, 51, 51, 51, 51, 51, 51, 51, 51, 51, 51, 51, 51, 51, 51, 51, 51, 38, 38, 38, 38, 38, 38, 38, 38, 38, 38, 38, 38, 38, 38, 38, 38, 38, 38, 38, 38, 38, 38, 38, 38, 38, 38, 38, 38, 38, 38, 38, 38, 38, 38, 38, 38, 38, 38, 38, 38, 38, 38, 38, 38, 38, 38, 38, 38, 38, 38, 38, 38, 38, 22, 22, 22, 22, 22, 22, 21, 21, 21, 21, 21, 21, 21, 21, 21, 21, 21, 21, 16, 16, 16, 16, 16, 16, 22, 22, 22, 29, 29, 29, 29, 29, 29, 29, 29, 29, 29, 29, 29, 29, 29, 29, 29, 29, 29, 29, 29, 29, 29, 29, 26, 26, 26, 22, 22, 22, 22, 22, 22, 22, 22, 22, 22, 22, 22, 22, 22, 22, 22, 22, 46, 46, 46, 46, 46, 46, 46, 46, 46, 46, 46, 46, 46, 46, 46, 46, 46, 46, 46, 46, 46, 46, 46, 46, 46, 46, 46, 46, 46, 46, 46, 46, 46, 72, 72, 72, 72, 72, 72, 72, 72, 72, 72, 72, 72, 72, 72, 72, 72, 72, 72, 72, 72, 72, 72, 72, 72, 60, 60, 10, 10, 10, 10, 10, 10, 10, 10, 10, 10, 10, 10, 10, 10, 10, 10, 10, 10, 10, 10, 10, 10, 10, 10]\n",
      "41.01996672212979\n"
     ]
    }
   ],
   "source": [
    "list_of_path_lengths = [\n",
    "    len(sample.trajectory)\n",
    "    for sample_set in storage.samplesets \n",
    "    for sample in sample_set \n",
    "    if sample.ensemble is my_ensemble\n",
    "]\n",
    "print(list_of_path_lengths)\n",
    "if len(list_of_path_lengths) > 0:\n",
    "    mean = float(sum(list_of_path_lengths))/len(list_of_path_lengths)\n",
    "else:\n",
    "    mean = 0.0 # actually, it is not defined, so we just set it to zero\n",
    "print(mean)"
   ]
  },
  {
   "cell_type": "markdown",
   "metadata": {},
   "source": [
    "Allright, we loaded from a bootstrapping sampling algorithm and the analysis is pointless, but still it is rather short considering what we just did."
   ]
  },
  {
   "cell_type": "markdown",
   "metadata": {},
   "source": [
    "### Generator expression"
   ]
  },
  {
   "cell_type": "markdown",
   "metadata": {},
   "source": [
    "There is another very cool feature about python that is worth noting: generator expressions. Before we used list comprehensions to generate a list of all that we need, but what, if we don't want the whole list at once? Maybe that is impossible because of too much memory and also not desirable? We can do the same thing as above using a generator (although it would only be useful if we had to average over billions of samples). So assume the list of lengths is too large for memory. The summing does not mind to use little pieces so we construct a function that always gives us the next element. These functions are called iterators and to make these iteratore there is syntactic way to create them easily: Instead of square brackets in in list comprehensions use round brackets. So the above example would look like this"
   ]
  },
  {
   "cell_type": "code",
   "execution_count": 55,
   "metadata": {},
   "outputs": [
    {
     "name": "stdout",
     "output_type": "stream",
     "text": [
      "24653.0\n"
     ]
    }
   ],
   "source": [
    "iterator_over_path_lengths = (\n",
    "    len(sample.trajectory)\n",
    "    for sample_set in storage.samplesets\n",
    "    for sample in sample_set \n",
    "    if sample.ensemble is my_ensemble\n",
    ")\n",
    "total = float(sum(iterator_over_path_lengths))\n",
    "print(total)"
   ]
  },
  {
   "cell_type": "markdown",
   "metadata": {},
   "source": [
    "Note that we now have a generator and no computed values yet. If we iterator using our iterator called generator it will pass one value at a time and we can use it in sum as we did before. There are two important things to note. Once an iteratore is used, it is consumed and we cannot just be run again so we need to change the code again. I assume there are other ways to do that, too"
   ]
  },
  {
   "cell_type": "code",
   "execution_count": 56,
   "metadata": {},
   "outputs": [
    {
     "name": "stdout",
     "output_type": "stream",
     "text": [
      "41.01996672212979\n"
     ]
    }
   ],
   "source": [
    "iterator_over_path_lengths = (\n",
    "    len(sample.trajectory)\n",
    "    for sample_set in storage.samplesets \n",
    "    for sample in sample_set \n",
    "    if sample.ensemble is my_ensemble\n",
    ")\n",
    "total = 0\n",
    "count = 0\n",
    "for length in iterator_over_path_lengths:\n",
    "    total += length\n",
    "    count += 1\n",
    "    \n",
    "if count > 0:\n",
    "    mean = float(total)/count\n",
    "else:\n",
    "    mean = 0.0 # actually, it is not defined, so we just set it to zero\n",
    "print(mean)"
   ]
  },
  {
   "cell_type": "markdown",
   "metadata": {},
   "source": [
    "Voilà, this time without computing all length before!"
   ]
  },
  {
   "cell_type": "markdown",
   "metadata": {},
   "source": [
    "A last example that will be interesting is the statistics on acceptance. Each sample knows which mover was involved in its creation. This is stored in `.details.mover` in the `.details` attribute. Let us try to look at only forward moves"
   ]
  },
  {
   "cell_type": "code",
   "execution_count": 62,
   "metadata": {
    "collapsed": true
   },
   "outputs": [],
   "source": [
    "ff_movers = list(filter(lambda self : type(self) == paths.ForwardShootMover, storage.pathmovers))"
   ]
  },
  {
   "cell_type": "code",
   "execution_count": 63,
   "metadata": {},
   "outputs": [
    {
     "data": {
      "text/plain": [
       "[<openpathsampling.pathmover.ForwardShootMover at 0x113e31320>,\n",
       " <openpathsampling.pathmover.ForwardShootMover at 0x113e34e48>,\n",
       " <openpathsampling.pathmover.ForwardShootMover at 0x113e34320>,\n",
       " <openpathsampling.pathmover.ForwardShootMover at 0x113e317f0>,\n",
       " <openpathsampling.pathmover.ForwardShootMover at 0x113e31438>,\n",
       " <openpathsampling.pathmover.ForwardShootMover at 0x113e34ba8>,\n",
       " <openpathsampling.pathmover.ForwardShootMover at 0x113fa15c0>,\n",
       " <openpathsampling.pathmover.ForwardShootMover at 0x113e3ed68>,\n",
       " <openpathsampling.pathmover.ForwardShootMover at 0x113e313c8>,\n",
       " <openpathsampling.pathmover.ForwardShootMover at 0x113e55e10>,\n",
       " <openpathsampling.pathmover.ForwardShootMover at 0x113d10be0>,\n",
       " <openpathsampling.pathmover.ForwardShootMover at 0x113d10ac8>,\n",
       " <openpathsampling.pathmover.ForwardShootMover at 0x113d10c88>]"
      ]
     },
     "execution_count": 63,
     "metadata": {},
     "output_type": "execute_result"
    }
   ],
   "source": [
    "ff_movers"
   ]
  },
  {
   "cell_type": "code",
   "execution_count": 64,
   "metadata": {},
   "outputs": [
    {
     "name": "stdout",
     "output_type": "stream",
     "text": [
      "Use a 'ForwardShootMover' for ensemble(s) 'Out B 2'\n"
     ]
    }
   ],
   "source": [
    "if len(ff_movers) > 2:\n",
    "    mover = ff_movers[2]\n",
    "    print(\"Use a '%s' for ensemble(s) '%s'\" % ( mover.cls, mover.ensemble.name ))"
   ]
  },
  {
   "cell_type": "markdown",
   "metadata": {},
   "source": [
    "I use a little trick here, notice that we use a list comprehension inside of a function call, this actually uses the generator expression and passes the resulting iterator to the `.join` function.\n",
    "\n",
    "Now to get statistics on acceptances"
   ]
  },
  {
   "cell_type": "code",
   "execution_count": null,
   "metadata": {
    "collapsed": true
   },
   "outputs": [],
   "source": []
  }
 ],
 "metadata": {
  "anaconda-cloud": {},
  "kernelspec": {
   "display_name": "Python 3",
   "language": "python",
   "name": "python3"
  },
  "language_info": {
   "codemirror_mode": {
    "name": "ipython",
    "version": 3
   },
   "file_extension": ".py",
   "mimetype": "text/x-python",
   "name": "python",
   "nbconvert_exporter": "python",
   "pygments_lexer": "ipython3",
   "version": "3.6.1"
  }
 },
 "nbformat": 4,
 "nbformat_minor": 1
}
