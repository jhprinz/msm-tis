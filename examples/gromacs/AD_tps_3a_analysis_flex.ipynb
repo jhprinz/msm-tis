{
 "cells": [
  {
   "cell_type": "code",
   "execution_count": 1,
   "metadata": {},
   "outputs": [],
   "source": [
    "%matplotlib inline\n",
    "import openpathsampling as paths\n",
    "import numpy as np\n",
    "import matplotlib.pyplot as plt\n",
    "import matplotlib\n",
    "import os\n",
    "import openpathsampling.visualize as ops_vis\n",
    "from IPython.display import SVG\n",
    "\n",
    "matplotlib.rcParams.update({'font.size': 16,\n",
    "                            'xtick.labelsize': 12,\n",
    "                            'ytick.labelsize': 12})"
   ]
  },
  {
   "cell_type": "markdown",
   "metadata": {},
   "source": [
    "# Analyzing the flexible path length simulation"
   ]
  },
  {
   "cell_type": "markdown",
   "metadata": {},
   "source": [
    "Load the file, and from the file pull our the engine (which tells us what the timestep was) and the move scheme (which gives us a starting point for much of the analysis)."
   ]
  },
  {
   "cell_type": "code",
   "execution_count": 2,
   "metadata": {},
   "outputs": [],
   "source": [
    "filename = \"alanine_dipeptide_tps.nc\""
   ]
  },
  {
   "cell_type": "markdown",
   "metadata": {},
   "source": [
    "Opening a large storage file can take some time. In addition, the `AnalysisStorage` object tries to pre-cache things, which makes opening it take longer, but can make analysis faster."
   ]
  },
  {
   "cell_type": "code",
   "execution_count": 4,
   "metadata": {},
   "outputs": [
    {
     "name": "stdout",
     "output_type": "stream",
     "text": [
      "CPU times: user 2.45 s, sys: 205 ms, total: 2.66 s\n",
      "Wall time: 3.44 s\n"
     ]
    }
   ],
   "source": [
    "%%time\n",
    "flexible = paths.Storage(filename, mode='r')"
   ]
  },
  {
   "cell_type": "code",
   "execution_count": 5,
   "metadata": {},
   "outputs": [],
   "source": [
    "engine = flexible.engines[0]\n",
    "flex_scheme = flexible.schemes[0]"
   ]
  },
  {
   "cell_type": "code",
   "execution_count": 6,
   "metadata": {},
   "outputs": [
    {
     "name": "stdout",
     "output_type": "stream",
     "text": [
      "File size: 110.33MB for 1001 steps, 46704 snapshots\n"
     ]
    }
   ],
   "source": [
    "print(\"File size: {0} for {1} steps, {2} snapshots\".format(\n",
    "    flexible.file_size_str,\n",
    "    len(flexible.steps),\n",
    "    len(flexible.snapshots),\n",
    "))"
   ]
  },
  {
   "cell_type": "markdown",
   "metadata": {},
   "source": [
    "That tell us a little about the file we're dealing with. Note that the number of snapshots listed is twice the number of configurations. That's because every snapshot object stores a virtual version of its velocity-reversed copy. Both share the same configuration and velocity storage; one just flips the signs on the velocities.\n",
    "\n",
    "Now we'll start analyzing the contents of that file. We used a very simple move scheme (only shooting), so the main information that the `move_summary` gives us is the acceptance of the only kind of move in that scheme. See the MSTIS examples for more complicated move schemes, where you want to make sure that frequency at which the move runs is close to what was expected."
   ]
  },
  {
   "cell_type": "code",
   "execution_count": 7,
   "metadata": {
    "scrolled": true
   },
   "outputs": [
    {
     "name": "stdout",
     "output_type": "stream",
     "text": [
      "shooting ran 100.000% (expected 100.00%) of the cycles with acceptance 793/1000 (79.30%)\n",
      "CPU times: user 1min 34s, sys: 10.2 s, total: 1min 45s\n",
      "Wall time: 1min 46s\n"
     ]
    }
   ],
   "source": [
    "%%time\n",
    "flex_scheme.move_summary(flexible.steps)"
   ]
  },
  {
   "cell_type": "markdown",
   "metadata": {},
   "source": [
    "#### Replica history tree and decorrelated trajectories\n",
    "\n",
    "The `PathTree` object gives us both the history tree (often called the \"move tree\") and the number of decorrelated trajectories. It takes the history of a given replica (in our case, replica 0, the only one) and builds a description of the move history.\n",
    "\n",
    "A `PathTree` is made for a certain set of Monte Carlo steps. First, we make a tree of only the first 20 steps in order to visualize it. (All 10000 steps would be unwieldy.) Note that only the accepted steps are shown by default (see examples for path tree visualization for customization details.)\n",
    "\n",
    "After the visualization, we make a second `PathTree` of all the steps, in order to count the number of decorrelated trajectories."
   ]
  },
  {
   "cell_type": "code",
   "execution_count": 8,
   "metadata": {},
   "outputs": [
    {
     "data": {
      "image/svg+xml": [
       "<svg baseProfile=\"full\" class=\"opstree\" height=\"100%\" id=\"pathtree-1\" version=\"1.1\" viewBox=\"-80.00 -22.50 209.00 330.00\" width=\"100%\" xmlns=\"http://www.w3.org/2000/svg\" xmlns:ev=\"http://www.w3.org/2001/xml-events\" xmlns:xlink=\"http://www.w3.org/1999/xlink\"><defs><style type=\"text/css\"><![CDATA[.opstree text, .movetree text {\n",
       "    alignment-baseline: central;\n",
       "    font-size: 10px;\n",
       "    text-anchor: middle;\n",
       "    font-family: Futura-CondensedMedium;\n",
       "    font-weight: lighter;\n",
       "    stroke: none !important;\n",
       "}\n",
       ".opstree .block text, .movetree .block text {\n",
       "    alignment-baseline: central;\n",
       "    font-size: 8px;\n",
       "    text-anchor: middle;\n",
       "    font-family: Futura-CondensedMedium;\n",
       "    font-weight: lighter;\n",
       "    stroke: none !important;\n",
       "}\n",
       ".opstree text.shadow {\n",
       "    stroke-width: 3;\n",
       "    stroke: white !important;\n",
       "}\n",
       ".opstree .left.label .shift text {\n",
       "    text-anchor: end;\n",
       "}\n",
       ".opstree .right.label .shift text {\n",
       "    text-anchor: start;\n",
       "}\n",
       ".opstree .block text, .movetree .block text {\n",
       "    fill: white !important;\n",
       "    stroke: none !important;\n",
       "}\n",
       ".opstree .block {\n",
       "    stroke: none !important;\n",
       "}\n",
       ".opstree g.block:hover rect {\n",
       "    opacity: 0.5;\n",
       "}\n",
       ".opstree .repex {\n",
       "    fill: green;\n",
       "    stroke: green;\n",
       "}\n",
       ".opstree .extend {\n",
       "    fill: green;\n",
       "    stroke: green;\n",
       "}\n",
       ".opstree .truncate {\n",
       "    fill: green;\n",
       "    stroke: green;\n",
       "}\n",
       ".opstree .new {\n",
       "    fill: black;\n",
       "    stroke: black;\n",
       "}\n",
       ".opstree .unknown {\n",
       "    fill: gray;\n",
       "    stroke: gray;\n",
       "}\n",
       ".opstree .hop {\n",
       "    fill: green;\n",
       "    stroke: green;\n",
       "}\n",
       ".opstree .correlation {\n",
       "    fill: black;\n",
       "    stroke: black;\n",
       "}\n",
       ".opstree .shooting.bw {\n",
       "    fill: blue;\n",
       "    stroke: blue;\n",
       "}\n",
       ".opstree .shooting.fw {\n",
       "    fill: red;\n",
       "    stroke: red;\n",
       "}\n",
       ".opstree .shooting.overlap {\n",
       "    fill: #666;\n",
       "    stroke: #666;\n",
       "}\n",
       ".opstree .reversal {\n",
       "    fill: gold;\n",
       "    stroke: gold;\n",
       "}\n",
       ".opstree .virtual {\n",
       "    opacity: 0.1;\n",
       "    fill:gray;\n",
       "    stroke: none;\n",
       "}\n",
       ".opstree line {\n",
       "    stroke-width: 2px;\n",
       "}\n",
       ".opstree .label {\n",
       "    fill: black !important;\n",
       "}\n",
       ".opstree .h-connector {\n",
       "    stroke-width: 0.1px;\n",
       "    stroke-dasharray: 3 3;\n",
       "}\n",
       ".opstree .rejected {\n",
       "    opacity: 0.25;\n",
       "}\n",
       ".opstree .level {\n",
       "    opacity: 0.25;\n",
       "}\n",
       ".opstree .orange {\n",
       "    fill: orange;\n",
       "}\n",
       ".tableline {\n",
       "    fill: gray;\n",
       "    opacity: 0.0;\n",
       "}\n",
       ".tableline:hover {\n",
       "    opacity: 0.2;\n",
       "}\n",
       ".opstree .left.label g.shift {\n",
       "    transform: translateX(-6px);\n",
       "}\n",
       ".opstree .right.label g.shift {\n",
       "    transform: translateX(+6px);\n",
       "}\n",
       ".opstree .infobox text {\n",
       "    text-anchor: start;\n",
       "}\n",
       ".opstree .shade {\n",
       "    stroke: none;\n",
       "}\n",
       "\n",
       ".movetree .label .shift {\n",
       "    transform: translateX(-18px);\n",
       "}\n",
       "\n",
       ".movetree .label text {\n",
       "    text-anchor: end;\n",
       "}\n",
       ".movetree .v-connector {\n",
       "    stroke: black;\n",
       "}\n",
       ".movetree .v-hook {\n",
       "    stroke: black;\n",
       "}\n",
       ".movetree .h-connector {\n",
       "    stroke: black;\n",
       "}\n",
       ".movetree .ensembles .head .shift {\n",
       "    transform: translateY(0px) rotate(270deg) ;\n",
       "}\n",
       ".movetree .ensembles .head text {\n",
       "    text-anchor: start;\n",
       "}\n",
       ".movetree .connector.input {\n",
       "    fill: blue;\n",
       "}\n",
       ".movetree .connector.output {\n",
       "    fill: red;\n",
       "}\n",
       ".movetree .unknown {\n",
       "    fill: #aaa;\n",
       "    /*stroke: white;*/\n",
       "}\n",
       "]]></style></defs><g transform=\"scale(1.0)\"><g class=\"tree\" transform=\"translate(42,15)\"><g class=\"trajectory-label\"><g class=\"unknown left label\" transform=\"translate(0,0)\"><g class=\"shift\"><text x=\"0\" y=\"0\">+</text></g></g><g class=\"shooting left label\" transform=\"translate(0,15)\"><g class=\"shift\"><text x=\"0\" y=\"0\">B</text></g></g><g class=\"shooting left label\" transform=\"translate(0,30)\"><g class=\"shift\"><text x=\"0\" y=\"0\">B</text></g></g><g class=\"shooting left label\" transform=\"translate(0,45)\"><g class=\"shift\"><text x=\"0\" y=\"0\">B</text></g></g><g class=\"shooting left label\" transform=\"translate(0,60)\"><g class=\"shift\"><text x=\"0\" y=\"0\">B</text></g></g><g class=\"shooting right label\" transform=\"translate(50,75)\"><g class=\"shift\"><text x=\"0\" y=\"0\">F</text></g></g><g class=\"shooting left label\" transform=\"translate(0,90)\"><g class=\"shift\"><text x=\"0\" y=\"0\">B</text></g></g><g class=\"shooting left label\" transform=\"translate(0,105)\"><g class=\"shift\"><text x=\"0\" y=\"0\">B</text></g></g><g class=\"shooting left label\" transform=\"translate(0,120)\"><g class=\"shift\"><text x=\"0\" y=\"0\">B</text></g></g><g class=\"shooting left label\" transform=\"translate(0,135)\"><g class=\"shift\"><text x=\"0\" y=\"0\">B</text></g></g><g class=\"shooting left label\" transform=\"translate(0,150)\"><g class=\"shift\"><text x=\"0\" y=\"0\">B</text></g></g><g class=\"shooting right label\" transform=\"translate(50,165)\"><g class=\"shift\"><text x=\"0\" y=\"0\">F</text></g></g><g class=\"shooting left label\" transform=\"translate(0,180)\"><g class=\"shift\"><text x=\"0\" y=\"0\">B</text></g></g><g class=\"shooting right label\" transform=\"translate(50,195)\"><g class=\"shift\"><text x=\"0\" y=\"0\">F</text></g></g><g class=\"shooting left label\" transform=\"translate(0,210)\"><g class=\"shift\"><text x=\"0\" y=\"0\">B</text></g></g><g class=\"shooting right label\" transform=\"translate(50,225)\"><g class=\"shift\"><text x=\"0\" y=\"0\">F</text></g></g><g class=\"shooting right label\" transform=\"translate(50,240)\"><g class=\"shift\"><text x=\"0\" y=\"0\">F</text></g></g><g class=\"shooting left label\" transform=\"translate(-5,255)\"><g class=\"shift\"><text x=\"0\" y=\"0\">B</text></g></g><g class=\"shooting left label\" transform=\"translate(-5,270)\"><g class=\"shift\"><text x=\"0\" y=\"0\">B</text></g></g><g class=\"shooting left label\" transform=\"translate(-5,285)\"><g class=\"shift\"><text x=\"0\" y=\"0\">B</text></g></g></g><g class=\"shooting-hooks\"><line class=\"shooting bw connection v-connector\" x1=\"37.5\" x2=\"37.5\" y1=\"0.0\" y2=\"15.0\"/><line class=\"shooting bw connection v-connector\" x1=\"7.5\" x2=\"7.5\" y1=\"15.0\" y2=\"30.0\"/><line class=\"shooting bw connection v-connector\" x1=\"12.5\" x2=\"12.5\" y1=\"15.0\" y2=\"45.0\"/><line class=\"shooting bw connection v-connector\" x1=\"22.5\" x2=\"22.5\" y1=\"15.0\" y2=\"60.0\"/><line class=\"shooting fw connection v-connector\" x1=\"42.5\" x2=\"42.5\" y1=\"0.0\" y2=\"75.0\"/><line class=\"shooting bw connection v-connector\" x1=\"27.5\" x2=\"27.5\" y1=\"15.0\" y2=\"90.0\"/><line class=\"shooting bw connection v-connector\" x1=\"7.5\" x2=\"7.5\" y1=\"90.0\" y2=\"105.0\"/><line class=\"shooting bw connection v-connector\" x1=\"12.5\" x2=\"12.5\" y1=\"90.0\" y2=\"120.0\"/><line class=\"shooting bw connection v-connector\" x1=\"27.5\" x2=\"27.5\" y1=\"15.0\" y2=\"135.0\"/><line class=\"shooting bw connection v-connector\" x1=\"32.5\" x2=\"32.5\" y1=\"15.0\" y2=\"150.0\"/><line class=\"shooting fw connection v-connector\" x1=\"12.5\" x2=\"12.5\" y1=\"150.0\" y2=\"165.0\"/><line class=\"shooting bw connection v-connector\" x1=\"27.5\" x2=\"27.5\" y1=\"165.0\" y2=\"180.0\"/><line class=\"shooting fw connection v-connector\" x1=\"17.5\" x2=\"17.5\" y1=\"180.0\" y2=\"195.0\"/><line class=\"shooting bw connection v-connector\" x1=\"22.5\" x2=\"22.5\" y1=\"195.0\" y2=\"210.0\"/><line class=\"shooting fw connection v-connector\" x1=\"12.5\" x2=\"12.5\" y1=\"210.0\" y2=\"225.0\"/><line class=\"shooting fw connection v-connector\" x1=\"42.5\" x2=\"42.5\" y1=\"225.0\" y2=\"240.0\"/><line class=\"shooting bw connection v-connector\" x1=\"27.5\" x2=\"27.5\" y1=\"225.0\" y2=\"255.0\"/><line class=\"shooting bw connection v-connector\" x1=\"-2.5\" x2=\"-2.5\" y1=\"255.0\" y2=\"270.0\"/><line class=\"shooting bw connection v-connector\" x1=\"7.5\" x2=\"7.5\" y1=\"255.0\" y2=\"285.0\"/></g><g class=\"snapshot-blocks\"><g class=\"unknown new block\"><rect height=\"9.0\" width=\"55.0\" x=\"-2.5\" y=\"-4.5\"/><circle cx=\"52.5\" cy=\"0\" r=\"0.0\"/><text x=\"25.0\" y=\"0\"/></g><g class=\"shooting bw block\"><rect height=\"9.0\" width=\"40.0\" x=\"-2.5\" y=\"10.5\"/><circle cx=\"37.5\" cy=\"15\" r=\"0.0\"/><text x=\"17.5\" y=\"15\"/></g><g class=\"shooting bw block\"><rect height=\"9.0\" width=\"10.0\" x=\"-2.5\" y=\"25.5\"/><circle cx=\"7.5\" cy=\"30\" r=\"0.0\"/><text x=\"2.5\" y=\"30\"/></g><g class=\"shooting bw block\"><rect height=\"9.0\" width=\"15.0\" x=\"-2.5\" y=\"40.5\"/><circle cx=\"12.5\" cy=\"45\" r=\"0.0\"/><text x=\"5.0\" y=\"45\"/></g><g class=\"shooting bw block\"><rect height=\"9.0\" width=\"25.0\" x=\"-2.5\" y=\"55.5\"/><circle cx=\"22.5\" cy=\"60\" r=\"0.0\"/><text x=\"10.0\" y=\"60\"/></g><g class=\"shooting fw block\"><rect height=\"9.0\" width=\"10.0\" x=\"42.5\" y=\"70.5\"/><circle cx=\"52.5\" cy=\"75\" r=\"0.0\"/><text x=\"47.5\" y=\"75\"/></g><g class=\"shooting bw block\"><rect height=\"9.0\" width=\"30.0\" x=\"-2.5\" y=\"85.5\"/><circle cx=\"27.5\" cy=\"90\" r=\"0.0\"/><text x=\"12.5\" y=\"90\"/></g><g class=\"shooting bw block\"><rect height=\"9.0\" width=\"10.0\" x=\"-2.5\" y=\"100.5\"/><circle cx=\"7.5\" cy=\"105\" r=\"0.0\"/><text x=\"2.5\" y=\"105\"/></g><g class=\"shooting bw block\"><rect height=\"9.0\" width=\"15.0\" x=\"-2.5\" y=\"115.5\"/><circle cx=\"12.5\" cy=\"120\" r=\"0.0\"/><text x=\"5.0\" y=\"120\"/></g><g class=\"shooting bw block\"><rect height=\"9.0\" width=\"30.0\" x=\"-2.5\" y=\"130.5\"/><circle cx=\"27.5\" cy=\"135\" r=\"0.0\"/><text x=\"12.5\" y=\"135\"/></g><g class=\"shooting bw block\"><rect height=\"9.0\" width=\"35.0\" x=\"-2.5\" y=\"145.5\"/><circle cx=\"32.5\" cy=\"150\" r=\"0.0\"/><text x=\"15.0\" y=\"150\"/></g><g class=\"shooting fw block\"><rect height=\"9.0\" width=\"40.0\" x=\"12.5\" y=\"160.5\"/><circle cx=\"52.5\" cy=\"165\" r=\"0.0\"/><text x=\"32.5\" y=\"165\"/></g><g class=\"shooting bw block\"><rect height=\"9.0\" width=\"30.0\" x=\"-2.5\" y=\"175.5\"/><circle cx=\"27.5\" cy=\"180\" r=\"0.0\"/><text x=\"12.5\" y=\"180\"/></g><g class=\"shooting fw block\"><rect height=\"9.0\" width=\"35.0\" x=\"17.5\" y=\"190.5\"/><circle cx=\"52.5\" cy=\"195\" r=\"0.0\"/><text x=\"35.0\" y=\"195\"/></g><g class=\"shooting bw block\"><rect height=\"9.0\" width=\"25.0\" x=\"-2.5\" y=\"205.5\"/><circle cx=\"22.5\" cy=\"210\" r=\"0.0\"/><text x=\"10.0\" y=\"210\"/></g><g class=\"shooting fw block\"><rect height=\"9.0\" width=\"40.0\" x=\"12.5\" y=\"220.5\"/><circle cx=\"52.5\" cy=\"225\" r=\"0.0\"/><text x=\"32.5\" y=\"225\"/></g><g class=\"shooting fw block\"><rect height=\"9.0\" width=\"10.0\" x=\"42.5\" y=\"235.5\"/><circle cx=\"52.5\" cy=\"240\" r=\"0.0\"/><text x=\"47.5\" y=\"240\"/></g><g class=\"shooting bw block\"><rect height=\"9.0\" width=\"35.0\" x=\"-7.5\" y=\"250.5\"/><circle cx=\"27.5\" cy=\"255\" r=\"0.0\"/><text x=\"10.0\" y=\"255\"/></g><g class=\"shooting bw block\"><rect height=\"9.0\" width=\"5.0\" x=\"-7.5\" y=\"265.5\"/><circle cx=\"-2.5\" cy=\"270\" r=\"0.0\"/><text x=\"-5.0\" y=\"270\"/></g><g class=\"shooting bw block\"><rect height=\"9.0\" width=\"15.0\" x=\"-7.5\" y=\"280.5\"/><circle cx=\"7.5\" cy=\"285\" r=\"0.0\"/><text x=\"0.0\" y=\"285\"/></g></g></g><g class=\"legend\"><g class=\"legend-correlation\" transform=\"translate(0)\"><g class=\"head label\" transform=\"translate(0,0)\"><g class=\"shift\"><text x=\"0\" y=\"0\">cor</text></g></g><g class=\"correlation v-region\"><line x1=\"0\" x2=\"0\" y1=\"7.5\" y2=\"172.5\"/><circle cx=\"0\" cy=\"7.5\" r=\"2.24\"/><line x1=\"-6.4\" x2=\"6.4\" y1=\"7.5\" y2=\"7.5\"/><circle cx=\"0\" cy=\"172.5\" r=\"2.24\"/><line x1=\"-6.4\" x2=\"6.4\" y1=\"172.5\" y2=\"172.5\"/><text x=\"-6.4\" y=\"90.0\"/></g><g class=\"correlation v-region\"><line x1=\"0\" x2=\"0\" y1=\"172.5\" y2=\"202.5\"/><circle cx=\"0\" cy=\"172.5\" r=\"2.24\"/><line x1=\"-6.4\" x2=\"6.4\" y1=\"172.5\" y2=\"172.5\"/><circle cx=\"0\" cy=\"202.5\" r=\"2.24\"/><line x1=\"-6.4\" x2=\"6.4\" y1=\"202.5\" y2=\"202.5\"/><text x=\"-6.4\" y=\"187.5\"/></g><g class=\"correlation v-region\"><line x1=\"0\" x2=\"0\" y1=\"202.5\" y2=\"232.5\"/><circle cx=\"0\" cy=\"202.5\" r=\"2.24\"/><line x1=\"-6.4\" x2=\"6.4\" y1=\"202.5\" y2=\"202.5\"/><circle cx=\"0\" cy=\"232.5\" r=\"2.24\"/><line x1=\"-6.4\" x2=\"6.4\" y1=\"232.5\" y2=\"232.5\"/><text x=\"-6.4\" y=\"217.5\"/></g><g class=\"correlation v-region\"><line x1=\"0\" x2=\"0\" y1=\"232.5\" y2=\"307.5\"/><circle cx=\"0\" cy=\"232.5\" r=\"2.24\"/><line x1=\"-6.4\" x2=\"6.4\" y1=\"232.5\" y2=\"232.5\"/><text x=\"-6.4\" y=\"270.0\"/></g></g><g class=\"legend-step\" transform=\"translate(-32)\"><g class=\"head label\" transform=\"translate(0,0)\"><g class=\"shift\"><text x=\"0\" y=\"0\">step</text></g></g><g class=\"label\" transform=\"translate(0,15)\"><g class=\"shift\"><text x=\"0\" y=\"0\">0</text></g></g><g class=\"label\" transform=\"translate(0,30)\"><g class=\"shift\"><text x=\"0\" y=\"0\">1</text></g></g><g class=\"label\" transform=\"translate(0,45)\"><g class=\"shift\"><text x=\"0\" y=\"0\">3</text></g></g><g class=\"label\" transform=\"translate(0,60)\"><g class=\"shift\"><text x=\"0\" y=\"0\">4</text></g></g><g class=\"label\" transform=\"translate(0,75)\"><g class=\"shift\"><text x=\"0\" y=\"0\">5</text></g></g><g class=\"label\" transform=\"translate(0,90)\"><g class=\"shift\"><text x=\"0\" y=\"0\">6</text></g></g><g class=\"label\" transform=\"translate(0,105)\"><g class=\"shift\"><text x=\"0\" y=\"0\">7</text></g></g><g class=\"label\" transform=\"translate(0,120)\"><g class=\"shift\"><text x=\"0\" y=\"0\">8</text></g></g><g class=\"label\" transform=\"translate(0,135)\"><g class=\"shift\"><text x=\"0\" y=\"0\">9</text></g></g><g class=\"label\" transform=\"translate(0,150)\"><g class=\"shift\"><text x=\"0\" y=\"0\">10</text></g></g><g class=\"label\" transform=\"translate(0,165)\"><g class=\"shift\"><text x=\"0\" y=\"0\">11</text></g></g><g class=\"label\" transform=\"translate(0,180)\"><g class=\"shift\"><text x=\"0\" y=\"0\">12</text></g></g><g class=\"label\" transform=\"translate(0,195)\"><g class=\"shift\"><text x=\"0\" y=\"0\">13</text></g></g><g class=\"label\" transform=\"translate(0,210)\"><g class=\"shift\"><text x=\"0\" y=\"0\">14</text></g></g><g class=\"label\" transform=\"translate(0,225)\"><g class=\"shift\"><text x=\"0\" y=\"0\">15</text></g></g><g class=\"label\" transform=\"translate(0,240)\"><g class=\"shift\"><text x=\"0\" y=\"0\">16</text></g></g><g class=\"label\" transform=\"translate(0,255)\"><g class=\"shift\"><text x=\"0\" y=\"0\">17</text></g></g><g class=\"label\" transform=\"translate(0,270)\"><g class=\"shift\"><text x=\"0\" y=\"0\">18</text></g></g><g class=\"label\" transform=\"translate(0,285)\"><g class=\"shift\"><text x=\"0\" y=\"0\">19</text></g></g><g class=\"label\" transform=\"translate(0,300)\"><g class=\"shift\"><text x=\"0\" y=\"0\">20</text></g></g></g></g><g class=\"hovering-blocks\"><rect class=\"tableline\" height=\"13.5\" width=\"209.0\" x=\"-80.0\" y=\"8.25\"/><rect class=\"tableline\" height=\"13.5\" width=\"209.0\" x=\"-80.0\" y=\"23.25\"/><rect class=\"tableline\" height=\"13.5\" width=\"209.0\" x=\"-80.0\" y=\"38.25\"/><rect class=\"tableline\" height=\"13.5\" width=\"209.0\" x=\"-80.0\" y=\"53.25\"/><rect class=\"tableline\" height=\"13.5\" width=\"209.0\" x=\"-80.0\" y=\"68.25\"/><rect class=\"tableline\" height=\"13.5\" width=\"209.0\" x=\"-80.0\" y=\"83.25\"/><rect class=\"tableline\" height=\"13.5\" width=\"209.0\" x=\"-80.0\" y=\"98.25\"/><rect class=\"tableline\" height=\"13.5\" width=\"209.0\" x=\"-80.0\" y=\"113.25\"/><rect class=\"tableline\" height=\"13.5\" width=\"209.0\" x=\"-80.0\" y=\"128.25\"/><rect class=\"tableline\" height=\"13.5\" width=\"209.0\" x=\"-80.0\" y=\"143.25\"/><rect class=\"tableline\" height=\"13.5\" width=\"209.0\" x=\"-80.0\" y=\"158.25\"/><rect class=\"tableline\" height=\"13.5\" width=\"209.0\" x=\"-80.0\" y=\"173.25\"/><rect class=\"tableline\" height=\"13.5\" width=\"209.0\" x=\"-80.0\" y=\"188.25\"/><rect class=\"tableline\" height=\"13.5\" width=\"209.0\" x=\"-80.0\" y=\"203.25\"/><rect class=\"tableline\" height=\"13.5\" width=\"209.0\" x=\"-80.0\" y=\"218.25\"/><rect class=\"tableline\" height=\"13.5\" width=\"209.0\" x=\"-80.0\" y=\"233.25\"/><rect class=\"tableline\" height=\"13.5\" width=\"209.0\" x=\"-80.0\" y=\"248.25\"/><rect class=\"tableline\" height=\"13.5\" width=\"209.0\" x=\"-80.0\" y=\"263.25\"/><rect class=\"tableline\" height=\"13.5\" width=\"209.0\" x=\"-80.0\" y=\"278.25\"/><rect class=\"tableline\" height=\"13.5\" width=\"209.0\" x=\"-80.0\" y=\"293.25\"/></g></g></svg>"
      ],
      "text/plain": [
       "<IPython.core.display.SVG object>"
      ]
     },
     "execution_count": 8,
     "metadata": {},
     "output_type": "execute_result"
    }
   ],
   "source": [
    "tree = ops_vis.PathTree(\n",
    "    flexible.steps[0:21],\n",
    "    ops_vis.ReplicaEvolution(\n",
    "        replica=0\n",
    "    )\n",
    ")\n",
    "\n",
    "with open(\"flexible_path_tree.svg\", mode='w') as f:\n",
    "    f.write(tree.svg())\n",
    "\n",
    "SVG(tree.svg())"
   ]
  },
  {
   "cell_type": "code",
   "execution_count": 10,
   "metadata": {},
   "outputs": [
    {
     "name": "stdout",
     "output_type": "stream",
     "text": [
      "Decorrelated trajectories (first 20 steps): 4\n"
     ]
    }
   ],
   "source": [
    "print(\"Decorrelated trajectories (first 20 steps):\", len(tree.generator.decorrelated_trajectories))"
   ]
  },
  {
   "cell_type": "code",
   "execution_count": 11,
   "metadata": {},
   "outputs": [
    {
     "name": "stdout",
     "output_type": "stream",
     "text": [
      "Total decorrelated trajectories: 158\n",
      "CPU times: user 12.8 s, sys: 1.17 s, total: 14 s\n",
      "Wall time: 14.1 s\n"
     ]
    }
   ],
   "source": [
    "%%time\n",
    "full_tree = ops_vis.PathTree(\n",
    "    flexible.steps,\n",
    "    ops_vis.ReplicaEvolution(\n",
    "        replica=0\n",
    "    )\n",
    ")\n",
    "print(\"Total decorrelated trajectories:\", len(full_tree.generator.decorrelated_trajectories))"
   ]
  },
  {
   "cell_type": "markdown",
   "metadata": {},
   "source": [
    "#### Path length distribution\n",
    "\n",
    "Flexible length TPS gives a distribution of path lengths. Here we calculate the length of every accepted trajectory, then histogram those lengths, and calculate the maximum and average path lengths.\n",
    "\n",
    "We also use `engine.snapshot_timestep` to convert the count of frames to time, including correct units."
   ]
  },
  {
   "cell_type": "code",
   "execution_count": 14,
   "metadata": {
    "scrolled": false
   },
   "outputs": [
    {
     "data": {
      "image/png": "[encoded data removed]",
      "text/plain": [
       "<Figure size 432x288 with 1 Axes>"
      ]
     },
     "metadata": {
      "needs_background": "light"
     },
     "output_type": "display_data"
    }
   ],
   "source": [
    "path_lengths = [len(step.active[0].trajectory) for step in flexible.steps]\n",
    "plt.hist(path_lengths, bins=40, alpha=0.5);\n",
    "plt.xlabel(\"Path length (frames)\")\n",
    "plt.ylabel(\"Number of paths\")\n",
    "#print(\"Maximum:\", max(path_lengths), \"(\"+str(max(path_lengths)*engine.snapshot_timestep)+\")\")\n",
    "#print(\"Average:\", \"{0:.2f}\".format(np.mean(path_lengths)), \"(\"+(np.mean(path_lengths)*engine.snapshot_timestep).format(\"%.3f\")+\")\")\n",
    "plt.tight_layout()"
   ]
  },
  {
   "cell_type": "markdown",
   "metadata": {},
   "source": [
    "#### Path density histogram\n",
    "\n",
    "Next we will create a path density histogram. Calculating the histogram itself is quite easy: first we reload the collective variables we want to plot it in (we choose the phi and psi angles). Then we create the empty path density histogram, by telling it which CVs to use and how to make the histogram (bin sizes, etc). Finally, we build the histogram by giving it the list of active trajectories to histogram."
   ]
  },
  {
   "cell_type": "code",
   "execution_count": 15,
   "metadata": {},
   "outputs": [],
   "source": [
    "from openpathsampling.numerics import HistogramPlotter2D"
   ]
  },
  {
   "cell_type": "code",
   "execution_count": 16,
   "metadata": {},
   "outputs": [],
   "source": [
    "psi = flexible.cvs['psi']\n",
    "phi = flexible.cvs['phi']\n",
    "deg = 180.0 / np.pi"
   ]
  },
  {
   "cell_type": "code",
   "execution_count": 17,
   "metadata": {},
   "outputs": [],
   "source": [
    "path_density = paths.PathDensityHistogram(cvs=[phi, psi],\n",
    "                                          left_bin_edges=(-180/deg,-180/deg),\n",
    "                                          bin_widths=(2.0/deg,2.0/deg))"
   ]
  },
  {
   "cell_type": "code",
   "execution_count": 18,
   "metadata": {
    "scrolled": true
   },
   "outputs": [
    {
     "name": "stdout",
     "output_type": "stream",
     "text": [
      "CPU times: user 25.5 s, sys: 219 ms, total: 25.7 s\n",
      "Wall time: 26.3 s\n"
     ]
    }
   ],
   "source": [
    "%%time\n",
    "\n",
    "path_dens_counter = path_density.histogram([s.active[0].trajectory for s in flexible.steps])"
   ]
  },
  {
   "cell_type": "markdown",
   "metadata": {},
   "source": [
    "Now we've built the path density histogram, and we want to visualize it. We have a convenient `plot_2d_histogram` function that works in this case, and takes the histogram, desired plot tick labels and limits, and additional `matplotlib` named arguments to `plt.pcolormesh`."
   ]
  },
  {
   "cell_type": "code",
   "execution_count": 19,
   "metadata": {},
   "outputs": [
    {
     "data": {
      "image/png": "[encoded data removed]",
      "text/plain": [
       "<Figure size 432x288 with 2 Axes>"
      ]
     },
     "metadata": {
      "needs_background": "light"
     },
     "output_type": "display_data"
    }
   ],
   "source": [
    "tick_labels = np.arange(-np.pi, np.pi+0.01, np.pi/4)\n",
    "plotter = HistogramPlotter2D(path_density, \n",
    "                             xticklabels=tick_labels,\n",
    "                             yticklabels=tick_labels, \n",
    "                             label_format=\"{:4.2f}\")\n",
    "ax = plotter.plot(cmap=\"Blues\")"
   ]
  },
  {
   "cell_type": "code",
   "execution_count": null,
   "metadata": {},
   "outputs": [],
   "source": []
  }
 ],
 "metadata": {
  "kernelspec": {
   "display_name": "Python 3",
   "language": "python",
   "name": "python3"
  },
  "language_info": {
   "codemirror_mode": {
    "name": "ipython",
    "version": 3
   },
   "file_extension": ".py",
   "mimetype": "text/x-python",
   "name": "python",
   "nbconvert_exporter": "python",
   "pygments_lexer": "ipython3",
   "version": "3.7.3"
  },
  "toc": {
   "base_numbering": 1,
   "nav_menu": {},
   "number_sections": true,
   "sideBar": true,
   "skip_h1_title": true,
   "title_cell": "Table of Contents",
   "title_sidebar": "Contents",
   "toc_cell": false,
   "toc_position": {},
   "toc_section_display": true,
   "toc_window_display": true
  },
  "varInspector": {
   "cols": {
    "lenName": 16,
    "lenType": 16,
    "lenVar": 40
   },
   "kernels_config": {
    "python": {
     "delete_cmd_postfix": "",
     "delete_cmd_prefix": "del ",
     "library": "var_list.py",
     "varRefreshCmd": "print(var_dic_list())"
    },
    "r": {
     "delete_cmd_postfix": ") ",
     "delete_cmd_prefix": "rm(",
     "library": "var_list.r",
     "varRefreshCmd": "cat(var_dic_list()) "
    }
   },
   "types_to_exclude": [
    "module",
    "function",
    "builtin_function_or_method",
    "instance",
    "_Feature"
   ],
   "window_display": false
  }
 },
 "nbformat": 4,
 "nbformat_minor": 1
}
