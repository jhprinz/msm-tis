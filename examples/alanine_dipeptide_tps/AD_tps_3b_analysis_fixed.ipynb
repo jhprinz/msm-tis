{
 "cells": [
  {
   "cell_type": "code",
   "execution_count": 1,
   "metadata": {
    "collapsed": true
   },
   "outputs": [],
   "source": [
    "%matplotlib inline\n",
    "import openpathsampling as paths\n",
    "import numpy as np\n",
    "import matplotlib.pyplot as plt\n",
    "import os\n",
    "import openpathsampling.visualize as ops_vis\n",
    "from IPython.display import SVG"
   ]
  },
  {
   "cell_type": "code",
   "execution_count": 2,
   "metadata": {
    "collapsed": false
   },
   "outputs": [],
   "source": [
    "# note that this log will overwrite the log from the previous notebook\n",
    "import logging.config\n",
    "#logging.config.fileConfig(\"../resources/logging.conf\", disable_existing_loggers=False)\n",
    "logging.config.fileConfig(\"timed_logging.conf\", disable_existing_loggers=False)"
   ]
  },
  {
   "cell_type": "markdown",
   "metadata": {},
   "source": [
    "# Analyzing the fixed path length simulation\n",
    "\n",
    "We start with the same sorts of analysis as we did in the flexible path length example: we get an overview of the file, then we look at the acceptance ratio, and then we look at the move history tree and the decorrelated trajectories."
   ]
  },
  {
   "cell_type": "code",
   "execution_count": 3,
   "metadata": {
    "collapsed": false
   },
   "outputs": [
    {
     "name": "stdout",
     "output_type": "stream",
     "text": [
      "CPU times: user 3min 15s, sys: 1min 33s, total: 4min 49s\n",
      "Wall time: 1h 3min 59s\n"
     ]
    }
   ],
   "source": [
    "%%time\n",
    "fixed = paths.AnalysisStorage(\"tps_nc_files/alanine_dipeptide_fixed_tps.nc\")"
   ]
  },
  {
   "cell_type": "code",
   "execution_count": 4,
   "metadata": {
    "collapsed": false
   },
   "outputs": [
    {
     "name": "stdout",
     "output_type": "stream",
     "text": [
      "File size: 75.45GB for 10001 steps, 3990224 snapshots\n"
     ]
    }
   ],
   "source": [
    "engine = fixed.engines[0]\n",
    "fixed_scheme = fixed.schemes[0]\n",
    "\n",
    "print \"File size: {0} for {1} steps, {2} snapshots\".format(\n",
    "    fixed.file_size_str,\n",
    "    len(fixed.steps),\n",
    "    len(fixed.snapshots)\n",
    ")"
   ]
  },
  {
   "cell_type": "code",
   "execution_count": 5,
   "metadata": {
    "collapsed": true
   },
   "outputs": [],
   "source": [
    "# rough estimate of total time\n",
    "#sum(step.change.details.timing for step in fixed.steps[1:])"
   ]
  },
  {
   "cell_type": "code",
   "execution_count": 6,
   "metadata": {
    "collapsed": false
   },
   "outputs": [
    {
     "name": "stdout",
     "output_type": "stream",
     "text": [
      "shooting ran 100.000% (expected 100.00%) of the cycles with acceptance 4924/10000 (49.24%)\n"
     ]
    }
   ],
   "source": [
    "fixed_scheme.move_summary(fixed.steps)"
   ]
  },
  {
   "cell_type": "code",
   "execution_count": 7,
   "metadata": {
    "collapsed": false
   },
   "outputs": [
    {
     "name": "stdout",
     "output_type": "stream",
     "text": [
      "28\n"
     ]
    },
    {
     "data": {
      "image/svg+xml": [
       "<svg baseProfile=\"full\" class=\"opstree\" height=\"100%\" version=\"1.1\" viewBox=\"-80.00 -22.50 2149.00 450.00\" width=\"100%\" xmlns=\"http://www.w3.org/2000/svg\" xmlns:ev=\"http://www.w3.org/2001/xml-events\" xmlns:xlink=\"http://www.w3.org/1999/xlink\"><defs><style type=\"text/css\"><![CDATA[\n",
       ".opstree text, .movetree text {\n",
       "    alignment-baseline: central;\n",
       "    font-size: 10px;\n",
       "    text-anchor: middle;\n",
       "    font-family: Futura-CondensedMedium;\n",
       "    font-weight: lighter;\n",
       "    stroke: none !important;\n",
       "}\n",
       ".opstree .block text, .movetree .block text {\n",
       "    alignment-baseline: central;\n",
       "    font-size: 8px;\n",
       "    text-anchor: middle;\n",
       "    font-family: Futura-CondensedMedium;\n",
       "    font-weight: lighter;\n",
       "    stroke: none !important;\n",
       "}\n",
       ".opstree text.shadow {\n",
       "    stroke-width: 3;\n",
       "    stroke: white !important;\n",
       "}\n",
       ".opstree .left.label .shift text {\n",
       "    text-anchor: end;\n",
       "}\n",
       ".opstree .right.label .shift text {\n",
       "    text-anchor: start;\n",
       "}\n",
       ".opstree .block text, .movetree .block text {\n",
       "    fill: white !important;\n",
       "    stroke: none !important;\n",
       "}\n",
       ".opstree .block {\n",
       "    stroke: none !important;\n",
       "}\n",
       ".opstree g.block:hover rect {\n",
       "    opacity: 0.5;\n",
       "}\n",
       ".opstree .repex {\n",
       "    fill: blue;\n",
       "    stroke: blue;\n",
       "}\n",
       ".opstree .extend {\n",
       "    fill: blue;\n",
       "    stroke: blue;\n",
       "}\n",
       ".opstree .truncate {\n",
       "    fill: blue;\n",
       "    stroke: blue;\n",
       "}\n",
       ".opstree .new {\n",
       "    fill: black;\n",
       "    stroke: black;\n",
       "}\n",
       ".opstree .unknown {\n",
       "    fill: gray;\n",
       "    stroke: gray;\n",
       "}\n",
       ".opstree .hop {\n",
       "    fill: blue;\n",
       "    stroke: blue;\n",
       "}\n",
       ".opstree .correlation {\n",
       "    fill: black;\n",
       "    stroke: black;\n",
       "}\n",
       ".opstree .shooting.bw {\n",
       "    fill: green;\n",
       "    stroke: green;\n",
       "}\n",
       ".opstree .shooting.fw {\n",
       "    fill: red;\n",
       "    stroke: red;\n",
       "}\n",
       ".opstree .shooting.overlap {\n",
       "    fill: #666;\n",
       "    stroke: #666;\n",
       "}\n",
       ".opstree .reversal {\n",
       "    fill: gold;\n",
       "    stroke: gold;\n",
       "}\n",
       ".opstree .virtual {\n",
       "    opacity: 0.1;\n",
       "    fill:gray;\n",
       "    stroke: none;\n",
       "}\n",
       ".opstree line {\n",
       "    stroke-width: 2px;\n",
       "}\n",
       ".opstree .label {\n",
       "    fill: black !important;\n",
       "}\n",
       ".opstree .h-connector {\n",
       "    stroke-width: 0.1px;\n",
       "    stroke-dasharray: 3 3;\n",
       "}\n",
       ".opstree .rejected {\n",
       "    opacity: 0.25;\n",
       "}\n",
       ".opstree .level {\n",
       "    opacity: 0.25;\n",
       "}\n",
       ".opstree .orange {\n",
       "    fill: orange;\n",
       "}\n",
       ".tableline {\n",
       "    fill: gray;\n",
       "    opacity: 0.0;\n",
       "}\n",
       ".tableline:hover {\n",
       "    opacity: 0.2;\n",
       "}\n",
       ".opstree .left.label g.shift {\n",
       "    transform: translateX(-6px);\n",
       "}\n",
       ".opstree .right.label g.shift {\n",
       "    transform: translateX(+6px);\n",
       "}\n",
       ".opstree .infobox text {\n",
       "    text-anchor: start;\n",
       "}\n",
       ".opstree .shade {\n",
       "    stroke: none;\n",
       "}\n",
       "\n",
       ".movetree .label .shift {\n",
       "    transform: translateX(-18px);\n",
       "}\n",
       "\n",
       ".movetree .label text {\n",
       "    text-anchor: end;\n",
       "}\n",
       ".movetree .v-connector {\n",
       "    stroke: black;\n",
       "}\n",
       ".movetree .v-hook {\n",
       "    stroke: black;\n",
       "}\n",
       ".movetree .h-connector {\n",
       "    stroke: black;\n",
       "}\n",
       ".movetree .ensembles .head .shift {\n",
       "    transform: translateY(0px) rotate(270deg) ;\n",
       "}\n",
       ".movetree .ensembles .head text {\n",
       "    text-anchor: start;\n",
       "}\n",
       ".movetree .connector.input {\n",
       "    fill: green;\n",
       "}\n",
       ".movetree .connector.output {\n",
       "    fill: red;\n",
       "}\n",
       ".movetree .unknown {\n",
       "    fill: gray;\n",
       "}\n",
       "]]></style></defs><g transform=\"scale(1.0)\"><g class=\"tree\" transform=\"translate(37,15)\"><g><g class=\"unknown left label\" transform=\"translate(0,0)\"><g class=\"shift\"><text x=\"0\" y=\"0\">+</text></g></g><g class=\"shooting right label\" transform=\"translate(1995,15)\"><g class=\"shift\"><text x=\"0\" y=\"0\">F</text></g></g><g class=\"shooting left label\" transform=\"translate(0,30)\"><g class=\"shift\"><text x=\"0\" y=\"0\">B</text></g></g><g class=\"shooting left label\" transform=\"translate(0,45)\"><g class=\"shift\"><text x=\"0\" y=\"0\">B</text></g></g><g class=\"shooting right label\" transform=\"translate(1995,60)\"><g class=\"shift\"><text x=\"0\" y=\"0\">F</text></g></g><g class=\"shooting left label\" transform=\"translate(0,75)\"><g class=\"shift\"><text x=\"0\" y=\"0\">B</text></g></g><g class=\"shooting left label\" transform=\"translate(0,90)\"><g class=\"shift\"><text x=\"0\" y=\"0\">B</text></g></g><g class=\"shooting left label\" transform=\"translate(0,105)\"><g class=\"shift\"><text x=\"0\" y=\"0\">B</text></g></g><g class=\"shooting left label\" transform=\"translate(0,120)\"><g class=\"shift\"><text x=\"0\" y=\"0\">B</text></g></g><g class=\"shooting left label\" transform=\"translate(0,135)\"><g class=\"shift\"><text x=\"0\" y=\"0\">B</text></g></g><g class=\"shooting left label\" transform=\"translate(0,150)\"><g class=\"shift\"><text x=\"0\" y=\"0\">B</text></g></g><g class=\"shooting left label\" transform=\"translate(0,165)\"><g class=\"shift\"><text x=\"0\" y=\"0\">B</text></g></g><g class=\"shooting right label\" transform=\"translate(1995,180)\"><g class=\"shift\"><text x=\"0\" y=\"0\">F</text></g></g><g class=\"shooting right label\" transform=\"translate(1995,195)\"><g class=\"shift\"><text x=\"0\" y=\"0\">F</text></g></g><g class=\"shooting left label\" transform=\"translate(0,210)\"><g class=\"shift\"><text x=\"0\" y=\"0\">B</text></g></g><g class=\"shooting right label\" transform=\"translate(1995,225)\"><g class=\"shift\"><text x=\"0\" y=\"0\">F</text></g></g><g class=\"shooting left label\" transform=\"translate(0,240)\"><g class=\"shift\"><text x=\"0\" y=\"0\">B</text></g></g><g class=\"shooting right label\" transform=\"translate(1995,255)\"><g class=\"shift\"><text x=\"0\" y=\"0\">F</text></g></g><g class=\"shooting right label\" transform=\"translate(1995,270)\"><g class=\"shift\"><text x=\"0\" y=\"0\">F</text></g></g><g class=\"shooting right label\" transform=\"translate(1995,285)\"><g class=\"shift\"><text x=\"0\" y=\"0\">F</text></g></g><g class=\"shooting right label\" transform=\"translate(1995,300)\"><g class=\"shift\"><text x=\"0\" y=\"0\">F</text></g></g><g class=\"shooting left label\" transform=\"translate(0,315)\"><g class=\"shift\"><text x=\"0\" y=\"0\">B</text></g></g><g class=\"shooting right label\" transform=\"translate(1995,330)\"><g class=\"shift\"><text x=\"0\" y=\"0\">F</text></g></g><g class=\"shooting right label\" transform=\"translate(1995,345)\"><g class=\"shift\"><text x=\"0\" y=\"0\">F</text></g></g><g class=\"shooting right label\" transform=\"translate(1995,360)\"><g class=\"shift\"><text x=\"0\" y=\"0\">F</text></g></g><g class=\"shooting right label\" transform=\"translate(1995,375)\"><g class=\"shift\"><text x=\"0\" y=\"0\">F</text></g></g><g class=\"shooting right label\" transform=\"translate(1995,390)\"><g class=\"shift\"><text x=\"0\" y=\"0\">F</text></g></g><g class=\"shooting left label\" transform=\"translate(0,405)\"><g class=\"shift\"><text x=\"0\" y=\"0\">B</text></g></g></g><g><line class=\"shooting fw connection v-connector\" x1=\"1487.5\" x2=\"1487.5\" y1=\"0.0\" y2=\"15.0\"/><line class=\"shooting bw connection v-connector\" x1=\"452.5\" x2=\"452.5\" y1=\"0.0\" y2=\"30.0\"/><line class=\"shooting bw connection v-connector\" x1=\"362.5\" x2=\"362.5\" y1=\"30.0\" y2=\"45.0\"/><line class=\"shooting fw connection v-connector\" x1=\"1592.5\" x2=\"1592.5\" y1=\"15.0\" y2=\"60.0\"/><line class=\"shooting bw connection v-connector\" x1=\"527.5\" x2=\"527.5\" y1=\"0.0\" y2=\"75.0\"/><line class=\"shooting bw connection v-connector\" x1=\"402.5\" x2=\"402.5\" y1=\"75.0\" y2=\"90.0\"/><line class=\"shooting bw connection v-connector\" x1=\"747.5\" x2=\"747.5\" y1=\"0.0\" y2=\"105.0\"/><line class=\"shooting bw connection v-connector\" x1=\"1427.5\" x2=\"1427.5\" y1=\"0.0\" y2=\"120.0\"/><line class=\"shooting bw connection v-connector\" x1=\"602.5\" x2=\"602.5\" y1=\"120.0\" y2=\"135.0\"/><line class=\"shooting bw connection v-connector\" x1=\"137.5\" x2=\"137.5\" y1=\"135.0\" y2=\"150.0\"/><line class=\"shooting bw connection v-connector\" x1=\"207.5\" x2=\"207.5\" y1=\"135.0\" y2=\"165.0\"/><line class=\"shooting fw connection v-connector\" x1=\"742.5\" x2=\"742.5\" y1=\"120.0\" y2=\"180.0\"/><line class=\"shooting fw connection v-connector\" x1=\"827.5\" x2=\"827.5\" y1=\"180.0\" y2=\"195.0\"/><line class=\"shooting bw connection v-connector\" x1=\"767.5\" x2=\"767.5\" y1=\"180.0\" y2=\"210.0\"/><line class=\"shooting fw connection v-connector\" x1=\"1637.5\" x2=\"1637.5\" y1=\"195.0\" y2=\"225.0\"/><line class=\"shooting bw connection v-connector\" x1=\"12.5\" x2=\"12.5\" y1=\"210.0\" y2=\"240.0\"/><line class=\"shooting fw connection v-connector\" x1=\"622.5\" x2=\"622.5\" y1=\"210.0\" y2=\"255.0\"/><line class=\"shooting fw connection v-connector\" x1=\"687.5\" x2=\"687.5\" y1=\"255.0\" y2=\"270.0\"/><line class=\"shooting fw connection v-connector\" x1=\"1777.5\" x2=\"1777.5\" y1=\"270.0\" y2=\"285.0\"/><line class=\"shooting fw connection v-connector\" x1=\"1167.5\" x2=\"1167.5\" y1=\"270.0\" y2=\"300.0\"/><line class=\"shooting bw connection v-connector\" x1=\"807.5\" x2=\"807.5\" y1=\"270.0\" y2=\"315.0\"/><line class=\"shooting fw connection v-connector\" x1=\"1352.5\" x2=\"1352.5\" y1=\"300.0\" y2=\"330.0\"/><line class=\"shooting fw connection v-connector\" x1=\"1277.5\" x2=\"1277.5\" y1=\"300.0\" y2=\"345.0\"/><line class=\"shooting fw connection v-connector\" x1=\"842.5\" x2=\"842.5\" y1=\"270.0\" y2=\"360.0\"/><line class=\"shooting fw connection v-connector\" x1=\"1452.5\" x2=\"1452.5\" y1=\"360.0\" y2=\"375.0\"/><line class=\"shooting fw connection v-connector\" x1=\"1327.5\" x2=\"1327.5\" y1=\"360.0\" y2=\"390.0\"/><line class=\"shooting bw connection v-connector\" x1=\"487.5\" x2=\"487.5\" y1=\"315.0\" y2=\"405.0\"/></g><g><g class=\"unknown new block\"><rect height=\"9.0\" width=\"2000.0\" x=\"-2.5\" y=\"-4.5\"/><circle cx=\"1997.5\" cy=\"0\" r=\"0.0\"/><text x=\"997.5\" y=\"0\"/></g><g class=\"shooting fw block\"><rect height=\"9.0\" width=\"510.0\" x=\"1487.5\" y=\"10.5\"/><circle cx=\"1997.5\" cy=\"15\" r=\"0.0\"/><text x=\"1742.5\" y=\"15\"/></g><g class=\"shooting bw block\"><rect height=\"9.0\" width=\"455.0\" x=\"-2.5\" y=\"25.5\"/><circle cx=\"452.5\" cy=\"30\" r=\"0.0\"/><text x=\"225.0\" y=\"30\"/></g><g class=\"shooting bw block\"><rect height=\"9.0\" width=\"365.0\" x=\"-2.5\" y=\"40.5\"/><circle cx=\"362.5\" cy=\"45\" r=\"0.0\"/><text x=\"180.0\" y=\"45\"/></g><g class=\"shooting fw block\"><rect height=\"9.0\" width=\"405.0\" x=\"1592.5\" y=\"55.5\"/><circle cx=\"1997.5\" cy=\"60\" r=\"0.0\"/><text x=\"1795.0\" y=\"60\"/></g><g class=\"shooting bw block\"><rect height=\"9.0\" width=\"530.0\" x=\"-2.5\" y=\"70.5\"/><circle cx=\"527.5\" cy=\"75\" r=\"0.0\"/><text x=\"262.5\" y=\"75\"/></g><g class=\"shooting bw block\"><rect height=\"9.0\" width=\"405.0\" x=\"-2.5\" y=\"85.5\"/><circle cx=\"402.5\" cy=\"90\" r=\"0.0\"/><text x=\"200.0\" y=\"90\"/></g><g class=\"shooting bw block\"><rect height=\"9.0\" width=\"750.0\" x=\"-2.5\" y=\"100.5\"/><circle cx=\"747.5\" cy=\"105\" r=\"0.0\"/><text x=\"372.5\" y=\"105\"/></g><g class=\"shooting bw block\"><rect height=\"9.0\" width=\"1430.0\" x=\"-2.5\" y=\"115.5\"/><circle cx=\"1427.5\" cy=\"120\" r=\"0.0\"/><text x=\"712.5\" y=\"120\"/></g><g class=\"shooting bw block\"><rect height=\"9.0\" width=\"605.0\" x=\"-2.5\" y=\"130.5\"/><circle cx=\"602.5\" cy=\"135\" r=\"0.0\"/><text x=\"300.0\" y=\"135\"/></g><g class=\"shooting bw block\"><rect height=\"9.0\" width=\"140.0\" x=\"-2.5\" y=\"145.5\"/><circle cx=\"137.5\" cy=\"150\" r=\"0.0\"/><text x=\"67.5\" y=\"150\"/></g><g class=\"shooting bw block\"><rect height=\"9.0\" width=\"210.0\" x=\"-2.5\" y=\"160.5\"/><circle cx=\"207.5\" cy=\"165\" r=\"0.0\"/><text x=\"102.5\" y=\"165\"/></g><g class=\"shooting fw block\"><rect height=\"9.0\" width=\"1255.0\" x=\"742.5\" y=\"175.5\"/><circle cx=\"1997.5\" cy=\"180\" r=\"0.0\"/><text x=\"1370.0\" y=\"180\"/></g><g class=\"shooting fw block\"><rect height=\"9.0\" width=\"1170.0\" x=\"827.5\" y=\"190.5\"/><circle cx=\"1997.5\" cy=\"195\" r=\"0.0\"/><text x=\"1412.5\" y=\"195\"/></g><g class=\"shooting bw block\"><rect height=\"9.0\" width=\"770.0\" x=\"-2.5\" y=\"205.5\"/><circle cx=\"767.5\" cy=\"210\" r=\"0.0\"/><text x=\"382.5\" y=\"210\"/></g><g class=\"shooting fw block\"><rect height=\"9.0\" width=\"360.0\" x=\"1637.5\" y=\"220.5\"/><circle cx=\"1997.5\" cy=\"225\" r=\"0.0\"/><text x=\"1817.5\" y=\"225\"/></g><g class=\"shooting bw block\"><rect height=\"9.0\" width=\"15.0\" x=\"-2.5\" y=\"235.5\"/><circle cx=\"12.5\" cy=\"240\" r=\"0.0\"/><text x=\"5.0\" y=\"240\"/></g><g class=\"shooting fw block\"><rect height=\"9.0\" width=\"1375.0\" x=\"622.5\" y=\"250.5\"/><circle cx=\"1997.5\" cy=\"255\" r=\"0.0\"/><text x=\"1310.0\" y=\"255\"/></g><g class=\"shooting fw block\"><rect height=\"9.0\" width=\"1310.0\" x=\"687.5\" y=\"265.5\"/><circle cx=\"1997.5\" cy=\"270\" r=\"0.0\"/><text x=\"1342.5\" y=\"270\"/></g><g class=\"shooting fw block\"><rect height=\"9.0\" width=\"220.0\" x=\"1777.5\" y=\"280.5\"/><circle cx=\"1997.5\" cy=\"285\" r=\"0.0\"/><text x=\"1887.5\" y=\"285\"/></g><g class=\"shooting fw block\"><rect height=\"9.0\" width=\"830.0\" x=\"1167.5\" y=\"295.5\"/><circle cx=\"1997.5\" cy=\"300\" r=\"0.0\"/><text x=\"1582.5\" y=\"300\"/></g><g class=\"shooting bw block\"><rect height=\"9.0\" width=\"810.0\" x=\"-2.5\" y=\"310.5\"/><circle cx=\"807.5\" cy=\"315\" r=\"0.0\"/><text x=\"402.5\" y=\"315\"/></g><g class=\"shooting fw block\"><rect height=\"9.0\" width=\"645.0\" x=\"1352.5\" y=\"325.5\"/><circle cx=\"1997.5\" cy=\"330\" r=\"0.0\"/><text x=\"1675.0\" y=\"330\"/></g><g class=\"shooting fw block\"><rect height=\"9.0\" width=\"720.0\" x=\"1277.5\" y=\"340.5\"/><circle cx=\"1997.5\" cy=\"345\" r=\"0.0\"/><text x=\"1637.5\" y=\"345\"/></g><g class=\"shooting fw block\"><rect height=\"9.0\" width=\"1155.0\" x=\"842.5\" y=\"355.5\"/><circle cx=\"1997.5\" cy=\"360\" r=\"0.0\"/><text x=\"1420.0\" y=\"360\"/></g><g class=\"shooting fw block\"><rect height=\"9.0\" width=\"545.0\" x=\"1452.5\" y=\"370.5\"/><circle cx=\"1997.5\" cy=\"375\" r=\"0.0\"/><text x=\"1725.0\" y=\"375\"/></g><g class=\"shooting fw block\"><rect height=\"9.0\" width=\"670.0\" x=\"1327.5\" y=\"385.5\"/><circle cx=\"1997.5\" cy=\"390\" r=\"0.0\"/><text x=\"1662.5\" y=\"390\"/></g><g class=\"shooting bw block\"><rect height=\"9.0\" width=\"490.0\" x=\"-2.5\" y=\"400.5\"/><circle cx=\"487.5\" cy=\"405\" r=\"0.0\"/><text x=\"242.5\" y=\"405\"/></g></g></g><g class=\"legend\"><g class=\"legend\" transform=\"translate(0)\"><g class=\"label\" transform=\"translate(0,0)\"><g class=\"shift\"><text x=\"0\" y=\"0\">cor</text></g></g><g class=\"correlation v-region\"><line x1=\"0\" x2=\"0\" y1=\"7.5\" y2=\"187.5\"/><circle cx=\"0\" cy=\"7.5\" r=\"0.0\"/><line x1=\"-6.4\" x2=\"6.4\" y1=\"7.5\" y2=\"7.5\"/><circle cx=\"0\" cy=\"187.5\" r=\"0.0\"/><line x1=\"-6.4\" x2=\"6.4\" y1=\"187.5\" y2=\"187.5\"/><text x=\"-6.4\" y=\"97.5\"/></g><g class=\"correlation v-region\"><line x1=\"0\" x2=\"0\" y1=\"187.5\" y2=\"262.5\"/><circle cx=\"0\" cy=\"187.5\" r=\"0.0\"/><line x1=\"-6.4\" x2=\"6.4\" y1=\"187.5\" y2=\"187.5\"/><circle cx=\"0\" cy=\"262.5\" r=\"0.0\"/><line x1=\"-6.4\" x2=\"6.4\" y1=\"262.5\" y2=\"262.5\"/><text x=\"-6.4\" y=\"225.0\"/></g><g class=\"correlation v-region\"><line x1=\"0\" x2=\"0\" y1=\"262.5\" y2=\"322.5\"/><circle cx=\"0\" cy=\"262.5\" r=\"0.0\"/><line x1=\"-6.4\" x2=\"6.4\" y1=\"262.5\" y2=\"262.5\"/><circle cx=\"0\" cy=\"322.5\" r=\"0.0\"/><line x1=\"-6.4\" x2=\"6.4\" y1=\"322.5\" y2=\"322.5\"/><text x=\"-6.4\" y=\"292.5\"/></g><g class=\"correlation v-region\"><line x1=\"0\" x2=\"0\" y1=\"322.5\" y2=\"427.5\"/><circle cx=\"0\" cy=\"322.5\" r=\"0.0\"/><line x1=\"-6.4\" x2=\"6.4\" y1=\"322.5\" y2=\"322.5\"/><text x=\"-6.4\" y=\"375.0\"/></g></g><g class=\"legend\" transform=\"translate(-32)\"><g class=\"label\" transform=\"translate(0,0)\"><g class=\"shift\"><text x=\"0\" y=\"0\">step</text></g></g><g class=\"label\" transform=\"translate(0,15)\"><g class=\"shift\"><text x=\"0\" y=\"0\">*</text></g></g><g class=\"label\" transform=\"translate(0,30)\"><g class=\"shift\"><text x=\"0\" y=\"0\">1</text></g></g><g class=\"label\" transform=\"translate(0,45)\"><g class=\"shift\"><text x=\"0\" y=\"0\">6</text></g></g><g class=\"label\" transform=\"translate(0,60)\"><g class=\"shift\"><text x=\"0\" y=\"0\">8</text></g></g><g class=\"label\" transform=\"translate(0,75)\"><g class=\"shift\"><text x=\"0\" y=\"0\">9</text></g></g><g class=\"label\" transform=\"translate(0,90)\"><g class=\"shift\"><text x=\"0\" y=\"0\">10</text></g></g><g class=\"label\" transform=\"translate(0,105)\"><g class=\"shift\"><text x=\"0\" y=\"0\">11</text></g></g><g class=\"label\" transform=\"translate(0,120)\"><g class=\"shift\"><text x=\"0\" y=\"0\">13</text></g></g><g class=\"label\" transform=\"translate(0,135)\"><g class=\"shift\"><text x=\"0\" y=\"0\">14</text></g></g><g class=\"label\" transform=\"translate(0,150)\"><g class=\"shift\"><text x=\"0\" y=\"0\">15</text></g></g><g class=\"label\" transform=\"translate(0,165)\"><g class=\"shift\"><text x=\"0\" y=\"0\">16</text></g></g><g class=\"label\" transform=\"translate(0,180)\"><g class=\"shift\"><text x=\"0\" y=\"0\">19</text></g></g><g class=\"label\" transform=\"translate(0,195)\"><g class=\"shift\"><text x=\"0\" y=\"0\">22</text></g></g><g class=\"label\" transform=\"translate(0,210)\"><g class=\"shift\"><text x=\"0\" y=\"0\">25</text></g></g><g class=\"label\" transform=\"translate(0,225)\"><g class=\"shift\"><text x=\"0\" y=\"0\">30</text></g></g><g class=\"label\" transform=\"translate(0,240)\"><g class=\"shift\"><text x=\"0\" y=\"0\">31</text></g></g><g class=\"label\" transform=\"translate(0,255)\"><g class=\"shift\"><text x=\"0\" y=\"0\">32</text></g></g><g class=\"label\" transform=\"translate(0,270)\"><g class=\"shift\"><text x=\"0\" y=\"0\">33</text></g></g><g class=\"label\" transform=\"translate(0,285)\"><g class=\"shift\"><text x=\"0\" y=\"0\">35</text></g></g><g class=\"label\" transform=\"translate(0,300)\"><g class=\"shift\"><text x=\"0\" y=\"0\">36</text></g></g><g class=\"label\" transform=\"translate(0,315)\"><g class=\"shift\"><text x=\"0\" y=\"0\">39</text></g></g><g class=\"label\" transform=\"translate(0,330)\"><g class=\"shift\"><text x=\"0\" y=\"0\">40</text></g></g><g class=\"label\" transform=\"translate(0,345)\"><g class=\"shift\"><text x=\"0\" y=\"0\">43</text></g></g><g class=\"label\" transform=\"translate(0,360)\"><g class=\"shift\"><text x=\"0\" y=\"0\">44</text></g></g><g class=\"label\" transform=\"translate(0,375)\"><g class=\"shift\"><text x=\"0\" y=\"0\">46</text></g></g><g class=\"label\" transform=\"translate(0,390)\"><g class=\"shift\"><text x=\"0\" y=\"0\">47</text></g></g><g class=\"label\" transform=\"translate(0,405)\"><g class=\"shift\"><text x=\"0\" y=\"0\">48</text></g></g><g class=\"label\" transform=\"translate(0,420)\"><g class=\"shift\"><text x=\"0\" y=\"0\">49</text></g></g></g></g><g><rect class=\"tableline\" height=\"13.5\" width=\"2149.0\" x=\"-80.0\" y=\"8.25\"/><rect class=\"tableline\" height=\"13.5\" width=\"2149.0\" x=\"-80.0\" y=\"23.25\"/><rect class=\"tableline\" height=\"13.5\" width=\"2149.0\" x=\"-80.0\" y=\"38.25\"/><rect class=\"tableline\" height=\"13.5\" width=\"2149.0\" x=\"-80.0\" y=\"53.25\"/><rect class=\"tableline\" height=\"13.5\" width=\"2149.0\" x=\"-80.0\" y=\"68.25\"/><rect class=\"tableline\" height=\"13.5\" width=\"2149.0\" x=\"-80.0\" y=\"83.25\"/><rect class=\"tableline\" height=\"13.5\" width=\"2149.0\" x=\"-80.0\" y=\"98.25\"/><rect class=\"tableline\" height=\"13.5\" width=\"2149.0\" x=\"-80.0\" y=\"113.25\"/><rect class=\"tableline\" height=\"13.5\" width=\"2149.0\" x=\"-80.0\" y=\"128.25\"/><rect class=\"tableline\" height=\"13.5\" width=\"2149.0\" x=\"-80.0\" y=\"143.25\"/><rect class=\"tableline\" height=\"13.5\" width=\"2149.0\" x=\"-80.0\" y=\"158.25\"/><rect class=\"tableline\" height=\"13.5\" width=\"2149.0\" x=\"-80.0\" y=\"173.25\"/><rect class=\"tableline\" height=\"13.5\" width=\"2149.0\" x=\"-80.0\" y=\"188.25\"/><rect class=\"tableline\" height=\"13.5\" width=\"2149.0\" x=\"-80.0\" y=\"203.25\"/><rect class=\"tableline\" height=\"13.5\" width=\"2149.0\" x=\"-80.0\" y=\"218.25\"/><rect class=\"tableline\" height=\"13.5\" width=\"2149.0\" x=\"-80.0\" y=\"233.25\"/><rect class=\"tableline\" height=\"13.5\" width=\"2149.0\" x=\"-80.0\" y=\"248.25\"/><rect class=\"tableline\" height=\"13.5\" width=\"2149.0\" x=\"-80.0\" y=\"263.25\"/><rect class=\"tableline\" height=\"13.5\" width=\"2149.0\" x=\"-80.0\" y=\"278.25\"/><rect class=\"tableline\" height=\"13.5\" width=\"2149.0\" x=\"-80.0\" y=\"293.25\"/><rect class=\"tableline\" height=\"13.5\" width=\"2149.0\" x=\"-80.0\" y=\"308.25\"/><rect class=\"tableline\" height=\"13.5\" width=\"2149.0\" x=\"-80.0\" y=\"323.25\"/><rect class=\"tableline\" height=\"13.5\" width=\"2149.0\" x=\"-80.0\" y=\"338.25\"/><rect class=\"tableline\" height=\"13.5\" width=\"2149.0\" x=\"-80.0\" y=\"353.25\"/><rect class=\"tableline\" height=\"13.5\" width=\"2149.0\" x=\"-80.0\" y=\"368.25\"/><rect class=\"tableline\" height=\"13.5\" width=\"2149.0\" x=\"-80.0\" y=\"383.25\"/><rect class=\"tableline\" height=\"13.5\" width=\"2149.0\" x=\"-80.0\" y=\"398.25\"/><rect class=\"tableline\" height=\"13.5\" width=\"2149.0\" x=\"-80.0\" y=\"413.25\"/></g></g></svg>"
      ],
      "text/plain": [
       "<IPython.core.display.SVG object>"
      ]
     },
     "execution_count": 7,
     "metadata": {},
     "output_type": "execute_result"
    }
   ],
   "source": [
    "history = ops_vis.PathTree(\n",
    "    fixed.steps[0:50],\n",
    "    ops_vis.ReplicaEvolution(\n",
    "        replica=0\n",
    "    )\n",
    ")\n",
    "print len(list(history.samples))\n",
    "\n",
    "SVG(history.svg())"
   ]
  },
  {
   "cell_type": "code",
   "execution_count": 8,
   "metadata": {
    "collapsed": false
   },
   "outputs": [
    {
     "name": "stdout",
     "output_type": "stream",
     "text": [
      "Decorrelated trajectories: 4\n"
     ]
    }
   ],
   "source": [
    "print \"Decorrelated trajectories:\", len(history.generator.decorrelated_trajectories)"
   ]
  },
  {
   "cell_type": "markdown",
   "metadata": {},
   "source": [
    "Note that the number of MC steps (and even more so, time steps) per decorrelated trajectory is much higher than in the case of flexible path length TPS. This is the heart of the argument that flexible path length approaches are more efficient than fixed path length approaches: with a fixed path length, it takes much more effort to get a decorrelated trajectory."
   ]
  }
 ],
 "metadata": {
  "kernelspec": {
   "display_name": "Python 2",
   "language": "python",
   "name": "python2"
  },
  "language_info": {
   "codemirror_mode": {
    "name": "ipython",
    "version": 2
   },
   "file_extension": ".py",
   "mimetype": "text/x-python",
   "name": "python",
   "nbconvert_exporter": "python",
   "pygments_lexer": "ipython2",
   "version": "2.7.12"
  }
 },
 "nbformat": 4,
 "nbformat_minor": 1
}
