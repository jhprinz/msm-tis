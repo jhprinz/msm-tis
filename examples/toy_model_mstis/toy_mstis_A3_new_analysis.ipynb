{
 "cells": [
  {
   "cell_type": "markdown",
   "metadata": {},
   "source": [
    "# TIS Analysis Framework Examples\n",
    "\n",
    "This notebook provides an overview of the TIS analysis framework in OpenPathSampling. We start with the `StandardTISAnalysis` object, which will probably meet the needs of most users. Then we go into details of how to set up custom objects for analysis, and how to assemble them into a generic `TISAnalysis` object.\n",
    "\n",
    "For an overview of TIS and this analysis framework, see http://openpathsampling.org/latest/topics/tis_analysis.html"
   ]
  },
  {
   "cell_type": "code",
   "execution_count": 1,
   "metadata": {},
   "outputs": [
    {
     "name": "stdout",
     "output_type": "stream",
     "text": [
      "Using file mstis.nc for analysis\n"
     ]
    }
   ],
   "source": [
    "# if our large test file is available, use it. Otherwise, use file generated from toy_mstis_2_run.ipynb\n",
    "from __future__ import print_function\n",
    "import os\n",
    "test_file = \"../toy_mstis_1k_OPS1.nc\"\n",
    "filename = \"mstis.nc\"  # this requires newer functionality that in the standard tests\n",
    "#filename = test_file if os.path.isfile(test_file) else \"mstis.nc\"\n",
    "print('Using file ' + filename + ' for analysis')"
   ]
  },
  {
   "cell_type": "code",
   "execution_count": 2,
   "metadata": {},
   "outputs": [],
   "source": [
    "%matplotlib inline\n",
    "import matplotlib.pyplot as plt\n",
    "import numpy as np\n",
    "import openpathsampling as paths\n",
    "import pandas as pd"
   ]
  },
  {
   "cell_type": "code",
   "execution_count": 3,
   "metadata": {},
   "outputs": [
    {
     "name": "stdout",
     "output_type": "stream",
     "text": [
      "CPU times: user 2min 22s, sys: 13.2 s, total: 2min 35s\n",
      "Wall time: 2min 44s\n"
     ]
    }
   ],
   "source": [
    "%%time\n",
    "storage = paths.AnalysisStorage(filename)"
   ]
  },
  {
   "cell_type": "code",
   "execution_count": 4,
   "metadata": {},
   "outputs": [],
   "source": [
    "network = storage.networks[0]\n",
    "scheme = storage.schemes[0]"
   ]
  },
  {
   "cell_type": "code",
   "execution_count": 5,
   "metadata": {},
   "outputs": [],
   "source": [
    "stateA = storage.volumes['A']\n",
    "stateB = storage.volumes['B']\n",
    "stateC = storage.volumes['C']\n",
    "all_states = [stateA, stateB, stateC]  # all_states gives the ordering"
   ]
  },
  {
   "cell_type": "markdown",
   "metadata": {},
   "source": [
    "## Simplified Combined Analysis\n",
    "\n",
    "The `StandardTISAnalysis` object makes it very easy to perform the main TIS rate analysis. Furthermore, it caches all the intemediate results, so they can also be analyzed."
   ]
  },
  {
   "cell_type": "code",
   "execution_count": 6,
   "metadata": {},
   "outputs": [],
   "source": [
    "from openpathsampling.analysis.tis import StandardTISAnalysis"
   ]
  },
  {
   "cell_type": "code",
   "execution_count": 7,
   "metadata": {},
   "outputs": [],
   "source": [
    "# the scheme is only required if using the minus move for the flux\n",
    "tis_analysis = StandardTISAnalysis(\n",
    "    network=network,\n",
    "    scheme=scheme,\n",
    "    max_lambda_calcs={t: {'bin_width': 0.05, 'bin_range': (0.0, 0.5)}\n",
    "                      for t in network.sampling_transitions}\n",
    ")"
   ]
  },
  {
   "cell_type": "code",
   "execution_count": 8,
   "metadata": {},
   "outputs": [],
   "source": [
    "#tis_analysis.progress = 'silent'"
   ]
  },
  {
   "cell_type": "code",
   "execution_count": 9,
   "metadata": {
    "scrolled": true
   },
   "outputs": [
    {
     "data": {
      "application/vnd.jupyter.widget-view+json": {
       "model_id": "aaa9ea566d794656b3d62361ec91ac36",
       "version_major": 2,
       "version_minor": 0
      },
      "text/plain": [
       "HBox(children=(FloatProgress(value=0.0, description='Flux', max=3.0, style=ProgressStyle(description_width='in…"
      ]
     },
     "metadata": {},
     "output_type": "display_data"
    },
    {
     "data": {
      "application/vnd.jupyter.widget-view+json": {
       "model_id": "",
       "version_major": 2,
       "version_minor": 0
      },
      "text/plain": [
       "HBox(children=(FloatProgress(value=0.0, max=180.0), HTML(value='')))"
      ]
     },
     "metadata": {},
     "output_type": "display_data"
    },
    {
     "data": {
      "application/vnd.jupyter.widget-view+json": {
       "model_id": "",
       "version_major": 2,
       "version_minor": 0
      },
      "text/plain": [
       "HBox(children=(FloatProgress(value=0.0, max=188.0), HTML(value='')))"
      ]
     },
     "metadata": {},
     "output_type": "display_data"
    },
    {
     "data": {
      "application/vnd.jupyter.widget-view+json": {
       "model_id": "",
       "version_major": 2,
       "version_minor": 0
      },
      "text/plain": [
       "HBox(children=(FloatProgress(value=0.0, max=195.0), HTML(value='')))"
      ]
     },
     "metadata": {},
     "output_type": "display_data"
    },
    {
     "name": "stdout",
     "output_type": "stream",
     "text": [
      "\n"
     ]
    },
    {
     "data": {
      "application/vnd.jupyter.widget-view+json": {
       "model_id": "a2c6463ae21947fdaf03c23841930667",
       "version_major": 2,
       "version_minor": 0
      },
      "text/plain": [
       "HBox(children=(FloatProgress(value=0.0, description='Crossing probability', max=3.0, style=ProgressStyle(descr…"
      ]
     },
     "metadata": {},
     "output_type": "display_data"
    },
    {
     "data": {
      "application/vnd.jupyter.widget-view+json": {
       "model_id": "",
       "version_major": 2,
       "version_minor": 0
      },
      "text/plain": [
       "HBox(children=(FloatProgress(value=0.0, description='Ensembles', max=3.0, style=ProgressStyle(description_widt…"
      ]
     },
     "metadata": {},
     "output_type": "display_data"
    },
    {
     "data": {
      "application/vnd.jupyter.widget-view+json": {
       "model_id": "",
       "version_major": 2,
       "version_minor": 0
      },
      "text/plain": [
       "HBox(children=(FloatProgress(value=0.0, max=1379.0), HTML(value='')))"
      ]
     },
     "metadata": {},
     "output_type": "display_data"
    },
    {
     "data": {
      "application/vnd.jupyter.widget-view+json": {
       "model_id": "",
       "version_major": 2,
       "version_minor": 0
      },
      "text/plain": [
       "HBox(children=(FloatProgress(value=0.0, max=1204.0), HTML(value='')))"
      ]
     },
     "metadata": {},
     "output_type": "display_data"
    },
    {
     "data": {
      "application/vnd.jupyter.widget-view+json": {
       "model_id": "",
       "version_major": 2,
       "version_minor": 0
      },
      "text/plain": [
       "HBox(children=(FloatProgress(value=0.0, max=972.0), HTML(value='')))"
      ]
     },
     "metadata": {},
     "output_type": "display_data"
    },
    {
     "data": {
      "application/vnd.jupyter.widget-view+json": {
       "model_id": "",
       "version_major": 2,
       "version_minor": 0
      },
      "text/plain": [
       "HBox(children=(FloatProgress(value=0.0, description='Ensembles', max=3.0, style=ProgressStyle(description_widt…"
      ]
     },
     "metadata": {},
     "output_type": "display_data"
    },
    {
     "data": {
      "application/vnd.jupyter.widget-view+json": {
       "model_id": "",
       "version_major": 2,
       "version_minor": 0
      },
      "text/plain": [
       "HBox(children=(FloatProgress(value=0.0, max=1301.0), HTML(value='')))"
      ]
     },
     "metadata": {},
     "output_type": "display_data"
    },
    {
     "data": {
      "application/vnd.jupyter.widget-view+json": {
       "model_id": "",
       "version_major": 2,
       "version_minor": 0
      },
      "text/plain": [
       "HBox(children=(FloatProgress(value=0.0, max=1136.0), HTML(value='')))"
      ]
     },
     "metadata": {},
     "output_type": "display_data"
    },
    {
     "data": {
      "application/vnd.jupyter.widget-view+json": {
       "model_id": "",
       "version_major": 2,
       "version_minor": 0
      },
      "text/plain": [
       "HBox(children=(FloatProgress(value=0.0, max=914.0), HTML(value='')))"
      ]
     },
     "metadata": {},
     "output_type": "display_data"
    },
    {
     "data": {
      "application/vnd.jupyter.widget-view+json": {
       "model_id": "",
       "version_major": 2,
       "version_minor": 0
      },
      "text/plain": [
       "HBox(children=(FloatProgress(value=0.0, description='Ensembles', max=3.0, style=ProgressStyle(description_widt…"
      ]
     },
     "metadata": {},
     "output_type": "display_data"
    },
    {
     "data": {
      "application/vnd.jupyter.widget-view+json": {
       "model_id": "",
       "version_major": 2,
       "version_minor": 0
      },
      "text/plain": [
       "HBox(children=(FloatProgress(value=0.0, max=1283.0), HTML(value='')))"
      ]
     },
     "metadata": {},
     "output_type": "display_data"
    },
    {
     "data": {
      "application/vnd.jupyter.widget-view+json": {
       "model_id": "",
       "version_major": 2,
       "version_minor": 0
      },
      "text/plain": [
       "HBox(children=(FloatProgress(value=0.0, max=1165.0), HTML(value='')))"
      ]
     },
     "metadata": {},
     "output_type": "display_data"
    },
    {
     "data": {
      "application/vnd.jupyter.widget-view+json": {
       "model_id": "",
       "version_major": 2,
       "version_minor": 0
      },
      "text/plain": [
       "HBox(children=(FloatProgress(value=0.0, max=1030.0), HTML(value='')))"
      ]
     },
     "metadata": {},
     "output_type": "display_data"
    },
    {
     "name": "stdout",
     "output_type": "stream",
     "text": [
      "\n",
      "CPU times: user 1h 7min 2s, sys: 5min 38s, total: 1h 12min 40s\n",
      "Wall time: 1h 15min 1s\n"
     ]
    }
   ],
   "source": [
    "%%time\n",
    "rate_matrix = tis_analysis.rate_matrix(steps=storage.steps).to_pandas(order=all_states)"
   ]
  },
  {
   "cell_type": "code",
   "execution_count": 10,
   "metadata": {},
   "outputs": [
    {
     "data": {
      "text/html": [
       "<div>\n",
       "<style scoped>\n",
       "    .dataframe tbody tr th:only-of-type {\n",
       "        vertical-align: middle;\n",
       "    }\n",
       "\n",
       "    .dataframe tbody tr th {\n",
       "        vertical-align: top;\n",
       "    }\n",
       "\n",
       "    .dataframe thead th {\n",
       "        text-align: right;\n",
       "    }\n",
       "</style>\n",
       "<table border=\"1\" class=\"dataframe\">\n",
       "  <thead>\n",
       "    <tr style=\"text-align: right;\">\n",
       "      <th></th>\n",
       "      <th>A</th>\n",
       "      <th>B</th>\n",
       "      <th>C</th>\n",
       "    </tr>\n",
       "  </thead>\n",
       "  <tbody>\n",
       "    <tr>\n",
       "      <th>A</th>\n",
       "      <td>NaN</td>\n",
       "      <td>0.00214965</td>\n",
       "      <td>0.00186714</td>\n",
       "    </tr>\n",
       "    <tr>\n",
       "      <th>B</th>\n",
       "      <td>0.00117906</td>\n",
       "      <td>NaN</td>\n",
       "      <td>0.00120443</td>\n",
       "    </tr>\n",
       "    <tr>\n",
       "      <th>C</th>\n",
       "      <td>0.00133534</td>\n",
       "      <td>0.00188307</td>\n",
       "      <td>NaN</td>\n",
       "    </tr>\n",
       "  </tbody>\n",
       "</table>\n",
       "</div>"
      ],
      "text/plain": [
       "            A           B           C\n",
       "A         NaN  0.00214965  0.00186714\n",
       "B  0.00117906         NaN  0.00120443\n",
       "C  0.00133534  0.00188307         NaN"
      ]
     },
     "execution_count": 10,
     "metadata": {},
     "output_type": "execute_result"
    }
   ],
   "source": [
    "rate_matrix"
   ]
  },
  {
   "cell_type": "markdown",
   "metadata": {},
   "source": [
    "The rate matrix is a `pandas.DataFrame`. `pandas` has conveniences to easily convert that into a LaTeX table:"
   ]
  },
  {
   "cell_type": "code",
   "execution_count": 11,
   "metadata": {},
   "outputs": [
    {
     "name": "stdout",
     "output_type": "stream",
     "text": [
      "\\begin{tabular}{llll}\n",
      "\\toprule\n",
      "{} &        A &        B &        C \\\\\n",
      "\\midrule\n",
      "A &      NaN & 2.15e-03 & 1.87e-03 \\\\\n",
      "B & 1.18e-03 &      NaN & 1.20e-03 \\\\\n",
      "C & 1.34e-03 & 1.88e-03 &      NaN \\\\\n",
      "\\bottomrule\n",
      "\\end{tabular}\n",
      "\n"
     ]
    }
   ],
   "source": [
    "print(rate_matrix.to_latex(float_format=\"{:.2e}\".format))"
   ]
  },
  {
   "cell_type": "markdown",
   "metadata": {},
   "source": [
    "Note that there are many options for setting up the `StandardTISAnalysis` object. Most customizations to the analysis can be performed by changing the initialization parameters of that object; see its documentation for details."
   ]
  },
  {
   "cell_type": "markdown",
   "metadata": {},
   "source": [
    "### Looking at the parts of the calculation\n",
    "\n",
    "Once you run the rate calculation (or if you run `tis_analysis.calculate(steps)`, you have already cached a large number of subcalculations. All of those are available in the `results` dictionary, although the analysis object has a number of conveniences to access some of them.\n",
    "\n",
    "Looking at the keys of the results dictionary, we can see what has been cached:"
   ]
  },
  {
   "cell_type": "code",
   "execution_count": 12,
   "metadata": {},
   "outputs": [
    {
     "data": {
      "text/plain": [
       "dict_keys(['flux', 'max_lambda', 'total_crossing_probability', 'conditional_transition_probability', 'transition_probability', 'rate'])"
      ]
     },
     "execution_count": 12,
     "metadata": {},
     "output_type": "execute_result"
    }
   ],
   "source": [
    "tis_analysis.results.keys()"
   ]
  },
  {
   "cell_type": "markdown",
   "metadata": {},
   "source": [
    "In practice, however, we won't go directly to the results dictionary. We'd rather use the convenience methods that make it easier to get to the interesting results.\n",
    "\n",
    "We'll start by looking at the flux:"
   ]
  },
  {
   "cell_type": "code",
   "execution_count": 13,
   "metadata": {},
   "outputs": [
    {
     "data": {
      "text/plain": [
       "{(<openpathsampling.volume.CVDefinedVolume at 0x13475ccf8>,\n",
       "  <openpathsampling.volume.CVDefinedVolume at 0x134232240>): 0.20017125763152918,\n",
       " (<openpathsampling.volume.CVDefinedVolume at 0x13475cd30>,\n",
       "  <openpathsampling.volume.CVDefinedVolume at 0x131e54860>): 0.21013334525579258,\n",
       " (<openpathsampling.volume.CVDefinedVolume at 0x12f54f278>,\n",
       "  <openpathsampling.volume.CVDefinedVolume at 0x13475ca58>): 0.2353906881858017}"
      ]
     },
     "execution_count": 13,
     "metadata": {},
     "output_type": "execute_result"
    }
   ],
   "source": [
    "tis_analysis.flux_matrix"
   ]
  },
  {
   "cell_type": "code",
   "execution_count": 14,
   "metadata": {},
   "outputs": [
    {
     "data": {
      "text/html": [
       "<div>\n",
       "<style scoped>\n",
       "    .dataframe tbody tr th:only-of-type {\n",
       "        vertical-align: middle;\n",
       "    }\n",
       "\n",
       "    .dataframe tbody tr th {\n",
       "        vertical-align: top;\n",
       "    }\n",
       "\n",
       "    .dataframe thead th {\n",
       "        text-align: right;\n",
       "    }\n",
       "</style>\n",
       "<table border=\"1\" class=\"dataframe\">\n",
       "  <thead>\n",
       "    <tr style=\"text-align: right;\">\n",
       "      <th></th>\n",
       "      <th></th>\n",
       "      <th>Flux</th>\n",
       "    </tr>\n",
       "    <tr>\n",
       "      <th>State</th>\n",
       "      <th>Interface</th>\n",
       "      <th></th>\n",
       "    </tr>\n",
       "  </thead>\n",
       "  <tbody>\n",
       "    <tr>\n",
       "      <th>A</th>\n",
       "      <th>0.0&lt;opA&lt;0.2</th>\n",
       "      <td>0.200171</td>\n",
       "    </tr>\n",
       "    <tr>\n",
       "      <th>B</th>\n",
       "      <th>0.0&lt;opB&lt;0.2</th>\n",
       "      <td>0.210133</td>\n",
       "    </tr>\n",
       "    <tr>\n",
       "      <th>C</th>\n",
       "      <th>0.0&lt;opC&lt;0.2</th>\n",
       "      <td>0.235391</td>\n",
       "    </tr>\n",
       "  </tbody>\n",
       "</table>\n",
       "</div>"
      ],
      "text/plain": [
       "                       Flux\n",
       "State Interface            \n",
       "A     0.0<opA<0.2  0.200171\n",
       "B     0.0<opB<0.2  0.210133\n",
       "C     0.0<opC<0.2  0.235391"
      ]
     },
     "execution_count": 14,
     "metadata": {},
     "output_type": "execute_result"
    }
   ],
   "source": [
    "s = paths.analysis.tis.flux_matrix_pd(tis_analysis.flux_matrix)\n",
    "pd.DataFrame(s)"
   ]
  },
  {
   "cell_type": "markdown",
   "metadata": {},
   "source": [
    "Next we look at the total crossing probability (i.e., the crossing probability, joined by WHAM) for each sampled transition. We could also look at this per physical transition, but of course $A\\to B$ and $A\\to C$ are identical in MSTIS -- only the initial state matters."
   ]
  },
  {
   "cell_type": "code",
   "execution_count": 15,
   "metadata": {},
   "outputs": [
    {
     "name": "stdout",
     "output_type": "stream",
     "text": [
      "\\begin{tabular}{llr}\n",
      "\\toprule\n",
      "  &             &   Flux \\\\\n",
      "State & Interface &        \\\\\n",
      "\\midrule\n",
      "A & 0.0<opA<0.2 & 0.2002 \\\\\n",
      "B & 0.0<opB<0.2 & 0.2101 \\\\\n",
      "C & 0.0<opC<0.2 & 0.2354 \\\\\n",
      "\\bottomrule\n",
      "\\end{tabular}\n",
      "\n"
     ]
    }
   ],
   "source": [
    "# if you don't like the \"Flux\" label in a separate line, fix it by hand\n",
    "print(s.to_latex(float_format='{:.4f}'.format))"
   ]
  },
  {
   "cell_type": "markdown",
   "metadata": {},
   "source": [
    "Next we look at the total crossing probability (i.e., the crossing probability, joined by WHAM) for each sampled transition. We could also look at this per physical transition, but of course $A\\to B$ and $A\\to C$ are identical in MSTIS -- only the initial state matters."
   ]
  },
  {
   "cell_type": "code",
   "execution_count": 16,
   "metadata": {},
   "outputs": [
    {
     "data": {
      "image/png": "[encoded data removed]",
      "text/plain": [
       "<Figure size 432x288 with 1 Axes>"
      ]
     },
     "metadata": {
      "needs_background": "light"
     },
     "output_type": "display_data"
    }
   ],
   "source": [
    "for transition in network.sampling_transitions:\n",
    "    label = transition.name\n",
    "    tcp = tis_analysis.total_crossing_probability[transition]\n",
    "    plt.plot(tcp.x, np.log(tcp), label=label)\n",
    "plt.title(\"Total Crossing Probability\")\n",
    "plt.xlabel(\"$\\lambda$\")\n",
    "plt.ylabel(\"$\\ln(P(\\lambda | X_0))$\")\n",
    "plt.legend();"
   ]
  },
  {
   "cell_type": "markdown",
   "metadata": {},
   "source": [
    "We may want to look in more detail at one of these, by checking the per-ensemble crossing probability (as well at the total crossing probability). Here we select based on the $A\\to B$ transition, we would get the same results if we selected the transition using either `trans = network.from_state[stateA]` or `trans = network.transitions[(stateA, stateC)]`."
   ]
  },
  {
   "cell_type": "code",
   "execution_count": 17,
   "metadata": {},
   "outputs": [
    {
     "data": {
      "image/png": "[encoded data removed]",
      "text/plain": [
       "<Figure size 432x288 with 1 Axes>"
      ]
     },
     "metadata": {
      "needs_background": "light"
     },
     "output_type": "display_data"
    }
   ],
   "source": [
    "state_pair = (stateA, stateB)\n",
    "trans = network.transitions[state_pair]\n",
    "for ens in trans.ensembles:\n",
    "    crossing = tis_analysis.crossing_probability(ens)\n",
    "    label = ens.name\n",
    "    plt.plot(crossing.x, np.log(crossing), label=label)\n",
    "tcp = tis_analysis.total_crossing_probability[state_pair]\n",
    "plt.plot(tcp.x, np.log(tcp), '-k', label=\"total crossing probability\")\n",
    "plt.title(\"Crossing Probabilities, \" + stateA.name + \" -> \" + stateB.name)\n",
    "plt.xlabel(\"$\\lambda$\")\n",
    "plt.ylabel(\"$\\ln(P_A(\\lambda | \\lambda_i))$\")\n",
    "plt.legend();"
   ]
  },
  {
   "cell_type": "markdown",
   "metadata": {},
   "source": [
    "Finally, we look at the last part of the rate calculation: the conditional transition probability. This is calculated for the outermost interface in each interface set."
   ]
  },
  {
   "cell_type": "code",
   "execution_count": 18,
   "metadata": {},
   "outputs": [
    {
     "data": {
      "text/html": [
       "<div>\n",
       "<style scoped>\n",
       "    .dataframe tbody tr th:only-of-type {\n",
       "        vertical-align: middle;\n",
       "    }\n",
       "\n",
       "    .dataframe tbody tr th {\n",
       "        vertical-align: top;\n",
       "    }\n",
       "\n",
       "    .dataframe thead th {\n",
       "        text-align: right;\n",
       "    }\n",
       "</style>\n",
       "<table border=\"1\" class=\"dataframe\">\n",
       "  <thead>\n",
       "    <tr style=\"text-align: right;\">\n",
       "      <th></th>\n",
       "      <th>A</th>\n",
       "      <th>B</th>\n",
       "      <th>C</th>\n",
       "    </tr>\n",
       "  </thead>\n",
       "  <tbody>\n",
       "    <tr>\n",
       "      <th>Out A 2</th>\n",
       "      <td>0.569225</td>\n",
       "      <td>0.230536</td>\n",
       "      <td>0.200239</td>\n",
       "    </tr>\n",
       "    <tr>\n",
       "      <th>Out B 2</th>\n",
       "      <td>0.214964</td>\n",
       "      <td>0.565445</td>\n",
       "      <td>0.219591</td>\n",
       "    </tr>\n",
       "    <tr>\n",
       "      <th>Out C 2</th>\n",
       "      <td>0.113278</td>\n",
       "      <td>0.159743</td>\n",
       "      <td>0.726979</td>\n",
       "    </tr>\n",
       "  </tbody>\n",
       "</table>\n",
       "</div>"
      ],
      "text/plain": [
       "                A         B         C\n",
       "Out A 2  0.569225  0.230536  0.200239\n",
       "Out B 2  0.214964  0.565445  0.219591\n",
       "Out C 2  0.113278  0.159743  0.726979"
      ]
     },
     "execution_count": 18,
     "metadata": {},
     "output_type": "execute_result"
    }
   ],
   "source": [
    "tis_analysis.conditional_transition_probability"
   ]
  },
  {
   "cell_type": "markdown",
   "metadata": {},
   "source": [
    "## Individual components of the analysis\n",
    "\n",
    "The combined analysis is the easiest way to perform analysis, but if you need to customize things (or if you want to compare different calculation methods) you might want to create objects for components of the analysis individually. Note that unlike the `StandardTISAnalysis` object, these do not cache their intermediate results."
   ]
  },
  {
   "cell_type": "markdown",
   "metadata": {},
   "source": [
    "### Flux from the minus move"
   ]
  },
  {
   "cell_type": "code",
   "execution_count": 19,
   "metadata": {},
   "outputs": [],
   "source": [
    "from openpathsampling.analysis.tis import MinusMoveFlux"
   ]
  },
  {
   "cell_type": "code",
   "execution_count": 20,
   "metadata": {},
   "outputs": [],
   "source": [
    "flux_calc = MinusMoveFlux(scheme)"
   ]
  },
  {
   "cell_type": "markdown",
   "metadata": {},
   "source": [
    "To calculate the fluxes, we use the `.calculate` method of the `MinusMoveFlux` object:"
   ]
  },
  {
   "cell_type": "code",
   "execution_count": 21,
   "metadata": {},
   "outputs": [
    {
     "data": {
      "application/vnd.jupyter.widget-view+json": {
       "model_id": "b0c86c847bf0482f8ccdf5c4c42983f2",
       "version_major": 2,
       "version_minor": 0
      },
      "text/plain": [
       "HBox(children=(FloatProgress(value=0.0, description='Flux', max=3.0, style=ProgressStyle(description_width='in…"
      ]
     },
     "metadata": {},
     "output_type": "display_data"
    },
    {
     "data": {
      "application/vnd.jupyter.widget-view+json": {
       "model_id": "",
       "version_major": 2,
       "version_minor": 0
      },
      "text/plain": [
       "HBox(children=(FloatProgress(value=0.0, max=180.0), HTML(value='')))"
      ]
     },
     "metadata": {},
     "output_type": "display_data"
    },
    {
     "data": {
      "application/vnd.jupyter.widget-view+json": {
       "model_id": "",
       "version_major": 2,
       "version_minor": 0
      },
      "text/plain": [
       "HBox(children=(FloatProgress(value=0.0, max=188.0), HTML(value='')))"
      ]
     },
     "metadata": {},
     "output_type": "display_data"
    },
    {
     "data": {
      "application/vnd.jupyter.widget-view+json": {
       "model_id": "",
       "version_major": 2,
       "version_minor": 0
      },
      "text/plain": [
       "HBox(children=(FloatProgress(value=0.0, max=195.0), HTML(value='')))"
      ]
     },
     "metadata": {},
     "output_type": "display_data"
    },
    {
     "name": "stdout",
     "output_type": "stream",
     "text": [
      "\n",
      "CPU times: user 1min 53s, sys: 562 ms, total: 1min 53s\n",
      "Wall time: 1min 54s\n"
     ]
    }
   ],
   "source": [
    "%%time\n",
    "fluxes = flux_calc.calculate(storage.steps)"
   ]
  },
  {
   "cell_type": "code",
   "execution_count": 22,
   "metadata": {},
   "outputs": [
    {
     "data": {
      "text/plain": [
       "{(<openpathsampling.volume.CVDefinedVolume at 0x13475ccf8>,\n",
       "  <openpathsampling.volume.CVDefinedVolume at 0x134232240>): 0.20017125763152918,\n",
       " (<openpathsampling.volume.CVDefinedVolume at 0x13475cd30>,\n",
       "  <openpathsampling.volume.CVDefinedVolume at 0x131e54860>): 0.21013334525579258,\n",
       " (<openpathsampling.volume.CVDefinedVolume at 0x12f54f278>,\n",
       "  <openpathsampling.volume.CVDefinedVolume at 0x13475ca58>): 0.2353906881858017}"
      ]
     },
     "execution_count": 22,
     "metadata": {},
     "output_type": "execute_result"
    }
   ],
   "source": [
    "fluxes"
   ]
  },
  {
   "cell_type": "markdown",
   "metadata": {},
   "source": [
    "This is in the same format as the `flux_matrix` given above, and we can convert it to a `pandas.DataFrame` in the same way. This can then be converted to a LaTeX table to copy-paste into an article in the same way as was done earlier."
   ]
  },
  {
   "cell_type": "code",
   "execution_count": 23,
   "metadata": {
    "scrolled": true
   },
   "outputs": [
    {
     "data": {
      "text/html": [
       "<div>\n",
       "<style scoped>\n",
       "    .dataframe tbody tr th:only-of-type {\n",
       "        vertical-align: middle;\n",
       "    }\n",
       "\n",
       "    .dataframe tbody tr th {\n",
       "        vertical-align: top;\n",
       "    }\n",
       "\n",
       "    .dataframe thead th {\n",
       "        text-align: right;\n",
       "    }\n",
       "</style>\n",
       "<table border=\"1\" class=\"dataframe\">\n",
       "  <thead>\n",
       "    <tr style=\"text-align: right;\">\n",
       "      <th></th>\n",
       "      <th></th>\n",
       "      <th>Flux</th>\n",
       "    </tr>\n",
       "    <tr>\n",
       "      <th>State</th>\n",
       "      <th>Interface</th>\n",
       "      <th></th>\n",
       "    </tr>\n",
       "  </thead>\n",
       "  <tbody>\n",
       "    <tr>\n",
       "      <th>A</th>\n",
       "      <th>0.0&lt;opA&lt;0.2</th>\n",
       "      <td>0.200171</td>\n",
       "    </tr>\n",
       "    <tr>\n",
       "      <th>B</th>\n",
       "      <th>0.0&lt;opB&lt;0.2</th>\n",
       "      <td>0.210133</td>\n",
       "    </tr>\n",
       "    <tr>\n",
       "      <th>C</th>\n",
       "      <th>0.0&lt;opC&lt;0.2</th>\n",
       "      <td>0.235391</td>\n",
       "    </tr>\n",
       "  </tbody>\n",
       "</table>\n",
       "</div>"
      ],
      "text/plain": [
       "                       Flux\n",
       "State Interface            \n",
       "A     0.0<opA<0.2  0.200171\n",
       "B     0.0<opB<0.2  0.210133\n",
       "C     0.0<opC<0.2  0.235391"
      ]
     },
     "execution_count": 23,
     "metadata": {},
     "output_type": "execute_result"
    }
   ],
   "source": [
    "pd.DataFrame(paths.analysis.tis.flux_matrix_pd(fluxes))"
   ]
  },
  {
   "cell_type": "markdown",
   "metadata": {},
   "source": [
    "The minus move flux calculates some intermediate information along the way, which can be of use for further analysis. This is cached when using the `StandardTISAnalysis`, but can always be recalculated. The intermediate maps each `(state, interface)` pair to a dictionary. For details on the structure of that dictionary, see the documentation of `TrajectoryTransitionAnalysis.analyze_flux`."
   ]
  },
  {
   "cell_type": "code",
   "execution_count": 24,
   "metadata": {},
   "outputs": [
    {
     "data": {
      "application/vnd.jupyter.widget-view+json": {
       "model_id": "7a739ebe61dc4cefb40c1a40e73fc85a",
       "version_major": 2,
       "version_minor": 0
      },
      "text/plain": [
       "HBox(children=(FloatProgress(value=0.0, description='Flux', max=3.0, style=ProgressStyle(description_width='in…"
      ]
     },
     "metadata": {},
     "output_type": "display_data"
    },
    {
     "data": {
      "application/vnd.jupyter.widget-view+json": {
       "model_id": "",
       "version_major": 2,
       "version_minor": 0
      },
      "text/plain": [
       "HBox(children=(FloatProgress(value=0.0, max=180.0), HTML(value='')))"
      ]
     },
     "metadata": {},
     "output_type": "display_data"
    },
    {
     "data": {
      "application/vnd.jupyter.widget-view+json": {
       "model_id": "",
       "version_major": 2,
       "version_minor": 0
      },
      "text/plain": [
       "HBox(children=(FloatProgress(value=0.0, max=188.0), HTML(value='')))"
      ]
     },
     "metadata": {},
     "output_type": "display_data"
    },
    {
     "data": {
      "application/vnd.jupyter.widget-view+json": {
       "model_id": "",
       "version_major": 2,
       "version_minor": 0
      },
      "text/plain": [
       "HBox(children=(FloatProgress(value=0.0, max=195.0), HTML(value='')))"
      ]
     },
     "metadata": {},
     "output_type": "display_data"
    },
    {
     "name": "stdout",
     "output_type": "stream",
     "text": [
      "\n",
      "CPU times: user 2min 9s, sys: 1.44 s, total: 2min 11s\n",
      "Wall time: 2min 20s\n"
     ]
    }
   ],
   "source": [
    "%%time\n",
    "flux_dicts = flux_calc.intermediates(storage.steps)[0]"
   ]
  },
  {
   "cell_type": "code",
   "execution_count": 25,
   "metadata": {},
   "outputs": [
    {
     "data": {
      "text/plain": [
       "{(<openpathsampling.volume.CVDefinedVolume at 0x13475ccf8>,\n",
       "  <openpathsampling.volume.CVDefinedVolume at 0x134232240>): {'in': <openpathsampling.analysis.trajectory_transition_analysis.TrajectorySegmentContainer at 0x15b8aca90>,\n",
       "  'out': <openpathsampling.analysis.trajectory_transition_analysis.TrajectorySegmentContainer at 0x15b8ac748>},\n",
       " (<openpathsampling.volume.CVDefinedVolume at 0x13475cd30>,\n",
       "  <openpathsampling.volume.CVDefinedVolume at 0x131e54860>): {'in': <openpathsampling.analysis.trajectory_transition_analysis.TrajectorySegmentContainer at 0x15b8c3fd0>,\n",
       "  'out': <openpathsampling.analysis.trajectory_transition_analysis.TrajectorySegmentContainer at 0x15b8c3a20>},\n",
       " (<openpathsampling.volume.CVDefinedVolume at 0x12f54f278>,\n",
       "  <openpathsampling.volume.CVDefinedVolume at 0x13475ca58>): {'in': <openpathsampling.analysis.trajectory_transition_analysis.TrajectorySegmentContainer at 0x15b8c39e8>,\n",
       "  'out': <openpathsampling.analysis.trajectory_transition_analysis.TrajectorySegmentContainer at 0x15b8c3860>}}"
      ]
     },
     "execution_count": 25,
     "metadata": {},
     "output_type": "execute_result"
    }
   ],
   "source": [
    "flux_dicts"
   ]
  },
  {
   "cell_type": "markdown",
   "metadata": {},
   "source": [
    "### Flux from existing dictionary\n",
    "\n",
    "The `DictFlux` class (which is required for MISTIS, and often provides better statistics than the minus move flux in other cases) takes a pre-calculated flux dictionary for initialization, and always returns that dictionary. The dictionary is in the same format as the `fluxes` returned by the `MinusMoveFlux.calculate` method; here, we'll just use the results we calculated above:"
   ]
  },
  {
   "cell_type": "code",
   "execution_count": 26,
   "metadata": {},
   "outputs": [],
   "source": [
    "from openpathsampling.analysis.tis import DictFlux"
   ]
  },
  {
   "cell_type": "code",
   "execution_count": 27,
   "metadata": {},
   "outputs": [],
   "source": [
    "dict_flux = DictFlux(fluxes)"
   ]
  },
  {
   "cell_type": "code",
   "execution_count": 28,
   "metadata": {},
   "outputs": [
    {
     "data": {
      "text/plain": [
       "{(<openpathsampling.volume.CVDefinedVolume at 0x13475ccf8>,\n",
       "  <openpathsampling.volume.CVDefinedVolume at 0x134232240>): 0.20017125763152918,\n",
       " (<openpathsampling.volume.CVDefinedVolume at 0x13475cd30>,\n",
       "  <openpathsampling.volume.CVDefinedVolume at 0x131e54860>): 0.21013334525579258,\n",
       " (<openpathsampling.volume.CVDefinedVolume at 0x12f54f278>,\n",
       "  <openpathsampling.volume.CVDefinedVolume at 0x13475ca58>): 0.2353906881858017}"
      ]
     },
     "execution_count": 28,
     "metadata": {},
     "output_type": "execute_result"
    }
   ],
   "source": [
    "dict_flux.calculate(storage.steps)"
   ]
  },
  {
   "cell_type": "markdown",
   "metadata": {},
   "source": [
    "Note that `DictFlux.calculate` just echoes back the dictionary we gave it, so it doesn't actually care if we give it the steps argument or not:"
   ]
  },
  {
   "cell_type": "code",
   "execution_count": 29,
   "metadata": {},
   "outputs": [
    {
     "data": {
      "text/plain": [
       "{(<openpathsampling.volume.CVDefinedVolume at 0x13475ccf8>,\n",
       "  <openpathsampling.volume.CVDefinedVolume at 0x134232240>): 0.20017125763152918,\n",
       " (<openpathsampling.volume.CVDefinedVolume at 0x13475cd30>,\n",
       "  <openpathsampling.volume.CVDefinedVolume at 0x131e54860>): 0.21013334525579258,\n",
       " (<openpathsampling.volume.CVDefinedVolume at 0x12f54f278>,\n",
       "  <openpathsampling.volume.CVDefinedVolume at 0x13475ca58>): 0.2353906881858017}"
      ]
     },
     "execution_count": 29,
     "metadata": {},
     "output_type": "execute_result"
    }
   ],
   "source": [
    "dict_flux.calculate(None)"
   ]
  },
  {
   "cell_type": "markdown",
   "metadata": {},
   "source": [
    "This object can be used to provide the flux part of the TIS calculation, in exactly the same way a `MinusMoveFlux` object does."
   ]
  },
  {
   "cell_type": "markdown",
   "metadata": {},
   "source": [
    "### Total crossing probability function\n",
    "\n",
    "To calculate the total crossing probability, we must first calculate the individual ensemble crossing probabilities. This is done by creating a histogram of the maximum values of the order parameter. The class to do that is  `FullHistogramMaxLambdas`. Then we'll create the `TotalCrossingProbability`."
   ]
  },
  {
   "cell_type": "code",
   "execution_count": 30,
   "metadata": {},
   "outputs": [],
   "source": [
    "transition = network.sampling_transitions[0]"
   ]
  },
  {
   "cell_type": "code",
   "execution_count": 31,
   "metadata": {},
   "outputs": [
    {
     "name": "stdout",
     "output_type": "stream",
     "text": [
      "TISTransition: Out A\n",
      "A -> A or all states except A\n",
      "Interface: 0.0<opA<0.2\n",
      "Interface: 0.0<opA<0.30000000000000004\n",
      "Interface: 0.0<opA<0.4\n",
      "\n"
     ]
    }
   ],
   "source": [
    "print(transition)"
   ]
  },
  {
   "cell_type": "code",
   "execution_count": 32,
   "metadata": {},
   "outputs": [],
   "source": [
    "from openpathsampling.analysis.tis import FullHistogramMaxLambdas, TotalCrossingProbability\n",
    "from openpathsampling.numerics import WHAM"
   ]
  },
  {
   "cell_type": "code",
   "execution_count": 33,
   "metadata": {},
   "outputs": [],
   "source": [
    "max_lambda_calc = FullHistogramMaxLambdas(\n",
    "    transition=transition,\n",
    "    hist_parameters={'bin_width': 0.05, 'bin_range': (0.0, 0.5)}\n",
    ")"
   ]
  },
  {
   "cell_type": "markdown",
   "metadata": {},
   "source": [
    "We can also change the function used to calculate the maximum value of the order parameter with the `max_lambda_func` parameter. This can be useful to calculate the crossing probabilities along some other order parameter.\n",
    "\n",
    "To calculate the total crossing probability function, we also need a method for combining the ensemble crossing probability functions. We'll use the default WHAM here; see its documentation for details on how it can be customized."
   ]
  },
  {
   "cell_type": "code",
   "execution_count": 34,
   "metadata": {},
   "outputs": [],
   "source": [
    "combiner = WHAM(interfaces=transition.interfaces.lambdas)"
   ]
  },
  {
   "cell_type": "markdown",
   "metadata": {},
   "source": [
    "Now we can put these together into the total crossing probability function:"
   ]
  },
  {
   "cell_type": "code",
   "execution_count": 35,
   "metadata": {},
   "outputs": [],
   "source": [
    "total_crossing = TotalCrossingProbability(\n",
    "    max_lambda_calc=max_lambda_calc,\n",
    "    combiner=combiner\n",
    ")"
   ]
  },
  {
   "cell_type": "code",
   "execution_count": 36,
   "metadata": {},
   "outputs": [
    {
     "data": {
      "application/vnd.jupyter.widget-view+json": {
       "model_id": "166b4c111a024ffc85afd459dca945a1",
       "version_major": 2,
       "version_minor": 0
      },
      "text/plain": [
       "HBox(children=(FloatProgress(value=0.0, description='Weighted trajectories', max=20101.0, style=ProgressStyle(…"
      ]
     },
     "metadata": {},
     "output_type": "display_data"
    },
    {
     "name": "stdout",
     "output_type": "stream",
     "text": [
      "\n"
     ]
    },
    {
     "data": {
      "application/vnd.jupyter.widget-view+json": {
       "model_id": "21af9aa08128450e9e22f63470c86373",
       "version_major": 2,
       "version_minor": 0
      },
      "text/plain": [
       "HBox(children=(FloatProgress(value=0.0, description='Ensembles', max=3.0, style=ProgressStyle(description_widt…"
      ]
     },
     "metadata": {},
     "output_type": "display_data"
    },
    {
     "data": {
      "application/vnd.jupyter.widget-view+json": {
       "model_id": "",
       "version_major": 2,
       "version_minor": 0
      },
      "text/plain": [
       "HBox(children=(FloatProgress(value=0.0, max=1379.0), HTML(value='')))"
      ]
     },
     "metadata": {},
     "output_type": "display_data"
    },
    {
     "data": {
      "application/vnd.jupyter.widget-view+json": {
       "model_id": "",
       "version_major": 2,
       "version_minor": 0
      },
      "text/plain": [
       "HBox(children=(FloatProgress(value=0.0, max=1204.0), HTML(value='')))"
      ]
     },
     "metadata": {},
     "output_type": "display_data"
    },
    {
     "data": {
      "application/vnd.jupyter.widget-view+json": {
       "model_id": "",
       "version_major": 2,
       "version_minor": 0
      },
      "text/plain": [
       "HBox(children=(FloatProgress(value=0.0, max=972.0), HTML(value='')))"
      ]
     },
     "metadata": {},
     "output_type": "display_data"
    },
    {
     "name": "stdout",
     "output_type": "stream",
     "text": [
      "\n"
     ]
    }
   ],
   "source": [
    "tcp = total_crossing.calculate(storage.steps)"
   ]
  },
  {
   "cell_type": "code",
   "execution_count": 37,
   "metadata": {},
   "outputs": [
    {
     "data": {
      "image/png": "[encoded data removed]",
      "text/plain": [
       "<Figure size 432x288 with 1 Axes>"
      ]
     },
     "metadata": {
      "needs_background": "light"
     },
     "output_type": "display_data"
    }
   ],
   "source": [
    "plt.plot(tcp.x, np.log(tcp))\n",
    "\n",
    "plt.title(\"Total Crossing Probability, exiting \" + transition.stateA.name)\n",
    "plt.xlabel(\"$\\lambda$\")\n",
    "plt.ylabel(\"$\\ln(P_A(\\lambda | \\lambda_i))$\");"
   ]
  },
  {
   "cell_type": "markdown",
   "metadata": {},
   "source": [
    "### Conditional transition probability\n",
    "\n",
    "The last part of the standard calculation is the conditional transition probability. We'll make a version of this that works for all ensembles:"
   ]
  },
  {
   "cell_type": "code",
   "execution_count": 38,
   "metadata": {},
   "outputs": [],
   "source": [
    "from openpathsampling.analysis.tis import ConditionalTransitionProbability"
   ]
  },
  {
   "cell_type": "code",
   "execution_count": 39,
   "metadata": {},
   "outputs": [],
   "source": [
    "outermost_ensembles = [trans.ensembles[-1] for trans in network.sampling_transitions]"
   ]
  },
  {
   "cell_type": "code",
   "execution_count": 40,
   "metadata": {},
   "outputs": [],
   "source": [
    "cond_transition = ConditionalTransitionProbability(\n",
    "    ensembles=outermost_ensembles,\n",
    "    states=network.states\n",
    ")"
   ]
  },
  {
   "cell_type": "code",
   "execution_count": 41,
   "metadata": {},
   "outputs": [
    {
     "data": {
      "application/vnd.jupyter.widget-view+json": {
       "model_id": "82edd1875a934403b8a15ba5dfa3e96d",
       "version_major": 2,
       "version_minor": 0
      },
      "text/plain": [
       "HBox(children=(FloatProgress(value=0.0, description='Weighted trajectories', max=20101.0, style=ProgressStyle(…"
      ]
     },
     "metadata": {},
     "output_type": "display_data"
    },
    {
     "name": "stdout",
     "output_type": "stream",
     "text": [
      "\n"
     ]
    }
   ],
   "source": [
    "ctp = cond_transition.calculate(storage.steps)"
   ]
  },
  {
   "cell_type": "code",
   "execution_count": 42,
   "metadata": {},
   "outputs": [
    {
     "data": {
      "text/plain": [
       "{<openpathsampling.ensemble.TISEnsemble at 0x12ec076d8>: {<openpathsampling.volume.CVDefinedVolume at 0x13475ccf8>: 0.5692254116710611,\n",
       "  <openpathsampling.volume.CVDefinedVolume at 0x13475cd30>: 0.2305357942390926,\n",
       "  <openpathsampling.volume.CVDefinedVolume at 0x12f54f278>: 0.20023879408984627},\n",
       " <openpathsampling.ensemble.TISEnsemble at 0x1316d3390>: {<openpathsampling.volume.CVDefinedVolume at 0x13475cd30>: 0.5654445052484951,\n",
       "  <openpathsampling.volume.CVDefinedVolume at 0x12f54f278>: 0.21959106512113824,\n",
       "  <openpathsampling.volume.CVDefinedVolume at 0x13475ccf8>: 0.21496442963036666},\n",
       " <openpathsampling.ensemble.TISEnsemble at 0x13475c7b8>: {<openpathsampling.volume.CVDefinedVolume at 0x13475cd30>: 0.15974329635341525,\n",
       "  <openpathsampling.volume.CVDefinedVolume at 0x12f54f278>: 0.7269787572757574,\n",
       "  <openpathsampling.volume.CVDefinedVolume at 0x13475ccf8>: 0.11327794637082732}}"
      ]
     },
     "execution_count": 42,
     "metadata": {},
     "output_type": "execute_result"
    }
   ],
   "source": [
    "ctp"
   ]
  },
  {
   "cell_type": "markdown",
   "metadata": {},
   "source": [
    "`StandardTISAnalysis.conditional_transition_probability` converts this into a `pandas.DataFrame`, which gives prettier printing. However, the same data in included in this dict-of-dict structure."
   ]
  },
  {
   "cell_type": "markdown",
   "metadata": {},
   "source": [
    "# Assembling a TIS analysis from scratch\n",
    "\n",
    "If you're using the \"standard\" TIS approach, then the `StandardTISAnalysis` object is the most efficient way to do it. However, if you want to use another analysis approach, it can be useful to see how the \"standard\" approach can be assembled.\n",
    "\n",
    "This won't have all the shortcuts or saved intermediates that the specialized object does, but it will use the same algorithms to get the same results."
   ]
  },
  {
   "cell_type": "code",
   "execution_count": 43,
   "metadata": {},
   "outputs": [],
   "source": [
    "from openpathsampling.analysis.tis import StandardTransitionProbability, TISAnalysis"
   ]
  },
  {
   "cell_type": "markdown",
   "metadata": {},
   "source": [
    "Some of the objects that we created in previous sections can be reused here. In particular, there is only only one flux calculation and only one conditional transitional transition probability per reaction network. However, the total crossing probability method is dependent on the transition (different order parameters might have different histrogram parameters). So we need to associate each transition with a different `TotalCrossingProbability` object. In this example, we take the default behavior of WHAM (instead of specifying in explicitly, as above)."
   ]
  },
  {
   "cell_type": "code",
   "execution_count": 44,
   "metadata": {},
   "outputs": [],
   "source": [
    "tcp_methods = {\n",
    "    trans: TotalCrossingProbability(\n",
    "        max_lambda_calc=FullHistogramMaxLambdas(\n",
    "            transition=trans,\n",
    "            hist_parameters={'bin_width': 0.05, 'bin_range': (0.0, 0.5)}\n",
    "        )\n",
    "    )\n",
    "    for trans in network.transitions.values()\n",
    "}"
   ]
  },
  {
   "cell_type": "markdown",
   "metadata": {},
   "source": [
    "The general `TISAnalysis` object makes the most simple splitting: flux and transition probability. A single flux calculation is used for all transitions, but each transition has a different transition probability (since each transition can have a different total crossing probability). We make those objects here."
   ]
  },
  {
   "cell_type": "code",
   "execution_count": 45,
   "metadata": {},
   "outputs": [],
   "source": [
    "transition_probability_methods = {\n",
    "    trans: StandardTransitionProbability(\n",
    "        transition=trans,\n",
    "        tcp_method=tcp_methods[trans],\n",
    "        ctp_method=cond_transition\n",
    "    )\n",
    "    for trans in network.transitions.values()\n",
    "}"
   ]
  },
  {
   "cell_type": "markdown",
   "metadata": {},
   "source": [
    "Finally we put this all together into a `TISAnalysis` object, and calculate the rate matrix."
   ]
  },
  {
   "cell_type": "code",
   "execution_count": 46,
   "metadata": {},
   "outputs": [],
   "source": [
    "analysis = TISAnalysis(\n",
    "    network=network,\n",
    "    flux_method=dict_flux,\n",
    "    transition_probability_methods=transition_probability_methods\n",
    ")"
   ]
  },
  {
   "cell_type": "code",
   "execution_count": 47,
   "metadata": {},
   "outputs": [
    {
     "data": {
      "application/vnd.jupyter.widget-view+json": {
       "model_id": "fd75cffada4b49b39f2cd1b61d0cc628",
       "version_major": 2,
       "version_minor": 0
      },
      "text/plain": [
       "HBox(children=(FloatProgress(value=0.0, description='Ensembles', max=3.0, style=ProgressStyle(description_widt…"
      ]
     },
     "metadata": {},
     "output_type": "display_data"
    },
    {
     "data": {
      "application/vnd.jupyter.widget-view+json": {
       "model_id": "",
       "version_major": 2,
       "version_minor": 0
      },
      "text/plain": [
       "HBox(children=(FloatProgress(value=0.0, max=1379.0), HTML(value='')))"
      ]
     },
     "metadata": {},
     "output_type": "display_data"
    },
    {
     "data": {
      "application/vnd.jupyter.widget-view+json": {
       "model_id": "",
       "version_major": 2,
       "version_minor": 0
      },
      "text/plain": [
       "HBox(children=(FloatProgress(value=0.0, max=1204.0), HTML(value='')))"
      ]
     },
     "metadata": {},
     "output_type": "display_data"
    },
    {
     "data": {
      "application/vnd.jupyter.widget-view+json": {
       "model_id": "",
       "version_major": 2,
       "version_minor": 0
      },
      "text/plain": [
       "HBox(children=(FloatProgress(value=0.0, max=972.0), HTML(value='')))"
      ]
     },
     "metadata": {},
     "output_type": "display_data"
    },
    {
     "name": "stdout",
     "output_type": "stream",
     "text": [
      "\n"
     ]
    },
    {
     "data": {
      "application/vnd.jupyter.widget-view+json": {
       "model_id": "8780525393564dd494d8748866c8d34c",
       "version_major": 2,
       "version_minor": 0
      },
      "text/plain": [
       "HBox(children=(FloatProgress(value=0.0, description='Ensembles', max=3.0, style=ProgressStyle(description_widt…"
      ]
     },
     "metadata": {},
     "output_type": "display_data"
    },
    {
     "data": {
      "application/vnd.jupyter.widget-view+json": {
       "model_id": "",
       "version_major": 2,
       "version_minor": 0
      },
      "text/plain": [
       "HBox(children=(FloatProgress(value=0.0, max=1379.0), HTML(value='')))"
      ]
     },
     "metadata": {},
     "output_type": "display_data"
    },
    {
     "data": {
      "application/vnd.jupyter.widget-view+json": {
       "model_id": "",
       "version_major": 2,
       "version_minor": 0
      },
      "text/plain": [
       "HBox(children=(FloatProgress(value=0.0, max=1204.0), HTML(value='')))"
      ]
     },
     "metadata": {},
     "output_type": "display_data"
    },
    {
     "data": {
      "application/vnd.jupyter.widget-view+json": {
       "model_id": "",
       "version_major": 2,
       "version_minor": 0
      },
      "text/plain": [
       "HBox(children=(FloatProgress(value=0.0, max=972.0), HTML(value='')))"
      ]
     },
     "metadata": {},
     "output_type": "display_data"
    },
    {
     "name": "stdout",
     "output_type": "stream",
     "text": [
      "\n"
     ]
    },
    {
     "data": {
      "application/vnd.jupyter.widget-view+json": {
       "model_id": "cff26c48974744b0aa572a1ab422e296",
       "version_major": 2,
       "version_minor": 0
      },
      "text/plain": [
       "HBox(children=(FloatProgress(value=0.0, description='Ensembles', max=3.0, style=ProgressStyle(description_widt…"
      ]
     },
     "metadata": {},
     "output_type": "display_data"
    },
    {
     "data": {
      "application/vnd.jupyter.widget-view+json": {
       "model_id": "",
       "version_major": 2,
       "version_minor": 0
      },
      "text/plain": [
       "HBox(children=(FloatProgress(value=0.0, max=1301.0), HTML(value='')))"
      ]
     },
     "metadata": {},
     "output_type": "display_data"
    },
    {
     "data": {
      "application/vnd.jupyter.widget-view+json": {
       "model_id": "",
       "version_major": 2,
       "version_minor": 0
      },
      "text/plain": [
       "HBox(children=(FloatProgress(value=0.0, max=1136.0), HTML(value='')))"
      ]
     },
     "metadata": {},
     "output_type": "display_data"
    },
    {
     "data": {
      "application/vnd.jupyter.widget-view+json": {
       "model_id": "",
       "version_major": 2,
       "version_minor": 0
      },
      "text/plain": [
       "HBox(children=(FloatProgress(value=0.0, max=914.0), HTML(value='')))"
      ]
     },
     "metadata": {},
     "output_type": "display_data"
    },
    {
     "name": "stdout",
     "output_type": "stream",
     "text": [
      "\n"
     ]
    },
    {
     "data": {
      "application/vnd.jupyter.widget-view+json": {
       "model_id": "9535426cee4c44f2a2f819fdecaafc10",
       "version_major": 2,
       "version_minor": 0
      },
      "text/plain": [
       "HBox(children=(FloatProgress(value=0.0, description='Ensembles', max=3.0, style=ProgressStyle(description_widt…"
      ]
     },
     "metadata": {},
     "output_type": "display_data"
    },
    {
     "data": {
      "application/vnd.jupyter.widget-view+json": {
       "model_id": "",
       "version_major": 2,
       "version_minor": 0
      },
      "text/plain": [
       "HBox(children=(FloatProgress(value=0.0, max=1301.0), HTML(value='')))"
      ]
     },
     "metadata": {},
     "output_type": "display_data"
    },
    {
     "data": {
      "application/vnd.jupyter.widget-view+json": {
       "model_id": "",
       "version_major": 2,
       "version_minor": 0
      },
      "text/plain": [
       "HBox(children=(FloatProgress(value=0.0, max=1136.0), HTML(value='')))"
      ]
     },
     "metadata": {},
     "output_type": "display_data"
    },
    {
     "data": {
      "application/vnd.jupyter.widget-view+json": {
       "model_id": "",
       "version_major": 2,
       "version_minor": 0
      },
      "text/plain": [
       "HBox(children=(FloatProgress(value=0.0, max=914.0), HTML(value='')))"
      ]
     },
     "metadata": {},
     "output_type": "display_data"
    },
    {
     "name": "stdout",
     "output_type": "stream",
     "text": [
      "\n"
     ]
    },
    {
     "data": {
      "application/vnd.jupyter.widget-view+json": {
       "model_id": "1a6de47ea7424904b070d0f87f8ffee0",
       "version_major": 2,
       "version_minor": 0
      },
      "text/plain": [
       "HBox(children=(FloatProgress(value=0.0, description='Ensembles', max=3.0, style=ProgressStyle(description_widt…"
      ]
     },
     "metadata": {},
     "output_type": "display_data"
    },
    {
     "data": {
      "application/vnd.jupyter.widget-view+json": {
       "model_id": "",
       "version_major": 2,
       "version_minor": 0
      },
      "text/plain": [
       "HBox(children=(FloatProgress(value=0.0, max=1283.0), HTML(value='')))"
      ]
     },
     "metadata": {},
     "output_type": "display_data"
    },
    {
     "data": {
      "application/vnd.jupyter.widget-view+json": {
       "model_id": "",
       "version_major": 2,
       "version_minor": 0
      },
      "text/plain": [
       "HBox(children=(FloatProgress(value=0.0, max=1165.0), HTML(value='')))"
      ]
     },
     "metadata": {},
     "output_type": "display_data"
    },
    {
     "data": {
      "application/vnd.jupyter.widget-view+json": {
       "model_id": "",
       "version_major": 2,
       "version_minor": 0
      },
      "text/plain": [
       "HBox(children=(FloatProgress(value=0.0, max=1030.0), HTML(value='')))"
      ]
     },
     "metadata": {},
     "output_type": "display_data"
    },
    {
     "name": "stdout",
     "output_type": "stream",
     "text": [
      "\n"
     ]
    },
    {
     "data": {
      "application/vnd.jupyter.widget-view+json": {
       "model_id": "134492ebdc5941f89abdab18fb8ea87f",
       "version_major": 2,
       "version_minor": 0
      },
      "text/plain": [
       "HBox(children=(FloatProgress(value=0.0, description='Ensembles', max=3.0, style=ProgressStyle(description_widt…"
      ]
     },
     "metadata": {},
     "output_type": "display_data"
    },
    {
     "data": {
      "application/vnd.jupyter.widget-view+json": {
       "model_id": "",
       "version_major": 2,
       "version_minor": 0
      },
      "text/plain": [
       "HBox(children=(FloatProgress(value=0.0, max=1283.0), HTML(value='')))"
      ]
     },
     "metadata": {},
     "output_type": "display_data"
    },
    {
     "data": {
      "application/vnd.jupyter.widget-view+json": {
       "model_id": "",
       "version_major": 2,
       "version_minor": 0
      },
      "text/plain": [
       "HBox(children=(FloatProgress(value=0.0, max=1165.0), HTML(value='')))"
      ]
     },
     "metadata": {},
     "output_type": "display_data"
    },
    {
     "data": {
      "application/vnd.jupyter.widget-view+json": {
       "model_id": "",
       "version_major": 2,
       "version_minor": 0
      },
      "text/plain": [
       "HBox(children=(FloatProgress(value=0.0, max=1030.0), HTML(value='')))"
      ]
     },
     "metadata": {},
     "output_type": "display_data"
    },
    {
     "name": "stdout",
     "output_type": "stream",
     "text": [
      "\n"
     ]
    },
    {
     "data": {
      "text/plain": [
       "            A           B           C\n",
       "A         NaN  0.00214965  0.00186714\n",
       "B  0.00117906         NaN  0.00120443\n",
       "C  0.00133534  0.00188307         NaN"
      ]
     },
     "execution_count": 47,
     "metadata": {},
     "output_type": "execute_result"
    }
   ],
   "source": [
    "analysis.rate_matrix(storage.steps)"
   ]
  },
  {
   "cell_type": "markdown",
   "metadata": {},
   "source": [
    "This is the same rate matrix as we obtained with the `StandardTISAnalysis`. It is a little faster because we used the precalculated `DictFlux` object in this instead of the `MinusMoveFlux`, otherwise this would be slower."
   ]
  },
  {
   "cell_type": "code",
   "execution_count": null,
   "metadata": {},
   "outputs": [],
   "source": []
  }
 ],
 "metadata": {
  "celltoolbar": "Raw Cell Format",
  "kernelspec": {
   "display_name": "Python 3",
   "language": "python",
   "name": "python3"
  },
  "language_info": {
   "codemirror_mode": {
    "name": "ipython",
    "version": 3
   },
   "file_extension": ".py",
   "mimetype": "text/x-python",
   "name": "python",
   "nbconvert_exporter": "python",
   "pygments_lexer": "ipython3",
   "version": "3.7.3"
  },
  "toc": {
   "base_numbering": 1,
   "nav_menu": {},
   "number_sections": true,
   "sideBar": true,
   "skip_h1_title": true,
   "title_cell": "Table of Contents",
   "title_sidebar": "Contents",
   "toc_cell": false,
   "toc_position": {},
   "toc_section_display": true,
   "toc_window_display": true
  },
  "varInspector": {
   "cols": {
    "lenName": 16,
    "lenType": 16,
    "lenVar": 40
   },
   "kernels_config": {
    "python": {
     "delete_cmd_postfix": "",
     "delete_cmd_prefix": "del ",
     "library": "var_list.py",
     "varRefreshCmd": "print(var_dic_list())"
    },
    "r": {
     "delete_cmd_postfix": ") ",
     "delete_cmd_prefix": "rm(",
     "library": "var_list.r",
     "varRefreshCmd": "cat(var_dic_list()) "
    }
   },
   "types_to_exclude": [
    "module",
    "function",
    "builtin_function_or_method",
    "instance",
    "_Feature"
   ],
   "window_display": false
  },
  "widgets": {
   "application/vnd.jupyter.widget-state+json": {
    "state": {
     "0158ccc1dd89457997852e8c975f0d6b": {
      "model_module": "@jupyter-widgets/controls",
      "model_module_version": "1.5.0",
      "model_name": "DescriptionStyleModel",
      "state": {
       "description_width": ""
      }
     },
     "01ca1c98f1da47ce827775bd252ae6d2": {
      "model_module": "@jupyter-widgets/controls",
      "model_module_version": "1.5.0",
      "model_name": "DescriptionStyleModel",
      "state": {
       "description_width": ""
      }
     },
     "01dad2f805384ddd9e9abaac15d895fe": {
      "model_module": "@jupyter-widgets/controls",
      "model_module_version": "1.5.0",
      "model_name": "FloatProgressModel",
      "state": {
       "description": "100%",
       "layout": "IPY_MODEL_b88b42cab75c44a09530672d0ca805f3",
       "max": 1283,
       "style": "IPY_MODEL_a58698e6100b41ee8667ab3f99e570b0",
       "value": 1283
      }
     },
     "01eeba549a164f03a220fb00683a3814": {
      "model_module": "@jupyter-widgets/base",
      "model_module_version": "1.2.0",
      "model_name": "LayoutModel",
      "state": {}
     },
     "02185264eb2a43be8fb243ed5e3bf156": {
      "model_module": "@jupyter-widgets/base",
      "model_module_version": "1.2.0",
      "model_name": "LayoutModel",
      "state": {}
     },
     "029f6d9c8bfc473c834f8fa6a8043cb8": {
      "model_module": "@jupyter-widgets/controls",
      "model_module_version": "1.5.0",
      "model_name": "ProgressStyleModel",
      "state": {
       "description_width": "initial"
      }
     },
     "03402267b8bf4fd4b97fedfbd11df3af": {
      "model_module": "@jupyter-widgets/controls",
      "model_module_version": "1.5.0",
      "model_name": "FloatProgressModel",
      "state": {
       "bar_style": "success",
       "description": "Ensembles: 100%",
       "layout": "IPY_MODEL_0b455ca2a5554313ab8084f71bf17a96",
       "max": 3,
       "style": "IPY_MODEL_c783b34407d247f7ad2011db8edc70c0",
       "value": 3
      }
     },
     "03adab07b7c741a5a37a9d9278ecf41f": {
      "model_module": "@jupyter-widgets/controls",
      "model_module_version": "1.5.0",
      "model_name": "DescriptionStyleModel",
      "state": {
       "description_width": ""
      }
     },
     "03bca64795064329954a10e239402097": {
      "model_module": "@jupyter-widgets/controls",
      "model_module_version": "1.5.0",
      "model_name": "HTMLModel",
      "state": {
       "layout": "IPY_MODEL_7189e92ca2384718a118ad477cf31108",
       "style": "IPY_MODEL_0500c9b2f33945e7b271c563417acaef",
       "value": " 20101/20101 [00:00&lt;00:00, 29447.92it/s]"
      }
     },
     "0500c9b2f33945e7b271c563417acaef": {
      "model_module": "@jupyter-widgets/controls",
      "model_module_version": "1.5.0",
      "model_name": "DescriptionStyleModel",
      "state": {
       "description_width": ""
      }
     },
     "0558806a505048389265e2d1460f523e": {
      "model_module": "@jupyter-widgets/controls",
      "model_module_version": "1.5.0",
      "model_name": "HTMLModel",
      "state": {
       "layout": "IPY_MODEL_ad31f8eebf58407d858dae7f6e386ff0",
       "style": "IPY_MODEL_1fc0569bc88b459ca60dba20204ea864",
       "value": " 1301/1301 [00:00&lt;00:00, 23841.37it/s]"
      }
     },
     "056320166a8143078a74800bb128700f": {
      "model_module": "@jupyter-widgets/base",
      "model_module_version": "1.2.0",
      "model_name": "LayoutModel",
      "state": {}
     },
     "0592a44474a54deebc890e9065a499e7": {
      "model_module": "@jupyter-widgets/base",
      "model_module_version": "1.2.0",
      "model_name": "LayoutModel",
      "state": {}
     },
     "0749598655304979b73ce1bcb6105c9c": {
      "model_module": "@jupyter-widgets/controls",
      "model_module_version": "1.5.0",
      "model_name": "ProgressStyleModel",
      "state": {
       "description_width": "initial"
      }
     },
     "074f412c408e4787bc115b5691d61aba": {
      "model_module": "@jupyter-widgets/controls",
      "model_module_version": "1.5.0",
      "model_name": "HTMLModel",
      "state": {
       "layout": "IPY_MODEL_35676827e15d45708077a5f9d67170ec",
       "style": "IPY_MODEL_191da4f54230476a9b280cc7631d6a8d",
       "value": " 1283/1283 [00:00&lt;00:00, 18588.74it/s]"
      }
     },
     "077f9dbd68fa4d28975deafbb11cf63c": {
      "model_module": "@jupyter-widgets/controls",
      "model_module_version": "1.5.0",
      "model_name": "DescriptionStyleModel",
      "state": {
       "description_width": ""
      }
     },
     "093f314a063e45c79478ade12ca8a7a8": {
      "model_module": "@jupyter-widgets/base",
      "model_module_version": "1.2.0",
      "model_name": "LayoutModel",
      "state": {}
     },
     "096643768c564699bab5804d584f2f6a": {
      "model_module": "@jupyter-widgets/controls",
      "model_module_version": "1.5.0",
      "model_name": "HTMLModel",
      "state": {
       "layout": "IPY_MODEL_1ead5d929a7c400998738bec1b3a5b12",
       "style": "IPY_MODEL_3b150b008dd9480181140bd93cef7abe",
       "value": " 3/3 [02:20&lt;00:00, 46.80s/it]"
      }
     },
     "09d439249b2648f2a00acab02da66ea9": {
      "model_module": "@jupyter-widgets/controls",
      "model_module_version": "1.5.0",
      "model_name": "FloatProgressModel",
      "state": {
       "description": "100%",
       "layout": "IPY_MODEL_b630667798b54923bec8ad2aba0f0d48",
       "max": 1379,
       "style": "IPY_MODEL_2fccace642bc4fbfb758585a1d9987fe",
       "value": 1379
      }
     },
     "0a0a0f9c0d9e46a38d3ad7b917445e92": {
      "model_module": "@jupyter-widgets/controls",
      "model_module_version": "1.5.0",
      "model_name": "DescriptionStyleModel",
      "state": {
       "description_width": ""
      }
     },
     "0a78f7ebe33d4208b85cdf11f7ed41c6": {
      "model_module": "@jupyter-widgets/base",
      "model_module_version": "1.2.0",
      "model_name": "LayoutModel",
      "state": {}
     },
     "0ae4e5c48911419ba92d65c7117f37c3": {
      "model_module": "@jupyter-widgets/controls",
      "model_module_version": "1.5.0",
      "model_name": "ProgressStyleModel",
      "state": {
       "description_width": "initial"
      }
     },
     "0af9422324f948dc8af0462d04e80195": {
      "model_module": "@jupyter-widgets/base",
      "model_module_version": "1.2.0",
      "model_name": "LayoutModel",
      "state": {}
     },
     "0b455ca2a5554313ab8084f71bf17a96": {
      "model_module": "@jupyter-widgets/base",
      "model_module_version": "1.2.0",
      "model_name": "LayoutModel",
      "state": {}
     },
     "0b6e1f7f288443f79a8ffaf6fa1eea36": {
      "model_module": "@jupyter-widgets/controls",
      "model_module_version": "1.5.0",
      "model_name": "HTMLModel",
      "state": {
       "layout": "IPY_MODEL_4e11cd5670ba4c76bb53175198d35d40",
       "style": "IPY_MODEL_b937f10be40d418abf3ed930b82007e5",
       "value": " 1136/1136 [00:00&lt;00:00, 26902.20it/s]"
      }
     },
     "0d21701581d542f09b4f055867df5d1b": {
      "model_module": "@jupyter-widgets/controls",
      "model_module_version": "1.5.0",
      "model_name": "FloatProgressModel",
      "state": {
       "description": "100%",
       "layout": "IPY_MODEL_6c9095368cc944af932e018f19ed319c",
       "max": 180,
       "style": "IPY_MODEL_da77e0fb1a79421294aa3b872aeca82a",
       "value": 180
      }
     },
     "0d3a9b521e174d11a478126b55ba1471": {
      "model_module": "@jupyter-widgets/base",
      "model_module_version": "1.2.0",
      "model_name": "LayoutModel",
      "state": {}
     },
     "0da6d7573c0f4f9a8f0d997520f34c9c": {
      "model_module": "@jupyter-widgets/controls",
      "model_module_version": "1.5.0",
      "model_name": "HTMLModel",
      "state": {
       "layout": "IPY_MODEL_02185264eb2a43be8fb243ed5e3bf156",
       "style": "IPY_MODEL_ae8bf72134c44ac4815b640146bedaf6",
       "value": " 1204/1204 [00:00&lt;00:00, 21631.70it/s]"
      }
     },
     "0f82ccba4efa4bc7a64d7be15bea6c7e": {
      "model_module": "@jupyter-widgets/controls",
      "model_module_version": "1.5.0",
      "model_name": "DescriptionStyleModel",
      "state": {
       "description_width": ""
      }
     },
     "10fe30a557134a218ab589ca957779d7": {
      "model_module": "@jupyter-widgets/controls",
      "model_module_version": "1.5.0",
      "model_name": "DescriptionStyleModel",
      "state": {
       "description_width": ""
      }
     },
     "115b4ff509804bcf9163b0829df07c0c": {
      "model_module": "@jupyter-widgets/base",
      "model_module_version": "1.2.0",
      "model_name": "LayoutModel",
      "state": {}
     },
     "11afb7e2e0524723a3c019bb8ec69c57": {
      "model_module": "@jupyter-widgets/controls",
      "model_module_version": "1.5.0",
      "model_name": "HTMLModel",
      "state": {
       "layout": "IPY_MODEL_71d5169184424a98a928dc736350f1d1",
       "style": "IPY_MODEL_200be8661ec040fba19a214e8d28f8a9",
       "value": " 1030/1030 [00:00&lt;00:00, 19493.87it/s]"
      }
     },
     "11d4509bc3304df9a0b947728f9a31a1": {
      "model_module": "@jupyter-widgets/controls",
      "model_module_version": "1.5.0",
      "model_name": "FloatProgressModel",
      "state": {
       "bar_style": "success",
       "description": "Flux: 100%",
       "layout": "IPY_MODEL_161cd241357a452fb5bde77915b01dc5",
       "max": 3,
       "style": "IPY_MODEL_f34024f03a02441eba2cd37a6f13723a",
       "value": 3
      }
     },
     "131bd32e98c549dd813b21098f3bdcec": {
      "model_module": "@jupyter-widgets/base",
      "model_module_version": "1.2.0",
      "model_name": "LayoutModel",
      "state": {}
     },
     "134492ebdc5941f89abdab18fb8ea87f": {
      "model_module": "@jupyter-widgets/controls",
      "model_module_version": "1.5.0",
      "model_name": "HBoxModel",
      "state": {
       "children": [
        "IPY_MODEL_45e767fb73b74d76b7cd8c14f3c8c986",
        "IPY_MODEL_ddef0ed8c6954157b380468c180acd55"
       ],
       "layout": "IPY_MODEL_2d5579ad379e4688aee76af6ef99de6f"
      }
     },
     "1352e87dae664a6693ca0925e3eaf0c2": {
      "model_module": "@jupyter-widgets/base",
      "model_module_version": "1.2.0",
      "model_name": "LayoutModel",
      "state": {}
     },
     "140b26a2236e491198d05fa4a700b59a": {
      "model_module": "@jupyter-widgets/base",
      "model_module_version": "1.2.0",
      "model_name": "LayoutModel",
      "state": {}
     },
     "146c734a929248c3bed49c29761c8ec7": {
      "model_module": "@jupyter-widgets/base",
      "model_module_version": "1.2.0",
      "model_name": "LayoutModel",
      "state": {}
     },
     "14b9f2de4cd04038aaf28fbe9b9ea513": {
      "model_module": "@jupyter-widgets/base",
      "model_module_version": "1.2.0",
      "model_name": "LayoutModel",
      "state": {}
     },
     "14f71338a83a41499a30494dd7f806c2": {
      "model_module": "@jupyter-widgets/base",
      "model_module_version": "1.2.0",
      "model_name": "LayoutModel",
      "state": {}
     },
     "153f5f25358a4d1da9fca0b23f4042da": {
      "model_module": "@jupyter-widgets/controls",
      "model_module_version": "1.5.0",
      "model_name": "DescriptionStyleModel",
      "state": {
       "description_width": ""
      }
     },
     "161cd241357a452fb5bde77915b01dc5": {
      "model_module": "@jupyter-widgets/base",
      "model_module_version": "1.2.0",
      "model_name": "LayoutModel",
      "state": {}
     },
     "166b4c111a024ffc85afd459dca945a1": {
      "model_module": "@jupyter-widgets/controls",
      "model_module_version": "1.5.0",
      "model_name": "HBoxModel",
      "state": {
       "children": [
        "IPY_MODEL_53a99f9772ab4bd3bde5ca20a8ffdb51",
        "IPY_MODEL_4f82b33d32294bc494f262dc3e94c61a"
       ],
       "layout": "IPY_MODEL_0af9422324f948dc8af0462d04e80195"
      }
     },
     "17a664eb73ae4a11a827e230ad2a7194": {
      "model_module": "@jupyter-widgets/controls",
      "model_module_version": "1.5.0",
      "model_name": "FloatProgressModel",
      "state": {
       "description": "100%",
       "layout": "IPY_MODEL_d5004227231d4f288a0e0e93ffb8b60b",
       "max": 1379,
       "style": "IPY_MODEL_1fc24f29867341bbbb85073566b32520",
       "value": 1379
      }
     },
     "17bcf61312ba4bbba6e97981b5ceaefb": {
      "model_module": "@jupyter-widgets/controls",
      "model_module_version": "1.5.0",
      "model_name": "HBoxModel",
      "state": {
       "children": [
        "IPY_MODEL_b5d08571344d4167a3e9ea2ac14c3fe6",
        "IPY_MODEL_af06af26b9cb46a0bdec68a6c36fd225"
       ],
       "layout": "IPY_MODEL_905f28e056474f7c89f2138175727cd1"
      }
     },
     "18454256a15648e79abecef67fcaf5eb": {
      "model_module": "@jupyter-widgets/base",
      "model_module_version": "1.2.0",
      "model_name": "LayoutModel",
      "state": {}
     },
     "18b493a51f6c4096b305d75a986ff132": {
      "model_module": "@jupyter-widgets/controls",
      "model_module_version": "1.5.0",
      "model_name": "HTMLModel",
      "state": {
       "layout": "IPY_MODEL_8c2e51577cac4f02949d3cb4d2596b8b",
       "style": "IPY_MODEL_153f5f25358a4d1da9fca0b23f4042da",
       "value": " 1301/1301 [02:29&lt;00:00,  4.52it/s]"
      }
     },
     "18b58c1a98d14ab5b93fbee8e1228b17": {
      "model_module": "@jupyter-widgets/base",
      "model_module_version": "1.2.0",
      "model_name": "LayoutModel",
      "state": {}
     },
     "191da4f54230476a9b280cc7631d6a8d": {
      "model_module": "@jupyter-widgets/controls",
      "model_module_version": "1.5.0",
      "model_name": "DescriptionStyleModel",
      "state": {
       "description_width": ""
      }
     },
     "1924e92591a840eabeccb44f1b1597c8": {
      "model_module": "@jupyter-widgets/base",
      "model_module_version": "1.2.0",
      "model_name": "LayoutModel",
      "state": {}
     },
     "199e45ebfd7c4b45b8317887392f3acb": {
      "model_module": "@jupyter-widgets/base",
      "model_module_version": "1.2.0",
      "model_name": "LayoutModel",
      "state": {}
     },
     "1a03d03722f24eb2a08ed39b62587899": {
      "model_module": "@jupyter-widgets/base",
      "model_module_version": "1.2.0",
      "model_name": "LayoutModel",
      "state": {}
     },
     "1a3730c1081d47fc9d9a843a53aafc6b": {
      "model_module": "@jupyter-widgets/base",
      "model_module_version": "1.2.0",
      "model_name": "LayoutModel",
      "state": {}
     },
     "1a46f39c1d4147f1b39f4d548feb5716": {
      "model_module": "@jupyter-widgets/base",
      "model_module_version": "1.2.0",
      "model_name": "LayoutModel",
      "state": {}
     },
     "1a5890153e114b22bf92d25a879092af": {
      "model_module": "@jupyter-widgets/base",
      "model_module_version": "1.2.0",
      "model_name": "LayoutModel",
      "state": {}
     },
     "1a6de47ea7424904b070d0f87f8ffee0": {
      "model_module": "@jupyter-widgets/controls",
      "model_module_version": "1.5.0",
      "model_name": "HBoxModel",
      "state": {
       "children": [
        "IPY_MODEL_1b1ede3e38904667bf0518c247eb4e57",
        "IPY_MODEL_4a7f06677eaf426b8355bab591c014f4"
       ],
       "layout": "IPY_MODEL_574845ba218b4d74b412f48015e9e991"
      }
     },
     "1a817fad98694799b654afea178177df": {
      "model_module": "@jupyter-widgets/base",
      "model_module_version": "1.2.0",
      "model_name": "LayoutModel",
      "state": {}
     },
     "1b1ede3e38904667bf0518c247eb4e57": {
      "model_module": "@jupyter-widgets/controls",
      "model_module_version": "1.5.0",
      "model_name": "FloatProgressModel",
      "state": {
       "bar_style": "success",
       "description": "Ensembles: 100%",
       "layout": "IPY_MODEL_825cd512f87841b5a8fc7e0fc4aed44a",
       "max": 3,
       "style": "IPY_MODEL_71a9bd5f2e54415d9079ff88a0068ed4",
       "value": 3
      }
     },
     "1b6d462643274ba8b82444fb864eac17": {
      "model_module": "@jupyter-widgets/controls",
      "model_module_version": "1.5.0",
      "model_name": "DescriptionStyleModel",
      "state": {
       "description_width": ""
      }
     },
     "1cfdc718c5f84a35a44ade4cb40dda88": {
      "model_module": "@jupyter-widgets/base",
      "model_module_version": "1.2.0",
      "model_name": "LayoutModel",
      "state": {}
     },
     "1d2f9a460a8f45d9bf2d90475330ccff": {
      "model_module": "@jupyter-widgets/base",
      "model_module_version": "1.2.0",
      "model_name": "LayoutModel",
      "state": {}
     },
     "1d4dc77333d045b79eaddbe63e8419df": {
      "model_module": "@jupyter-widgets/base",
      "model_module_version": "1.2.0",
      "model_name": "LayoutModel",
      "state": {}
     },
     "1d70b26d7bc54ad6aaaa4090af37a882": {
      "model_module": "@jupyter-widgets/base",
      "model_module_version": "1.2.0",
      "model_name": "LayoutModel",
      "state": {}
     },
     "1df499a4b113456f9b588532bca18c6e": {
      "model_module": "@jupyter-widgets/controls",
      "model_module_version": "1.5.0",
      "model_name": "ProgressStyleModel",
      "state": {
       "description_width": "initial"
      }
     },
     "1ead5d929a7c400998738bec1b3a5b12": {
      "model_module": "@jupyter-widgets/base",
      "model_module_version": "1.2.0",
      "model_name": "LayoutModel",
      "state": {}
     },
     "1eef8acd503f4e4491eb72860d26e05d": {
      "model_module": "@jupyter-widgets/controls",
      "model_module_version": "1.5.0",
      "model_name": "ProgressStyleModel",
      "state": {
       "description_width": "initial"
      }
     },
     "1f78856a9f1847adbb5614a20750a498": {
      "model_module": "@jupyter-widgets/base",
      "model_module_version": "1.2.0",
      "model_name": "LayoutModel",
      "state": {}
     },
     "1fc0569bc88b459ca60dba20204ea864": {
      "model_module": "@jupyter-widgets/controls",
      "model_module_version": "1.5.0",
      "model_name": "DescriptionStyleModel",
      "state": {
       "description_width": ""
      }
     },
     "1fc24f29867341bbbb85073566b32520": {
      "model_module": "@jupyter-widgets/controls",
      "model_module_version": "1.5.0",
      "model_name": "ProgressStyleModel",
      "state": {
       "description_width": "initial"
      }
     },
     "1fcbbcbb3e9b40d597e96be38f3b5931": {
      "model_module": "@jupyter-widgets/base",
      "model_module_version": "1.2.0",
      "model_name": "LayoutModel",
      "state": {}
     },
     "1ff93d794fc74015851e416d85d9aded": {
      "model_module": "@jupyter-widgets/controls",
      "model_module_version": "1.5.0",
      "model_name": "HTMLModel",
      "state": {
       "layout": "IPY_MODEL_ab4c391d1d8a4b6ebe04ba3de405be5a",
       "style": "IPY_MODEL_fdb9ec3dde4a4201a131764469ab74d6",
       "value": " 188/188 [00:38&lt;00:00,  6.52it/s]"
      }
     },
     "200be8661ec040fba19a214e8d28f8a9": {
      "model_module": "@jupyter-widgets/controls",
      "model_module_version": "1.5.0",
      "model_name": "DescriptionStyleModel",
      "state": {
       "description_width": ""
      }
     },
     "2032a01ee7bb4961a0bdc6320fe402ca": {
      "model_module": "@jupyter-widgets/controls",
      "model_module_version": "1.5.0",
      "model_name": "DescriptionStyleModel",
      "state": {
       "description_width": ""
      }
     },
     "2055088cde124ff0845414e5882f4cf9": {
      "model_module": "@jupyter-widgets/controls",
      "model_module_version": "1.5.0",
      "model_name": "DescriptionStyleModel",
      "state": {
       "description_width": ""
      }
     },
     "2058062195c84eb09de1d1e28f3be69c": {
      "model_module": "@jupyter-widgets/controls",
      "model_module_version": "1.5.0",
      "model_name": "FloatProgressModel",
      "state": {
       "description": "100%",
       "layout": "IPY_MODEL_1cfdc718c5f84a35a44ade4cb40dda88",
       "max": 30,
       "style": "IPY_MODEL_daa16ee02c8f4fe3979f7c7d8801cd32",
       "value": 30
      }
     },
     "2073c6b347c74486ac936d3ccbe76c7a": {
      "model_module": "@jupyter-widgets/base",
      "model_module_version": "1.2.0",
      "model_name": "LayoutModel",
      "state": {}
     },
     "209cfc12dd0c4c58ac93638579cc1e9e": {
      "model_module": "@jupyter-widgets/base",
      "model_module_version": "1.2.0",
      "model_name": "LayoutModel",
      "state": {}
     },
     "21af9aa08128450e9e22f63470c86373": {
      "model_module": "@jupyter-widgets/controls",
      "model_module_version": "1.5.0",
      "model_name": "HBoxModel",
      "state": {
       "children": [
        "IPY_MODEL_03402267b8bf4fd4b97fedfbd11df3af",
        "IPY_MODEL_5875afeb2644411d954ac591e25a4c93"
       ],
       "layout": "IPY_MODEL_894104be928d493b9944eb34508350b0"
      }
     },
     "225956aa3d524f5092c45835da8ce092": {
      "model_module": "@jupyter-widgets/controls",
      "model_module_version": "1.5.0",
      "model_name": "HTMLModel",
      "state": {
       "layout": "IPY_MODEL_e22add99a31b4cfba8324c8ff70ff5c2",
       "style": "IPY_MODEL_4f7fdb5f495f439ba57ceaa549a0bb07",
       "value": " 195/195 [11:17&lt;00:00,  4.28s/it]"
      }
     },
     "22b71ec951be44e8b1eeb8c640d94df7": {
      "model_module": "@jupyter-widgets/base",
      "model_module_version": "1.2.0",
      "model_name": "LayoutModel",
      "state": {}
     },
     "230701cb9e4c421792c4cad14b5c6100": {
      "model_module": "@jupyter-widgets/controls",
      "model_module_version": "1.5.0",
      "model_name": "FloatProgressModel",
      "state": {
       "description": "Ensembles: 100%",
       "layout": "IPY_MODEL_706ec4bf400c4b19bad9c53c188eb341",
       "max": 3,
       "style": "IPY_MODEL_4da3145ee09d4ac3b4d8accf7a8e2c74",
       "value": 3
      }
     },
     "232614f22b934d2a9cda1ae9134c0d5a": {
      "model_module": "@jupyter-widgets/controls",
      "model_module_version": "1.5.0",
      "model_name": "FloatProgressModel",
      "state": {
       "description": "100%",
       "layout": "IPY_MODEL_209cfc12dd0c4c58ac93638579cc1e9e",
       "max": 188,
       "style": "IPY_MODEL_a8aa3a0d3b1a46e9a52dad623d7b959d",
       "value": 188
      }
     },
     "2436e30266444eba883e0752021d3663": {
      "model_module": "@jupyter-widgets/base",
      "model_module_version": "1.2.0",
      "model_name": "LayoutModel",
      "state": {}
     },
     "24ca4241747f413f963618b3959feaf6": {
      "model_module": "@jupyter-widgets/base",
      "model_module_version": "1.2.0",
      "model_name": "LayoutModel",
      "state": {}
     },
     "25122a5d846e4fcaa07b05d39b509c5e": {
      "model_module": "@jupyter-widgets/controls",
      "model_module_version": "1.5.0",
      "model_name": "ProgressStyleModel",
      "state": {
       "description_width": "initial"
      }
     },
     "253e496b5f254370944d271102941934": {
      "model_module": "@jupyter-widgets/controls",
      "model_module_version": "1.5.0",
      "model_name": "HTMLModel",
      "state": {
       "layout": "IPY_MODEL_22b71ec951be44e8b1eeb8c640d94df7",
       "style": "IPY_MODEL_2c505af6a2664994abc90c6022c1cfcc",
       "value": " 1301/1301 [00:00&lt;00:00, 23483.19it/s]"
      }
     },
     "257e3d1bbdf44cf784611f0a357bb952": {
      "model_module": "@jupyter-widgets/controls",
      "model_module_version": "1.5.0",
      "model_name": "DescriptionStyleModel",
      "state": {
       "description_width": ""
      }
     },
     "262311c9d8d349dca70ae7c01ebe227d": {
      "model_module": "@jupyter-widgets/base",
      "model_module_version": "1.2.0",
      "model_name": "LayoutModel",
      "state": {}
     },
     "268edbb71ad54ac0bd22e8ffcffbc1b0": {
      "model_module": "@jupyter-widgets/controls",
      "model_module_version": "1.5.0",
      "model_name": "FloatProgressModel",
      "state": {
       "description": "100%",
       "layout": "IPY_MODEL_d33f4f1ecf09446f9c7c0df1f4eddb84",
       "max": 1030,
       "style": "IPY_MODEL_ca4bf7c48b924debba3790a1baa1af3f",
       "value": 1030
      }
     },
     "2785d8cc60654a9286db4fc18743349e": {
      "model_module": "@jupyter-widgets/controls",
      "model_module_version": "1.5.0",
      "model_name": "FloatProgressModel",
      "state": {
       "description": "100%",
       "layout": "IPY_MODEL_78da1c463d3643ff89b5b11a38fe1bd9",
       "max": 972,
       "style": "IPY_MODEL_9f7e7c637010447b88fafb3b174be537",
       "value": 972
      }
     },
     "278ee023b1e1424298465afc2d5d5d3f": {
      "model_module": "@jupyter-widgets/controls",
      "model_module_version": "1.5.0",
      "model_name": "HTMLModel",
      "state": {
       "layout": "IPY_MODEL_e63dbf0ceb654b2091c60a40bd0a06f9",
       "style": "IPY_MODEL_61b028995efb4d93b4f50d2bac4fa5b2",
       "value": " 3/3 [13:36&lt;00:00, 246.46s/it]"
      }
     },
     "27d4bb8c51a64ae79396387523a48979": {
      "model_module": "@jupyter-widgets/controls",
      "model_module_version": "1.5.0",
      "model_name": "HTMLModel",
      "state": {
       "layout": "IPY_MODEL_e05ea3b6484c463ba25633050b95ed85",
       "style": "IPY_MODEL_67de9d81d85a447c8892a448f83698a4",
       "value": " 3/3 [09:09&lt;00:00, 183.33s/it]"
      }
     },
     "28cfb422aff643fa9ef36d81c00a73f9": {
      "model_module": "@jupyter-widgets/controls",
      "model_module_version": "1.5.0",
      "model_name": "ProgressStyleModel",
      "state": {
       "description_width": "initial"
      }
     },
     "29f2492ed4124354aea119b024160d15": {
      "model_module": "@jupyter-widgets/controls",
      "model_module_version": "1.5.0",
      "model_name": "DescriptionStyleModel",
      "state": {
       "description_width": ""
      }
     },
     "2ba4e583915f449b8ca3f401dd2d0eaa": {
      "model_module": "@jupyter-widgets/base",
      "model_module_version": "1.2.0",
      "model_name": "LayoutModel",
      "state": {}
     },
     "2c11de7c065d4a309080e58b1488166d": {
      "model_module": "@jupyter-widgets/base",
      "model_module_version": "1.2.0",
      "model_name": "LayoutModel",
      "state": {}
     },
     "2c505af6a2664994abc90c6022c1cfcc": {
      "model_module": "@jupyter-widgets/controls",
      "model_module_version": "1.5.0",
      "model_name": "DescriptionStyleModel",
      "state": {
       "description_width": ""
      }
     },
     "2d5579ad379e4688aee76af6ef99de6f": {
      "model_module": "@jupyter-widgets/base",
      "model_module_version": "1.2.0",
      "model_name": "LayoutModel",
      "state": {}
     },
     "2dcf0274665e43848aa12341ff8b7e1e": {
      "model_module": "@jupyter-widgets/base",
      "model_module_version": "1.2.0",
      "model_name": "LayoutModel",
      "state": {}
     },
     "2f0d56bfd2bb4535bfdaac52b3718915": {
      "model_module": "@jupyter-widgets/base",
      "model_module_version": "1.2.0",
      "model_name": "LayoutModel",
      "state": {}
     },
     "2f1a0d445c4e4af5b743c14811f19b7a": {
      "model_module": "@jupyter-widgets/controls",
      "model_module_version": "1.5.0",
      "model_name": "FloatProgressModel",
      "state": {
       "description": "100%",
       "layout": "IPY_MODEL_f1151cb6655e48de978a4433987d1708",
       "max": 195,
       "style": "IPY_MODEL_28cfb422aff643fa9ef36d81c00a73f9",
       "value": 195
      }
     },
     "2f856acbda5647258097ce574ae1f407": {
      "model_module": "@jupyter-widgets/base",
      "model_module_version": "1.2.0",
      "model_name": "LayoutModel",
      "state": {}
     },
     "2fc5115da9334813811bddd52af24be9": {
      "model_module": "@jupyter-widgets/controls",
      "model_module_version": "1.5.0",
      "model_name": "DescriptionStyleModel",
      "state": {
       "description_width": ""
      }
     },
     "2fccace642bc4fbfb758585a1d9987fe": {
      "model_module": "@jupyter-widgets/controls",
      "model_module_version": "1.5.0",
      "model_name": "ProgressStyleModel",
      "state": {
       "description_width": "initial"
      }
     },
     "30c7fcb90394461d817c569bf7825274": {
      "model_module": "@jupyter-widgets/base",
      "model_module_version": "1.2.0",
      "model_name": "LayoutModel",
      "state": {}
     },
     "30ced080967f4b7da9ad85fe60bfa554": {
      "model_module": "@jupyter-widgets/controls",
      "model_module_version": "1.5.0",
      "model_name": "ProgressStyleModel",
      "state": {
       "description_width": "initial"
      }
     },
     "30cfde8053a2476296865db6eaaec7f1": {
      "model_module": "@jupyter-widgets/controls",
      "model_module_version": "1.5.0",
      "model_name": "ProgressStyleModel",
      "state": {
       "description_width": "initial"
      }
     },
     "313c19a9ab024233a4d8edd7d64c07f4": {
      "model_module": "@jupyter-widgets/controls",
      "model_module_version": "1.5.0",
      "model_name": "DescriptionStyleModel",
      "state": {
       "description_width": ""
      }
     },
     "3165862140fb469fa5f3749720547f41": {
      "model_module": "@jupyter-widgets/controls",
      "model_module_version": "1.5.0",
      "model_name": "DescriptionStyleModel",
      "state": {
       "description_width": ""
      }
     },
     "31aca1ecb397448ba6bf16325b5be18c": {
      "model_module": "@jupyter-widgets/controls",
      "model_module_version": "1.5.0",
      "model_name": "FloatProgressModel",
      "state": {
       "description": "100%",
       "layout": "IPY_MODEL_435ed407c53a4c478b6a6653742d7002",
       "max": 1301,
       "style": "IPY_MODEL_cf0cd7d27157482aac0d8344394c7e28",
       "value": 1301
      }
     },
     "321e721175194760923f23379381d0af": {
      "model_module": "@jupyter-widgets/controls",
      "model_module_version": "1.5.0",
      "model_name": "FloatProgressModel",
      "state": {
       "description": "100%",
       "layout": "IPY_MODEL_3fa59c2cfdf34ed5b3fbc5ecbb9dd1f4",
       "max": 1283,
       "style": "IPY_MODEL_6211e328b8a3451d906c86e0cb468bfc",
       "value": 1283
      }
     },
     "32370e9923a04028afa377ce41b2a2fe": {
      "model_module": "@jupyter-widgets/controls",
      "model_module_version": "1.5.0",
      "model_name": "FloatProgressModel",
      "state": {
       "description": "100%",
       "layout": "IPY_MODEL_742bd528c782402cae363627041fcf63",
       "max": 972,
       "style": "IPY_MODEL_bf30a0d1adc143f184050c6b3abb77a9",
       "value": 972
      }
     },
     "32ae5071e54444fbb6ebd867998d82d4": {
      "model_module": "@jupyter-widgets/base",
      "model_module_version": "1.2.0",
      "model_name": "LayoutModel",
      "state": {}
     },
     "34995317a60547b8a210160be4f61180": {
      "model_module": "@jupyter-widgets/controls",
      "model_module_version": "1.5.0",
      "model_name": "DescriptionStyleModel",
      "state": {
       "description_width": ""
      }
     },
     "35676827e15d45708077a5f9d67170ec": {
      "model_module": "@jupyter-widgets/base",
      "model_module_version": "1.2.0",
      "model_name": "LayoutModel",
      "state": {}
     },
     "366b61bbe10743c8a9f9741c3e5a16cf": {
      "model_module": "@jupyter-widgets/base",
      "model_module_version": "1.2.0",
      "model_name": "LayoutModel",
      "state": {}
     },
     "371984db1f6d415086fc134386d7a86a": {
      "model_module": "@jupyter-widgets/controls",
      "model_module_version": "1.5.0",
      "model_name": "FloatProgressModel",
      "state": {
       "description": "100%",
       "layout": "IPY_MODEL_24ca4241747f413f963618b3959feaf6",
       "max": 22,
       "style": "IPY_MODEL_b6789a0da5dd4fb8940b3b1c4f567fe7",
       "value": 22
      }
     },
     "37cde46453b74a69953c08202da2b6af": {
      "model_module": "@jupyter-widgets/controls",
      "model_module_version": "1.5.0",
      "model_name": "ProgressStyleModel",
      "state": {
       "description_width": "initial"
      }
     },
     "38fa699f72664cc7bd9da878c73960d1": {
      "model_module": "@jupyter-widgets/base",
      "model_module_version": "1.2.0",
      "model_name": "LayoutModel",
      "state": {}
     },
     "3949794f82ea422e9b26145057acffea": {
      "model_module": "@jupyter-widgets/controls",
      "model_module_version": "1.5.0",
      "model_name": "ProgressStyleModel",
      "state": {
       "description_width": "initial"
      }
     },
     "39578599cd28453c80da66410b0a0276": {
      "model_module": "@jupyter-widgets/base",
      "model_module_version": "1.2.0",
      "model_name": "LayoutModel",
      "state": {}
     },
     "3999b92d333d4557a05d99a6299470d7": {
      "model_module": "@jupyter-widgets/controls",
      "model_module_version": "1.5.0",
      "model_name": "ProgressStyleModel",
      "state": {
       "description_width": "initial"
      }
     },
     "39e8a4fa1caa409a9ad76da3482b396b": {
      "model_module": "@jupyter-widgets/base",
      "model_module_version": "1.2.0",
      "model_name": "LayoutModel",
      "state": {}
     },
     "3a5bfa8d4a6e48c1b522e41eab7a4d22": {
      "model_module": "@jupyter-widgets/controls",
      "model_module_version": "1.5.0",
      "model_name": "FloatProgressModel",
      "state": {
       "description": "100%",
       "layout": "IPY_MODEL_0d3a9b521e174d11a478126b55ba1471",
       "max": 1136,
       "style": "IPY_MODEL_ae94d12f60d1419cb67ed06fd6bd13cd",
       "value": 1136
      }
     },
     "3aeba62c29c84287aabcc4e94bb72482": {
      "model_module": "@jupyter-widgets/base",
      "model_module_version": "1.2.0",
      "model_name": "LayoutModel",
      "state": {}
     },
     "3b084823d6f84af496eb6bdefaeb8586": {
      "model_module": "@jupyter-widgets/base",
      "model_module_version": "1.2.0",
      "model_name": "LayoutModel",
      "state": {}
     },
     "3b150b008dd9480181140bd93cef7abe": {
      "model_module": "@jupyter-widgets/controls",
      "model_module_version": "1.5.0",
      "model_name": "DescriptionStyleModel",
      "state": {
       "description_width": ""
      }
     },
     "3b339aecc8b74284966a8d48b66a5133": {
      "model_module": "@jupyter-widgets/controls",
      "model_module_version": "1.5.0",
      "model_name": "HTMLModel",
      "state": {
       "layout": "IPY_MODEL_4935cb85cbcb48a8a1d47689d665aeb2",
       "style": "IPY_MODEL_0158ccc1dd89457997852e8c975f0d6b",
       "value": " 1379/1379 [02:56&lt;00:00,  3.89it/s]"
      }
     },
     "3b3a586a44924559805603e787e91851": {
      "model_module": "@jupyter-widgets/controls",
      "model_module_version": "1.5.0",
      "model_name": "FloatProgressModel",
      "state": {
       "bar_style": "success",
       "description": "Flux: 100%",
       "layout": "IPY_MODEL_1a5890153e114b22bf92d25a879092af",
       "max": 3,
       "style": "IPY_MODEL_e33ae38720b049d3a1435c126ca9e5e2",
       "value": 3
      }
     },
     "3b86c7ab78074fbfa5b374946cdf7e22": {
      "model_module": "@jupyter-widgets/base",
      "model_module_version": "1.2.0",
      "model_name": "LayoutModel",
      "state": {}
     },
     "3bd80c0c17bf4582b899c01702e78a57": {
      "model_module": "@jupyter-widgets/controls",
      "model_module_version": "1.5.0",
      "model_name": "FloatProgressModel",
      "state": {
       "description": "100%",
       "layout": "IPY_MODEL_5a783de87a364b4cb1d05048652d232b",
       "max": 914,
       "style": "IPY_MODEL_685d0097e18c47679a5483b6129b921c",
       "value": 914
      }
     },
     "3c6e5ac73e4e46c1a82a45e81f7bb023": {
      "model_module": "@jupyter-widgets/controls",
      "model_module_version": "1.5.0",
      "model_name": "HTMLModel",
      "state": {
       "layout": "IPY_MODEL_0a78f7ebe33d4208b85cdf11f7ed41c6",
       "style": "IPY_MODEL_077f9dbd68fa4d28975deafbb11cf63c",
       "value": " 1165/1165 [00:00&lt;00:00, 14924.62it/s]"
      }
     },
     "3cc1b71d48f5451ca174349a3677e0e6": {
      "model_module": "@jupyter-widgets/base",
      "model_module_version": "1.2.0",
      "model_name": "LayoutModel",
      "state": {}
     },
     "3cffc2d444634bbf92cb21b42ca792a1": {
      "model_module": "@jupyter-widgets/controls",
      "model_module_version": "1.5.0",
      "model_name": "ProgressStyleModel",
      "state": {
       "description_width": "initial"
      }
     },
     "3e3ec5e2b5c547c2908f14e73b4d6578": {
      "model_module": "@jupyter-widgets/base",
      "model_module_version": "1.2.0",
      "model_name": "LayoutModel",
      "state": {}
     },
     "3f1edb38fd23482aaba5a2e86937a38a": {
      "model_module": "@jupyter-widgets/controls",
      "model_module_version": "1.5.0",
      "model_name": "FloatProgressModel",
      "state": {
       "description": "100%",
       "layout": "IPY_MODEL_1a46f39c1d4147f1b39f4d548feb5716",
       "max": 914,
       "style": "IPY_MODEL_0749598655304979b73ce1bcb6105c9c",
       "value": 914
      }
     },
     "3fa59c2cfdf34ed5b3fbc5ecbb9dd1f4": {
      "model_module": "@jupyter-widgets/base",
      "model_module_version": "1.2.0",
      "model_name": "LayoutModel",
      "state": {}
     },
     "3fa99dcaf3a5482a9990eec89812926a": {
      "model_module": "@jupyter-widgets/controls",
      "model_module_version": "1.5.0",
      "model_name": "FloatProgressModel",
      "state": {
       "description": "Ensembles: 100%",
       "layout": "IPY_MODEL_85753e4cd9684b50b3e2a1f82891fa6b",
       "max": 3,
       "style": "IPY_MODEL_37cde46453b74a69953c08202da2b6af",
       "value": 3
      }
     },
     "3fda701c18df4cd58fb2db1098c6a188": {
      "model_module": "@jupyter-widgets/base",
      "model_module_version": "1.2.0",
      "model_name": "LayoutModel",
      "state": {}
     },
     "408821a177cf455187fc47fc00740196": {
      "model_module": "@jupyter-widgets/base",
      "model_module_version": "1.2.0",
      "model_name": "LayoutModel",
      "state": {}
     },
     "40e55512a24e42f1888e80392622cb2b": {
      "model_module": "@jupyter-widgets/base",
      "model_module_version": "1.2.0",
      "model_name": "LayoutModel",
      "state": {}
     },
     "41b84621b78143a5a0265aed00478946": {
      "model_module": "@jupyter-widgets/base",
      "model_module_version": "1.2.0",
      "model_name": "LayoutModel",
      "state": {}
     },
     "41e5c4f03a7b48259c49fba1230b4c5c": {
      "model_module": "@jupyter-widgets/base",
      "model_module_version": "1.2.0",
      "model_name": "LayoutModel",
      "state": {}
     },
     "421ba3a1a8cb441fa666825fcc15ade7": {
      "model_module": "@jupyter-widgets/base",
      "model_module_version": "1.2.0",
      "model_name": "LayoutModel",
      "state": {}
     },
     "426ee3175ad54b51aae51ba54039b8b5": {
      "model_module": "@jupyter-widgets/controls",
      "model_module_version": "1.5.0",
      "model_name": "HTMLModel",
      "state": {
       "layout": "IPY_MODEL_39578599cd28453c80da66410b0a0276",
       "style": "IPY_MODEL_a066b4c6ea0e42a4a55b5e21d141c8c1",
       "value": " 180/180 [11:31&lt;00:00,  2.47s/it]"
      }
     },
     "42fd717c926c48afb72a20b45f7504a2": {
      "model_module": "@jupyter-widgets/controls",
      "model_module_version": "1.5.0",
      "model_name": "FloatProgressModel",
      "state": {
       "description": "Ensembles: 100%",
       "layout": "IPY_MODEL_9dd4d4c640424801b974920c21b7ae9c",
       "max": 3,
       "style": "IPY_MODEL_88e8de35c0bd40bcae43cd4f8ba9ee04",
       "value": 3
      }
     },
     "435ed407c53a4c478b6a6653742d7002": {
      "model_module": "@jupyter-widgets/base",
      "model_module_version": "1.2.0",
      "model_name": "LayoutModel",
      "state": {}
     },
     "43dc459a19674d3d9292cd6732e3274b": {
      "model_module": "@jupyter-widgets/base",
      "model_module_version": "1.2.0",
      "model_name": "LayoutModel",
      "state": {}
     },
     "43fbad9121aa416eabd37edd62e8b1a2": {
      "model_module": "@jupyter-widgets/base",
      "model_module_version": "1.2.0",
      "model_name": "LayoutModel",
      "state": {}
     },
     "449cde14a9f446158de7fef4c78edc60": {
      "model_module": "@jupyter-widgets/base",
      "model_module_version": "1.2.0",
      "model_name": "LayoutModel",
      "state": {}
     },
     "44c1d1f6917f423f8a81a89db00c50ce": {
      "model_module": "@jupyter-widgets/base",
      "model_module_version": "1.2.0",
      "model_name": "LayoutModel",
      "state": {}
     },
     "44c7f6bd64e94a499139b4ac616d7c8b": {
      "model_module": "@jupyter-widgets/controls",
      "model_module_version": "1.5.0",
      "model_name": "ProgressStyleModel",
      "state": {
       "description_width": "initial"
      }
     },
     "456b14c9a438455f8898dab4b66133f0": {
      "model_module": "@jupyter-widgets/base",
      "model_module_version": "1.2.0",
      "model_name": "LayoutModel",
      "state": {}
     },
     "45e767fb73b74d76b7cd8c14f3c8c986": {
      "model_module": "@jupyter-widgets/controls",
      "model_module_version": "1.5.0",
      "model_name": "FloatProgressModel",
      "state": {
       "bar_style": "success",
       "description": "Ensembles: 100%",
       "layout": "IPY_MODEL_547a2abd8bf64dc482ab195d755e29b8",
       "max": 3,
       "style": "IPY_MODEL_69bd7a9f153b4abb8cf1196b6b03017f",
       "value": 3
      }
     },
     "46970e556dc3499fa352a9128cc7b388": {
      "model_module": "@jupyter-widgets/controls",
      "model_module_version": "1.5.0",
      "model_name": "ProgressStyleModel",
      "state": {
       "description_width": "initial"
      }
     },
     "472c661e7e34478db34dbd7a1f943de5": {
      "model_module": "@jupyter-widgets/controls",
      "model_module_version": "1.5.0",
      "model_name": "HTMLModel",
      "state": {
       "layout": "IPY_MODEL_fa0c6770805d4aebad29ebd154e26ec8",
       "style": "IPY_MODEL_5fe6377846bf49f0b2a96290fd9d48d1",
       "value": " 1165/1165 [05:18&lt;00:00,  2.44it/s]"
      }
     },
     "476cb7cebfba45fcb8cf5dad0b3d2a0f": {
      "model_module": "@jupyter-widgets/controls",
      "model_module_version": "1.5.0",
      "model_name": "HTMLModel",
      "state": {
       "layout": "IPY_MODEL_f4124f1970064102b3bdb65aa58141f0",
       "style": "IPY_MODEL_d2b7d833cc13445199d29f03183289cd",
       "value": " 3/3 [00:03&lt;00:00,  1.15s/it]"
      }
     },
     "4935cb85cbcb48a8a1d47689d665aeb2": {
      "model_module": "@jupyter-widgets/base",
      "model_module_version": "1.2.0",
      "model_name": "LayoutModel",
      "state": {}
     },
     "4a7f06677eaf426b8355bab591c014f4": {
      "model_module": "@jupyter-widgets/controls",
      "model_module_version": "1.5.0",
      "model_name": "HTMLModel",
      "state": {
       "layout": "IPY_MODEL_4e40203b0f564980a4844b5f63271b8f",
       "style": "IPY_MODEL_2fc5115da9334813811bddd52af24be9",
       "value": " 3/3 [00:02&lt;00:00,  1.47it/s]"
      }
     },
     "4ad4d7a166004c9eaa57b7e6fdd1659f": {
      "model_module": "@jupyter-widgets/controls",
      "model_module_version": "1.5.0",
      "model_name": "DescriptionStyleModel",
      "state": {
       "description_width": ""
      }
     },
     "4b87fc8179854f0ea2081479feafc48d": {
      "model_module": "@jupyter-widgets/base",
      "model_module_version": "1.2.0",
      "model_name": "LayoutModel",
      "state": {}
     },
     "4cf9e89c86ff4415af41f7ad063c794c": {
      "model_module": "@jupyter-widgets/base",
      "model_module_version": "1.2.0",
      "model_name": "LayoutModel",
      "state": {}
     },
     "4da3145ee09d4ac3b4d8accf7a8e2c74": {
      "model_module": "@jupyter-widgets/controls",
      "model_module_version": "1.5.0",
      "model_name": "ProgressStyleModel",
      "state": {
       "description_width": "initial"
      }
     },
     "4e11cd5670ba4c76bb53175198d35d40": {
      "model_module": "@jupyter-widgets/base",
      "model_module_version": "1.2.0",
      "model_name": "LayoutModel",
      "state": {}
     },
     "4e40203b0f564980a4844b5f63271b8f": {
      "model_module": "@jupyter-widgets/base",
      "model_module_version": "1.2.0",
      "model_name": "LayoutModel",
      "state": {}
     },
     "4e833f1431514c119cc780a6a688ce1c": {
      "model_module": "@jupyter-widgets/controls",
      "model_module_version": "1.5.0",
      "model_name": "HTMLModel",
      "state": {
       "layout": "IPY_MODEL_b344ed3cb71648dd833dc1e2dc42ca63",
       "style": "IPY_MODEL_c22430bee2994b2daece821d8d3c4265",
       "value": " 1204/1204 [00:00&lt;00:00, 22189.06it/s]"
      }
     },
     "4f72babe5deb486e83b3ee7e0616156a": {
      "model_module": "@jupyter-widgets/base",
      "model_module_version": "1.2.0",
      "model_name": "LayoutModel",
      "state": {}
     },
     "4f7fdb5f495f439ba57ceaa549a0bb07": {
      "model_module": "@jupyter-widgets/controls",
      "model_module_version": "1.5.0",
      "model_name": "DescriptionStyleModel",
      "state": {
       "description_width": ""
      }
     },
     "4f82b33d32294bc494f262dc3e94c61a": {
      "model_module": "@jupyter-widgets/controls",
      "model_module_version": "1.5.0",
      "model_name": "HTMLModel",
      "state": {
       "layout": "IPY_MODEL_9bb007bc9ab642e397e5211113e3d58d",
       "style": "IPY_MODEL_0f82ccba4efa4bc7a64d7be15bea6c7e",
       "value": " 20101/20101 [00:00&lt;00:00, 20468.25it/s]"
      }
     },
     "5005cbd2aea54851974a1197a3cf88f2": {
      "model_module": "@jupyter-widgets/base",
      "model_module_version": "1.2.0",
      "model_name": "LayoutModel",
      "state": {}
     },
     "50aa6d83b3f14a388d605bea5b23de11": {
      "model_module": "@jupyter-widgets/base",
      "model_module_version": "1.2.0",
      "model_name": "LayoutModel",
      "state": {}
     },
     "513e6a5ed23f47cb89bc2465955f3d13": {
      "model_module": "@jupyter-widgets/base",
      "model_module_version": "1.2.0",
      "model_name": "LayoutModel",
      "state": {}
     },
     "51824b903726410f93e89a8529932732": {
      "model_module": "@jupyter-widgets/controls",
      "model_module_version": "1.5.0",
      "model_name": "ProgressStyleModel",
      "state": {
       "description_width": "initial"
      }
     },
     "537e630d2c8641eabb2a07b62d669741": {
      "model_module": "@jupyter-widgets/controls",
      "model_module_version": "1.5.0",
      "model_name": "ProgressStyleModel",
      "state": {
       "description_width": "initial"
      }
     },
     "53a99f9772ab4bd3bde5ca20a8ffdb51": {
      "model_module": "@jupyter-widgets/controls",
      "model_module_version": "1.5.0",
      "model_name": "FloatProgressModel",
      "state": {
       "bar_style": "success",
       "description": "Weighted trajectories: 100%",
       "layout": "IPY_MODEL_fddc9a3c7de94d0f9ce582cf3dd14ea3",
       "max": 20101,
       "style": "IPY_MODEL_5d63d70ecd6345afb2c14bc8cd43bf5c",
       "value": 20101
      }
     },
     "547a2abd8bf64dc482ab195d755e29b8": {
      "model_module": "@jupyter-widgets/base",
      "model_module_version": "1.2.0",
      "model_name": "LayoutModel",
      "state": {}
     },
     "54f64d93fdad48f58ff8c7ed3c57883a": {
      "model_module": "@jupyter-widgets/controls",
      "model_module_version": "1.5.0",
      "model_name": "ProgressStyleModel",
      "state": {
       "description_width": "initial"
      }
     },
     "55a6a3d48367486abe84820583401b3d": {
      "model_module": "@jupyter-widgets/controls",
      "model_module_version": "1.5.0",
      "model_name": "HTMLModel",
      "state": {
       "layout": "IPY_MODEL_f909dc9ccb1f48c2b38b4c861bcdb06f",
       "style": "IPY_MODEL_34995317a60547b8a210160be4f61180",
       "value": " 972/972 [06:00&lt;00:00,  3.66it/s]"
      }
     },
     "55fd6c9f4d994b5592804af408afb9fa": {
      "model_module": "@jupyter-widgets/controls",
      "model_module_version": "1.5.0",
      "model_name": "FloatProgressModel",
      "state": {
       "bar_style": "success",
       "description": "Crossing probability: 100%",
       "layout": "IPY_MODEL_41e5c4f03a7b48259c49fba1230b4c5c",
       "max": 3,
       "style": "IPY_MODEL_773aa0655b79463cba579260daa84ade",
       "value": 3
      }
     },
     "574845ba218b4d74b412f48015e9e991": {
      "model_module": "@jupyter-widgets/base",
      "model_module_version": "1.2.0",
      "model_name": "LayoutModel",
      "state": {}
     },
     "576bfc8bd1784c5bb59483b47654e6f4": {
      "model_module": "@jupyter-widgets/controls",
      "model_module_version": "1.5.0",
      "model_name": "FloatProgressModel",
      "state": {
       "description": "100%",
       "layout": "IPY_MODEL_6c9d9455a0ff4ffdb64f256bcf5dda11",
       "max": 1204,
       "style": "IPY_MODEL_a0e2fa1786ec4d36ac1534bbcee2cf29",
       "value": 1204
      }
     },
     "578cce3f319947c0a1eca4e541dd4b6c": {
      "model_module": "@jupyter-widgets/controls",
      "model_module_version": "1.5.0",
      "model_name": "HTMLModel",
      "state": {
       "layout": "IPY_MODEL_9fb6554002df4c839177975a26031ee4",
       "style": "IPY_MODEL_b9a553c9b0ba4af38029ee0fba4b1c09",
       "value": " 3/3 [45:16&lt;00:00, 905.41s/it]"
      }
     },
     "5875afeb2644411d954ac591e25a4c93": {
      "model_module": "@jupyter-widgets/controls",
      "model_module_version": "1.5.0",
      "model_name": "HTMLModel",
      "state": {
       "layout": "IPY_MODEL_9bbe3520ed134b3f843b5ff868c99c01",
       "style": "IPY_MODEL_8ec577968aa84dc8aa989b8b68c73c3f",
       "value": " 3/3 [00:00&lt;00:00,  9.55it/s]"
      }
     },
     "593e121e768e466096d0c66ea48864b2": {
      "model_module": "@jupyter-widgets/controls",
      "model_module_version": "1.5.0",
      "model_name": "HTMLModel",
      "state": {
       "layout": "IPY_MODEL_b7c23cfb20314918a6515b9b3f3bc230",
       "style": "IPY_MODEL_313c19a9ab024233a4d8edd7d64c07f4",
       "value": " 180/180 [00:38&lt;00:00,  7.21it/s]"
      }
     },
     "5a0d0714a30444aabb6996ef45832309": {
      "model_module": "@jupyter-widgets/base",
      "model_module_version": "1.2.0",
      "model_name": "LayoutModel",
      "state": {}
     },
     "5a783de87a364b4cb1d05048652d232b": {
      "model_module": "@jupyter-widgets/base",
      "model_module_version": "1.2.0",
      "model_name": "LayoutModel",
      "state": {}
     },
     "5b97fec7ffd94cae97f9c9ac92c649f7": {
      "model_module": "@jupyter-widgets/controls",
      "model_module_version": "1.5.0",
      "model_name": "ProgressStyleModel",
      "state": {
       "description_width": "initial"
      }
     },
     "5b9f5a5d7bd34e29bddf1ecec0d94d64": {
      "model_module": "@jupyter-widgets/controls",
      "model_module_version": "1.5.0",
      "model_name": "ProgressStyleModel",
      "state": {
       "description_width": "initial"
      }
     },
     "5bf549fece73448aa45f62e6bb84f034": {
      "model_module": "@jupyter-widgets/controls",
      "model_module_version": "1.5.0",
      "model_name": "FloatProgressModel",
      "state": {
       "description": "100%",
       "layout": "IPY_MODEL_fa2dfdb609a4439282d4498d8e6f0203",
       "max": 180,
       "style": "IPY_MODEL_0ae4e5c48911419ba92d65c7117f37c3",
       "value": 180
      }
     },
     "5bff3e92f2484a74914835676d44b636": {
      "model_module": "@jupyter-widgets/base",
      "model_module_version": "1.2.0",
      "model_name": "LayoutModel",
      "state": {}
     },
     "5cafbd98d840474a8346a283eb14d5e8": {
      "model_module": "@jupyter-widgets/base",
      "model_module_version": "1.2.0",
      "model_name": "LayoutModel",
      "state": {}
     },
     "5d63d70ecd6345afb2c14bc8cd43bf5c": {
      "model_module": "@jupyter-widgets/controls",
      "model_module_version": "1.5.0",
      "model_name": "ProgressStyleModel",
      "state": {
       "description_width": "initial"
      }
     },
     "5de56e2b34764e0eb14ef49579c7042b": {
      "model_module": "@jupyter-widgets/base",
      "model_module_version": "1.2.0",
      "model_name": "LayoutModel",
      "state": {}
     },
     "5ea41dd0e75944eca32601eb26014f95": {
      "model_module": "@jupyter-widgets/base",
      "model_module_version": "1.2.0",
      "model_name": "LayoutModel",
      "state": {}
     },
     "5f5c13e6a3c242fba79ff013816ac631": {
      "model_module": "@jupyter-widgets/base",
      "model_module_version": "1.2.0",
      "model_name": "LayoutModel",
      "state": {}
     },
     "5fe6377846bf49f0b2a96290fd9d48d1": {
      "model_module": "@jupyter-widgets/controls",
      "model_module_version": "1.5.0",
      "model_name": "DescriptionStyleModel",
      "state": {
       "description_width": ""
      }
     },
     "600e5c9526694bfa827946fadcc4607c": {
      "model_module": "@jupyter-widgets/base",
      "model_module_version": "1.2.0",
      "model_name": "LayoutModel",
      "state": {}
     },
     "608a6efcb14d4aba80e81bdc2fea457c": {
      "model_module": "@jupyter-widgets/base",
      "model_module_version": "1.2.0",
      "model_name": "LayoutModel",
      "state": {}
     },
     "6135599ba03246b5b96d8d0d51ece73b": {
      "model_module": "@jupyter-widgets/controls",
      "model_module_version": "1.5.0",
      "model_name": "ProgressStyleModel",
      "state": {
       "description_width": "initial"
      }
     },
     "61b028995efb4d93b4f50d2bac4fa5b2": {
      "model_module": "@jupyter-widgets/controls",
      "model_module_version": "1.5.0",
      "model_name": "DescriptionStyleModel",
      "state": {
       "description_width": ""
      }
     },
     "61b0f56e8c90404c9c6f7071d558beb2": {
      "model_module": "@jupyter-widgets/base",
      "model_module_version": "1.2.0",
      "model_name": "LayoutModel",
      "state": {}
     },
     "6211e328b8a3451d906c86e0cb468bfc": {
      "model_module": "@jupyter-widgets/controls",
      "model_module_version": "1.5.0",
      "model_name": "ProgressStyleModel",
      "state": {
       "description_width": "initial"
      }
     },
     "621db00dc8674029be25c7508e03ab5a": {
      "model_module": "@jupyter-widgets/base",
      "model_module_version": "1.2.0",
      "model_name": "LayoutModel",
      "state": {}
     },
     "625313c60a4e4b9fa3d0f5eb9fcca7db": {
      "model_module": "@jupyter-widgets/controls",
      "model_module_version": "1.5.0",
      "model_name": "FloatProgressModel",
      "state": {
       "description": "100%",
       "layout": "IPY_MODEL_1f78856a9f1847adbb5614a20750a498",
       "max": 1030,
       "style": "IPY_MODEL_46970e556dc3499fa352a9128cc7b388",
       "value": 1030
      }
     },
     "62e3573176f349a18461b6565b759b26": {
      "model_module": "@jupyter-widgets/controls",
      "model_module_version": "1.5.0",
      "model_name": "DescriptionStyleModel",
      "state": {
       "description_width": ""
      }
     },
     "640749a49033401aabd7495d6efe9689": {
      "model_module": "@jupyter-widgets/base",
      "model_module_version": "1.2.0",
      "model_name": "LayoutModel",
      "state": {}
     },
     "645cee3649364574a14bdc36a3409b09": {
      "model_module": "@jupyter-widgets/controls",
      "model_module_version": "1.5.0",
      "model_name": "ProgressStyleModel",
      "state": {
       "description_width": "initial"
      }
     },
     "64e2597a8cb44abca56351ffef84be41": {
      "model_module": "@jupyter-widgets/controls",
      "model_module_version": "1.5.0",
      "model_name": "FloatProgressModel",
      "state": {
       "bar_style": "success",
       "description": "Ensembles: 100%",
       "layout": "IPY_MODEL_4f72babe5deb486e83b3ee7e0616156a",
       "max": 3,
       "style": "IPY_MODEL_f37fe7cf3e88479cbde85b95dcd87ff9",
       "value": 3
      }
     },
     "6562f680e0504ba597723445396a87c7": {
      "model_module": "@jupyter-widgets/base",
      "model_module_version": "1.2.0",
      "model_name": "LayoutModel",
      "state": {}
     },
     "66218d966fbf49508eb188f0384b68e7": {
      "model_module": "@jupyter-widgets/base",
      "model_module_version": "1.2.0",
      "model_name": "LayoutModel",
      "state": {}
     },
     "662f5e87b48043a2ae2f3c56cd4648b6": {
      "model_module": "@jupyter-widgets/base",
      "model_module_version": "1.2.0",
      "model_name": "LayoutModel",
      "state": {}
     },
     "6662199d5c074e86bc28ae836de2af7f": {
      "model_module": "@jupyter-widgets/controls",
      "model_module_version": "1.5.0",
      "model_name": "DescriptionStyleModel",
      "state": {
       "description_width": ""
      }
     },
     "668a9ed8b73c42869b1a431ba57b694b": {
      "model_module": "@jupyter-widgets/base",
      "model_module_version": "1.2.0",
      "model_name": "LayoutModel",
      "state": {}
     },
     "6798ee73a4ea40729e79a01ea164545a": {
      "model_module": "@jupyter-widgets/base",
      "model_module_version": "1.2.0",
      "model_name": "LayoutModel",
      "state": {}
     },
     "67de9d81d85a447c8892a448f83698a4": {
      "model_module": "@jupyter-widgets/controls",
      "model_module_version": "1.5.0",
      "model_name": "DescriptionStyleModel",
      "state": {
       "description_width": ""
      }
     },
     "685d0097e18c47679a5483b6129b921c": {
      "model_module": "@jupyter-widgets/controls",
      "model_module_version": "1.5.0",
      "model_name": "ProgressStyleModel",
      "state": {
       "description_width": "initial"
      }
     },
     "69bd7a9f153b4abb8cf1196b6b03017f": {
      "model_module": "@jupyter-widgets/controls",
      "model_module_version": "1.5.0",
      "model_name": "ProgressStyleModel",
      "state": {
       "description_width": "initial"
      }
     },
     "69e8c647f53946ff8d6c8b4e261c5435": {
      "model_module": "@jupyter-widgets/controls",
      "model_module_version": "1.5.0",
      "model_name": "FloatProgressModel",
      "state": {
       "description": "100%",
       "layout": "IPY_MODEL_f1f76c8f1d6143f5ab0d925e74be51da",
       "max": 1204,
       "style": "IPY_MODEL_8e01c26616be4e08bd45e03e56ae9ae0",
       "value": 1204
      }
     },
     "6b49a926946a4bf889e307a7dbb44727": {
      "model_module": "@jupyter-widgets/base",
      "model_module_version": "1.2.0",
      "model_name": "LayoutModel",
      "state": {}
     },
     "6c9095368cc944af932e018f19ed319c": {
      "model_module": "@jupyter-widgets/base",
      "model_module_version": "1.2.0",
      "model_name": "LayoutModel",
      "state": {}
     },
     "6c9d9455a0ff4ffdb64f256bcf5dda11": {
      "model_module": "@jupyter-widgets/base",
      "model_module_version": "1.2.0",
      "model_name": "LayoutModel",
      "state": {}
     },
     "6e706842ad9d41f4976fbd96a382cd5e": {
      "model_module": "@jupyter-widgets/base",
      "model_module_version": "1.2.0",
      "model_name": "LayoutModel",
      "state": {}
     },
     "6e7781252ff8475aad8d4c4a27eb76e4": {
      "model_module": "@jupyter-widgets/controls",
      "model_module_version": "1.5.0",
      "model_name": "DescriptionStyleModel",
      "state": {
       "description_width": ""
      }
     },
     "6ecc1c5fe45641ea9a7f6d77b155c134": {
      "model_module": "@jupyter-widgets/controls",
      "model_module_version": "1.5.0",
      "model_name": "FloatProgressModel",
      "state": {
       "description": "100%",
       "layout": "IPY_MODEL_89e8f568bd174dd3ac73d226c8c6cbb3",
       "max": 1283,
       "style": "IPY_MODEL_029f6d9c8bfc473c834f8fa6a8043cb8",
       "value": 1283
      }
     },
     "6f0ae26fbcbc4e42a6f1f7ce6e533555": {
      "model_module": "@jupyter-widgets/base",
      "model_module_version": "1.2.0",
      "model_name": "LayoutModel",
      "state": {}
     },
     "701c7ef0232047649bdd9c832629053f": {
      "model_module": "@jupyter-widgets/base",
      "model_module_version": "1.2.0",
      "model_name": "LayoutModel",
      "state": {}
     },
     "705bbb4fdcb54445afb56d074a91491d": {
      "model_module": "@jupyter-widgets/controls",
      "model_module_version": "1.5.0",
      "model_name": "FloatProgressModel",
      "state": {
       "description": "100%",
       "layout": "IPY_MODEL_621db00dc8674029be25c7508e03ab5a",
       "max": 1165,
       "style": "IPY_MODEL_79138d3d651945c48839521df174175c",
       "value": 1165
      }
     },
     "706ec4bf400c4b19bad9c53c188eb341": {
      "model_module": "@jupyter-widgets/base",
      "model_module_version": "1.2.0",
      "model_name": "LayoutModel",
      "state": {}
     },
     "70b5daf3d5e64f1f8ca1e84bbd4f825d": {
      "model_module": "@jupyter-widgets/controls",
      "model_module_version": "1.5.0",
      "model_name": "FloatProgressModel",
      "state": {
       "bar_style": "success",
       "description": "Flux: 100%",
       "layout": "IPY_MODEL_e97e38fbe95a414cb0e7d55e0854b014",
       "max": 3,
       "style": "IPY_MODEL_75e7a73969bd4e959eca0bc8aa80e9f3",
       "value": 3
      }
     },
     "7136e58a0e7d4389b90eeafe786db4b2": {
      "model_module": "@jupyter-widgets/base",
      "model_module_version": "1.2.0",
      "model_name": "LayoutModel",
      "state": {}
     },
     "7189e92ca2384718a118ad477cf31108": {
      "model_module": "@jupyter-widgets/base",
      "model_module_version": "1.2.0",
      "model_name": "LayoutModel",
      "state": {}
     },
     "71a9bd5f2e54415d9079ff88a0068ed4": {
      "model_module": "@jupyter-widgets/controls",
      "model_module_version": "1.5.0",
      "model_name": "ProgressStyleModel",
      "state": {
       "description_width": "initial"
      }
     },
     "71d5169184424a98a928dc736350f1d1": {
      "model_module": "@jupyter-widgets/base",
      "model_module_version": "1.2.0",
      "model_name": "LayoutModel",
      "state": {}
     },
     "739c6eb1ffbc407e9a37c6044992e063": {
      "model_module": "@jupyter-widgets/base",
      "model_module_version": "1.2.0",
      "model_name": "LayoutModel",
      "state": {}
     },
     "73c1322aeb014ed4959909dcddee80e6": {
      "model_module": "@jupyter-widgets/controls",
      "model_module_version": "1.5.0",
      "model_name": "HTMLModel",
      "state": {
       "layout": "IPY_MODEL_e89dfb6aa3834d82b116d1720acc14cc",
       "style": "IPY_MODEL_03adab07b7c741a5a37a9d9278ecf41f",
       "value": " 914/914 [00:00&lt;00:00, 23611.40it/s]"
      }
     },
     "742bd528c782402cae363627041fcf63": {
      "model_module": "@jupyter-widgets/base",
      "model_module_version": "1.2.0",
      "model_name": "LayoutModel",
      "state": {}
     },
     "74a7f08b49074609b7391909b516db52": {
      "model_module": "@jupyter-widgets/controls",
      "model_module_version": "1.5.0",
      "model_name": "HTMLModel",
      "state": {
       "layout": "IPY_MODEL_92efed6a17844752aee90077452c18dd",
       "style": "IPY_MODEL_e1b8bfe5f0ba4a97b20985a1db96be16",
       "value": " 107/107 [00:30&lt;00:00,  3.64it/s]"
      }
     },
     "75e7a73969bd4e959eca0bc8aa80e9f3": {
      "model_module": "@jupyter-widgets/controls",
      "model_module_version": "1.5.0",
      "model_name": "ProgressStyleModel",
      "state": {
       "description_width": "initial"
      }
     },
     "7630463d714147828816ce8f4ea8897f": {
      "model_module": "@jupyter-widgets/controls",
      "model_module_version": "1.5.0",
      "model_name": "DescriptionStyleModel",
      "state": {
       "description_width": ""
      }
     },
     "7647f15722e34097a7dcced78c891ee7": {
      "model_module": "@jupyter-widgets/controls",
      "model_module_version": "1.5.0",
      "model_name": "FloatProgressModel",
      "state": {
       "description": "100%",
       "layout": "IPY_MODEL_449cde14a9f446158de7fef4c78edc60",
       "max": 188,
       "style": "IPY_MODEL_3949794f82ea422e9b26145057acffea",
       "value": 188
      }
     },
     "765de27372a44495a7707ce9bdb1b6f1": {
      "model_module": "@jupyter-widgets/controls",
      "model_module_version": "1.5.0",
      "model_name": "HTMLModel",
      "state": {
       "layout": "IPY_MODEL_a3a61786f32e45dd92d253d79e3df30b",
       "style": "IPY_MODEL_d8259e381afd477ab722bfd40b05e18e",
       "value": " 3/3 [01:44&lt;00:00, 30.90s/it]"
      }
     },
     "773aa0655b79463cba579260daa84ade": {
      "model_module": "@jupyter-widgets/controls",
      "model_module_version": "1.5.0",
      "model_name": "ProgressStyleModel",
      "state": {
       "description_width": "initial"
      }
     },
     "77624955e7fb4542878106a5ff4b8005": {
      "model_module": "@jupyter-widgets/controls",
      "model_module_version": "1.5.0",
      "model_name": "HTMLModel",
      "state": {
       "layout": "IPY_MODEL_32ae5071e54444fbb6ebd867998d82d4",
       "style": "IPY_MODEL_84b26154937b4f3d8c5bf2b9f7130bd2",
       "value": " 972/972 [00:00&lt;00:00, 13626.79it/s]"
      }
     },
     "77f0f19837de470299456147bab3683e": {
      "model_module": "@jupyter-widgets/controls",
      "model_module_version": "1.5.0",
      "model_name": "FloatProgressModel",
      "state": {
       "description": "100%",
       "layout": "IPY_MODEL_262311c9d8d349dca70ae7c01ebe227d",
       "max": 972,
       "style": "IPY_MODEL_7a7033883c3c43d19bf89d27227ffcd1",
       "value": 972
      }
     },
     "78da1c463d3643ff89b5b11a38fe1bd9": {
      "model_module": "@jupyter-widgets/base",
      "model_module_version": "1.2.0",
      "model_name": "LayoutModel",
      "state": {}
     },
     "79138d3d651945c48839521df174175c": {
      "model_module": "@jupyter-widgets/controls",
      "model_module_version": "1.5.0",
      "model_name": "ProgressStyleModel",
      "state": {
       "description_width": "initial"
      }
     },
     "7921c8b185864ace9f18a44cb8b25f06": {
      "model_module": "@jupyter-widgets/base",
      "model_module_version": "1.2.0",
      "model_name": "LayoutModel",
      "state": {}
     },
     "798f0635c8e942a28dccfacab168f1f8": {
      "model_module": "@jupyter-widgets/controls",
      "model_module_version": "1.5.0",
      "model_name": "HTMLModel",
      "state": {
       "layout": "IPY_MODEL_5de56e2b34764e0eb14ef49579c7042b",
       "style": "IPY_MODEL_f20709cb6c2b426092c83b29bd1a866a",
       "value": " 95/95 [01:00&lt;00:00,  1.65it/s]"
      }
     },
     "7a7033883c3c43d19bf89d27227ffcd1": {
      "model_module": "@jupyter-widgets/controls",
      "model_module_version": "1.5.0",
      "model_name": "ProgressStyleModel",
      "state": {
       "description_width": "initial"
      }
     },
     "7a739ebe61dc4cefb40c1a40e73fc85a": {
      "model_module": "@jupyter-widgets/controls",
      "model_module_version": "1.5.0",
      "model_name": "HBoxModel",
      "state": {
       "children": [
        "IPY_MODEL_d3c37fb9aac84596a59cff7d7542a3c9",
        "IPY_MODEL_096643768c564699bab5804d584f2f6a"
       ],
       "layout": "IPY_MODEL_408821a177cf455187fc47fc00740196"
      }
     },
     "7c74833e061f4beda2619c14d184ccee": {
      "model_module": "@jupyter-widgets/controls",
      "model_module_version": "1.5.0",
      "model_name": "ProgressStyleModel",
      "state": {
       "description_width": "initial"
      }
     },
     "7e22376e0e3c47a58696750155487677": {
      "model_module": "@jupyter-widgets/controls",
      "model_module_version": "1.5.0",
      "model_name": "ProgressStyleModel",
      "state": {
       "description_width": "initial"
      }
     },
     "7e37817657a24659b7ca721d22051846": {
      "model_module": "@jupyter-widgets/controls",
      "model_module_version": "1.5.0",
      "model_name": "HTMLModel",
      "state": {
       "layout": "IPY_MODEL_ba43266b72b046c0b21203f56f0b51ca",
       "style": "IPY_MODEL_0a0a0f9c0d9e46a38d3ad7b917445e92",
       "value": " 188/188 [11:46&lt;00:00,  2.60s/it]"
      }
     },
     "7e43cc048f344be287e372529f0f160a": {
      "model_module": "@jupyter-widgets/controls",
      "model_module_version": "1.5.0",
      "model_name": "FloatProgressModel",
      "state": {
       "description": "100%",
       "layout": "IPY_MODEL_38fa699f72664cc7bd9da878c73960d1",
       "max": 180,
       "style": "IPY_MODEL_c61252989dda44f2b6ed3b1fc1ddbdfd",
       "value": 180
      }
     },
     "7f6c9cf4ed774edb9ac59747aac28469": {
      "model_module": "@jupyter-widgets/base",
      "model_module_version": "1.2.0",
      "model_name": "LayoutModel",
      "state": {}
     },
     "80ec63762fe14d1cb98f99994e009af2": {
      "model_module": "@jupyter-widgets/base",
      "model_module_version": "1.2.0",
      "model_name": "LayoutModel",
      "state": {}
     },
     "8117ec85bb2b432183f8db66e9771113": {
      "model_module": "@jupyter-widgets/controls",
      "model_module_version": "1.5.0",
      "model_name": "FloatProgressModel",
      "state": {
       "bar_style": "success",
       "description": "Ensembles: 100%",
       "layout": "IPY_MODEL_43dc459a19674d3d9292cd6732e3274b",
       "max": 3,
       "style": "IPY_MODEL_85e55bc8bc5340dc85e185f7c6a27fe1",
       "value": 3
      }
     },
     "818db63fc18d446ebb0355f779e666ae": {
      "model_module": "@jupyter-widgets/base",
      "model_module_version": "1.2.0",
      "model_name": "LayoutModel",
      "state": {}
     },
     "8252e71b4d9b4cd7aec4d203eaa914db": {
      "model_module": "@jupyter-widgets/controls",
      "model_module_version": "1.5.0",
      "model_name": "HTMLModel",
      "state": {
       "layout": "IPY_MODEL_85a2d4fc32eb4f09a9eb4fbee5e87b50",
       "style": "IPY_MODEL_ded9141952194c25a5ee1059d04125cc",
       "value": " 104/104 [00:23&lt;00:00,  3.04it/s]"
      }
     },
     "825cd512f87841b5a8fc7e0fc4aed44a": {
      "model_module": "@jupyter-widgets/base",
      "model_module_version": "1.2.0",
      "model_name": "LayoutModel",
      "state": {}
     },
     "82cf63fc8a5142ac9d02fdabe60458b9": {
      "model_module": "@jupyter-widgets/base",
      "model_module_version": "1.2.0",
      "model_name": "LayoutModel",
      "state": {}
     },
     "82edd1875a934403b8a15ba5dfa3e96d": {
      "model_module": "@jupyter-widgets/controls",
      "model_module_version": "1.5.0",
      "model_name": "HBoxModel",
      "state": {
       "children": [
        "IPY_MODEL_aec5e2f4d0194404a4051bf3c4278ed7",
        "IPY_MODEL_03bca64795064329954a10e239402097"
       ],
       "layout": "IPY_MODEL_44c1d1f6917f423f8a81a89db00c50ce"
      }
     },
     "83df0e98cbc54a9bbacd0650b60ee210": {
      "model_module": "@jupyter-widgets/controls",
      "model_module_version": "1.5.0",
      "model_name": "HTMLModel",
      "state": {
       "layout": "IPY_MODEL_f8cb00359fca43c58d74351d42f90e17",
       "style": "IPY_MODEL_3165862140fb469fa5f3749720547f41",
       "value": " 83/83 [00:40&lt;00:00,  1.17it/s]"
      }
     },
     "83fc39f16f0e4459bee299a79cf469c5": {
      "model_module": "@jupyter-widgets/base",
      "model_module_version": "1.2.0",
      "model_name": "LayoutModel",
      "state": {}
     },
     "84b26154937b4f3d8c5bf2b9f7130bd2": {
      "model_module": "@jupyter-widgets/controls",
      "model_module_version": "1.5.0",
      "model_name": "DescriptionStyleModel",
      "state": {
       "description_width": ""
      }
     },
     "84c21496d992478ca10e1177b8383b69": {
      "model_module": "@jupyter-widgets/controls",
      "model_module_version": "1.5.0",
      "model_name": "HTMLModel",
      "state": {
       "layout": "IPY_MODEL_41b84621b78143a5a0265aed00478946",
       "style": "IPY_MODEL_8ceb672ce9d947d284a68a9346eb6a66",
       "value": " 1030/1030 [05:38&lt;00:00,  2.57it/s]"
      }
     },
     "84f8c5f47f8a4b218ec2bcac92e12ac0": {
      "model_module": "@jupyter-widgets/controls",
      "model_module_version": "1.5.0",
      "model_name": "FloatProgressModel",
      "state": {
       "description": "100%",
       "layout": "IPY_MODEL_83fc39f16f0e4459bee299a79cf469c5",
       "max": 83,
       "style": "IPY_MODEL_d45b55a0e0584467b3180580e205d326",
       "value": 83
      }
     },
     "85753e4cd9684b50b3e2a1f82891fa6b": {
      "model_module": "@jupyter-widgets/base",
      "model_module_version": "1.2.0",
      "model_name": "LayoutModel",
      "state": {}
     },
     "85a2d4fc32eb4f09a9eb4fbee5e87b50": {
      "model_module": "@jupyter-widgets/base",
      "model_module_version": "1.2.0",
      "model_name": "LayoutModel",
      "state": {}
     },
     "85e55bc8bc5340dc85e185f7c6a27fe1": {
      "model_module": "@jupyter-widgets/controls",
      "model_module_version": "1.5.0",
      "model_name": "ProgressStyleModel",
      "state": {
       "description_width": "initial"
      }
     },
     "874254c585fa4b46af9ea199acdce117": {
      "model_module": "@jupyter-widgets/base",
      "model_module_version": "1.2.0",
      "model_name": "LayoutModel",
      "state": {}
     },
     "8780525393564dd494d8748866c8d34c": {
      "model_module": "@jupyter-widgets/controls",
      "model_module_version": "1.5.0",
      "model_name": "HBoxModel",
      "state": {
       "children": [
        "IPY_MODEL_aec2f071b2fd43d5b48d0362d61cfd2a",
        "IPY_MODEL_e7ce968bf0244b5f91f068acf0ae8233"
       ],
       "layout": "IPY_MODEL_b3859baf475744b0885bdf76c451d4c9"
      }
     },
     "87e7201affd44ddea45e6238d2c2797a": {
      "model_module": "@jupyter-widgets/controls",
      "model_module_version": "1.5.0",
      "model_name": "HTMLModel",
      "state": {
       "layout": "IPY_MODEL_ca2f97df366c44cc99d44bc318ca9c25",
       "style": "IPY_MODEL_257e3d1bbdf44cf784611f0a357bb952",
       "value": " 914/914 [06:13&lt;00:00,  1.61it/s]"
      }
     },
     "87f0ae1a75554d8d81e33230b3d067a2": {
      "model_module": "@jupyter-widgets/controls",
      "model_module_version": "1.5.0",
      "model_name": "HTMLModel",
      "state": {
       "layout": "IPY_MODEL_c3dda86f36b240b792ce2b3a2847b3c0",
       "style": "IPY_MODEL_92c0112aa7e343f4a293c077fbf0e6d4",
       "value": " 3/3 [14:11&lt;00:00, 260.76s/it]"
      }
     },
     "88e8de35c0bd40bcae43cd4f8ba9ee04": {
      "model_module": "@jupyter-widgets/controls",
      "model_module_version": "1.5.0",
      "model_name": "ProgressStyleModel",
      "state": {
       "description_width": "initial"
      }
     },
     "894104be928d493b9944eb34508350b0": {
      "model_module": "@jupyter-widgets/base",
      "model_module_version": "1.2.0",
      "model_name": "LayoutModel",
      "state": {}
     },
     "89e8f568bd174dd3ac73d226c8c6cbb3": {
      "model_module": "@jupyter-widgets/base",
      "model_module_version": "1.2.0",
      "model_name": "LayoutModel",
      "state": {}
     },
     "89effacaf8e645e28b86889224584ff8": {
      "model_module": "@jupyter-widgets/controls",
      "model_module_version": "1.5.0",
      "model_name": "FloatProgressModel",
      "state": {
       "bar_style": "success",
       "description": "Ensembles: 100%",
       "layout": "IPY_MODEL_9ea6ea923ae44a118b0f4d0e83fadd8e",
       "max": 3,
       "style": "IPY_MODEL_9ccd695257a84b768873f832c54df0cd",
       "value": 3
      }
     },
     "8a26c32422ab41dfa53462334080b44b": {
      "model_module": "@jupyter-widgets/controls",
      "model_module_version": "1.5.0",
      "model_name": "FloatProgressModel",
      "state": {
       "description": "100%",
       "layout": "IPY_MODEL_9783312765084e108886b84aeaacfc4e",
       "max": 195,
       "style": "IPY_MODEL_f5861e4679554dffb7810b6187178cec",
       "value": 195
      }
     },
     "8b2ab0a780af474fa792983195189966": {
      "model_module": "@jupyter-widgets/base",
      "model_module_version": "1.2.0",
      "model_name": "LayoutModel",
      "state": {}
     },
     "8ba24263be4844f3871f36fa98da17ca": {
      "model_module": "@jupyter-widgets/controls",
      "model_module_version": "1.5.0",
      "model_name": "DescriptionStyleModel",
      "state": {
       "description_width": ""
      }
     },
     "8bd9f8a730c4432ea47679bf6def37c0": {
      "model_module": "@jupyter-widgets/controls",
      "model_module_version": "1.5.0",
      "model_name": "DescriptionStyleModel",
      "state": {
       "description_width": ""
      }
     },
     "8c2e51577cac4f02949d3cb4d2596b8b": {
      "model_module": "@jupyter-widgets/base",
      "model_module_version": "1.2.0",
      "model_name": "LayoutModel",
      "state": {}
     },
     "8ceb672ce9d947d284a68a9346eb6a66": {
      "model_module": "@jupyter-widgets/controls",
      "model_module_version": "1.5.0",
      "model_name": "DescriptionStyleModel",
      "state": {
       "description_width": ""
      }
     },
     "8d41188bea9743028b318df1fb54d8b2": {
      "model_module": "@jupyter-widgets/controls",
      "model_module_version": "1.5.0",
      "model_name": "DescriptionStyleModel",
      "state": {
       "description_width": ""
      }
     },
     "8e01c26616be4e08bd45e03e56ae9ae0": {
      "model_module": "@jupyter-widgets/controls",
      "model_module_version": "1.5.0",
      "model_name": "ProgressStyleModel",
      "state": {
       "description_width": "initial"
      }
     },
     "8ec577968aa84dc8aa989b8b68c73c3f": {
      "model_module": "@jupyter-widgets/controls",
      "model_module_version": "1.5.0",
      "model_name": "DescriptionStyleModel",
      "state": {
       "description_width": ""
      }
     },
     "8ec976149caf41e2a80b6155d1ec7204": {
      "model_module": "@jupyter-widgets/controls",
      "model_module_version": "1.5.0",
      "model_name": "FloatProgressModel",
      "state": {
       "description": "100%",
       "layout": "IPY_MODEL_b4f7461c07e54f9ebab0f2130cbc97b1",
       "max": 188,
       "style": "IPY_MODEL_ee2e0be8f34f45f2bed09c13eecf63f5",
       "value": 188
      }
     },
     "905f28e056474f7c89f2138175727cd1": {
      "model_module": "@jupyter-widgets/base",
      "model_module_version": "1.2.0",
      "model_name": "LayoutModel",
      "state": {}
     },
     "90ffebad75534329a674988f4bb43c03": {
      "model_module": "@jupyter-widgets/controls",
      "model_module_version": "1.5.0",
      "model_name": "DescriptionStyleModel",
      "state": {
       "description_width": ""
      }
     },
     "91a6630bb71f4fa19d0772d285626a86": {
      "model_module": "@jupyter-widgets/controls",
      "model_module_version": "1.5.0",
      "model_name": "FloatProgressModel",
      "state": {
       "description": "100%",
       "layout": "IPY_MODEL_8b2ab0a780af474fa792983195189966",
       "max": 1136,
       "style": "IPY_MODEL_6135599ba03246b5b96d8d0d51ece73b",
       "value": 1136
      }
     },
     "920c94e78cb14f42a5b87dc1d3edd929": {
      "model_module": "@jupyter-widgets/controls",
      "model_module_version": "1.5.0",
      "model_name": "DescriptionStyleModel",
      "state": {
       "description_width": ""
      }
     },
     "928ae6c80e454a00af7142e4ea9763b6": {
      "model_module": "@jupyter-widgets/controls",
      "model_module_version": "1.5.0",
      "model_name": "DescriptionStyleModel",
      "state": {
       "description_width": ""
      }
     },
     "92b51e30d0b248a69f620e98f8551f06": {
      "model_module": "@jupyter-widgets/controls",
      "model_module_version": "1.5.0",
      "model_name": "FloatProgressModel",
      "state": {
       "description": "100%",
       "layout": "IPY_MODEL_456b14c9a438455f8898dab4b66133f0",
       "max": 1379,
       "style": "IPY_MODEL_b048799947664ff6abfdc736e8910b19",
       "value": 1379
      }
     },
     "92c0112aa7e343f4a293c077fbf0e6d4": {
      "model_module": "@jupyter-widgets/controls",
      "model_module_version": "1.5.0",
      "model_name": "DescriptionStyleModel",
      "state": {
       "description_width": ""
      }
     },
     "92efed6a17844752aee90077452c18dd": {
      "model_module": "@jupyter-widgets/base",
      "model_module_version": "1.2.0",
      "model_name": "LayoutModel",
      "state": {}
     },
     "939da5c53aec4beb898710703d1fc960": {
      "model_module": "@jupyter-widgets/controls",
      "model_module_version": "1.5.0",
      "model_name": "HTMLModel",
      "state": {
       "layout": "IPY_MODEL_4b87fc8179854f0ea2081479feafc48d",
       "style": "IPY_MODEL_b2ee7fbfb1e94635bded6ac8e1fdd4cf",
       "value": " 3/3 [40:20&lt;00:00, 806.82s/it]"
      }
     },
     "94ebaf62017646f5b25c365fa0ee2adb": {
      "model_module": "@jupyter-widgets/controls",
      "model_module_version": "1.5.0",
      "model_name": "DescriptionStyleModel",
      "state": {
       "description_width": ""
      }
     },
     "9535426cee4c44f2a2f819fdecaafc10": {
      "model_module": "@jupyter-widgets/controls",
      "model_module_version": "1.5.0",
      "model_name": "HBoxModel",
      "state": {
       "children": [
        "IPY_MODEL_89effacaf8e645e28b86889224584ff8",
        "IPY_MODEL_e29e2df5549d45d0a316d78b8a7589e2"
       ],
       "layout": "IPY_MODEL_f8f478806d094e26ba6e907c8d4ee92a"
      }
     },
     "9550642804d64dee8c3826cc974fe746": {
      "model_module": "@jupyter-widgets/controls",
      "model_module_version": "1.5.0",
      "model_name": "FloatProgressModel",
      "state": {
       "description": "100%",
       "layout": "IPY_MODEL_5f5c13e6a3c242fba79ff013816ac631",
       "max": 972,
       "style": "IPY_MODEL_5b97fec7ffd94cae97f9c9ac92c649f7",
       "value": 972
      }
     },
     "965034bcecfe44ccbb520a1dac0c02a8": {
      "model_module": "@jupyter-widgets/controls",
      "model_module_version": "1.5.0",
      "model_name": "FloatProgressModel",
      "state": {
       "description": "100%",
       "layout": "IPY_MODEL_b1f80a0d390b40bda12e533c26f0761f",
       "max": 86,
       "style": "IPY_MODEL_d6341f7ee4284f5f9ab3f593cd4c131c",
       "value": 86
      }
     },
     "9703b9f455154307b9e8ea34542e1b47": {
      "model_module": "@jupyter-widgets/controls",
      "model_module_version": "1.5.0",
      "model_name": "HTMLModel",
      "state": {
       "layout": "IPY_MODEL_82cf63fc8a5142ac9d02fdabe60458b9",
       "style": "IPY_MODEL_9c3297cf19a84fe1a91c799a39b5a563",
       "value": " 15/15 [01:04&lt;00:00,  3.07s/it]"
      }
     },
     "972b60d896a14e4e9e716e427e29836e": {
      "model_module": "@jupyter-widgets/controls",
      "model_module_version": "1.5.0",
      "model_name": "DescriptionStyleModel",
      "state": {
       "description_width": ""
      }
     },
     "9783312765084e108886b84aeaacfc4e": {
      "model_module": "@jupyter-widgets/base",
      "model_module_version": "1.2.0",
      "model_name": "LayoutModel",
      "state": {}
     },
     "984db60325664d74ae12a4e76ff545f7": {
      "model_module": "@jupyter-widgets/base",
      "model_module_version": "1.2.0",
      "model_name": "LayoutModel",
      "state": {}
     },
     "98aba922826f4df6b9469dcde4bce888": {
      "model_module": "@jupyter-widgets/base",
      "model_module_version": "1.2.0",
      "model_name": "LayoutModel",
      "state": {}
     },
     "9a5242264b984cdda78f5ba26d2236e9": {
      "model_module": "@jupyter-widgets/base",
      "model_module_version": "1.2.0",
      "model_name": "LayoutModel",
      "state": {}
     },
     "9a71188563f34a31bf663d3cdd366490": {
      "model_module": "@jupyter-widgets/controls",
      "model_module_version": "1.5.0",
      "model_name": "ProgressStyleModel",
      "state": {
       "description_width": "initial"
      }
     },
     "9a9b2f5d299a467aa39dafbb141a2e8e": {
      "model_module": "@jupyter-widgets/base",
      "model_module_version": "1.2.0",
      "model_name": "LayoutModel",
      "state": {}
     },
     "9b54eb402f304d9eaf34fc6a3e7acb30": {
      "model_module": "@jupyter-widgets/controls",
      "model_module_version": "1.5.0",
      "model_name": "HTMLModel",
      "state": {
       "layout": "IPY_MODEL_984db60325664d74ae12a4e76ff545f7",
       "style": "IPY_MODEL_b78637d9ae394e5fb8c29b255d55352f",
       "value": " 1165/1165 [00:00&lt;00:00, 20980.79it/s]"
      }
     },
     "9bb007bc9ab642e397e5211113e3d58d": {
      "model_module": "@jupyter-widgets/base",
      "model_module_version": "1.2.0",
      "model_name": "LayoutModel",
      "state": {}
     },
     "9bbe3520ed134b3f843b5ff868c99c01": {
      "model_module": "@jupyter-widgets/base",
      "model_module_version": "1.2.0",
      "model_name": "LayoutModel",
      "state": {}
     },
     "9c3297cf19a84fe1a91c799a39b5a563": {
      "model_module": "@jupyter-widgets/controls",
      "model_module_version": "1.5.0",
      "model_name": "DescriptionStyleModel",
      "state": {
       "description_width": ""
      }
     },
     "9ccd695257a84b768873f832c54df0cd": {
      "model_module": "@jupyter-widgets/controls",
      "model_module_version": "1.5.0",
      "model_name": "ProgressStyleModel",
      "state": {
       "description_width": "initial"
      }
     },
     "9dba7bdb49dd4ba297bf7c2ba3a0f2e2": {
      "model_module": "@jupyter-widgets/controls",
      "model_module_version": "1.5.0",
      "model_name": "DescriptionStyleModel",
      "state": {
       "description_width": ""
      }
     },
     "9dd4d4c640424801b974920c21b7ae9c": {
      "model_module": "@jupyter-widgets/base",
      "model_module_version": "1.2.0",
      "model_name": "LayoutModel",
      "state": {}
     },
     "9e6942bd04d04fc8854616bfda4d6c95": {
      "model_module": "@jupyter-widgets/controls",
      "model_module_version": "1.5.0",
      "model_name": "HTMLModel",
      "state": {
       "layout": "IPY_MODEL_c434260711284936917d0246597c381c",
       "style": "IPY_MODEL_a82b83b899db49afb6bf023ccf85dd64",
       "value": " 1030/1030 [00:00&lt;00:00, 17384.84it/s]"
      }
     },
     "9ea6ea923ae44a118b0f4d0e83fadd8e": {
      "model_module": "@jupyter-widgets/base",
      "model_module_version": "1.2.0",
      "model_name": "LayoutModel",
      "state": {}
     },
     "9f73e5beb4964b86a7391de19086f03d": {
      "model_module": "@jupyter-widgets/controls",
      "model_module_version": "1.5.0",
      "model_name": "FloatProgressModel",
      "state": {
       "description": "100%",
       "layout": "IPY_MODEL_eba10eee5d0c479f87d4929d96341062",
       "max": 1301,
       "style": "IPY_MODEL_51824b903726410f93e89a8529932732",
       "value": 1301
      }
     },
     "9f7e7c637010447b88fafb3b174be537": {
      "model_module": "@jupyter-widgets/controls",
      "model_module_version": "1.5.0",
      "model_name": "ProgressStyleModel",
      "state": {
       "description_width": "initial"
      }
     },
     "9fb6554002df4c839177975a26031ee4": {
      "model_module": "@jupyter-widgets/base",
      "model_module_version": "1.2.0",
      "model_name": "LayoutModel",
      "state": {}
     },
     "9fbd003e7e784b099b8e5698f3cac745": {
      "model_module": "@jupyter-widgets/controls",
      "model_module_version": "1.5.0",
      "model_name": "HTMLModel",
      "state": {
       "layout": "IPY_MODEL_30c7fcb90394461d817c569bf7825274",
       "style": "IPY_MODEL_4ad4d7a166004c9eaa57b7e6fdd1659f",
       "value": " 1136/1136 [00:00&lt;00:00, 21655.01it/s]"
      }
     },
     "9fccf64735a24cefb4e83c54a4e1b7f4": {
      "model_module": "@jupyter-widgets/base",
      "model_module_version": "1.2.0",
      "model_name": "LayoutModel",
      "state": {}
     },
     "a0526cf29ff248ba8ba76c18892192f3": {
      "model_module": "@jupyter-widgets/controls",
      "model_module_version": "1.5.0",
      "model_name": "DescriptionStyleModel",
      "state": {
       "description_width": ""
      }
     },
     "a0571c3f7efd4c99bce0f3c6e0143b7c": {
      "model_module": "@jupyter-widgets/controls",
      "model_module_version": "1.5.0",
      "model_name": "HTMLModel",
      "state": {
       "layout": "IPY_MODEL_e82cfd136efb42e8a174a8cafb4bacbd",
       "style": "IPY_MODEL_29f2492ed4124354aea119b024160d15",
       "value": " 125/125 [00:13&lt;00:00,  6.21it/s]"
      }
     },
     "a066b4c6ea0e42a4a55b5e21d141c8c1": {
      "model_module": "@jupyter-widgets/controls",
      "model_module_version": "1.5.0",
      "model_name": "DescriptionStyleModel",
      "state": {
       "description_width": ""
      }
     },
     "a07e18b3e9e044dbb6342f0451110d32": {
      "model_module": "@jupyter-widgets/controls",
      "model_module_version": "1.5.0",
      "model_name": "ProgressStyleModel",
      "state": {
       "description_width": "initial"
      }
     },
     "a0e2fa1786ec4d36ac1534bbcee2cf29": {
      "model_module": "@jupyter-widgets/controls",
      "model_module_version": "1.5.0",
      "model_name": "ProgressStyleModel",
      "state": {
       "description_width": "initial"
      }
     },
     "a26c821a5e634891abec636d59aed5f5": {
      "model_module": "@jupyter-widgets/controls",
      "model_module_version": "1.5.0",
      "model_name": "HTMLModel",
      "state": {
       "layout": "IPY_MODEL_d731f309d69343629ad43607a9f0848a",
       "style": "IPY_MODEL_a0526cf29ff248ba8ba76c18892192f3",
       "value": " 1204/1204 [05:13&lt;00:00,  2.81it/s]"
      }
     },
     "a2b28c13db324339bf3398dce4a805e1": {
      "model_module": "@jupyter-widgets/base",
      "model_module_version": "1.2.0",
      "model_name": "LayoutModel",
      "state": {}
     },
     "a2c6463ae21947fdaf03c23841930667": {
      "model_module": "@jupyter-widgets/controls",
      "model_module_version": "1.5.0",
      "model_name": "HBoxModel",
      "state": {
       "children": [
        "IPY_MODEL_55fd6c9f4d994b5592804af408afb9fa",
        "IPY_MODEL_939da5c53aec4beb898710703d1fc960"
       ],
       "layout": "IPY_MODEL_146c734a929248c3bed49c29761c8ec7"
      }
     },
     "a2c6d7573d184daf9669a8fc9922114f": {
      "model_module": "@jupyter-widgets/base",
      "model_module_version": "1.2.0",
      "model_name": "LayoutModel",
      "state": {}
     },
     "a3a61786f32e45dd92d253d79e3df30b": {
      "model_module": "@jupyter-widgets/base",
      "model_module_version": "1.2.0",
      "model_name": "LayoutModel",
      "state": {}
     },
     "a482668e5852458e8f302783b4fc6b36": {
      "model_module": "@jupyter-widgets/controls",
      "model_module_version": "1.5.0",
      "model_name": "FloatProgressModel",
      "state": {
       "description": "100%",
       "layout": "IPY_MODEL_2073c6b347c74486ac936d3ccbe76c7a",
       "max": 15,
       "style": "IPY_MODEL_acca913582534374bdd2953bb62eb83c",
       "value": 15
      }
     },
     "a4be980a5cef4255b4ed589862137897": {
      "model_module": "@jupyter-widgets/controls",
      "model_module_version": "1.5.0",
      "model_name": "FloatProgressModel",
      "state": {
       "description": "100%",
       "layout": "IPY_MODEL_ffef219d7bfd454ab4435765c8319612",
       "max": 1301,
       "style": "IPY_MODEL_d057868ed0be489786d3d02433c30b63",
       "value": 1301
      }
     },
     "a576d89590594d299dd18abfa4eea308": {
      "model_module": "@jupyter-widgets/base",
      "model_module_version": "1.2.0",
      "model_name": "LayoutModel",
      "state": {}
     },
     "a58698e6100b41ee8667ab3f99e570b0": {
      "model_module": "@jupyter-widgets/controls",
      "model_module_version": "1.5.0",
      "model_name": "ProgressStyleModel",
      "state": {
       "description_width": "initial"
      }
     },
     "a77c7c5dfb464af5902243ed6872e7e8": {
      "model_module": "@jupyter-widgets/base",
      "model_module_version": "1.2.0",
      "model_name": "LayoutModel",
      "state": {}
     },
     "a82b83b899db49afb6bf023ccf85dd64": {
      "model_module": "@jupyter-widgets/controls",
      "model_module_version": "1.5.0",
      "model_name": "DescriptionStyleModel",
      "state": {
       "description_width": ""
      }
     },
     "a8aa3a0d3b1a46e9a52dad623d7b959d": {
      "model_module": "@jupyter-widgets/controls",
      "model_module_version": "1.5.0",
      "model_name": "ProgressStyleModel",
      "state": {
       "description_width": "initial"
      }
     },
     "aa560c72e9f7402b9b92e186e8ee7c7e": {
      "model_module": "@jupyter-widgets/controls",
      "model_module_version": "1.5.0",
      "model_name": "HTMLModel",
      "state": {
       "layout": "IPY_MODEL_662f5e87b48043a2ae2f3c56cd4648b6",
       "style": "IPY_MODEL_2032a01ee7bb4961a0bdc6320fe402ca",
       "value": " 195/195 [00:36&lt;00:00,  5.17it/s]"
      }
     },
     "aaa9ea566d794656b3d62361ec91ac36": {
      "model_module": "@jupyter-widgets/controls",
      "model_module_version": "1.5.0",
      "model_name": "HBoxModel",
      "state": {
       "children": [
        "IPY_MODEL_70b5daf3d5e64f1f8ca1e84bbd4f825d",
        "IPY_MODEL_578cce3f319947c0a1eca4e541dd4b6c"
       ],
       "layout": "IPY_MODEL_bbf4a31005d94766acdf9940440c5a2d"
      }
     },
     "ab4c391d1d8a4b6ebe04ba3de405be5a": {
      "model_module": "@jupyter-widgets/base",
      "model_module_version": "1.2.0",
      "model_name": "LayoutModel",
      "state": {}
     },
     "abdc4d43fee04865b34ad17a75e9ee83": {
      "model_module": "@jupyter-widgets/controls",
      "model_module_version": "1.5.0",
      "model_name": "DescriptionStyleModel",
      "state": {
       "description_width": ""
      }
     },
     "ac4e5cd75af5444085b97ff2b2790189": {
      "model_module": "@jupyter-widgets/controls",
      "model_module_version": "1.5.0",
      "model_name": "FloatProgressModel",
      "state": {
       "description": "100%",
       "layout": "IPY_MODEL_fec54a15f0134c79b1a487fba37eb159",
       "max": 1204,
       "style": "IPY_MODEL_dffdcbf03a674bb782416c58e78d85cf",
       "value": 1204
      }
     },
     "acca913582534374bdd2953bb62eb83c": {
      "model_module": "@jupyter-widgets/controls",
      "model_module_version": "1.5.0",
      "model_name": "ProgressStyleModel",
      "state": {
       "description_width": "initial"
      }
     },
     "acf6edc7713e4dae98f42fbe241d4271": {
      "model_module": "@jupyter-widgets/controls",
      "model_module_version": "1.5.0",
      "model_name": "FloatProgressModel",
      "state": {
       "description": "100%",
       "layout": "IPY_MODEL_2436e30266444eba883e0752021d3663",
       "max": 125,
       "style": "IPY_MODEL_bd0908557101453fbdeb02f32b0b0346",
       "value": 125
      }
     },
     "ad31f8eebf58407d858dae7f6e386ff0": {
      "model_module": "@jupyter-widgets/base",
      "model_module_version": "1.2.0",
      "model_name": "LayoutModel",
      "state": {}
     },
     "ad98274a9cfb490dbf4b31e9839ab5d8": {
      "model_module": "@jupyter-widgets/controls",
      "model_module_version": "1.5.0",
      "model_name": "ProgressStyleModel",
      "state": {
       "description_width": "initial"
      }
     },
     "ae8bf72134c44ac4815b640146bedaf6": {
      "model_module": "@jupyter-widgets/controls",
      "model_module_version": "1.5.0",
      "model_name": "DescriptionStyleModel",
      "state": {
       "description_width": ""
      }
     },
     "ae94d12f60d1419cb67ed06fd6bd13cd": {
      "model_module": "@jupyter-widgets/controls",
      "model_module_version": "1.5.0",
      "model_name": "ProgressStyleModel",
      "state": {
       "description_width": "initial"
      }
     },
     "ae9c624b88594f77a9bf9cff90ffb9d8": {
      "model_module": "@jupyter-widgets/controls",
      "model_module_version": "1.5.0",
      "model_name": "FloatProgressModel",
      "state": {
       "description": "100%",
       "layout": "IPY_MODEL_2ba4e583915f449b8ca3f401dd2d0eaa",
       "max": 127,
       "style": "IPY_MODEL_7e22376e0e3c47a58696750155487677",
       "value": 127
      }
     },
     "aec2f071b2fd43d5b48d0362d61cfd2a": {
      "model_module": "@jupyter-widgets/controls",
      "model_module_version": "1.5.0",
      "model_name": "FloatProgressModel",
      "state": {
       "bar_style": "success",
       "description": "Ensembles: 100%",
       "layout": "IPY_MODEL_056320166a8143078a74800bb128700f",
       "max": 3,
       "style": "IPY_MODEL_537e630d2c8641eabb2a07b62d669741",
       "value": 3
      }
     },
     "aec5e2f4d0194404a4051bf3c4278ed7": {
      "model_module": "@jupyter-widgets/controls",
      "model_module_version": "1.5.0",
      "model_name": "FloatProgressModel",
      "state": {
       "bar_style": "success",
       "description": "Weighted trajectories: 100%",
       "layout": "IPY_MODEL_c860802279394b5dbc99b4fb678a5936",
       "max": 20101,
       "style": "IPY_MODEL_30ced080967f4b7da9ad85fe60bfa554",
       "value": 20101
      }
     },
     "af06af26b9cb46a0bdec68a6c36fd225": {
      "model_module": "@jupyter-widgets/controls",
      "model_module_version": "1.5.0",
      "model_name": "HTMLModel",
      "state": {
       "layout": "IPY_MODEL_18b58c1a98d14ab5b93fbee8e1228b17",
       "style": "IPY_MODEL_8d41188bea9743028b318df1fb54d8b2",
       "value": " 3/3 [04:54&lt;00:00, 98.19s/it]"
      }
     },
     "b048799947664ff6abfdc736e8910b19": {
      "model_module": "@jupyter-widgets/controls",
      "model_module_version": "1.5.0",
      "model_name": "ProgressStyleModel",
      "state": {
       "description_width": "initial"
      }
     },
     "b0c86c847bf0482f8ccdf5c4c42983f2": {
      "model_module": "@jupyter-widgets/controls",
      "model_module_version": "1.5.0",
      "model_name": "HBoxModel",
      "state": {
       "children": [
        "IPY_MODEL_11d4509bc3304df9a0b947728f9a31a1",
        "IPY_MODEL_ebf488c9f6854deaa24df1e9e9d58019"
       ],
       "layout": "IPY_MODEL_6e706842ad9d41f4976fbd96a382cd5e"
      }
     },
     "b1602e6accd642e89f04a0cbd18c717f": {
      "model_module": "@jupyter-widgets/controls",
      "model_module_version": "1.5.0",
      "model_name": "FloatProgressModel",
      "state": {
       "description": "Ensembles: 100%",
       "layout": "IPY_MODEL_ba8425e2c6c042a7b2ed79e4d40470f6",
       "max": 3,
       "style": "IPY_MODEL_9a71188563f34a31bf663d3cdd366490",
       "value": 3
      }
     },
     "b1cb9d5374c1493784ca2fee443596b0": {
      "model_module": "@jupyter-widgets/controls",
      "model_module_version": "1.5.0",
      "model_name": "HTMLModel",
      "state": {
       "layout": "IPY_MODEL_874254c585fa4b46af9ea199acdce117",
       "style": "IPY_MODEL_90ffebad75534329a674988f4bb43c03",
       "value": " 1283/1283 [00:00&lt;00:00, 17267.10it/s]"
      }
     },
     "b1f80a0d390b40bda12e533c26f0761f": {
      "model_module": "@jupyter-widgets/base",
      "model_module_version": "1.2.0",
      "model_name": "LayoutModel",
      "state": {}
     },
     "b2ee7fbfb1e94635bded6ac8e1fdd4cf": {
      "model_module": "@jupyter-widgets/controls",
      "model_module_version": "1.5.0",
      "model_name": "DescriptionStyleModel",
      "state": {
       "description_width": ""
      }
     },
     "b344ed3cb71648dd833dc1e2dc42ca63": {
      "model_module": "@jupyter-widgets/base",
      "model_module_version": "1.2.0",
      "model_name": "LayoutModel",
      "state": {}
     },
     "b3859baf475744b0885bdf76c451d4c9": {
      "model_module": "@jupyter-widgets/base",
      "model_module_version": "1.2.0",
      "model_name": "LayoutModel",
      "state": {}
     },
     "b4111e65ca664d42aa305bea6cd9fa53": {
      "model_module": "@jupyter-widgets/controls",
      "model_module_version": "1.5.0",
      "model_name": "FloatProgressModel",
      "state": {
       "description": "100%",
       "layout": "IPY_MODEL_5ea41dd0e75944eca32601eb26014f95",
       "max": 1030,
       "style": "IPY_MODEL_f11d78d4a86f42309280391f5a8cb109",
       "value": 1030
      }
     },
     "b45805e82ab14d82bd51c45b5931d585": {
      "model_module": "@jupyter-widgets/controls",
      "model_module_version": "1.5.0",
      "model_name": "HTMLModel",
      "state": {
       "layout": "IPY_MODEL_a2c6d7573d184daf9669a8fc9922114f",
       "style": "IPY_MODEL_9dba7bdb49dd4ba297bf7c2ba3a0f2e2",
       "value": " 114/114 [00:25&lt;00:00,  2.60it/s]"
      }
     },
     "b45ebba2bdf74e48a5c3a56fef8ae31f": {
      "model_module": "@jupyter-widgets/controls",
      "model_module_version": "1.5.0",
      "model_name": "FloatProgressModel",
      "state": {
       "description": "Ensembles: 100%",
       "layout": "IPY_MODEL_f337349026884871ad56dd4a2fca76fb",
       "max": 3,
       "style": "IPY_MODEL_30cfde8053a2476296865db6eaaec7f1",
       "value": 3
      }
     },
     "b4f38a57a8544482974895c252232c04": {
      "model_module": "@jupyter-widgets/base",
      "model_module_version": "1.2.0",
      "model_name": "LayoutModel",
      "state": {}
     },
     "b4f7461c07e54f9ebab0f2130cbc97b1": {
      "model_module": "@jupyter-widgets/base",
      "model_module_version": "1.2.0",
      "model_name": "LayoutModel",
      "state": {}
     },
     "b56d02e55a814c299c32dc7ced938b5b": {
      "model_module": "@jupyter-widgets/controls",
      "model_module_version": "1.5.0",
      "model_name": "HTMLModel",
      "state": {
       "layout": "IPY_MODEL_f9c7e19063b34f979d1c767b292685e9",
       "style": "IPY_MODEL_8ba24263be4844f3871f36fa98da17ca",
       "value": " 128/128 [00:12&lt;00:00, 26.60it/s]"
      }
     },
     "b5942d426cbc4ecaaa82699df476c29c": {
      "model_module": "@jupyter-widgets/base",
      "model_module_version": "1.2.0",
      "model_name": "LayoutModel",
      "state": {}
     },
     "b5d08571344d4167a3e9ea2ac14c3fe6": {
      "model_module": "@jupyter-widgets/controls",
      "model_module_version": "1.5.0",
      "model_name": "FloatProgressModel",
      "state": {
       "bar_style": "success",
       "description": "Crossing probability: 100%",
       "layout": "IPY_MODEL_ecd183c9ce244ec5b3d36817416b65b9",
       "max": 3,
       "style": "IPY_MODEL_b6e7d39744be48c6a2a54e452fa5b460",
       "value": 3
      }
     },
     "b630667798b54923bec8ad2aba0f0d48": {
      "model_module": "@jupyter-widgets/base",
      "model_module_version": "1.2.0",
      "model_name": "LayoutModel",
      "state": {}
     },
     "b6789a0da5dd4fb8940b3b1c4f567fe7": {
      "model_module": "@jupyter-widgets/controls",
      "model_module_version": "1.5.0",
      "model_name": "ProgressStyleModel",
      "state": {
       "description_width": "initial"
      }
     },
     "b6e7d39744be48c6a2a54e452fa5b460": {
      "model_module": "@jupyter-widgets/controls",
      "model_module_version": "1.5.0",
      "model_name": "ProgressStyleModel",
      "state": {
       "description_width": "initial"
      }
     },
     "b78637d9ae394e5fb8c29b255d55352f": {
      "model_module": "@jupyter-widgets/controls",
      "model_module_version": "1.5.0",
      "model_name": "DescriptionStyleModel",
      "state": {
       "description_width": ""
      }
     },
     "b7c23cfb20314918a6515b9b3f3bc230": {
      "model_module": "@jupyter-widgets/base",
      "model_module_version": "1.2.0",
      "model_name": "LayoutModel",
      "state": {}
     },
     "b81736ffd2b645069b6f811404f08001": {
      "model_module": "@jupyter-widgets/base",
      "model_module_version": "1.2.0",
      "model_name": "LayoutModel",
      "state": {}
     },
     "b88b42cab75c44a09530672d0ca805f3": {
      "model_module": "@jupyter-widgets/base",
      "model_module_version": "1.2.0",
      "model_name": "LayoutModel",
      "state": {}
     },
     "b92ef101df1c42f1b660069ec9495c28": {
      "model_module": "@jupyter-widgets/controls",
      "model_module_version": "1.5.0",
      "model_name": "DescriptionStyleModel",
      "state": {
       "description_width": ""
      }
     },
     "b937f10be40d418abf3ed930b82007e5": {
      "model_module": "@jupyter-widgets/controls",
      "model_module_version": "1.5.0",
      "model_name": "DescriptionStyleModel",
      "state": {
       "description_width": ""
      }
     },
     "b9a553c9b0ba4af38029ee0fba4b1c09": {
      "model_module": "@jupyter-widgets/controls",
      "model_module_version": "1.5.0",
      "model_name": "DescriptionStyleModel",
      "state": {
       "description_width": ""
      }
     },
     "ba43266b72b046c0b21203f56f0b51ca": {
      "model_module": "@jupyter-widgets/base",
      "model_module_version": "1.2.0",
      "model_name": "LayoutModel",
      "state": {}
     },
     "ba8425e2c6c042a7b2ed79e4d40470f6": {
      "model_module": "@jupyter-widgets/base",
      "model_module_version": "1.2.0",
      "model_name": "LayoutModel",
      "state": {}
     },
     "bba5dd9012224246bbbbe77d9012d01e": {
      "model_module": "@jupyter-widgets/controls",
      "model_module_version": "1.5.0",
      "model_name": "DescriptionStyleModel",
      "state": {
       "description_width": ""
      }
     },
     "bbf4a31005d94766acdf9940440c5a2d": {
      "model_module": "@jupyter-widgets/base",
      "model_module_version": "1.2.0",
      "model_name": "LayoutModel",
      "state": {}
     },
     "bd0908557101453fbdeb02f32b0b0346": {
      "model_module": "@jupyter-widgets/controls",
      "model_module_version": "1.5.0",
      "model_name": "ProgressStyleModel",
      "state": {
       "description_width": "initial"
      }
     },
     "bdb2e3e2f4b0428dbf905e02233e1b80": {
      "model_module": "@jupyter-widgets/base",
      "model_module_version": "1.2.0",
      "model_name": "LayoutModel",
      "state": {}
     },
     "bdd7bb7d3a6645ee868feda024ebfe8c": {
      "model_module": "@jupyter-widgets/controls",
      "model_module_version": "1.5.0",
      "model_name": "DescriptionStyleModel",
      "state": {
       "description_width": ""
      }
     },
     "be4cd47a81254189aa7321b77d52297d": {
      "model_module": "@jupyter-widgets/controls",
      "model_module_version": "1.5.0",
      "model_name": "DescriptionStyleModel",
      "state": {
       "description_width": ""
      }
     },
     "bebd5b880b7749399a4bc1fc11e40a8b": {
      "model_module": "@jupyter-widgets/controls",
      "model_module_version": "1.5.0",
      "model_name": "FloatProgressModel",
      "state": {
       "description": "100%",
       "layout": "IPY_MODEL_140b26a2236e491198d05fa4a700b59a",
       "max": 1136,
       "style": "IPY_MODEL_1df499a4b113456f9b588532bca18c6e",
       "value": 1136
      }
     },
     "bf30a0d1adc143f184050c6b3abb77a9": {
      "model_module": "@jupyter-widgets/controls",
      "model_module_version": "1.5.0",
      "model_name": "ProgressStyleModel",
      "state": {
       "description_width": "initial"
      }
     },
     "c0d66b7ae0514143a1125e5e7029f2f9": {
      "model_module": "@jupyter-widgets/controls",
      "model_module_version": "1.5.0",
      "model_name": "HTMLModel",
      "state": {
       "layout": "IPY_MODEL_6f0ae26fbcbc4e42a6f1f7ce6e533555",
       "style": "IPY_MODEL_928ae6c80e454a00af7142e4ea9763b6",
       "value": " 1136/1136 [03:50&lt;00:00,  4.34it/s]"
      }
     },
     "c18bc7998f9f459d99a4fc678a70648a": {
      "model_module": "@jupyter-widgets/controls",
      "model_module_version": "1.5.0",
      "model_name": "DescriptionStyleModel",
      "state": {
       "description_width": ""
      }
     },
     "c22430bee2994b2daece821d8d3c4265": {
      "model_module": "@jupyter-widgets/controls",
      "model_module_version": "1.5.0",
      "model_name": "DescriptionStyleModel",
      "state": {
       "description_width": ""
      }
     },
     "c263292468834e558aa8135e98fdcf5d": {
      "model_module": "@jupyter-widgets/controls",
      "model_module_version": "1.5.0",
      "model_name": "HTMLModel",
      "state": {
       "layout": "IPY_MODEL_513e6a5ed23f47cb89bc2465955f3d13",
       "style": "IPY_MODEL_fea0a1ac1d0f41f9b28b6bd3070dc18a",
       "value": " 3/3 [01:16&lt;00:00, 23.14s/it]"
      }
     },
     "c34f293d37fc4ae290df6bc6fb32e116": {
      "model_module": "@jupyter-widgets/controls",
      "model_module_version": "1.5.0",
      "model_name": "ProgressStyleModel",
      "state": {
       "description_width": "initial"
      }
     },
     "c3dda86f36b240b792ce2b3a2847b3c0": {
      "model_module": "@jupyter-widgets/base",
      "model_module_version": "1.2.0",
      "model_name": "LayoutModel",
      "state": {}
     },
     "c41cbd509acd4cafb6f85a7cdc6c9250": {
      "model_module": "@jupyter-widgets/base",
      "model_module_version": "1.2.0",
      "model_name": "LayoutModel",
      "state": {}
     },
     "c434260711284936917d0246597c381c": {
      "model_module": "@jupyter-widgets/base",
      "model_module_version": "1.2.0",
      "model_name": "LayoutModel",
      "state": {}
     },
     "c47072d94b044541a55196ff5bee941e": {
      "model_module": "@jupyter-widgets/base",
      "model_module_version": "1.2.0",
      "model_name": "LayoutModel",
      "state": {}
     },
     "c60c3989410846879569f40b992554eb": {
      "model_module": "@jupyter-widgets/base",
      "model_module_version": "1.2.0",
      "model_name": "LayoutModel",
      "state": {}
     },
     "c61252989dda44f2b6ed3b1fc1ddbdfd": {
      "model_module": "@jupyter-widgets/controls",
      "model_module_version": "1.5.0",
      "model_name": "ProgressStyleModel",
      "state": {
       "description_width": "initial"
      }
     },
     "c6376e9a6cd841d6a4f6ef3c25b46aa1": {
      "model_module": "@jupyter-widgets/controls",
      "model_module_version": "1.5.0",
      "model_name": "HTMLModel",
      "state": {
       "layout": "IPY_MODEL_701c7ef0232047649bdd9c832629053f",
       "style": "IPY_MODEL_10fe30a557134a218ab589ca957779d7",
       "value": " 188/188 [00:48&lt;00:00,  5.98it/s]"
      }
     },
     "c775c2fc6d8c468698a819b79c599582": {
      "model_module": "@jupyter-widgets/base",
      "model_module_version": "1.2.0",
      "model_name": "LayoutModel",
      "state": {}
     },
     "c783b34407d247f7ad2011db8edc70c0": {
      "model_module": "@jupyter-widgets/controls",
      "model_module_version": "1.5.0",
      "model_name": "ProgressStyleModel",
      "state": {
       "description_width": "initial"
      }
     },
     "c836892029df4912b3e59d46f68d577f": {
      "model_module": "@jupyter-widgets/controls",
      "model_module_version": "1.5.0",
      "model_name": "FloatProgressModel",
      "state": {
       "description": "100%",
       "layout": "IPY_MODEL_a576d89590594d299dd18abfa4eea308",
       "max": 104,
       "style": "IPY_MODEL_c99df1a0d6b844dab84331b69863ee10",
       "value": 104
      }
     },
     "c860802279394b5dbc99b4fb678a5936": {
      "model_module": "@jupyter-widgets/base",
      "model_module_version": "1.2.0",
      "model_name": "LayoutModel",
      "state": {}
     },
     "c8b807a6cef045cea7d7f3609e541fe3": {
      "model_module": "@jupyter-widgets/controls",
      "model_module_version": "1.5.0",
      "model_name": "HTMLModel",
      "state": {
       "layout": "IPY_MODEL_5a0d0714a30444aabb6996ef45832309",
       "style": "IPY_MODEL_6e7781252ff8475aad8d4c4a27eb76e4",
       "value": " 127/127 [00:12&lt;00:00,  9.75it/s]"
      }
     },
     "c8da01b2ada1401cb4a37207cca9e4b4": {
      "model_module": "@jupyter-widgets/controls",
      "model_module_version": "1.5.0",
      "model_name": "HTMLModel",
      "state": {
       "layout": "IPY_MODEL_3aeba62c29c84287aabcc4e94bb72482",
       "style": "IPY_MODEL_01ca1c98f1da47ce827775bd252ae6d2",
       "value": " 180/180 [00:46&lt;00:00,  6.70it/s]"
      }
     },
     "c95add0a743145e4948bad7f1a660705": {
      "model_module": "@jupyter-widgets/controls",
      "model_module_version": "1.5.0",
      "model_name": "DescriptionStyleModel",
      "state": {
       "description_width": ""
      }
     },
     "c999c32dfcce4b86867712b0f33d02ad": {
      "model_module": "@jupyter-widgets/controls",
      "model_module_version": "1.5.0",
      "model_name": "HTMLModel",
      "state": {
       "layout": "IPY_MODEL_80ec63762fe14d1cb98f99994e009af2",
       "style": "IPY_MODEL_efeb7042cd3947a88b1f306d7f321586",
       "value": " 972/972 [00:00&lt;00:00, 24270.80it/s]"
      }
     },
     "c99df1a0d6b844dab84331b69863ee10": {
      "model_module": "@jupyter-widgets/controls",
      "model_module_version": "1.5.0",
      "model_name": "ProgressStyleModel",
      "state": {
       "description_width": "initial"
      }
     },
     "ca2f97df366c44cc99d44bc318ca9c25": {
      "model_module": "@jupyter-widgets/base",
      "model_module_version": "1.2.0",
      "model_name": "LayoutModel",
      "state": {}
     },
     "ca4bf7c48b924debba3790a1baa1af3f": {
      "model_module": "@jupyter-widgets/controls",
      "model_module_version": "1.5.0",
      "model_name": "ProgressStyleModel",
      "state": {
       "description_width": "initial"
      }
     },
     "cc937b32edc845ce8d12df42f464d9e8": {
      "model_module": "@jupyter-widgets/controls",
      "model_module_version": "1.5.0",
      "model_name": "HTMLModel",
      "state": {
       "layout": "IPY_MODEL_9fccf64735a24cefb4e83c54a4e1b7f4",
       "style": "IPY_MODEL_920c94e78cb14f42a5b87dc1d3edd929",
       "value": " 195/195 [00:46&lt;00:00,  4.64it/s]"
      }
     },
     "cd84a09f5caf415ab99a9f43b929565e": {
      "model_module": "@jupyter-widgets/controls",
      "model_module_version": "1.5.0",
      "model_name": "HTMLModel",
      "state": {
       "layout": "IPY_MODEL_3fda701c18df4cd58fb2db1098c6a188",
       "style": "IPY_MODEL_b92ef101df1c42f1b660069ec9495c28",
       "value": " 3/3 [01:19&lt;00:00, 24.21s/it]"
      }
     },
     "ce5c4e2a7878461f89a19212c482e0e0": {
      "model_module": "@jupyter-widgets/controls",
      "model_module_version": "1.5.0",
      "model_name": "HTMLModel",
      "state": {
       "layout": "IPY_MODEL_115b4ff509804bcf9163b0829df07c0c",
       "style": "IPY_MODEL_7630463d714147828816ce8f4ea8897f",
       "value": " 1379/1379 [00:00&lt;00:00, 18248.94it/s]"
      }
     },
     "cf0cd7d27157482aac0d8344394c7e28": {
      "model_module": "@jupyter-widgets/controls",
      "model_module_version": "1.5.0",
      "model_name": "ProgressStyleModel",
      "state": {
       "description_width": "initial"
      }
     },
     "cf3746b662f547289215db2fd37aaa65": {
      "model_module": "@jupyter-widgets/controls",
      "model_module_version": "1.5.0",
      "model_name": "HTMLModel",
      "state": {
       "layout": "IPY_MODEL_39e8a4fa1caa409a9ad76da3482b396b",
       "style": "IPY_MODEL_be4cd47a81254189aa7321b77d52297d",
       "value": " 1204/1204 [00:00&lt;00:00, 17860.35it/s]"
      }
     },
     "cfc3f74b3740455c9ffa87c863c7e366": {
      "model_module": "@jupyter-widgets/base",
      "model_module_version": "1.2.0",
      "model_name": "LayoutModel",
      "state": {}
     },
     "cff26c48974744b0aa572a1ab422e296": {
      "model_module": "@jupyter-widgets/controls",
      "model_module_version": "1.5.0",
      "model_name": "HBoxModel",
      "state": {
       "children": [
        "IPY_MODEL_64e2597a8cb44abca56351ffef84be41",
        "IPY_MODEL_476cb7cebfba45fcb8cf5dad0b3d2a0f"
       ],
       "layout": "IPY_MODEL_a2b28c13db324339bf3398dce4a805e1"
      }
     },
     "d057868ed0be489786d3d02433c30b63": {
      "model_module": "@jupyter-widgets/controls",
      "model_module_version": "1.5.0",
      "model_name": "ProgressStyleModel",
      "state": {
       "description_width": "initial"
      }
     },
     "d0c719ccc6db465db346772a482bdd67": {
      "model_module": "@jupyter-widgets/base",
      "model_module_version": "1.2.0",
      "model_name": "LayoutModel",
      "state": {}
     },
     "d23558c2760243719dfcbd5f1525ad67": {
      "model_module": "@jupyter-widgets/base",
      "model_module_version": "1.2.0",
      "model_name": "LayoutModel",
      "state": {}
     },
     "d2804fdcb0954d17b93ca3ff732c154e": {
      "model_module": "@jupyter-widgets/controls",
      "model_module_version": "1.5.0",
      "model_name": "DescriptionStyleModel",
      "state": {
       "description_width": ""
      }
     },
     "d2b7d833cc13445199d29f03183289cd": {
      "model_module": "@jupyter-widgets/controls",
      "model_module_version": "1.5.0",
      "model_name": "DescriptionStyleModel",
      "state": {
       "description_width": ""
      }
     },
     "d33f4f1ecf09446f9c7c0df1f4eddb84": {
      "model_module": "@jupyter-widgets/base",
      "model_module_version": "1.2.0",
      "model_name": "LayoutModel",
      "state": {}
     },
     "d373dbd7c6274afbbe1dd7119ee0e82c": {
      "model_module": "@jupyter-widgets/controls",
      "model_module_version": "1.5.0",
      "model_name": "FloatProgressModel",
      "state": {
       "description": "100%",
       "layout": "IPY_MODEL_5005cbd2aea54851974a1197a3cf88f2",
       "max": 1204,
       "style": "IPY_MODEL_645cee3649364574a14bdc36a3409b09",
       "value": 1204
      }
     },
     "d3c37fb9aac84596a59cff7d7542a3c9": {
      "model_module": "@jupyter-widgets/controls",
      "model_module_version": "1.5.0",
      "model_name": "FloatProgressModel",
      "state": {
       "bar_style": "success",
       "description": "Flux: 100%",
       "layout": "IPY_MODEL_dee079d6e7c3424c8e29469ec34e285a",
       "max": 3,
       "style": "IPY_MODEL_7c74833e061f4beda2619c14d184ccee",
       "value": 3
      }
     },
     "d3c440a8820145cb9451bc8e17dfb7b3": {
      "model_module": "@jupyter-widgets/base",
      "model_module_version": "1.2.0",
      "model_name": "LayoutModel",
      "state": {}
     },
     "d3c5f4af37014d25a750f2fd0399ef5f": {
      "model_module": "@jupyter-widgets/controls",
      "model_module_version": "1.5.0",
      "model_name": "FloatProgressModel",
      "state": {
       "description": "100%",
       "layout": "IPY_MODEL_3b084823d6f84af496eb6bdefaeb8586",
       "max": 114,
       "style": "IPY_MODEL_c34f293d37fc4ae290df6bc6fb32e116",
       "value": 114
      }
     },
     "d45b55a0e0584467b3180580e205d326": {
      "model_module": "@jupyter-widgets/controls",
      "model_module_version": "1.5.0",
      "model_name": "ProgressStyleModel",
      "state": {
       "description_width": "initial"
      }
     },
     "d4f34d30fb734d059956b9de47e7940a": {
      "model_module": "@jupyter-widgets/base",
      "model_module_version": "1.2.0",
      "model_name": "LayoutModel",
      "state": {}
     },
     "d4fbe52239754b91a01440145c53756a": {
      "model_module": "@jupyter-widgets/base",
      "model_module_version": "1.2.0",
      "model_name": "LayoutModel",
      "state": {}
     },
     "d5004227231d4f288a0e0e93ffb8b60b": {
      "model_module": "@jupyter-widgets/base",
      "model_module_version": "1.2.0",
      "model_name": "LayoutModel",
      "state": {}
     },
     "d6341f7ee4284f5f9ab3f593cd4c131c": {
      "model_module": "@jupyter-widgets/controls",
      "model_module_version": "1.5.0",
      "model_name": "ProgressStyleModel",
      "state": {
       "description_width": "initial"
      }
     },
     "d731f309d69343629ad43607a9f0848a": {
      "model_module": "@jupyter-widgets/base",
      "model_module_version": "1.2.0",
      "model_name": "LayoutModel",
      "state": {}
     },
     "d8259e381afd477ab722bfd40b05e18e": {
      "model_module": "@jupyter-widgets/controls",
      "model_module_version": "1.5.0",
      "model_name": "DescriptionStyleModel",
      "state": {
       "description_width": ""
      }
     },
     "d85ef9c0fbc54fe9baeb82f52e4116dc": {
      "model_module": "@jupyter-widgets/controls",
      "model_module_version": "1.5.0",
      "model_name": "HTMLModel",
      "state": {
       "layout": "IPY_MODEL_818db63fc18d446ebb0355f779e666ae",
       "style": "IPY_MODEL_c95add0a743145e4948bad7f1a660705",
       "value": " 22/22 [01:27&lt;00:00,  3.85s/it]"
      }
     },
     "d951186f1d8d48d4ae1deea2856c6782": {
      "model_module": "@jupyter-widgets/base",
      "model_module_version": "1.2.0",
      "model_name": "LayoutModel",
      "state": {}
     },
     "da77e0fb1a79421294aa3b872aeca82a": {
      "model_module": "@jupyter-widgets/controls",
      "model_module_version": "1.5.0",
      "model_name": "ProgressStyleModel",
      "state": {
       "description_width": "initial"
      }
     },
     "daa16ee02c8f4fe3979f7c7d8801cd32": {
      "model_module": "@jupyter-widgets/controls",
      "model_module_version": "1.5.0",
      "model_name": "ProgressStyleModel",
      "state": {
       "description_width": "initial"
      }
     },
     "db8ee0bf1125493c9ac7429bb10ff9f7": {
      "model_module": "@jupyter-widgets/base",
      "model_module_version": "1.2.0",
      "model_name": "LayoutModel",
      "state": {}
     },
     "dc72cddb6fdb4bb595a37438405d7f8e": {
      "model_module": "@jupyter-widgets/base",
      "model_module_version": "1.2.0",
      "model_name": "LayoutModel",
      "state": {}
     },
     "dca274b3aa9b468c993bafe378dc9a5a": {
      "model_module": "@jupyter-widgets/base",
      "model_module_version": "1.2.0",
      "model_name": "LayoutModel",
      "state": {}
     },
     "ddef0ed8c6954157b380468c180acd55": {
      "model_module": "@jupyter-widgets/controls",
      "model_module_version": "1.5.0",
      "model_name": "HTMLModel",
      "state": {
       "layout": "IPY_MODEL_1d2f9a460a8f45d9bf2d90475330ccff",
       "style": "IPY_MODEL_bdd7bb7d3a6645ee868feda024ebfe8c",
       "value": " 3/3 [00:01&lt;00:00,  2.22it/s]"
      }
     },
     "de1dd6ad3f34480e8c21e6aedd75835f": {
      "model_module": "@jupyter-widgets/controls",
      "model_module_version": "1.5.0",
      "model_name": "FloatProgressModel",
      "state": {
       "description": "100%",
       "layout": "IPY_MODEL_600e5c9526694bfa827946fadcc4607c",
       "max": 107,
       "style": "IPY_MODEL_3cffc2d444634bbf92cb21b42ca792a1",
       "value": 107
      }
     },
     "de8f3eae23994bbab9ce45d90b6205ac": {
      "model_module": "@jupyter-widgets/controls",
      "model_module_version": "1.5.0",
      "model_name": "HTMLModel",
      "state": {
       "layout": "IPY_MODEL_2f0d56bfd2bb4535bfdaac52b3718915",
       "style": "IPY_MODEL_8bd9f8a730c4432ea47679bf6def37c0",
       "value": " 914/914 [00:00&lt;00:00, 24188.24it/s]"
      }
     },
     "ded9141952194c25a5ee1059d04125cc": {
      "model_module": "@jupyter-widgets/controls",
      "model_module_version": "1.5.0",
      "model_name": "DescriptionStyleModel",
      "state": {
       "description_width": ""
      }
     },
     "dee079d6e7c3424c8e29469ec34e285a": {
      "model_module": "@jupyter-widgets/base",
      "model_module_version": "1.2.0",
      "model_name": "LayoutModel",
      "state": {}
     },
     "dffdcbf03a674bb782416c58e78d85cf": {
      "model_module": "@jupyter-widgets/controls",
      "model_module_version": "1.5.0",
      "model_name": "ProgressStyleModel",
      "state": {
       "description_width": "initial"
      }
     },
     "e05ea3b6484c463ba25633050b95ed85": {
      "model_module": "@jupyter-widgets/base",
      "model_module_version": "1.2.0",
      "model_name": "LayoutModel",
      "state": {}
     },
     "e09cbd1967d74ffabf2dba3dab46d0a0": {
      "model_module": "@jupyter-widgets/controls",
      "model_module_version": "1.5.0",
      "model_name": "FloatProgressModel",
      "state": {
       "description": "100%",
       "layout": "IPY_MODEL_421ba3a1a8cb441fa666825fcc15ade7",
       "max": 128,
       "style": "IPY_MODEL_ad98274a9cfb490dbf4b31e9839ab5d8",
       "value": 128
      }
     },
     "e0b67ca2fad942dbabb26552f7caff4b": {
      "model_module": "@jupyter-widgets/base",
      "model_module_version": "1.2.0",
      "model_name": "LayoutModel",
      "state": {}
     },
     "e0f79497d03047538d150504a200329f": {
      "model_module": "@jupyter-widgets/controls",
      "model_module_version": "1.5.0",
      "model_name": "FloatProgressModel",
      "state": {
       "description": "100%",
       "layout": "IPY_MODEL_2c11de7c065d4a309080e58b1488166d",
       "max": 914,
       "style": "IPY_MODEL_5b9f5a5d7bd34e29bddf1ecec0d94d64",
       "value": 914
      }
     },
     "e1b8bfe5f0ba4a97b20985a1db96be16": {
      "model_module": "@jupyter-widgets/controls",
      "model_module_version": "1.5.0",
      "model_name": "DescriptionStyleModel",
      "state": {
       "description_width": ""
      }
     },
     "e1fe36163e734edcb3d7e91d8be6f488": {
      "model_module": "@jupyter-widgets/controls",
      "model_module_version": "1.5.0",
      "model_name": "HTMLModel",
      "state": {
       "layout": "IPY_MODEL_6562f680e0504ba597723445396a87c7",
       "style": "IPY_MODEL_94ebaf62017646f5b25c365fa0ee2adb",
       "value": " 1379/1379 [00:00&lt;00:00, 28499.50it/s]"
      }
     },
     "e22add99a31b4cfba8324c8ff70ff5c2": {
      "model_module": "@jupyter-widgets/base",
      "model_module_version": "1.2.0",
      "model_name": "LayoutModel",
      "state": {}
     },
     "e235b47a56774b51be25bb1e102d61b1": {
      "model_module": "@jupyter-widgets/controls",
      "model_module_version": "1.5.0",
      "model_name": "FloatProgressModel",
      "state": {
       "description": "100%",
       "layout": "IPY_MODEL_1a3730c1081d47fc9d9a843a53aafc6b",
       "max": 1165,
       "style": "IPY_MODEL_3999b92d333d4557a05d99a6299470d7",
       "value": 1165
      }
     },
     "e29e2df5549d45d0a316d78b8a7589e2": {
      "model_module": "@jupyter-widgets/controls",
      "model_module_version": "1.5.0",
      "model_name": "HTMLModel",
      "state": {
       "layout": "IPY_MODEL_9a9b2f5d299a467aa39dafbb141a2e8e",
       "style": "IPY_MODEL_1b6d462643274ba8b82444fb864eac17",
       "value": " 3/3 [00:00&lt;00:00,  9.29it/s]"
      }
     },
     "e33ae38720b049d3a1435c126ca9e5e2": {
      "model_module": "@jupyter-widgets/controls",
      "model_module_version": "1.5.0",
      "model_name": "ProgressStyleModel",
      "state": {
       "description_width": "initial"
      }
     },
     "e34a38bb45f544d8b58227aa8efcaaee": {
      "model_module": "@jupyter-widgets/base",
      "model_module_version": "1.2.0",
      "model_name": "LayoutModel",
      "state": {}
     },
     "e35bd7755c8f4b608aa817a2f5e0c4aa": {
      "model_module": "@jupyter-widgets/controls",
      "model_module_version": "1.5.0",
      "model_name": "HTMLModel",
      "state": {
       "layout": "IPY_MODEL_f150b4d9ce814150a20634ba8a6e590e",
       "style": "IPY_MODEL_abdc4d43fee04865b34ad17a75e9ee83",
       "value": " 30/30 [01:43&lt;00:00,  3.48s/it]"
      }
     },
     "e3d6b95c5cef46b58b9e3a4e339ffe4b": {
      "model_module": "@jupyter-widgets/controls",
      "model_module_version": "1.5.0",
      "model_name": "HTMLModel",
      "state": {
       "layout": "IPY_MODEL_61b0f56e8c90404c9c6f7071d558beb2",
       "style": "IPY_MODEL_e7df4a720ed3410585f41370597aa387",
       "value": " 3/3 [12:32&lt;00:00, 233.55s/it]"
      }
     },
     "e63dbf0ceb654b2091c60a40bd0a06f9": {
      "model_module": "@jupyter-widgets/base",
      "model_module_version": "1.2.0",
      "model_name": "LayoutModel",
      "state": {}
     },
     "e7ce968bf0244b5f91f068acf0ae8233": {
      "model_module": "@jupyter-widgets/controls",
      "model_module_version": "1.5.0",
      "model_name": "HTMLModel",
      "state": {
       "layout": "IPY_MODEL_b4f38a57a8544482974895c252232c04",
       "style": "IPY_MODEL_bba5dd9012224246bbbbe77d9012d01e",
       "value": " 3/3 [00:04&lt;00:00,  1.35s/it]"
      }
     },
     "e7df4a720ed3410585f41370597aa387": {
      "model_module": "@jupyter-widgets/controls",
      "model_module_version": "1.5.0",
      "model_name": "DescriptionStyleModel",
      "state": {
       "description_width": ""
      }
     },
     "e7fee2a1615a45348ce8b51e933f4e88": {
      "model_module": "@jupyter-widgets/base",
      "model_module_version": "1.2.0",
      "model_name": "LayoutModel",
      "state": {}
     },
     "e82cfd136efb42e8a174a8cafb4bacbd": {
      "model_module": "@jupyter-widgets/base",
      "model_module_version": "1.2.0",
      "model_name": "LayoutModel",
      "state": {}
     },
     "e82f47fca90f4e8aa3baa3749e0d7c61": {
      "model_module": "@jupyter-widgets/base",
      "model_module_version": "1.2.0",
      "model_name": "LayoutModel",
      "state": {}
     },
     "e89dfb6aa3834d82b116d1720acc14cc": {
      "model_module": "@jupyter-widgets/base",
      "model_module_version": "1.2.0",
      "model_name": "LayoutModel",
      "state": {}
     },
     "e8de5132ecfb49889a7cf7a1cd0fd44a": {
      "model_module": "@jupyter-widgets/controls",
      "model_module_version": "1.5.0",
      "model_name": "FloatProgressModel",
      "state": {
       "description": "Ensembles: 100%",
       "layout": "IPY_MODEL_199e45ebfd7c4b45b8317887392f3acb",
       "max": 3,
       "style": "IPY_MODEL_1eef8acd503f4e4491eb72860d26e05d",
       "value": 3
      }
     },
     "e97e38fbe95a414cb0e7d55e0854b014": {
      "model_module": "@jupyter-widgets/base",
      "model_module_version": "1.2.0",
      "model_name": "LayoutModel",
      "state": {}
     },
     "ea0e1a1a41cf4572a6226b7e2969f3c4": {
      "model_module": "@jupyter-widgets/base",
      "model_module_version": "1.2.0",
      "model_name": "LayoutModel",
      "state": {}
     },
     "ea37df8820184dcf928213ebc45723f2": {
      "model_module": "@jupyter-widgets/controls",
      "model_module_version": "1.5.0",
      "model_name": "FloatProgressModel",
      "state": {
       "description": "100%",
       "layout": "IPY_MODEL_1d4dc77333d045b79eaddbe63e8419df",
       "max": 1165,
       "style": "IPY_MODEL_a07e18b3e9e044dbb6342f0451110d32",
       "value": 1165
      }
     },
     "eaa5d7a81c39446997114641329b0158": {
      "model_module": "@jupyter-widgets/controls",
      "model_module_version": "1.5.0",
      "model_name": "HTMLModel",
      "state": {
       "layout": "IPY_MODEL_db8ee0bf1125493c9ac7429bb10ff9f7",
       "style": "IPY_MODEL_2055088cde124ff0845414e5882f4cf9",
       "value": " 3/3 [00:00&lt;00:00,  6.71it/s]"
      }
     },
     "eba10eee5d0c479f87d4929d96341062": {
      "model_module": "@jupyter-widgets/base",
      "model_module_version": "1.2.0",
      "model_name": "LayoutModel",
      "state": {}
     },
     "ebbe79eeb68d48dc9542b11340baf7a1": {
      "model_module": "@jupyter-widgets/base",
      "model_module_version": "1.2.0",
      "model_name": "LayoutModel",
      "state": {}
     },
     "ebf488c9f6854deaa24df1e9e9d58019": {
      "model_module": "@jupyter-widgets/controls",
      "model_module_version": "1.5.0",
      "model_name": "HTMLModel",
      "state": {
       "layout": "IPY_MODEL_0592a44474a54deebc890e9065a499e7",
       "style": "IPY_MODEL_c18bc7998f9f459d99a4fc678a70648a",
       "value": " 3/3 [01:53&lt;00:00, 37.97s/it]"
      }
     },
     "ec131c971f6c40238c0855d7173ad56c": {
      "model_module": "@jupyter-widgets/controls",
      "model_module_version": "1.5.0",
      "model_name": "HTMLModel",
      "state": {
       "layout": "IPY_MODEL_e82f47fca90f4e8aa3baa3749e0d7c61",
       "style": "IPY_MODEL_d2804fdcb0954d17b93ca3ff732c154e",
       "value": " 972/972 [00:00&lt;00:00, 11589.90it/s]"
      }
     },
     "ec4c92823aab4a8fb99d2a75ef604456": {
      "model_module": "@jupyter-widgets/controls",
      "model_module_version": "1.5.0",
      "model_name": "HBoxModel",
      "state": {
       "children": [
        "IPY_MODEL_3b3a586a44924559805603e787e91851",
        "IPY_MODEL_27d4bb8c51a64ae79396387523a48979"
       ],
       "layout": "IPY_MODEL_c60c3989410846879569f40b992554eb"
      }
     },
     "ec9ef0fb2e694dd4a56854e146205bfa": {
      "model_module": "@jupyter-widgets/base",
      "model_module_version": "1.2.0",
      "model_name": "LayoutModel",
      "state": {}
     },
     "ecd183c9ce244ec5b3d36817416b65b9": {
      "model_module": "@jupyter-widgets/base",
      "model_module_version": "1.2.0",
      "model_name": "LayoutModel",
      "state": {}
     },
     "ee2e0be8f34f45f2bed09c13eecf63f5": {
      "model_module": "@jupyter-widgets/controls",
      "model_module_version": "1.5.0",
      "model_name": "ProgressStyleModel",
      "state": {
       "description_width": "initial"
      }
     },
     "eeaab70ba1e34388af224e605457ac1b": {
      "model_module": "@jupyter-widgets/controls",
      "model_module_version": "1.5.0",
      "model_name": "FloatProgressModel",
      "state": {
       "description": "100%",
       "layout": "IPY_MODEL_dca274b3aa9b468c993bafe378dc9a5a",
       "max": 95,
       "style": "IPY_MODEL_44c7f6bd64e94a499139b4ac616d7c8b",
       "value": 95
      }
     },
     "efeb7042cd3947a88b1f306d7f321586": {
      "model_module": "@jupyter-widgets/controls",
      "model_module_version": "1.5.0",
      "model_name": "DescriptionStyleModel",
      "state": {
       "description_width": ""
      }
     },
     "f071ac054de946d2b7a7c9ea64c91e81": {
      "model_module": "@jupyter-widgets/base",
      "model_module_version": "1.2.0",
      "model_name": "LayoutModel",
      "state": {}
     },
     "f1151cb6655e48de978a4433987d1708": {
      "model_module": "@jupyter-widgets/base",
      "model_module_version": "1.2.0",
      "model_name": "LayoutModel",
      "state": {}
     },
     "f11d78d4a86f42309280391f5a8cb109": {
      "model_module": "@jupyter-widgets/controls",
      "model_module_version": "1.5.0",
      "model_name": "ProgressStyleModel",
      "state": {
       "description_width": "initial"
      }
     },
     "f150b4d9ce814150a20634ba8a6e590e": {
      "model_module": "@jupyter-widgets/base",
      "model_module_version": "1.2.0",
      "model_name": "LayoutModel",
      "state": {}
     },
     "f1f76c8f1d6143f5ab0d925e74be51da": {
      "model_module": "@jupyter-widgets/base",
      "model_module_version": "1.2.0",
      "model_name": "LayoutModel",
      "state": {}
     },
     "f20709cb6c2b426092c83b29bd1a866a": {
      "model_module": "@jupyter-widgets/controls",
      "model_module_version": "1.5.0",
      "model_name": "DescriptionStyleModel",
      "state": {
       "description_width": ""
      }
     },
     "f337349026884871ad56dd4a2fca76fb": {
      "model_module": "@jupyter-widgets/base",
      "model_module_version": "1.2.0",
      "model_name": "LayoutModel",
      "state": {}
     },
     "f34024f03a02441eba2cd37a6f13723a": {
      "model_module": "@jupyter-widgets/controls",
      "model_module_version": "1.5.0",
      "model_name": "ProgressStyleModel",
      "state": {
       "description_width": "initial"
      }
     },
     "f37fe7cf3e88479cbde85b95dcd87ff9": {
      "model_module": "@jupyter-widgets/controls",
      "model_module_version": "1.5.0",
      "model_name": "ProgressStyleModel",
      "state": {
       "description_width": "initial"
      }
     },
     "f4124f1970064102b3bdb65aa58141f0": {
      "model_module": "@jupyter-widgets/base",
      "model_module_version": "1.2.0",
      "model_name": "LayoutModel",
      "state": {}
     },
     "f45c13cddad14e438271d193ac637f17": {
      "model_module": "@jupyter-widgets/base",
      "model_module_version": "1.2.0",
      "model_name": "LayoutModel",
      "state": {}
     },
     "f5861e4679554dffb7810b6187178cec": {
      "model_module": "@jupyter-widgets/controls",
      "model_module_version": "1.5.0",
      "model_name": "ProgressStyleModel",
      "state": {
       "description_width": "initial"
      }
     },
     "f68464cd881141ec8c487ac29987ddc5": {
      "model_module": "@jupyter-widgets/controls",
      "model_module_version": "1.5.0",
      "model_name": "FloatProgressModel",
      "state": {
       "description": "100%",
       "layout": "IPY_MODEL_f6d78e750ae2451e843acb1c8786927b",
       "max": 1379,
       "style": "IPY_MODEL_54f64d93fdad48f58ff8c7ed3c57883a",
       "value": 1379
      }
     },
     "f6d78e750ae2451e843acb1c8786927b": {
      "model_module": "@jupyter-widgets/base",
      "model_module_version": "1.2.0",
      "model_name": "LayoutModel",
      "state": {}
     },
     "f84cfb65aac04b29b414d23dee675c04": {
      "model_module": "@jupyter-widgets/controls",
      "model_module_version": "1.5.0",
      "model_name": "FloatProgressModel",
      "state": {
       "description": "100%",
       "layout": "IPY_MODEL_1352e87dae664a6693ca0925e3eaf0c2",
       "max": 195,
       "style": "IPY_MODEL_25122a5d846e4fcaa07b05d39b509c5e",
       "value": 195
      }
     },
     "f8cb00359fca43c58d74351d42f90e17": {
      "model_module": "@jupyter-widgets/base",
      "model_module_version": "1.2.0",
      "model_name": "LayoutModel",
      "state": {}
     },
     "f8f478806d094e26ba6e907c8d4ee92a": {
      "model_module": "@jupyter-widgets/base",
      "model_module_version": "1.2.0",
      "model_name": "LayoutModel",
      "state": {}
     },
     "f909dc9ccb1f48c2b38b4c861bcdb06f": {
      "model_module": "@jupyter-widgets/base",
      "model_module_version": "1.2.0",
      "model_name": "LayoutModel",
      "state": {}
     },
     "f9989c50238148b4a1491247cb1dce9f": {
      "model_module": "@jupyter-widgets/base",
      "model_module_version": "1.2.0",
      "model_name": "LayoutModel",
      "state": {}
     },
     "f9bdc7ce128c4fb59336884f1a820498": {
      "model_module": "@jupyter-widgets/base",
      "model_module_version": "1.2.0",
      "model_name": "LayoutModel",
      "state": {}
     },
     "f9c7e19063b34f979d1c767b292685e9": {
      "model_module": "@jupyter-widgets/base",
      "model_module_version": "1.2.0",
      "model_name": "LayoutModel",
      "state": {}
     },
     "fa0c6770805d4aebad29ebd154e26ec8": {
      "model_module": "@jupyter-widgets/base",
      "model_module_version": "1.2.0",
      "model_name": "LayoutModel",
      "state": {}
     },
     "fa2dfdb609a4439282d4498d8e6f0203": {
      "model_module": "@jupyter-widgets/base",
      "model_module_version": "1.2.0",
      "model_name": "LayoutModel",
      "state": {}
     },
     "fb7082066e5043b8808b813cd9d28a3b": {
      "model_module": "@jupyter-widgets/controls",
      "model_module_version": "1.5.0",
      "model_name": "HTMLModel",
      "state": {
       "layout": "IPY_MODEL_b5942d426cbc4ecaaa82699df476c29c",
       "style": "IPY_MODEL_972b60d896a14e4e9e716e427e29836e",
       "value": " 1379/1379 [00:00&lt;00:00, 25433.88it/s]"
      }
     },
     "fbfc99fe61154f22ad459bbe1cc811c5": {
      "model_module": "@jupyter-widgets/base",
      "model_module_version": "1.2.0",
      "model_name": "LayoutModel",
      "state": {}
     },
     "fd75cffada4b49b39f2cd1b61d0cc628": {
      "model_module": "@jupyter-widgets/controls",
      "model_module_version": "1.5.0",
      "model_name": "HBoxModel",
      "state": {
       "children": [
        "IPY_MODEL_8117ec85bb2b432183f8db66e9771113",
        "IPY_MODEL_eaa5d7a81c39446997114641329b0158"
       ],
       "layout": "IPY_MODEL_1a817fad98694799b654afea178177df"
      }
     },
     "fdb9ec3dde4a4201a131764469ab74d6": {
      "model_module": "@jupyter-widgets/controls",
      "model_module_version": "1.5.0",
      "model_name": "DescriptionStyleModel",
      "state": {
       "description_width": ""
      }
     },
     "fddc9a3c7de94d0f9ce582cf3dd14ea3": {
      "model_module": "@jupyter-widgets/base",
      "model_module_version": "1.2.0",
      "model_name": "LayoutModel",
      "state": {}
     },
     "fea0a1ac1d0f41f9b28b6bd3070dc18a": {
      "model_module": "@jupyter-widgets/controls",
      "model_module_version": "1.5.0",
      "model_name": "DescriptionStyleModel",
      "state": {
       "description_width": ""
      }
     },
     "fec54a15f0134c79b1a487fba37eb159": {
      "model_module": "@jupyter-widgets/base",
      "model_module_version": "1.2.0",
      "model_name": "LayoutModel",
      "state": {}
     },
     "ff6f7e82134b47d186994dd64c9315ad": {
      "model_module": "@jupyter-widgets/controls",
      "model_module_version": "1.5.0",
      "model_name": "HTMLModel",
      "state": {
       "layout": "IPY_MODEL_093f314a063e45c79478ade12ca8a7a8",
       "style": "IPY_MODEL_6662199d5c074e86bc28ae836de2af7f",
       "value": " 86/86 [00:40&lt;00:00,  1.55it/s]"
      }
     },
     "ffb5dd5191264b02b9f5e952c7da84be": {
      "model_module": "@jupyter-widgets/controls",
      "model_module_version": "1.5.0",
      "model_name": "HTMLModel",
      "state": {
       "layout": "IPY_MODEL_3cc1b71d48f5451ca174349a3677e0e6",
       "style": "IPY_MODEL_62e3573176f349a18461b6565b759b26",
       "value": " 1283/1283 [02:39&lt;00:00, 19.53it/s]"
      }
     },
     "ffef219d7bfd454ab4435765c8319612": {
      "model_module": "@jupyter-widgets/base",
      "model_module_version": "1.2.0",
      "model_name": "LayoutModel",
      "state": {}
     }
    },
    "version_major": 2,
    "version_minor": 0
   }
  }
 },
 "nbformat": 4,
 "nbformat_minor": 2
}
