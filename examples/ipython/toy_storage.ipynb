{
 "metadata": {
  "name": "",
  "signature": "sha256:0d66c88a95363f4e4e4a1dc973b9db117a77cfb57bce8e55068c7e01b98a0f9b"
 },
 "nbformat": 3,
 "nbformat_minor": 0,
 "worksheets": [
  {
   "cells": [
    {
     "cell_type": "code",
     "collapsed": false,
     "input": [
      "# Note: in practice, one should put all the imports at the top of a Python script. \n",
      "# But for educational purposes here, I put the import immediately before usage. \n",
      "# This Python block is just to set up some plotting stuff.\n",
      "\n",
      "# Imports for plotting\n",
      "import openpathsampling as paths\n",
      "import numpy as np"
     ],
     "language": "python",
     "metadata": {},
     "outputs": [],
     "prompt_number": 1
    },
    {
     "cell_type": "code",
     "collapsed": false,
     "input": [
      "from openpathsampling.toy_dynamics.toy_engine import ToyEngine\n",
      "from openpathsampling.toy_dynamics.toy_integrators import LangevinBAOABIntegrator\n",
      "from openpathsampling.toy_dynamics.toy_pes import Gaussian, OuterWalls\n",
      "\n",
      "#import logging.config\n",
      "#logging.config.fileConfig(\"logging.conf\", disable_existing_loggers=False)"
     ],
     "language": "python",
     "metadata": {},
     "outputs": [],
     "prompt_number": 2
    },
    {
     "cell_type": "markdown",
     "metadata": {},
     "source": [
      "### Set up the toy system\n",
      "This includes the potential energy surface (PES), and an initial configuration"
     ]
    },
    {
     "cell_type": "code",
     "collapsed": false,
     "input": [
      "# Toy_PES supports adding/subtracting various PESs. The OuterWalls PES type gives an x^6+y^6 boundary to the system\n",
      "pes = (OuterWalls([1.0, 1.0], [0.0, 0.0]) + \n",
      "       Gaussian(2.0, [1.0, 4.0], [0.0,1.0]) + \n",
      "       Gaussian(2.0, [25.0, 1.0], [0.0, -1.0])\n",
      "      )\n",
      "topology=paths.ToyTopology(\n",
      "    n_spatial = 2,\n",
      "    masses =[1.0, 1.0],\n",
      "    pes = pes\n",
      ")\n",
      "template = paths.Snapshot(\n",
      "    coordinates=np.array([[-0.5, 0.0]]), \n",
      "    velocities=np.array([[0.0,0.0]]),\n",
      "    potential_energy = 0.0, # Important to set energies dimensionless otherwise kcal/mol is default\n",
      "    kinetic_energy = 0.0,\n",
      "    topology=topology\n",
      ")"
     ],
     "language": "python",
     "metadata": {},
     "outputs": [],
     "prompt_number": 3
    },
    {
     "cell_type": "markdown",
     "metadata": {},
     "source": [
      "### Setup engine"
     ]
    },
    {
     "cell_type": "code",
     "collapsed": false,
     "input": [
      "integ = LangevinBAOABIntegrator(dt=0.02, temperature=0.1, gamma=1.0)\n",
      "options={\n",
      "         'integ' : integ,\n",
      "         'n_frames_max' : 5000,\n",
      "         'nsteps_per_frame' : 10}\n",
      "sim = ToyEngine(\n",
      "        options=options,\n",
      "        template=template\n",
      ")\n",
      "\n",
      "sim.current_snapshot = template"
     ],
     "language": "python",
     "metadata": {},
     "outputs": [],
     "prompt_number": 4
    },
    {
     "cell_type": "markdown",
     "metadata": {},
     "source": [
      "### Storage setup"
     ]
    },
    {
     "cell_type": "code",
     "collapsed": false,
     "input": [
      "storage = paths.storage.Storage('toy_dynamics_storage.nc', mode='w', template=template)"
     ],
     "language": "python",
     "metadata": {},
     "outputs": [],
     "prompt_number": 5
    },
    {
     "cell_type": "code",
     "collapsed": false,
     "input": [
      "from openpathsampling.orderparameter import OP_Function\n",
      "from openpathsampling.volume import VolumeFactory as vf\n",
      "from openpathsampling.volume import LambdaVolume\n",
      "from openpathsampling.trajectory import Trajectory\n",
      "\n",
      "# Note that we select from the first atom coordinate one, although\n",
      "# there is only one atom. This is to make it consistant with\n",
      "# multiple atom simulations!\n",
      "try:\n",
      "    op_line = OP_Function(name=\"xval\", \n",
      "                          fcn=lambda snap : snap.coordinates[0,0])\n",
      "except ValueError:\n",
      "    print \"xval already made\"\n",
      "# this defines a set of LambdaVolumes for which the minimum is -1.0 and the maximum is given in the array\n",
      "line_volume_set = vf.LambdaVolumeSet(op_line, minvals=-1.0, maxvals=[-0.30, -0.25, -0.20, -0.13, -0.05, 0.0])\n",
      "stateA = LambdaVolume(op_line, -1.0, -0.3)\n",
      "stateB = LambdaVolume(op_line, 0.3, 1.0)"
     ],
     "language": "python",
     "metadata": {},
     "outputs": [],
     "prompt_number": 6
    },
    {
     "cell_type": "code",
     "collapsed": false,
     "input": [
      "from openpathsampling.ensemble import EnsembleFactory as ef\n",
      "from openpathsampling.ensemble import LengthEnsemble, InXEnsemble, OutXEnsemble, SequentialEnsemble, OptionalEnsemble, SingleFrameEnsemble\n",
      "\n",
      "interface0 = line_volume_set[0]\n",
      "interface_ensemble_set = ef.TISEnsembleSet(stateA, stateB, line_volume_set)\n",
      "first_traj_ensemble = SequentialEnsemble([\n",
      "    OptionalEnsemble(OutXEnsemble(stateA)),\n",
      "    InXEnsemble(stateA),\n",
      "    OptionalEnsemble(OutXEnsemble(stateA) & InXEnsemble(interface0)),\n",
      "    OptionalEnsemble(InXEnsemble(interface0)),\n",
      "    OutXEnsemble(interface0),\n",
      "    OptionalEnsemble(OutXEnsemble(stateA)),\n",
      "    SingleFrameEnsemble(InXEnsemble(stateA))\n",
      "])\n",
      "first_traj_ensemble.name = 'first trajectory ensemble'"
     ],
     "language": "python",
     "metadata": {},
     "outputs": [],
     "prompt_number": 7
    },
    {
     "cell_type": "code",
     "collapsed": false,
     "input": [
      "sim.initialized = True\n",
      "first_traj = sim.generate(sim.current_snapshot, [first_traj_ensemble.can_append])"
     ],
     "language": "python",
     "metadata": {},
     "outputs": [],
     "prompt_number": 8
    },
    {
     "cell_type": "code",
     "collapsed": false,
     "input": [
      "subtraj = interface_ensemble_set[0].split(first_traj)[0]"
     ],
     "language": "python",
     "metadata": {},
     "outputs": [],
     "prompt_number": 9
    },
    {
     "cell_type": "markdown",
     "metadata": {},
     "source": [
      "### Saving some stuff"
     ]
    },
    {
     "cell_type": "code",
     "collapsed": false,
     "input": [
      "storage.save(first_traj);\n",
      "storage.save(subtraj);\n",
      "storage.save(first_traj_ensemble);"
     ],
     "language": "python",
     "metadata": {},
     "outputs": [],
     "prompt_number": 10
    },
    {
     "cell_type": "markdown",
     "metadata": {},
     "source": [
      "Don't forget to sync once in a while!"
     ]
    },
    {
     "cell_type": "code",
     "collapsed": false,
     "input": [
      "storage.sync() # necessary to make sure all changes are stored to disk!"
     ],
     "language": "python",
     "metadata": {},
     "outputs": [],
     "prompt_number": 11
    },
    {
     "cell_type": "code",
     "collapsed": false,
     "input": [
      "from openpathsampling.pathmover import PathMoverFactory as mf\n",
      "from openpathsampling.shooting import UniformSelector\n",
      "\n",
      "# might be nice to get rid of these two lines somehow\n",
      "from openpathsampling.pathmover import PathMover\n",
      "PathMover.engine = sim\n",
      "\n",
      "shooting_movers = mf.OneWayShootingSet(UniformSelector(), interface_ensemble_set)"
     ],
     "language": "python",
     "metadata": {},
     "outputs": [],
     "prompt_number": 12
    },
    {
     "cell_type": "code",
     "collapsed": false,
     "input": [
      "from openpathsampling.calculation import Bootstrapping\n",
      "\n",
      "# TODO: add storage\n",
      "bootstrap = Bootstrapping(storage=None,\n",
      "                          engine=sim,\n",
      "                          ensembles=interface_ensemble_set,\n",
      "                          movers=shooting_movers,\n",
      "                          trajectory=subtraj)"
     ],
     "language": "python",
     "metadata": {},
     "outputs": [],
     "prompt_number": 13
    },
    {
     "cell_type": "code",
     "collapsed": false,
     "input": [
      "bootstrap.run(300)"
     ],
     "language": "python",
     "metadata": {},
     "outputs": [],
     "prompt_number": 14
    },
    {
     "cell_type": "code",
     "collapsed": false,
     "input": [
      "from openpathsampling.pathmover import PathReversalSet\n",
      "reversal_movers = PathReversalSet(interface_ensemble_set)"
     ],
     "language": "python",
     "metadata": {},
     "outputs": [],
     "prompt_number": 15
    },
    {
     "cell_type": "code",
     "collapsed": false,
     "input": [
      "from openpathsampling.pathmover import RandomChoiceMover\n",
      "shooting_chooser = RandomChoiceMover(shooting_movers)\n",
      "reversal_chooser = RandomChoiceMover(reversal_movers)\n",
      "equilibration_movers = RandomChoiceMover([shooting_chooser, reversal_chooser])"
     ],
     "language": "python",
     "metadata": {},
     "outputs": [],
     "prompt_number": 16
    },
    {
     "cell_type": "code",
     "collapsed": false,
     "input": [
      "from openpathsampling.calculation import PathSampling\n",
      "equilibration = PathSampling(storage=None, engine=sim, root_mover=equilibration_movers, globalstate=bootstrap.globalstate)"
     ],
     "language": "python",
     "metadata": {},
     "outputs": [
      {
       "output_type": "stream",
       "stream": "stdout",
       "text": [
        "[<openpathsampling.ensemble.SequentialEnsemble object at 0x10ff7aa10>]\n"
       ]
      }
     ],
     "prompt_number": 17
    },
    {
     "cell_type": "code",
     "collapsed": false,
     "input": [
      "# does not work with the current configuration of creating an initial ensemble\n",
      "# bootstrapping uses ONLY 1 replica, but several ensembles, this is also\n",
      "# in the tests. I assume here we want to use a set of several replica so we\n",
      "# need to rewrite this in either way. But @David know here more\n",
      "\n",
      "#equilibration.run(200)"
     ],
     "language": "python",
     "metadata": {},
     "outputs": [],
     "prompt_number": 18
    },
    {
     "cell_type": "code",
     "collapsed": false,
     "input": [
      "from openpathsampling.pathmover import NeighborEnsembleReplicaExchange\n",
      "repex_movers = NeighborEnsembleReplicaExchange(interface_ensemble_set)\n",
      "repex_chooser = RandomChoiceMover(repex_movers)"
     ],
     "language": "python",
     "metadata": {},
     "outputs": [],
     "prompt_number": 19
    },
    {
     "cell_type": "code",
     "collapsed": false,
     "input": [
      "retis_root_mover = RandomChoiceMover([shooting_chooser, reversal_chooser, repex_chooser])\n",
      "production = PathSampling(storage=storage, engine=sim, root_mover=retis_root_mover, globalstate=equilibration.globalstate)"
     ],
     "language": "python",
     "metadata": {},
     "outputs": [
      {
       "output_type": "stream",
       "stream": "stdout",
       "text": [
        "[<openpathsampling.ensemble.SequentialEnsemble object at 0x10ff7aa10>]\n"
       ]
      }
     ],
     "prompt_number": 20
    },
    {
     "cell_type": "code",
     "collapsed": false,
     "input": [
      "#production.run(500)"
     ],
     "language": "python",
     "metadata": {},
     "outputs": [],
     "prompt_number": 21
    }
   ],
   "metadata": {}
  }
 ]
}