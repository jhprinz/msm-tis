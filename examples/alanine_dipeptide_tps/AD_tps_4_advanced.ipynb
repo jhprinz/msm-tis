{
 "cells": [
  {
   "cell_type": "markdown",
   "metadata": {},
   "source": [
    "# Advanced analysis techniques\n",
    "\n",
    "Now we'll move on to a few more advanced analysis techniques. (These are discussed in Paper II.)\n",
    "\n",
    "With the fixed path length ensemble, we should check for recrossings. To do this, we create an ensemble which represents the recrossing paths: a frame in $\\beta$, possible frames in neither $\\alpha$ nor $\\beta$, and then a frame in $\\alpha$.\n",
    "\n",
    "Then we check whether any subtrajectory of a trial trajectory matches that ensemble, by using the `Ensemble.split()` function. We can then further refine to see which steps that included trials with recrossings were actually accepted."
   ]
  },
  {
   "cell_type": "code",
   "execution_count": 1,
   "metadata": {},
   "outputs": [],
   "source": [
    "from __future__ import print_function\n",
    "%matplotlib inline\n",
    "import openpathsampling as paths\n",
    "import numpy as np\n",
    "import matplotlib.pyplot as plt\n",
    "from tqdm.auto import tqdm\n",
    "import os\n",
    "import openpathsampling.visualize as ops_vis\n",
    "from IPython.display import SVG"
   ]
  },
  {
   "cell_type": "code",
   "execution_count": 2,
   "metadata": {},
   "outputs": [
    {
     "name": "stdout",
     "output_type": "stream",
     "text": [
      "CPU times: user 8.36 s, sys: 1.61 s, total: 9.97 s\n",
      "Wall time: 34.6 s\n"
     ]
    }
   ],
   "source": [
    "%%time\n",
    "flexible = paths.Storage(\"ad_tps.nc\")"
   ]
  },
  {
   "cell_type": "code",
   "execution_count": 3,
   "metadata": {},
   "outputs": [
    {
     "name": "stdout",
     "output_type": "stream",
     "text": [
      "CPU times: user 24.6 s, sys: 5.35 s, total: 30 s\n",
      "Wall time: 1min 40s\n"
     ]
    }
   ],
   "source": [
    "%%time\n",
    "fixed = paths.Storage(\"ad_fixed_tps.nc\")"
   ]
  },
  {
   "cell_type": "code",
   "execution_count": 4,
   "metadata": {},
   "outputs": [],
   "source": [
    "flex_network = flexible.networks['tps_network']"
   ]
  },
  {
   "cell_type": "code",
   "execution_count": 5,
   "metadata": {},
   "outputs": [],
   "source": [
    "# create the ensemble that identifies recrossings\n",
    "alpha = fixed.volumes['C_7eq']\n",
    "beta = fixed.volumes['alpha_R']\n",
    "recrossing_ensemble = paths.SequentialEnsemble([\n",
    "    paths.LengthEnsemble(1) & paths.AllInXEnsemble(beta),\n",
    "    paths.OptionalEnsemble(paths.AllOutXEnsemble(alpha | beta)),\n",
    "    paths.LengthEnsemble(1) & paths.AllInXEnsemble(alpha) \n",
    "])"
   ]
  },
  {
   "cell_type": "code",
   "execution_count": 6,
   "metadata": {},
   "outputs": [
    {
     "data": {
      "application/vnd.jupyter.widget-view+json": {
       "model_id": "246784e0794347ffb070136d42a07e74",
       "version_major": 2,
       "version_minor": 0
      },
      "text/plain": [
       "HBox(children=(HTML(value=''), FloatProgress(value=0.0, max=10001.0), HTML(value='')))"
      ]
     },
     "metadata": {},
     "output_type": "display_data"
    },
    {
     "name": "stdout",
     "output_type": "stream",
     "text": [
      "\n",
      "CPU times: user 27min 18s, sys: 7.71 s, total: 27min 26s\n",
      "Wall time: 27min 54s\n"
     ]
    }
   ],
   "source": [
    "%%time\n",
    "# now we check each step to see if its trial has a recrossing\n",
    "steps_with_recrossing = []\n",
    "for step in tqdm(fixed.steps):\n",
    "    # trials is a list of samples: with shooting, only one in the list\n",
    "    recrossings = [] # default for initial empty move (no trials in step[0].change)\n",
    "    for trial in step.change.trials:\n",
    "        recrossings = recrossing_ensemble.split(trial.trajectory)\n",
    "        # recrossing contains a list with the recrossing trajectories\n",
    "        # (len(recrossing) == 0 if no recrossings)\n",
    "    if len(recrossings) > 0:\n",
    "        steps_with_recrossing += [step]  # save for later analysis"
   ]
  },
  {
   "cell_type": "code",
   "execution_count": 7,
   "metadata": {},
   "outputs": [],
   "source": [
    "accepted_recrossings = [step for step in steps_with_recrossing if step.change.accepted is True]"
   ]
  },
  {
   "cell_type": "code",
   "execution_count": 8,
   "metadata": {},
   "outputs": [
    {
     "name": "stdout",
     "output_type": "stream",
     "text": [
      "Trials with recrossings: 532\n",
      "Accepted trials with recrossings: 113\n"
     ]
    }
   ],
   "source": [
    "print(\"Trials with recrossings:\", len(steps_with_recrossing))\n",
    "print(\"Accepted trials with recrossings:\", len(accepted_recrossings))"
   ]
  },
  {
   "cell_type": "markdown",
   "metadata": {},
   "source": [
    "Note that the accepted trials with recrossing does not account for how long the trial remained active. It also doesn't tell us whether the trial represented a new recrossing event, or was correlated with the previous recrossing event."
   ]
  },
  {
   "cell_type": "markdown",
   "metadata": {},
   "source": [
    "Let's take a look at one of the accepted trajectories with a recrossing event. We'll plot the value of $\\psi$, since this is what distinguishes the two states. We'll also select the frames that are actually inside each state and color them (red for $\\alpha$, blue for $\\beta$)."
   ]
  },
  {
   "cell_type": "code",
   "execution_count": 9,
   "metadata": {},
   "outputs": [
    {
     "data": {
      "text/plain": [
       "[<matplotlib.lines.Line2D at 0x14a421da4d10>]"
      ]
     },
     "execution_count": 9,
     "metadata": {},
     "output_type": "execute_result"
    },
    {
     "data": {
      "image/png": "[encoded data removed]",
      "text/plain": [
       "<Figure size 432x288 with 1 Axes>"
      ]
     },
     "metadata": {
      "needs_background": "light"
     },
     "output_type": "display_data"
    }
   ],
   "source": [
    "psi = fixed.cvs['psi']\n",
    "trajectory = accepted_recrossings[0].active[0].trajectory\n",
    "in_alpha_indices = [trajectory.index(s) for s in trajectory if alpha(s)]\n",
    "in_alpha_psi = [psi(trajectory)[i] for i in in_alpha_indices]\n",
    "in_beta_indices = [trajectory.index(s) for s in trajectory if beta(s)]\n",
    "in_beta_psi = [psi(trajectory)[i] for i in in_beta_indices]\n",
    "\n",
    "plt.plot(psi(trajectory), 'k-')\n",
    "plt.plot(in_alpha_indices, in_alpha_psi, 'ro')  # alpha in red\n",
    "plt.plot(in_beta_indices, in_beta_psi, 'bo')  # beta in blue"
   ]
  },
  {
   "cell_type": "markdown",
   "metadata": {},
   "source": [
    "Now let's see how many recrossing events there are in each accepted trial. If there's one recrossing, then the trajectory must go $\\alpha\\to\\beta\\to\\alpha\\to\\beta$ to be accepted. Two recrossings would mean $\\alpha\\to\\beta\\to\\alpha\\to\\beta\\to\\alpha\\to\\beta$."
   ]
  },
  {
   "cell_type": "code",
   "execution_count": 10,
   "metadata": {},
   "outputs": [],
   "source": [
    "recrossings_per = []\n",
    "for step in accepted_recrossings:\n",
    "    for test in step.change.trials:\n",
    "        recrossings_per.append(len(recrossing_ensemble.split(test.trajectory)))"
   ]
  },
  {
   "cell_type": "code",
   "execution_count": 11,
   "metadata": {},
   "outputs": [
    {
     "name": "stdout",
     "output_type": "stream",
     "text": [
      "[1, 1, 1, 1, 1, 1, 1, 1, 1, 1, 1, 1, 1, 1, 1, 1, 1, 1, 1, 1, 1, 1, 1, 1, 1, 1, 1, 1, 1, 1, 1, 1, 1, 1, 1, 1, 1, 1, 1, 1, 1, 1, 1, 1, 1, 1, 1, 1, 1, 1, 1, 1, 1, 1, 1, 1, 1, 1, 1, 1, 1, 1, 1, 1, 1, 1, 1, 1, 1, 1, 1, 1, 1, 1, 1, 1, 1, 1, 1, 1, 1, 1, 1, 1, 1, 1, 1, 1, 1, 1, 1, 1, 1, 1, 1, 1, 1, 1, 1, 1, 1, 1, 1, 1, 1, 1, 1, 1, 1, 1, 1, 1, 1]\n"
     ]
    }
   ],
   "source": [
    "print(recrossings_per)"
   ]
  },
  {
   "cell_type": "code",
   "execution_count": 12,
   "metadata": {},
   "outputs": [
    {
     "name": "stdout",
     "output_type": "stream",
     "text": [
      "113\n",
      "113\n",
      "0\n"
     ]
    }
   ],
   "source": [
    "# these numbers come from accepted trial steps, not all steps\n",
    "print(sum(recrossings_per))\n",
    "print(len(recrossings_per))\n",
    "print(len([x for x in recrossings_per if x==2]))"
   ]
  },
  {
   "cell_type": "markdown",
   "metadata": {},
   "source": [
    "# Comparing the fixed and flexible simulations"
   ]
  },
  {
   "cell_type": "code",
   "execution_count": 13,
   "metadata": {},
   "outputs": [
    {
     "data": {
      "application/vnd.jupyter.widget-view+json": {
       "model_id": "378f736f3e634a37aa8eb9a6bbe73b88",
       "version_major": 2,
       "version_minor": 0
      },
      "text/plain": [
       "HBox(children=(HTML(value=''), FloatProgress(value=0.0, max=10001.0), HTML(value='')))"
      ]
     },
     "metadata": {},
     "output_type": "display_data"
    },
    {
     "name": "stdout",
     "output_type": "stream",
     "text": [
      "\n",
      "CPU times: user 6h 11min 58s, sys: 1min 21s, total: 6h 13min 20s\n",
      "Wall time: 6h 16min 54s\n"
     ]
    }
   ],
   "source": [
    "%%time\n",
    "# transition path length distribution\n",
    "flex_ens = flex_network.sampling_ensembles[0]\n",
    "fixed_transition_segments = sum([flex_ens.split(step.active[0].trajectory)\n",
    "                                 for step in tqdm(fixed.steps)],[])\n",
    "fixed_transition_length = [len(traj) for traj in fixed_transition_segments]"
   ]
  },
  {
   "cell_type": "code",
   "execution_count": 14,
   "metadata": {},
   "outputs": [],
   "source": [
    "flexible_transition_length = [len(s.active[0].trajectory) for s in flexible.steps]"
   ]
  },
  {
   "cell_type": "code",
   "execution_count": 15,
   "metadata": {},
   "outputs": [
    {
     "name": "stdout",
     "output_type": "stream",
     "text": [
      "10232\n"
     ]
    }
   ],
   "source": [
    "print(len(fixed_transition_length))"
   ]
  },
  {
   "cell_type": "code",
   "execution_count": 16,
   "metadata": {},
   "outputs": [
    {
     "data": {
      "image/png": "[encoded data removed]",
      "text/plain": [
       "<Figure size 432x288 with 1 Axes>"
      ]
     },
     "metadata": {
      "needs_background": "light"
     },
     "output_type": "display_data"
    }
   ],
   "source": [
    "bins = np.linspace(0, 400, 80);\n",
    "plt.hist(flexible_transition_length, bins, alpha=0.5, density=True, label=\"flexible\");\n",
    "plt.hist(fixed_transition_length, bins, alpha=0.5, density=True, label=\"fixed\");\n",
    "plt.legend(loc='upper right');"
   ]
  },
  {
   "cell_type": "markdown",
   "metadata": {},
   "source": [
    "#### Identifying different mechanisms using custom ensembles\n",
    "\n",
    "We expected the plot above to be very similar for both cases. However, we know that the $\\alpha\\to\\beta$ transition in alanine dipeptide can occur via two mechanisms: since $\\psi$ is periodic, the transition can occur due to an overall increase in $\\psi$, or due to an overall decrease in $\\psi$. We also know that the alanine dipeptide transitions aren't actually all that rare, so they will occur spontaneously in long simulations.\n",
    "\n",
    "\n",
    "This section shows how to create custom ensembles to identify whether the transition occurred with an increasing $\\psi$ or a decreasing $\\psi$. We also need to account for (unlikely) edge cases where the path starts in one direction but completes the transition from the other."
   ]
  },
  {
   "cell_type": "markdown",
   "metadata": {},
   "source": [
    "First, we'll create a few more `Volume` objects. In this case, we will completely tile the Ramachandran space; while a complete tiling isn't necessary, it is often useful."
   ]
  },
  {
   "cell_type": "code",
   "execution_count": 17,
   "metadata": {},
   "outputs": [],
   "source": [
    "# first, we fully subdivide the Ramachandran space\n",
    "phi = fixed.cvs['phi']\n",
    "deg = 180.0/np.pi\n",
    "nml_plus = paths.PeriodicCVDefinedVolume(psi, -160/deg, -100/deg, -np.pi, np.pi)\n",
    "nml_minus = paths.PeriodicCVDefinedVolume(psi, 0/deg, 100/deg, -np.pi, np.pi)\n",
    "nml_alpha = (paths.PeriodicCVDefinedVolume(phi, 0/deg, 180/deg, -np.pi, np.pi) &\n",
    "             paths.PeriodicCVDefinedVolume(psi, 100/deg, 200/deg, -np.pi, np.pi))\n",
    "nml_beta = (paths.PeriodicCVDefinedVolume(phi, 0/deg, 180/deg, -np.pi, np.pi) &\n",
    "            paths.PeriodicCVDefinedVolume(psi, -100/deg, 0/deg, -np.pi, np.pi))"
   ]
  },
  {
   "cell_type": "code",
   "execution_count": 18,
   "metadata": {},
   "outputs": [],
   "source": [
    "#TODO: plot to display where these volumes are"
   ]
  },
  {
   "cell_type": "markdown",
   "metadata": {},
   "source": [
    "Next, we'll create ensembles for the \"increasing\" and \"decreasing\" transitions. These transitions mark a crossing of either the `nml_plus` or the `nml_minus`. These aren't necessarily $\\alpha\\to\\beta$ transitions. However, any $\\alpha\\to\\beta$ transition must contain at least one subtrajectory which satsifies one of these ensembles."
   ]
  },
  {
   "cell_type": "code",
   "execution_count": 19,
   "metadata": {},
   "outputs": [],
   "source": [
    "increasing = paths.SequentialEnsemble([\n",
    "    paths.AllInXEnsemble(alpha | nml_alpha),\n",
    "    paths.AllInXEnsemble(nml_plus),\n",
    "    paths.AllInXEnsemble(beta | nml_beta)\n",
    "])\n",
    "decreasing = paths.SequentialEnsemble([\n",
    "    paths.AllInXEnsemble(alpha | nml_alpha),\n",
    "    paths.AllInXEnsemble(nml_minus),\n",
    "    paths.AllInXEnsemble(beta | nml_beta)\n",
    "])"
   ]
  },
  {
   "cell_type": "markdown",
   "metadata": {},
   "source": [
    "Finally, we'll write a little function that characterizes a set of trajectories according to these ensembles. It returns a dictionary mapping the ensemble (`increasing` or `decreasing`) to a list of trajectories that have a subtrajectory that satisfies it (at least one entry in `ensemble.split(trajectory)`). That dictionary also contains keys for `'multiple'` matched ensembles and `None` if no ensemble was matched. Trajectories for either of these keys would need to be investigated further."
   ]
  },
  {
   "cell_type": "code",
   "execution_count": 20,
   "metadata": {},
   "outputs": [],
   "source": [
    "def categorize_transitions(ensembles, trajectories):\n",
    "    results = {ens : [] for ens in ensembles + ['multiple', None]}\n",
    "    for traj in trajectories:\n",
    "        matched_ens = None\n",
    "        for ens in ensembles:\n",
    "            if len(ens.split(traj)) > 0:\n",
    "                if matched_ens is not None:\n",
    "                    matched_ens = 'multiple'\n",
    "                else:\n",
    "                    matched_ens = ens\n",
    "        results[matched_ens].append(traj)\n",
    "    return results"
   ]
  },
  {
   "cell_type": "markdown",
   "metadata": {},
   "source": [
    "With that function defined, let's use it!"
   ]
  },
  {
   "cell_type": "code",
   "execution_count": 21,
   "metadata": {},
   "outputs": [],
   "source": [
    "categorized = categorize_transitions(ensembles=[increasing, decreasing],\n",
    "                                     trajectories=fixed_transition_segments)"
   ]
  },
  {
   "cell_type": "code",
   "execution_count": 22,
   "metadata": {},
   "outputs": [
    {
     "name": "stdout",
     "output_type": "stream",
     "text": [
      "increasing: 7185\n",
      "decreasing: 3047\n",
      "  multiple: 0\n",
      "      None: 0\n"
     ]
    }
   ],
   "source": [
    "print(\"increasing:\", len(categorized[increasing]))\n",
    "print(\"decreasing:\", len(categorized[decreasing]))\n",
    "print(\"  multiple:\", len(categorized['multiple']))\n",
    "print(\"      None:\", len(categorized[None]))"
   ]
  },
  {
   "cell_type": "markdown",
   "metadata": {},
   "source": [
    "Comparing to the flexible length simulation:"
   ]
  },
  {
   "cell_type": "code",
   "execution_count": 23,
   "metadata": {},
   "outputs": [],
   "source": [
    "flex_trajs = [step.active[0].trajectory for step in flexible.steps]\n",
    "flex_categorized = categorize_transitions(ensembles=[increasing, decreasing],\n",
    "                                          trajectories=flex_trajs[::10])"
   ]
  },
  {
   "cell_type": "code",
   "execution_count": 24,
   "metadata": {},
   "outputs": [
    {
     "name": "stdout",
     "output_type": "stream",
     "text": [
      "increasing: 0\n",
      "decreasing: 1001\n",
      "  multiple: 0\n",
      "      None: 0\n"
     ]
    }
   ],
   "source": [
    "print(\"increasing:\", len(flex_categorized[increasing]))\n",
    "print(\"decreasing:\", len(flex_categorized[decreasing]))\n",
    "print(\"  multiple:\", len(flex_categorized['multiple']))\n",
    "print(\"      None:\", len(flex_categorized[None]))"
   ]
  },
  {
   "cell_type": "markdown",
   "metadata": {},
   "source": [
    "So the fixed length sampling is somehow capturing both kinds of transitions (probably because they are not really that rare). Let's see what the path length distribution from only the decreasing transitions looks"
   ]
  },
  {
   "cell_type": "code",
   "execution_count": 25,
   "metadata": {},
   "outputs": [
    {
     "data": {
      "image/png": "[encoded data removed]",
      "text/plain": [
       "<Figure size 432x288 with 1 Axes>"
      ]
     },
     "metadata": {
      "needs_background": "light"
     },
     "output_type": "display_data"
    }
   ],
   "source": [
    "plt.hist([len(traj) for traj in flex_categorized[decreasing]], bins, alpha=0.5, density=True);\n",
    "plt.hist([len(traj) for traj in categorized[decreasing]], bins, alpha=0.5, density=True);"
   ]
  },
  {
   "cell_type": "markdown",
   "metadata": {},
   "source": [
    "Still a little off, although this might be due to bad sampling. Let's see how many of the decorrelated trajectories have this kind of transition."
   ]
  },
  {
   "cell_type": "code",
   "execution_count": 26,
   "metadata": {},
   "outputs": [],
   "source": [
    "full_fixed_tree = ops_vis.PathTree(\n",
    "    fixed.steps,\n",
    "    ops_vis.ReplicaEvolution(replica=0)\n",
    ")\n",
    "full_history = full_fixed_tree.generator"
   ]
  },
  {
   "cell_type": "code",
   "execution_count": 27,
   "metadata": {},
   "outputs": [
    {
     "name": "stdout",
     "output_type": "stream",
     "text": [
      "114\n"
     ]
    }
   ],
   "source": [
    "# start with the decorrelated tragectories\n",
    "fixed_decorrelated = full_history.decorrelated_trajectories\n",
    "# find the A->B transitions from the decorrelated trajectories\n",
    "decorrelated_transitions = sum([flex_ens.split(traj) for traj in fixed_decorrelated], [])\n",
    "# find the A->B transition from these which are decreasing\n",
    "decorrelated_decreasing = sum([decreasing.split(traj) for traj in decorrelated_transitions], [])\n",
    "print(len(decorrelated_decreasing))"
   ]
  },
  {
   "cell_type": "markdown",
   "metadata": {},
   "source": [
    "So this is based off of 11 decorrelated trajectory transitions. That's not a lot of statistics.\n",
    "\n",
    "However, we expect to see a *very* different distribution for the \"increasing\" paths:"
   ]
  },
  {
   "cell_type": "code",
   "execution_count": 28,
   "metadata": {},
   "outputs": [
    {
     "data": {
      "image/png": "[encoded data removed]",
      "text/plain": [
       "<Figure size 432x288 with 1 Axes>"
      ]
     },
     "metadata": {
      "needs_background": "light"
     },
     "output_type": "display_data"
    }
   ],
   "source": [
    "plt.hist([len(traj) for traj in categorized[increasing]], bins, density=True, alpha=0.5, color='g');"
   ]
  },
  {
   "cell_type": "markdown",
   "metadata": {},
   "source": [
    "Let's also check whether we go back and forth between the increasing transition and the decreasing transition, or whether there's just a single change from one type to the other."
   ]
  },
  {
   "cell_type": "code",
   "execution_count": 29,
   "metadata": {},
   "outputs": [],
   "source": [
    "def find_switches(ensembles, trajectories):\n",
    "    switches = []\n",
    "    last_category = None\n",
    "    traj_num = 0\n",
    "    for traj in trajectories:\n",
    "        category = None\n",
    "        for ens in ensembles:\n",
    "            if len(ens.split(traj)) > 0:\n",
    "                if category is not None:\n",
    "                    category = 'multiple'\n",
    "                else:\n",
    "                    category = ens\n",
    "        if last_category != category:\n",
    "            switches.append((category, traj_num))\n",
    "        traj_num += 1\n",
    "        last_category = category\n",
    "    return switches"
   ]
  },
  {
   "cell_type": "code",
   "execution_count": 30,
   "metadata": {},
   "outputs": [],
   "source": [
    "switches = find_switches([increasing, decreasing], fixed_transition_segments)"
   ]
  },
  {
   "cell_type": "code",
   "execution_count": 31,
   "metadata": {},
   "outputs": [
    {
     "name": "stdout",
     "output_type": "stream",
     "text": [
      "[0, 2, 39, 78, 394, 513, 584, 636, 711, 718, 1359, 1392, 1504, 1623, 1952, 2225, 2339, 2438, 2633, 2639, 2642, 2705, 2925, 2977, 3160, 3295, 3296, 3371, 3723, 3812, 4094, 4208, 4942, 4955, 5005, 5232, 5245, 5349, 5511, 5520, 5576, 5655, 5697, 5745, 5839, 5848, 5931, 5958, 6000, 6012, 6214, 6244, 6485, 6503, 6538, 6545, 6629, 6635, 6905, 7338, 7756, 7775, 7967, 7974, 8008, 8049, 8065, 8296, 8524, 8530, 8539, 8591, 9051, 9252, 9287, 9293, 9343, 9349, 9634, 9637, 9912, 10088] 10232\n"
     ]
    }
   ],
   "source": [
    "print([switch[1] for switch in switches], len(fixed_transition_segments))"
   ]
  },
  {
   "cell_type": "markdown",
   "metadata": {},
   "source": [
    "So there are a lot of switches early in the simulation, and then it gets stuck in one state for much longer."
   ]
  },
  {
   "cell_type": "markdown",
   "metadata": {},
   "source": [
    "Even though we know the alanine dipeptide transitions are not particularly rare, this does give us reason to re-check the temperature. First we'll check what the intergrator says its temperature is, then we'll calculate the temperature based on the kinetic energy of every 50th trajectory.\n",
    "\n",
    "Note that the code below is specific to using the OpenMM engine."
   ]
  },
  {
   "cell_type": "code",
   "execution_count": 32,
   "metadata": {},
   "outputs": [],
   "source": [
    "every_50th_trajectory = [step.active[0].trajectory for step in fixed.steps[::50]]"
   ]
  },
  {
   "cell_type": "code",
   "execution_count": 33,
   "metadata": {},
   "outputs": [],
   "source": [
    "# make a set to remove duplicates, if trajs aren't decorrelated\n",
    "every_50th_traj_snapshots = list(set(sum(every_50th_trajectory, [])))\n",
    "# sadly, it looks like that trick with set doesn't do any good here"
   ]
  },
  {
   "cell_type": "code",
   "execution_count": 34,
   "metadata": {},
   "outputs": [
    {
     "data": {
      "application/vnd.jupyter.widget-view+json": {
       "model_id": "d3576e09dc5547b68ab1a1f47e3865e4",
       "version_major": 2,
       "version_minor": 0
      },
      "text/plain": [
       "HBox(children=(HTML(value=''), FloatProgress(value=0.0, max=79884.0), HTML(value='')))"
      ]
     },
     "metadata": {},
     "output_type": "display_data"
    },
    {
     "name": "stdout",
     "output_type": "stream",
     "text": [
      "\n"
     ]
    }
   ],
   "source": [
    "temperatures = [snap.instantaneous_temperature for snap in tqdm(every_50th_traj_snapshots)]"
   ]
  },
  {
   "cell_type": "code",
   "execution_count": 36,
   "metadata": {},
   "outputs": [
    {
     "name": "stdout",
     "output_type": "stream",
     "text": [
      "Mean temperature: 300.40 K\n"
     ]
    },
    {
     "data": {
      "image/png": "[encoded data removed]",
      "text/plain": [
       "<Figure size 432x288 with 1 Axes>"
      ]
     },
     "metadata": {
      "needs_background": "light"
     },
     "output_type": "display_data"
    }
   ],
   "source": [
    "plt.plot([T / T.unit for T in temperatures])\n",
    "mean_T = np.mean(temperatures)\n",
    "plt.plot([mean_T / mean_T.unit]*len(temperatures), 'r')\n",
    "print(\"Mean temperature:\", np.mean(temperatures).format(\"%.2f\"))"
   ]
  }
 ],
 "metadata": {
  "kernelspec": {
   "display_name": "Python 3",
   "language": "python",
   "name": "python3"
  },
  "language_info": {
   "codemirror_mode": {
    "name": "ipython",
    "version": 3
   },
   "file_extension": ".py",
   "mimetype": "text/x-python",
   "name": "python",
   "nbconvert_exporter": "python",
   "pygments_lexer": "ipython3",
   "version": "3.7.8"
  },
  "toc": {
   "base_numbering": 1,
   "nav_menu": {},
   "number_sections": true,
   "sideBar": true,
   "skip_h1_title": true,
   "title_cell": "Table of Contents",
   "title_sidebar": "Contents",
   "toc_cell": false,
   "toc_position": {},
   "toc_section_display": true,
   "toc_window_display": true
  },
  "varInspector": {
   "cols": {
    "lenName": 16,
    "lenType": 16,
    "lenVar": 40
   },
   "kernels_config": {
    "python": {
     "delete_cmd_postfix": "",
     "delete_cmd_prefix": "del ",
     "library": "var_list.py",
     "varRefreshCmd": "print(var_dic_list())"
    },
    "r": {
     "delete_cmd_postfix": ") ",
     "delete_cmd_prefix": "rm(",
     "library": "var_list.r",
     "varRefreshCmd": "cat(var_dic_list()) "
    }
   },
   "types_to_exclude": [
    "module",
    "function",
    "builtin_function_or_method",
    "instance",
    "_Feature"
   ],
   "window_display": false
  },
  "widgets": {
   "application/vnd.jupyter.widget-state+json": {
    "state": {
     "02c82c7403df4ffaa0068f7a3344ba08": {
      "model_module": "@jupyter-widgets/controls",
      "model_module_version": "1.5.0",
      "model_name": "HTMLModel",
      "state": {
       "layout": "IPY_MODEL_c1c5d6a361654ed0b67b9fa4d3f58600",
       "style": "IPY_MODEL_d8fc785dc5504c46bd69c1aefa576332",
       "value": "100%"
      }
     },
     "0585f4a521c0473088c3e00ed7642955": {
      "model_module": "@jupyter-widgets/controls",
      "model_module_version": "1.5.0",
      "model_name": "DescriptionStyleModel",
      "state": {
       "description_width": ""
      }
     },
     "08b5bf06ce474b77a74aaeb364c752fa": {
      "model_module": "@jupyter-widgets/controls",
      "model_module_version": "1.5.0",
      "model_name": "ProgressStyleModel",
      "state": {
       "description_width": ""
      }
     },
     "0b90f9fbd4bf44e0bdf14919dad0f0aa": {
      "model_module": "@jupyter-widgets/controls",
      "model_module_version": "1.5.0",
      "model_name": "DescriptionStyleModel",
      "state": {
       "description_width": ""
      }
     },
     "10dda674cfad493ab2c98e128648603a": {
      "model_module": "@jupyter-widgets/controls",
      "model_module_version": "1.5.0",
      "model_name": "HTMLModel",
      "state": {
       "layout": "IPY_MODEL_bbb3a00810de43f3b1f3bf5d33b630f6",
       "style": "IPY_MODEL_4a3698c04212405a838bc8bb49efe000",
       "value": " 10001/10001 [6:44:57&lt;00:00,  2.43s/it]"
      }
     },
     "110c88f0537a47519a1e9b76c58b8653": {
      "model_module": "@jupyter-widgets/base",
      "model_module_version": "1.2.0",
      "model_name": "LayoutModel",
      "state": {}
     },
     "15666400666841ec897ca54150a0bbcf": {
      "model_module": "@jupyter-widgets/base",
      "model_module_version": "1.2.0",
      "model_name": "LayoutModel",
      "state": {}
     },
     "241ae0f9f3bd4c3692bc8c7e41714d6b": {
      "model_module": "@jupyter-widgets/controls",
      "model_module_version": "1.5.0",
      "model_name": "HTMLModel",
      "state": {
       "layout": "IPY_MODEL_66ef12f9660240d9bbdee5a6edcf5998",
       "style": "IPY_MODEL_0585f4a521c0473088c3e00ed7642955",
       "value": "100%"
      }
     },
     "246784e0794347ffb070136d42a07e74": {
      "model_module": "@jupyter-widgets/controls",
      "model_module_version": "1.5.0",
      "model_name": "HBoxModel",
      "state": {
       "children": [
        "IPY_MODEL_30855b80ca40478a93be6e01f4a6e2e2",
        "IPY_MODEL_493e40f93dba41e699cd97e0d889903b",
        "IPY_MODEL_c38b78fd34fa4bd4808a5b5d90e240aa"
       ],
       "layout": "IPY_MODEL_9e55b7f78fa04ec7a6201f526e19fead"
      }
     },
     "30855b80ca40478a93be6e01f4a6e2e2": {
      "model_module": "@jupyter-widgets/controls",
      "model_module_version": "1.5.0",
      "model_name": "HTMLModel",
      "state": {
       "layout": "IPY_MODEL_9b60bb1c229c401dafce872e434472b1",
       "style": "IPY_MODEL_0b90f9fbd4bf44e0bdf14919dad0f0aa",
       "value": "100%"
      }
     },
     "378f736f3e634a37aa8eb9a6bbe73b88": {
      "model_module": "@jupyter-widgets/controls",
      "model_module_version": "1.5.0",
      "model_name": "HBoxModel",
      "state": {
       "children": [
        "IPY_MODEL_02c82c7403df4ffaa0068f7a3344ba08",
        "IPY_MODEL_c0f1af53623a4939a987f2a892816507",
        "IPY_MODEL_10dda674cfad493ab2c98e128648603a"
       ],
       "layout": "IPY_MODEL_67183a3f84ec495187d03ab41b772c26"
      }
     },
     "48b70d4bc5f24fb1bc23323103de43c9": {
      "model_module": "@jupyter-widgets/base",
      "model_module_version": "1.2.0",
      "model_name": "LayoutModel",
      "state": {}
     },
     "493e40f93dba41e699cd97e0d889903b": {
      "model_module": "@jupyter-widgets/controls",
      "model_module_version": "1.5.0",
      "model_name": "FloatProgressModel",
      "state": {
       "bar_style": "success",
       "layout": "IPY_MODEL_110c88f0537a47519a1e9b76c58b8653",
       "max": 10001,
       "style": "IPY_MODEL_e22f1fe05d4e43dabb56b7a8301ddb4b",
       "value": 10001
      }
     },
     "4a3698c04212405a838bc8bb49efe000": {
      "model_module": "@jupyter-widgets/controls",
      "model_module_version": "1.5.0",
      "model_name": "DescriptionStyleModel",
      "state": {
       "description_width": ""
      }
     },
     "572aa795e9d04a4e9d818df6c4f4f89e": {
      "model_module": "@jupyter-widgets/controls",
      "model_module_version": "1.5.0",
      "model_name": "FloatProgressModel",
      "state": {
       "bar_style": "success",
       "layout": "IPY_MODEL_cc38a07d70cb4a1eb975101c9b4e3f8c",
       "max": 79884,
       "style": "IPY_MODEL_08b5bf06ce474b77a74aaeb364c752fa",
       "value": 79884
      }
     },
     "63e40d9198334917a8b5a126f7675922": {
      "model_module": "@jupyter-widgets/controls",
      "model_module_version": "1.5.0",
      "model_name": "ProgressStyleModel",
      "state": {
       "description_width": ""
      }
     },
     "66ef12f9660240d9bbdee5a6edcf5998": {
      "model_module": "@jupyter-widgets/base",
      "model_module_version": "1.2.0",
      "model_name": "LayoutModel",
      "state": {}
     },
     "67183a3f84ec495187d03ab41b772c26": {
      "model_module": "@jupyter-widgets/base",
      "model_module_version": "1.2.0",
      "model_name": "LayoutModel",
      "state": {}
     },
     "761c62d419b945f29573265ff7a8df29": {
      "model_module": "@jupyter-widgets/base",
      "model_module_version": "1.2.0",
      "model_name": "LayoutModel",
      "state": {}
     },
     "95d82d70f5334124be0c4bccef7a707e": {
      "model_module": "@jupyter-widgets/controls",
      "model_module_version": "1.5.0",
      "model_name": "DescriptionStyleModel",
      "state": {
       "description_width": ""
      }
     },
     "9b60bb1c229c401dafce872e434472b1": {
      "model_module": "@jupyter-widgets/base",
      "model_module_version": "1.2.0",
      "model_name": "LayoutModel",
      "state": {}
     },
     "9e55b7f78fa04ec7a6201f526e19fead": {
      "model_module": "@jupyter-widgets/base",
      "model_module_version": "1.2.0",
      "model_name": "LayoutModel",
      "state": {}
     },
     "bbb3a00810de43f3b1f3bf5d33b630f6": {
      "model_module": "@jupyter-widgets/base",
      "model_module_version": "1.2.0",
      "model_name": "LayoutModel",
      "state": {}
     },
     "c0f1af53623a4939a987f2a892816507": {
      "model_module": "@jupyter-widgets/controls",
      "model_module_version": "1.5.0",
      "model_name": "FloatProgressModel",
      "state": {
       "bar_style": "success",
       "layout": "IPY_MODEL_761c62d419b945f29573265ff7a8df29",
       "max": 10001,
       "style": "IPY_MODEL_63e40d9198334917a8b5a126f7675922",
       "value": 10001
      }
     },
     "c1c5d6a361654ed0b67b9fa4d3f58600": {
      "model_module": "@jupyter-widgets/base",
      "model_module_version": "1.2.0",
      "model_name": "LayoutModel",
      "state": {}
     },
     "c38b78fd34fa4bd4808a5b5d90e240aa": {
      "model_module": "@jupyter-widgets/controls",
      "model_module_version": "1.5.0",
      "model_name": "HTMLModel",
      "state": {
       "layout": "IPY_MODEL_48b70d4bc5f24fb1bc23323103de43c9",
       "style": "IPY_MODEL_d3ef304de0fa49e6b0cafd0b93c0ec62",
       "value": " 10001/10001 [1:51:40&lt;00:00,  1.49it/s]"
      }
     },
     "c85d4a1301c145e795dcdfc21bc9f4c1": {
      "model_module": "@jupyter-widgets/base",
      "model_module_version": "1.2.0",
      "model_name": "LayoutModel",
      "state": {}
     },
     "cc38a07d70cb4a1eb975101c9b4e3f8c": {
      "model_module": "@jupyter-widgets/base",
      "model_module_version": "1.2.0",
      "model_name": "LayoutModel",
      "state": {}
     },
     "d3576e09dc5547b68ab1a1f47e3865e4": {
      "model_module": "@jupyter-widgets/controls",
      "model_module_version": "1.5.0",
      "model_name": "HBoxModel",
      "state": {
       "children": [
        "IPY_MODEL_241ae0f9f3bd4c3692bc8c7e41714d6b",
        "IPY_MODEL_572aa795e9d04a4e9d818df6c4f4f89e",
        "IPY_MODEL_e78d0d5c48584e6b8b4ff7771fc39887"
       ],
       "layout": "IPY_MODEL_15666400666841ec897ca54150a0bbcf"
      }
     },
     "d3ef304de0fa49e6b0cafd0b93c0ec62": {
      "model_module": "@jupyter-widgets/controls",
      "model_module_version": "1.5.0",
      "model_name": "DescriptionStyleModel",
      "state": {
       "description_width": ""
      }
     },
     "d8fc785dc5504c46bd69c1aefa576332": {
      "model_module": "@jupyter-widgets/controls",
      "model_module_version": "1.5.0",
      "model_name": "DescriptionStyleModel",
      "state": {
       "description_width": ""
      }
     },
     "e22f1fe05d4e43dabb56b7a8301ddb4b": {
      "model_module": "@jupyter-widgets/controls",
      "model_module_version": "1.5.0",
      "model_name": "ProgressStyleModel",
      "state": {
       "description_width": ""
      }
     },
     "e78d0d5c48584e6b8b4ff7771fc39887": {
      "model_module": "@jupyter-widgets/controls",
      "model_module_version": "1.5.0",
      "model_name": "HTMLModel",
      "state": {
       "layout": "IPY_MODEL_c85d4a1301c145e795dcdfc21bc9f4c1",
       "style": "IPY_MODEL_95d82d70f5334124be0c4bccef7a707e",
       "value": " 79884/79884 [1:26:12&lt;00:00, 15.44it/s]"
      }
     }
    },
    "version_major": 2,
    "version_minor": 0
   }
  }
 },
 "nbformat": 4,
 "nbformat_minor": 4
}
