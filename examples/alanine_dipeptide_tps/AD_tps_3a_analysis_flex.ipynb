{
 "cells": [
  {
   "cell_type": "markdown",
   "metadata": {},
   "source": [
    "# Analyzing the flexible path length simulation"
   ]
  },
  {
   "cell_type": "code",
   "execution_count": 1,
   "metadata": {},
   "outputs": [],
   "source": [
    "from __future__ import print_function\n",
    "%matplotlib inline\n",
    "import openpathsampling as paths\n",
    "import numpy as np\n",
    "import matplotlib.pyplot as plt\n",
    "import os\n",
    "import openpathsampling.visualize as ops_vis\n",
    "from IPython.display import SVG"
   ]
  },
  {
   "cell_type": "markdown",
   "metadata": {},
   "source": [
    "Load the file, and from the file pull our the engine (which tells us what the timestep was) and the move scheme (which gives us a starting point for much of the analysis)."
   ]
  },
  {
   "cell_type": "code",
   "execution_count": 2,
   "metadata": {},
   "outputs": [],
   "source": [
    "# note that this log will overwrite the log from the previous notebook\n",
    "#import logging.config\n",
    "#logging.config.fileConfig(\"logging.conf\", disable_existing_loggers=False)"
   ]
  },
  {
   "cell_type": "code",
   "execution_count": 3,
   "metadata": {},
   "outputs": [
    {
     "name": "stdout",
     "output_type": "stream",
     "text": [
      "CPU times: user 1min 2s, sys: 3.52 s, total: 1min 6s\n",
      "Wall time: 1min 6s\n"
     ]
    }
   ],
   "source": [
    "%%time\n",
    "flexible = paths.AnalysisStorage(\"ad_tps.nc\")\n",
    "# opening as AnalysisStorage is a little slower, but speeds up the move_summary"
   ]
  },
  {
   "cell_type": "code",
   "execution_count": 4,
   "metadata": {},
   "outputs": [],
   "source": [
    "engine = flexible.engines[0]\n",
    "flex_scheme = flexible.schemes[0]"
   ]
  },
  {
   "cell_type": "code",
   "execution_count": 5,
   "metadata": {},
   "outputs": [
    {
     "name": "stdout",
     "output_type": "stream",
     "text": [
      "File size: 18.65GB for 10001 steps, 985686 snapshots\n"
     ]
    }
   ],
   "source": [
    "print(\"File size: {0} for {1} steps, {2} snapshots\".format(\n",
    "    flexible.file_size_str,\n",
    "    len(flexible.steps),\n",
    "    len(flexible.snapshots)\n",
    "))"
   ]
  },
  {
   "cell_type": "markdown",
   "metadata": {},
   "source": [
    "That tell us a little about the file we're dealing with. Now we'll start analyzing the contents of that file. We used a very simple move scheme (only shooting), so the main information that the `move_summary` gives us is the acceptance of the only kind of move in that scheme. See the MSTIS examples for more complicated move schemes, where you want to make sure that frequency at which the move runs is close to what was expected."
   ]
  },
  {
   "cell_type": "code",
   "execution_count": 6,
   "metadata": {
    "scrolled": true
   },
   "outputs": [
    {
     "data": {
      "application/vnd.jupyter.widget-view+json": {
       "model_id": "6d9ea6ac33644ce4a0bd7cd57a00a0c1",
       "version_major": 2,
       "version_minor": 0
      },
      "text/plain": [
       "HBox(children=(HTML(value=''), FloatProgress(value=0.0, max=10001.0), HTML(value='')))"
      ]
     },
     "metadata": {},
     "output_type": "display_data"
    },
    {
     "name": "stdout",
     "output_type": "stream",
     "text": [
      "\n",
      "shooting ran 100.000% (expected 100.00%) of the cycles with acceptance 5529/10000 (55.29%)\n"
     ]
    }
   ],
   "source": [
    "flex_scheme.move_summary(flexible.steps)"
   ]
  },
  {
   "cell_type": "markdown",
   "metadata": {},
   "source": [
    "## Replica history tree and decorrelated trajectories\n",
    "\n",
    "The `ReplicaHistoryTree` object gives us both the history tree (often called the \"move tree\") and the number of decorrelated trajectories.\n",
    "\n",
    "A `ReplicaHistoryTree` is made for a certain set of Monte Carlo steps. First, we make a tree of only the first 25 steps in order to visualize it. (All 10000 steps would be unwieldy.) \n",
    "\n",
    "After the visualization, we make a second `PathTree` of all the steps. We won't visualize that; instead we use it to count the number of decorrelated trajectories."
   ]
  },
  {
   "cell_type": "code",
   "execution_count": 7,
   "metadata": {},
   "outputs": [
    {
     "data": {
      "image/svg+xml": [
       "<svg baseProfile=\"full\" class=\"opstree\" height=\"100%\" id=\"pathtree-0\" version=\"1.1\" viewBox=\"-80.00 -22.50 846.00 210.00\" width=\"100%\" xmlns=\"http://www.w3.org/2000/svg\" xmlns:ev=\"http://www.w3.org/2001/xml-events\" xmlns:xlink=\"http://www.w3.org/1999/xlink\"><defs><style type=\"text/css\"><![CDATA[.opstree text, .movetree text {\n",
       "    alignment-baseline: central;\n",
       "    font-size: 10px;\n",
       "    text-anchor: middle;\n",
       "    font-family: Futura-CondensedMedium;\n",
       "    font-weight: lighter;\n",
       "    stroke: none !important;\n",
       "}\n",
       ".opstree .block text, .movetree .block text {\n",
       "    alignment-baseline: central;\n",
       "    font-size: 8px;\n",
       "    text-anchor: middle;\n",
       "    font-family: Futura-CondensedMedium;\n",
       "    font-weight: lighter;\n",
       "    stroke: none !important;\n",
       "}\n",
       ".opstree text.shadow {\n",
       "    stroke-width: 3;\n",
       "    stroke: white !important;\n",
       "}\n",
       ".opstree .left.label .shift text {\n",
       "    text-anchor: end;\n",
       "}\n",
       ".opstree .right.label .shift text {\n",
       "    text-anchor: start;\n",
       "}\n",
       ".opstree .block text, .movetree .block text {\n",
       "    fill: white !important;\n",
       "    stroke: none !important;\n",
       "}\n",
       ".opstree .block {\n",
       "    stroke: none !important;\n",
       "}\n",
       ".opstree g.block:hover rect {\n",
       "    opacity: 0.5;\n",
       "}\n",
       ".opstree .repex {\n",
       "    fill: green;\n",
       "    stroke: green;\n",
       "}\n",
       ".opstree .extend {\n",
       "    fill: green;\n",
       "    stroke: green;\n",
       "}\n",
       ".opstree .truncate {\n",
       "    fill: green;\n",
       "    stroke: green;\n",
       "}\n",
       ".opstree .new {\n",
       "    fill: black;\n",
       "    stroke: black;\n",
       "}\n",
       ".opstree .unknown {\n",
       "    fill: gray;\n",
       "    stroke: gray;\n",
       "}\n",
       ".opstree .hop {\n",
       "    fill: green;\n",
       "    stroke: green;\n",
       "}\n",
       ".opstree .correlation {\n",
       "    fill: black;\n",
       "    stroke: black;\n",
       "}\n",
       ".opstree .shooting.bw {\n",
       "    fill: blue;\n",
       "    stroke: blue;\n",
       "}\n",
       ".opstree .shooting.fw {\n",
       "    fill: red;\n",
       "    stroke: red;\n",
       "}\n",
       ".opstree .shooting.overlap {\n",
       "    fill: #666;\n",
       "    stroke: #666;\n",
       "}\n",
       ".opstree .reversal {\n",
       "    fill: gold;\n",
       "    stroke: gold;\n",
       "}\n",
       ".opstree .virtual {\n",
       "    opacity: 0.1;\n",
       "    fill:gray;\n",
       "    stroke: none;\n",
       "}\n",
       ".opstree line {\n",
       "    stroke-width: 2px;\n",
       "}\n",
       ".opstree .label {\n",
       "    fill: black !important;\n",
       "}\n",
       ".opstree .h-connector {\n",
       "    stroke-width: 0.1px;\n",
       "    stroke-dasharray: 3 3;\n",
       "}\n",
       ".opstree .rejected {\n",
       "    opacity: 0.25;\n",
       "}\n",
       ".opstree .level {\n",
       "    opacity: 0.25;\n",
       "}\n",
       ".opstree .orange {\n",
       "    fill: orange;\n",
       "}\n",
       ".tableline {\n",
       "    fill: gray;\n",
       "    opacity: 0.0;\n",
       "}\n",
       ".tableline:hover {\n",
       "    opacity: 0.2;\n",
       "}\n",
       ".opstree .left.label g.shift {\n",
       "    transform: translateX(-6px);\n",
       "}\n",
       ".opstree .right.label g.shift {\n",
       "    transform: translateX(+6px);\n",
       "}\n",
       ".opstree .infobox text {\n",
       "    text-anchor: start;\n",
       "}\n",
       ".opstree .shade {\n",
       "    stroke: none;\n",
       "}\n",
       "\n",
       ".movetree .label .shift {\n",
       "    transform: translateX(-18px);\n",
       "}\n",
       "\n",
       ".movetree .label text {\n",
       "    text-anchor: end;\n",
       "}\n",
       ".movetree .v-connector {\n",
       "    stroke: black;\n",
       "}\n",
       ".movetree .v-hook {\n",
       "    stroke: black;\n",
       "}\n",
       ".movetree .h-connector {\n",
       "    stroke: black;\n",
       "}\n",
       ".movetree .ensembles .head .shift {\n",
       "    transform: translateY(0px) rotate(270deg) ;\n",
       "}\n",
       ".movetree .ensembles .head text {\n",
       "    text-anchor: start;\n",
       "}\n",
       ".movetree .connector.input {\n",
       "    fill: blue;\n",
       "}\n",
       ".movetree .connector.output {\n",
       "    fill: red;\n",
       "}\n",
       ".movetree .unknown {\n",
       "    fill: #aaa;\n",
       "    /*stroke: white;*/\n",
       "}\n",
       "]]></style></defs><g transform=\"scale(1.0)\"><g class=\"tree\" transform=\"translate(194,15)\"><g class=\"trajectory-label\"><g class=\"unknown left label\" transform=\"translate(0,0)\"><g class=\"shift\"><text x=\"0\" y=\"0\">+</text></g></g><g class=\"shooting left label\" transform=\"translate(30,15)\"><g class=\"shift\"><text x=\"0\" y=\"0\">B</text></g></g><g class=\"shooting right label\" transform=\"translate(222,30)\"><g class=\"shift\"><text x=\"0\" y=\"0\">F</text></g></g><g class=\"shooting left label\" transform=\"translate(36,45)\"><g class=\"shift\"><text x=\"0\" y=\"0\">B</text></g></g><g class=\"shooting left label\" transform=\"translate(30,60)\"><g class=\"shift\"><text x=\"0\" y=\"0\">B</text></g></g><g class=\"shooting right label\" transform=\"translate(222,75)\"><g class=\"shift\"><text x=\"0\" y=\"0\">F</text></g></g><g class=\"shooting left label\" transform=\"translate(15,90)\"><g class=\"shift\"><text x=\"0\" y=\"0\">B</text></g></g><g class=\"shooting left label\" transform=\"translate(-159,105)\"><g class=\"shift\"><text x=\"0\" y=\"0\">B</text></g></g><g class=\"shooting right label\" transform=\"translate(537,120)\"><g class=\"shift\"><text x=\"0\" y=\"0\">F</text></g></g><g class=\"shooting right label\" transform=\"translate(414,135)\"><g class=\"shift\"><text x=\"0\" y=\"0\">F</text></g></g><g class=\"shooting left label\" transform=\"translate(-132,150)\"><g class=\"shift\"><text x=\"0\" y=\"0\">B</text></g></g><g class=\"shooting left label\" transform=\"translate(60,165)\"><g class=\"shift\"><text x=\"0\" y=\"0\">B</text></g></g></g><g class=\"shooting-hooks\"><line class=\"shooting bw connection v-connector\" x1=\"40.5\" x2=\"40.5\" y1=\"0.0\" y2=\"15.0\"/><line class=\"shooting fw connection v-connector\" x1=\"184.5\" x2=\"184.5\" y1=\"0.0\" y2=\"30.0\"/><line class=\"shooting bw connection v-connector\" x1=\"76.5\" x2=\"76.5\" y1=\"0.0\" y2=\"45.0\"/><line class=\"shooting bw connection v-connector\" x1=\"70.5\" x2=\"70.5\" y1=\"45.0\" y2=\"60.0\"/><line class=\"shooting fw connection v-connector\" x1=\"172.5\" x2=\"172.5\" y1=\"0.0\" y2=\"75.0\"/><line class=\"shooting bw connection v-connector\" x1=\"178.5\" x2=\"178.5\" y1=\"75.0\" y2=\"90.0\"/><line class=\"shooting bw connection v-connector\" x1=\"148.5\" x2=\"148.5\" y1=\"90.0\" y2=\"105.0\"/><line class=\"shooting fw connection v-connector\" x1=\"97.5\" x2=\"97.5\" y1=\"105.0\" y2=\"120.0\"/><line class=\"shooting fw connection v-connector\" x1=\"304.5\" x2=\"304.5\" y1=\"120.0\" y2=\"135.0\"/><line class=\"shooting bw connection v-connector\" x1=\"-85.5\" x2=\"-85.5\" y1=\"105.0\" y2=\"150.0\"/><line class=\"shooting bw connection v-connector\" x1=\"202.5\" x2=\"202.5\" y1=\"120.0\" y2=\"165.0\"/></g><g class=\"snapshot-blocks\"><g class=\"unknown new block\"><rect height=\"9.0\" width=\"222.0\" x=\"-1.5\" y=\"-4.5\"/><circle cx=\"220.5\" cy=\"0\" r=\"0.0\"/><text x=\"109.5\" y=\"0\"/></g><g class=\"shooting bw block\"><rect height=\"9.0\" width=\"12.0\" x=\"28.5\" y=\"10.5\"/><circle cx=\"40.5\" cy=\"15\" r=\"0.0\"/><text x=\"34.5\" y=\"15\"/></g><g class=\"shooting fw block\"><rect height=\"9.0\" width=\"39.0\" x=\"184.5\" y=\"25.5\"/><circle cx=\"223.5\" cy=\"30\" r=\"0.0\"/><text x=\"204.0\" y=\"30\"/></g><g class=\"shooting bw block\"><rect height=\"9.0\" width=\"42.0\" x=\"34.5\" y=\"40.5\"/><circle cx=\"76.5\" cy=\"45\" r=\"0.0\"/><text x=\"55.5\" y=\"45\"/></g><g class=\"shooting bw block\"><rect height=\"9.0\" width=\"42.0\" x=\"28.5\" y=\"55.5\"/><circle cx=\"70.5\" cy=\"60\" r=\"0.0\"/><text x=\"49.5\" y=\"60\"/></g><g class=\"shooting fw block\"><rect height=\"9.0\" width=\"51.0\" x=\"172.5\" y=\"70.5\"/><circle cx=\"223.5\" cy=\"75\" r=\"0.0\"/><text x=\"198.0\" y=\"75\"/></g><g class=\"shooting bw block\"><rect height=\"9.0\" width=\"165.0\" x=\"13.5\" y=\"85.5\"/><circle cx=\"178.5\" cy=\"90\" r=\"0.0\"/><text x=\"96.0\" y=\"90\"/></g><g class=\"shooting bw block\"><rect height=\"9.0\" width=\"309.0\" x=\"-160.5\" y=\"100.5\"/><circle cx=\"148.5\" cy=\"105\" r=\"0.0\"/><text x=\"-6.0\" y=\"105\"/></g><g class=\"shooting fw block\"><rect height=\"9.0\" width=\"441.0\" x=\"97.5\" y=\"115.5\"/><circle cx=\"538.5\" cy=\"120\" r=\"0.0\"/><text x=\"318.0\" y=\"120\"/></g><g class=\"shooting fw block\"><rect height=\"9.0\" width=\"111.0\" x=\"304.5\" y=\"130.5\"/><circle cx=\"415.5\" cy=\"135\" r=\"0.0\"/><text x=\"360.0\" y=\"135\"/></g><g class=\"shooting bw block\"><rect height=\"9.0\" width=\"48.0\" x=\"-133.5\" y=\"145.5\"/><circle cx=\"-85.5\" cy=\"150\" r=\"0.0\"/><text x=\"-109.5\" y=\"150\"/></g><g class=\"shooting bw block\"><rect height=\"9.0\" width=\"144.0\" x=\"58.5\" y=\"160.5\"/><circle cx=\"202.5\" cy=\"165\" r=\"0.0\"/><text x=\"130.5\" y=\"165\"/></g></g></g><g class=\"legend\"><g class=\"legend-correlation\" transform=\"translate(0)\"><g class=\"head label\" transform=\"translate(0,0)\"><g class=\"shift\"><text x=\"0\" y=\"0\">cor</text></g></g><g class=\"correlation v-region\"><line x1=\"0\" x2=\"0\" y1=\"7.5\" y2=\"97.5\"/><circle cx=\"0\" cy=\"7.5\" r=\"2.24\"/><line x1=\"-6.4\" x2=\"6.4\" y1=\"7.5\" y2=\"7.5\"/><circle cx=\"0\" cy=\"97.5\" r=\"2.24\"/><line x1=\"-6.4\" x2=\"6.4\" y1=\"97.5\" y2=\"97.5\"/><text x=\"-6.4\" y=\"52.5\"/></g><g class=\"correlation v-region\"><line x1=\"0\" x2=\"0\" y1=\"97.5\" y2=\"127.5\"/><circle cx=\"0\" cy=\"97.5\" r=\"2.24\"/><line x1=\"-6.4\" x2=\"6.4\" y1=\"97.5\" y2=\"97.5\"/><circle cx=\"0\" cy=\"127.5\" r=\"2.24\"/><line x1=\"-6.4\" x2=\"6.4\" y1=\"127.5\" y2=\"127.5\"/><text x=\"-6.4\" y=\"112.5\"/></g><g class=\"correlation v-region\"><line x1=\"0\" x2=\"0\" y1=\"127.5\" y2=\"187.5\"/><circle cx=\"0\" cy=\"127.5\" r=\"2.24\"/><line x1=\"-6.4\" x2=\"6.4\" y1=\"127.5\" y2=\"127.5\"/><text x=\"-6.4\" y=\"157.5\"/></g></g><g class=\"legend-step\" transform=\"translate(-32)\"><g class=\"head label\" transform=\"translate(0,0)\"><g class=\"shift\"><text x=\"0\" y=\"0\">step</text></g></g><g class=\"label\" transform=\"translate(0,15)\"><g class=\"shift\"><text x=\"0\" y=\"0\">0</text></g></g><g class=\"label\" transform=\"translate(0,30)\"><g class=\"shift\"><text x=\"0\" y=\"0\">1</text></g></g><g class=\"label\" transform=\"translate(0,45)\"><g class=\"shift\"><text x=\"0\" y=\"0\">4</text></g></g><g class=\"label\" transform=\"translate(0,60)\"><g class=\"shift\"><text x=\"0\" y=\"0\">8</text></g></g><g class=\"label\" transform=\"translate(0,75)\"><g class=\"shift\"><text x=\"0\" y=\"0\">11</text></g></g><g class=\"label\" transform=\"translate(0,90)\"><g class=\"shift\"><text x=\"0\" y=\"0\">12</text></g></g><g class=\"label\" transform=\"translate(0,105)\"><g class=\"shift\"><text x=\"0\" y=\"0\">17</text></g></g><g class=\"label\" transform=\"translate(0,120)\"><g class=\"shift\"><text x=\"0\" y=\"0\">18</text></g></g><g class=\"label\" transform=\"translate(0,135)\"><g class=\"shift\"><text x=\"0\" y=\"0\">19</text></g></g><g class=\"label\" transform=\"translate(0,150)\"><g class=\"shift\"><text x=\"0\" y=\"0\">20</text></g></g><g class=\"label\" transform=\"translate(0,165)\"><g class=\"shift\"><text x=\"0\" y=\"0\">22</text></g></g><g class=\"label\" transform=\"translate(0,180)\"><g class=\"shift\"><text x=\"0\" y=\"0\">24</text></g></g></g></g><g class=\"hovering-blocks\"><rect class=\"tableline\" height=\"13.5\" width=\"846.0\" x=\"-80.0\" y=\"8.25\"/><rect class=\"tableline\" height=\"13.5\" width=\"846.0\" x=\"-80.0\" y=\"23.25\"/><rect class=\"tableline\" height=\"13.5\" width=\"846.0\" x=\"-80.0\" y=\"38.25\"/><rect class=\"tableline\" height=\"13.5\" width=\"846.0\" x=\"-80.0\" y=\"53.25\"/><rect class=\"tableline\" height=\"13.5\" width=\"846.0\" x=\"-80.0\" y=\"68.25\"/><rect class=\"tableline\" height=\"13.5\" width=\"846.0\" x=\"-80.0\" y=\"83.25\"/><rect class=\"tableline\" height=\"13.5\" width=\"846.0\" x=\"-80.0\" y=\"98.25\"/><rect class=\"tableline\" height=\"13.5\" width=\"846.0\" x=\"-80.0\" y=\"113.25\"/><rect class=\"tableline\" height=\"13.5\" width=\"846.0\" x=\"-80.0\" y=\"128.25\"/><rect class=\"tableline\" height=\"13.5\" width=\"846.0\" x=\"-80.0\" y=\"143.25\"/><rect class=\"tableline\" height=\"13.5\" width=\"846.0\" x=\"-80.0\" y=\"158.25\"/><rect class=\"tableline\" height=\"13.5\" width=\"846.0\" x=\"-80.0\" y=\"173.25\"/></g></g></svg>"
      ],
      "text/plain": [
       "<IPython.core.display.SVG object>"
      ]
     },
     "execution_count": 7,
     "metadata": {},
     "output_type": "execute_result"
    }
   ],
   "source": [
    "replica_history = ops_vis.ReplicaEvolution(replica=0)\n",
    "tree = ops_vis.PathTree(\n",
    "    flexible.steps[0:25],\n",
    "    replica_history\n",
    ")\n",
    "tree.options.css['scale_x'] = 3\n",
    "\n",
    "SVG(tree.svg())"
   ]
  },
  {
   "cell_type": "code",
   "execution_count": 8,
   "metadata": {},
   "outputs": [],
   "source": [
    "# can write to svg file and open with programs that can read SVG\n",
    "with open(\"flex_tps_tree.svg\", 'w') as f:\n",
    "    f.write(tree.svg())"
   ]
  },
  {
   "cell_type": "code",
   "execution_count": 9,
   "metadata": {},
   "outputs": [
    {
     "name": "stdout",
     "output_type": "stream",
     "text": [
      "Decorrelated trajectories: 3\n"
     ]
    }
   ],
   "source": [
    "print(\"Decorrelated trajectories:\", len(tree.generator.decorrelated_trajectories))"
   ]
  },
  {
   "cell_type": "code",
   "execution_count": 10,
   "metadata": {},
   "outputs": [
    {
     "name": "stdout",
     "output_type": "stream",
     "text": [
      "All decorrelated trajectories: 846\n",
      "CPU times: user 1min 22s, sys: 321 ms, total: 1min 22s\n",
      "Wall time: 1min 22s\n"
     ]
    }
   ],
   "source": [
    "%%time\n",
    "full_history = ops_vis.PathTree(\n",
    "    flexible.steps,\n",
    "    ops_vis.ReplicaEvolution(\n",
    "        replica=0\n",
    "    )\n",
    ")\n",
    "\n",
    "n_decorrelated = len(full_history.generator.decorrelated_trajectories)\n",
    "\n",
    "print(\"All decorrelated trajectories:\", n_decorrelated)"
   ]
  },
  {
   "cell_type": "markdown",
   "metadata": {},
   "source": [
    "## Path length distribution\n",
    "\n",
    "Flexible length TPS gives a distribution of path lengths. Here we calculate the length of every accepted trajectory, then histogram those lengths, and calculate the maximum and average path lengths.\n",
    "\n",
    "We also use `engine.snapshot_timestep` to convert the count of frames to time, including correct units."
   ]
  },
  {
   "cell_type": "code",
   "execution_count": 11,
   "metadata": {},
   "outputs": [
    {
     "name": "stdout",
     "output_type": "stream",
     "text": [
      "Maximum: 449 (8.980 ps)\n",
      "Average: 84.56 (1.691 ps)\n"
     ]
    },
    {
     "data": {
      "image/png": "[encoded data removed]",
      "text/plain": [
       "<Figure size 432x288 with 1 Axes>"
      ]
     },
     "metadata": {
      "needs_background": "light"
     },
     "output_type": "display_data"
    }
   ],
   "source": [
    "path_lengths = [len(step.active[0].trajectory) for step in flexible.steps]\n",
    "plt.hist(path_lengths, bins=40, alpha=0.5);\n",
    "print(\"Maximum:\", max(path_lengths), \n",
    "      \"(\"+(max(path_lengths)*engine.snapshot_timestep).format(\"%.3f\")+\")\")\n",
    "print (\"Average:\", \"{0:.2f}\".format(np.mean(path_lengths)),\n",
    "       \"(\"+(np.mean(path_lengths)*engine.snapshot_timestep).format(\"%.3f\")+\")\")"
   ]
  },
  {
   "cell_type": "markdown",
   "metadata": {},
   "source": [
    "## Path density histogram\n",
    "\n",
    "Next we will create a path density histogram. Calculating the histogram itself is quite easy: first we reload the collective variables we want to plot it in (we choose the phi and psi angles). Then we create the empty path density histogram, by telling it which CVs to use and how to make the histogram (bin sizes, etc). Finally, we build the histogram by giving it the list of active trajectories to histogram."
   ]
  },
  {
   "cell_type": "code",
   "execution_count": 12,
   "metadata": {},
   "outputs": [],
   "source": [
    "from openpathsampling.numerics import HistogramPlotter2D"
   ]
  },
  {
   "cell_type": "code",
   "execution_count": 13,
   "metadata": {},
   "outputs": [],
   "source": [
    "psi = flexible.cvs['psi']\n",
    "phi = flexible.cvs['phi']\n",
    "deg = 180.0 / np.pi"
   ]
  },
  {
   "cell_type": "code",
   "execution_count": 14,
   "metadata": {},
   "outputs": [],
   "source": [
    "path_density = paths.PathDensityHistogram(cvs=[phi, psi],\n",
    "                                          left_bin_edges=(-180/deg,-180/deg),\n",
    "                                          bin_widths=(2.0/deg,2.0/deg))"
   ]
  },
  {
   "cell_type": "code",
   "execution_count": 15,
   "metadata": {},
   "outputs": [
    {
     "data": {
      "application/vnd.jupyter.widget-view+json": {
       "model_id": "48a614f7c58f423682e8b13a43f44b05",
       "version_major": 2,
       "version_minor": 0
      },
      "text/plain": [
       "HBox(children=(HTML(value=''), FloatProgress(value=0.0, max=10001.0), HTML(value='')))"
      ]
     },
     "metadata": {},
     "output_type": "display_data"
    },
    {
     "name": "stdout",
     "output_type": "stream",
     "text": [
      "\n"
     ]
    }
   ],
   "source": [
    "path_dens_counter = path_density.histogram([s.active[0].trajectory for s in flexible.steps])"
   ]
  },
  {
   "cell_type": "markdown",
   "metadata": {},
   "source": [
    "Now we've built the path density histogram, and we want to visualize it. We have a convenient `plot_2d_histogram` function that works in this case, and takes the histogram, desired plot tick labels and limits, and additional `matplotlib` named arguments to `plt.pcolormesh`."
   ]
  },
  {
   "cell_type": "code",
   "execution_count": 16,
   "metadata": {},
   "outputs": [
    {
     "data": {
      "image/png": "[encoded data removed]",
      "text/plain": [
       "<Figure size 432x288 with 2 Axes>"
      ]
     },
     "metadata": {
      "needs_background": "light"
     },
     "output_type": "display_data"
    }
   ],
   "source": [
    "tick_labels = np.arange(-np.pi, np.pi+0.01, np.pi/4)\n",
    "plotter = HistogramPlotter2D(path_density, \n",
    "                             xticklabels=tick_labels,\n",
    "                             yticklabels=tick_labels, \n",
    "                             label_format=\"{:4.2f}\")\n",
    "ax = plotter.plot(cmap=\"Blues\")"
   ]
  },
  {
   "cell_type": "markdown",
   "metadata": {},
   "source": [
    "## Convert to MDTraj for analysis by external tools\n",
    "\n",
    "The trajectory can be converted to an MDTraj trajectory, and then used anywhere that MDTraj can be used. This includes writing it to a file (in any number of file formats) or visualizing the trajectory using, e.g., NGLView."
   ]
  },
  {
   "cell_type": "code",
   "execution_count": 17,
   "metadata": {},
   "outputs": [
    {
     "data": {
      "text/plain": [
       "<mdtraj.Trajectory with 44 frames, 1651 atoms, 546 residues, and unitcells at 0x145efa740510>"
      ]
     },
     "execution_count": 17,
     "metadata": {},
     "output_type": "execute_result"
    }
   ],
   "source": [
    "ops_traj = flexible.steps[1000].active[0].trajectory\n",
    "traj = ops_traj.to_mdtraj()\n",
    "traj"
   ]
  },
  {
   "cell_type": "code",
   "execution_count": 18,
   "metadata": {},
   "outputs": [],
   "source": [
    "# Here's how you would then use NGLView:\n",
    "#import nglview as nv\n",
    "#view = nv.show_mdtraj(traj)\n",
    "#view"
   ]
  },
  {
   "cell_type": "code",
   "execution_count": 19,
   "metadata": {},
   "outputs": [],
   "source": [
    "flexible.close()"
   ]
  }
 ],
 "metadata": {
  "kernelspec": {
   "display_name": "Python 3",
   "language": "python",
   "name": "python3"
  },
  "language_info": {
   "codemirror_mode": {
    "name": "ipython",
    "version": 3
   },
   "file_extension": ".py",
   "mimetype": "text/x-python",
   "name": "python",
   "nbconvert_exporter": "python",
   "pygments_lexer": "ipython3",
   "version": "3.7.8"
  },
  "toc": {
   "base_numbering": 1,
   "nav_menu": {},
   "number_sections": true,
   "sideBar": true,
   "skip_h1_title": true,
   "title_cell": "Table of Contents",
   "title_sidebar": "Contents",
   "toc_cell": false,
   "toc_position": {},
   "toc_section_display": true,
   "toc_window_display": true
  },
  "varInspector": {
   "cols": {
    "lenName": 16,
    "lenType": 16,
    "lenVar": 40
   },
   "kernels_config": {
    "python": {
     "delete_cmd_postfix": "",
     "delete_cmd_prefix": "del ",
     "library": "var_list.py",
     "varRefreshCmd": "print(var_dic_list())"
    },
    "r": {
     "delete_cmd_postfix": ") ",
     "delete_cmd_prefix": "rm(",
     "library": "var_list.r",
     "varRefreshCmd": "cat(var_dic_list()) "
    }
   },
   "types_to_exclude": [
    "module",
    "function",
    "builtin_function_or_method",
    "instance",
    "_Feature"
   ],
   "window_display": false
  },
  "widgets": {
   "application/vnd.jupyter.widget-state+json": {
    "state": {
     "072e689f3ff442098bfbb72d7bfe0128": {
      "model_module": "@jupyter-widgets/controls",
      "model_module_version": "1.5.0",
      "model_name": "HTMLModel",
      "state": {
       "layout": "IPY_MODEL_ba6f4a4a33ca449fafed2501220630fa",
       "style": "IPY_MODEL_076f3b6e16cf41669e6836684364f4a4",
       "value": " 10001/10001 [02:01&lt;00:00, 82.01it/s]"
      }
     },
     "076f3b6e16cf41669e6836684364f4a4": {
      "model_module": "@jupyter-widgets/controls",
      "model_module_version": "1.5.0",
      "model_name": "DescriptionStyleModel",
      "state": {
       "description_width": ""
      }
     },
     "0ceb43b5a8ec4110a0c7d255faaeccf0": {
      "model_module": "@jupyter-widgets/controls",
      "model_module_version": "1.5.0",
      "model_name": "DescriptionStyleModel",
      "state": {
       "description_width": ""
      }
     },
     "1c7a82694e9e4b8984c2784a2be65b3b": {
      "model_module": "@jupyter-widgets/base",
      "model_module_version": "1.2.0",
      "model_name": "LayoutModel",
      "state": {}
     },
     "2ec07b6f4e0543a280aa283c9b502b76": {
      "model_module": "@jupyter-widgets/controls",
      "model_module_version": "1.5.0",
      "model_name": "FloatProgressModel",
      "state": {
       "bar_style": "success",
       "layout": "IPY_MODEL_b6e930bc9ceb43c4b7fd9cde02008310",
       "max": 10001,
       "style": "IPY_MODEL_cf10d2fa4b0a40cca143fae16c41c342",
       "value": 10001
      }
     },
     "38a10ee289aa486ebe0cec8e2ce74d4c": {
      "model_module": "@jupyter-widgets/base",
      "model_module_version": "1.2.0",
      "model_name": "LayoutModel",
      "state": {}
     },
     "48a614f7c58f423682e8b13a43f44b05": {
      "model_module": "@jupyter-widgets/controls",
      "model_module_version": "1.5.0",
      "model_name": "HBoxModel",
      "state": {
       "children": [
        "IPY_MODEL_517e0f594e9b40138cc997d371a9d141",
        "IPY_MODEL_2ec07b6f4e0543a280aa283c9b502b76",
        "IPY_MODEL_c42228d3aa6744b2b3789f702c706030"
       ],
       "layout": "IPY_MODEL_c162e8a3a8884efa9ffde682f591cfe1"
      }
     },
     "517e0f594e9b40138cc997d371a9d141": {
      "model_module": "@jupyter-widgets/controls",
      "model_module_version": "1.5.0",
      "model_name": "HTMLModel",
      "state": {
       "layout": "IPY_MODEL_864991f30c684ec4a4adb30e084b7de3",
       "style": "IPY_MODEL_0ceb43b5a8ec4110a0c7d255faaeccf0",
       "value": "100%"
      }
     },
     "610249cfd1ba4df48aeb805331c087f7": {
      "model_module": "@jupyter-widgets/controls",
      "model_module_version": "1.5.0",
      "model_name": "DescriptionStyleModel",
      "state": {
       "description_width": ""
      }
     },
     "6486501647e4483c8d6d56521b987909": {
      "model_module": "@jupyter-widgets/base",
      "model_module_version": "1.2.0",
      "model_name": "LayoutModel",
      "state": {}
     },
     "6d9ea6ac33644ce4a0bd7cd57a00a0c1": {
      "model_module": "@jupyter-widgets/controls",
      "model_module_version": "1.5.0",
      "model_name": "HBoxModel",
      "state": {
       "children": [
        "IPY_MODEL_9fd2d9446de14152a348e8cbe8f694f1",
        "IPY_MODEL_705206a17997442fa15856bf4a49cf9f",
        "IPY_MODEL_072e689f3ff442098bfbb72d7bfe0128"
       ],
       "layout": "IPY_MODEL_6486501647e4483c8d6d56521b987909"
      }
     },
     "705206a17997442fa15856bf4a49cf9f": {
      "model_module": "@jupyter-widgets/controls",
      "model_module_version": "1.5.0",
      "model_name": "FloatProgressModel",
      "state": {
       "bar_style": "success",
       "layout": "IPY_MODEL_38a10ee289aa486ebe0cec8e2ce74d4c",
       "max": 10001,
       "style": "IPY_MODEL_c626d27db8044405bea559fb5162f882",
       "value": 10001
      }
     },
     "780c392f82404ce3b5049dbde4461d4c": {
      "model_module": "@jupyter-widgets/controls",
      "model_module_version": "1.5.0",
      "model_name": "DescriptionStyleModel",
      "state": {
       "description_width": ""
      }
     },
     "864991f30c684ec4a4adb30e084b7de3": {
      "model_module": "@jupyter-widgets/base",
      "model_module_version": "1.2.0",
      "model_name": "LayoutModel",
      "state": {}
     },
     "9fd2d9446de14152a348e8cbe8f694f1": {
      "model_module": "@jupyter-widgets/controls",
      "model_module_version": "1.5.0",
      "model_name": "HTMLModel",
      "state": {
       "layout": "IPY_MODEL_fa8db0dff6f3467eb1b850fcdd0794d7",
       "style": "IPY_MODEL_610249cfd1ba4df48aeb805331c087f7",
       "value": "100%"
      }
     },
     "b6e930bc9ceb43c4b7fd9cde02008310": {
      "model_module": "@jupyter-widgets/base",
      "model_module_version": "1.2.0",
      "model_name": "LayoutModel",
      "state": {}
     },
     "ba6f4a4a33ca449fafed2501220630fa": {
      "model_module": "@jupyter-widgets/base",
      "model_module_version": "1.2.0",
      "model_name": "LayoutModel",
      "state": {}
     },
     "c162e8a3a8884efa9ffde682f591cfe1": {
      "model_module": "@jupyter-widgets/base",
      "model_module_version": "1.2.0",
      "model_name": "LayoutModel",
      "state": {}
     },
     "c42228d3aa6744b2b3789f702c706030": {
      "model_module": "@jupyter-widgets/controls",
      "model_module_version": "1.5.0",
      "model_name": "HTMLModel",
      "state": {
       "layout": "IPY_MODEL_1c7a82694e9e4b8984c2784a2be65b3b",
       "style": "IPY_MODEL_780c392f82404ce3b5049dbde4461d4c",
       "value": " 10001/10001 [02:29&lt;00:00, 67.01it/s]"
      }
     },
     "c626d27db8044405bea559fb5162f882": {
      "model_module": "@jupyter-widgets/controls",
      "model_module_version": "1.5.0",
      "model_name": "ProgressStyleModel",
      "state": {
       "description_width": ""
      }
     },
     "cf10d2fa4b0a40cca143fae16c41c342": {
      "model_module": "@jupyter-widgets/controls",
      "model_module_version": "1.5.0",
      "model_name": "ProgressStyleModel",
      "state": {
       "description_width": ""
      }
     },
     "fa8db0dff6f3467eb1b850fcdd0794d7": {
      "model_module": "@jupyter-widgets/base",
      "model_module_version": "1.2.0",
      "model_name": "LayoutModel",
      "state": {}
     }
    },
    "version_major": 2,
    "version_minor": 0
   }
  }
 },
 "nbformat": 4,
 "nbformat_minor": 4
}
