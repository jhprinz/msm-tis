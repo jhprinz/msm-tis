{
 "cells": [
  {
   "cell_type": "code",
   "execution_count": 1,
   "metadata": {
    "collapsed": true
   },
   "outputs": [],
   "source": [
    "%matplotlib inline\n",
    "import matplotlib.pyplot as plt\n",
    "import openpathsampling as paths\n",
    "import openpathsampling.engines.toy as toys\n",
    "import numpy as np\n",
    "import pandas as pd"
   ]
  },
  {
   "cell_type": "markdown",
   "metadata": {},
   "source": [
    "# Committors and Shooting Point Analysis\n",
    "\n",
    "There are several ways that we can calculate committors. This deals with two, in particular.\n",
    "\n",
    "First, we frequently want to run a committor from some specific snapshots. For example, you have a transition trajectory, and you want a sense of where the barrier is. So you select 10-20 frames from the trajectory, and run each of them 10-20 times with random velocities to see which states they end up in. The first section of this document describes how to do that process for any list of snapshots.\n",
    "\n",
    "Second, we frequently want to plot the committor as a function of some collective variable(s). In this case, we can histogram a bunch of committor shots according to the desired CVs. And, since every shooting move is essentially a committor trial, we can histogram *all* the shooting points from a normal path sampling calculation to obtain the committor landscape. This is what we do in the second section of this document.\n",
    "\n",
    "Note that there are also tricks to get the committor based on the reweighted path ensemble, and if you're really trying to get the committor landscape in some collective variables, that will probably be the best approach. The approaches here are useful for more simple analyses and for troubleshooting while setting up path sampling simulations."
   ]
  },
  {
   "cell_type": "markdown",
   "metadata": {},
   "source": [
    "## Simple Committor Run\n",
    "\n",
    "The analysis we use for the committor can be used on shooting points in general, but often we just want to run a committor calculation directly. Here we set up a simple run in a situation where, if the forward extension is chosen, we always end up in the `right` state, and if the backward extension is chosen, we always end up in the `left` state."
   ]
  },
  {
   "cell_type": "code",
   "execution_count": 2,
   "metadata": {
    "collapsed": false
   },
   "outputs": [],
   "source": [
    "pes = toys.LinearSlope(m=[0.0], c=[0.0]) # flat line\n",
    "topology = toys.Topology(n_spatial=1, masses=[1.0], pes=pes)\n",
    "integrator = toys.LeapfrogVerletIntegrator(0.1)\n",
    "options = {\n",
    "    'integ': integrator,\n",
    "    'n_frames_max': 1000,\n",
    "    'n_steps_per_frame': 5\n",
    "}\n",
    "\n",
    "engine = toys.Engine(options=options, topology=topology)\n",
    "\n",
    "snap0 = toys.Snapshot(coordinates=np.array([[0.0]]),\n",
    "                      velocities=np.array([[1.0]]),\n",
    "                      engine=engine)\n",
    "snap1 = toys.Snapshot(coordinates=np.array([[0.2]]),\n",
    "                      velocities=np.array([[1.0]]),\n",
    "                      engine=engine)\n",
    "\n",
    "\n",
    "cv = paths.FunctionCV(\"Id\", lambda snap : snap.coordinates[0][0])\n",
    "\n",
    "# these are our states:\n",
    "left = paths.CVDefinedVolume(cv, float(\"-inf\"), -1.0).named(\"left\")\n",
    "right = paths.CVDefinedVolume(cv, 1.0, float(\"inf\")).named(\"right\")\n",
    "\n",
    "# set up a file for storage\n",
    "storage = paths.Storage(\"committor_test.nc\", mode=\"w\", template=snap0)"
   ]
  },
  {
   "cell_type": "markdown",
   "metadata": {},
   "source": [
    "In addition to the standard setup as above, we need a way to randomize the snapshots. For this simple example, we actually won't randomize them (`NoModification`), but typically we would assign totally random velocities from a Boltzmann distribution (`RandomVelocities`)."
   ]
  },
  {
   "cell_type": "code",
   "execution_count": 3,
   "metadata": {
    "collapsed": true
   },
   "outputs": [],
   "source": [
    "## more typical:\n",
    "#randomizer = paths.RandomVelocities(beta=1.0)\n",
    "## for testing purposes:\n",
    "randomizer = paths.NoModification()"
   ]
  },
  {
   "cell_type": "markdown",
   "metadata": {},
   "source": [
    "Now we set up the committor simulation and run it. In this example, we use a list of two snapshots. If you only want to do the committor from one snapshot, you don't have to wrap it in a list."
   ]
  },
  {
   "cell_type": "code",
   "execution_count": 4,
   "metadata": {
    "collapsed": false
   },
   "outputs": [],
   "source": [
    "simulation = paths.CommittorSimulation(storage=storage,\n",
    "                                       engine=engine,\n",
    "                                       states=[left, right],\n",
    "                                       randomizer=randomizer,\n",
    "                                       initial_snapshots=[snap0, snap1])\n",
    "simulation.run(n_per_snapshot=10)"
   ]
  },
  {
   "cell_type": "markdown",
   "metadata": {},
   "source": [
    "Now we do the analysis:"
   ]
  },
  {
   "cell_type": "code",
   "execution_count": 5,
   "metadata": {
    "collapsed": false
   },
   "outputs": [
    {
     "data": {
      "text/plain": [
       "Counter({<openpathsampling.volume.CVDefinedVolume at 0x1174d3410>: 4,\n",
       "         <openpathsampling.volume.CVDefinedVolume at 0x1174d3550>: 6})"
      ]
     },
     "execution_count": 5,
     "metadata": {},
     "output_type": "execute_result"
    }
   ],
   "source": [
    "results = paths.ShootingPointAnalysis(steps=storage.steps, states=[left, right])\n",
    "results[snap0]"
   ]
  },
  {
   "cell_type": "code",
   "execution_count": 6,
   "metadata": {
    "collapsed": false
   },
   "outputs": [
    {
     "data": {
      "text/html": [
       "<div>\n",
       "<table border=\"1\" class=\"dataframe\">\n",
       "  <thead>\n",
       "    <tr style=\"text-align: right;\">\n",
       "      <th></th>\n",
       "      <th>left</th>\n",
       "      <th>right</th>\n",
       "    </tr>\n",
       "  </thead>\n",
       "  <tbody>\n",
       "    <tr>\n",
       "      <th>0</th>\n",
       "      <td>4</td>\n",
       "      <td>6</td>\n",
       "    </tr>\n",
       "    <tr>\n",
       "      <th>1</th>\n",
       "      <td>4</td>\n",
       "      <td>6</td>\n",
       "    </tr>\n",
       "  </tbody>\n",
       "</table>\n",
       "</div>"
      ],
      "text/plain": [
       "   left  right\n",
       "0     4      6\n",
       "1     4      6"
      ]
     },
     "execution_count": 6,
     "metadata": {},
     "output_type": "execute_result"
    }
   ],
   "source": [
    "# prettier printing of the same\n",
    "# first version uses number indexes to label snapshots\n",
    "results.to_pandas()"
   ]
  },
  {
   "cell_type": "code",
   "execution_count": 7,
   "metadata": {
    "collapsed": false
   },
   "outputs": [
    {
     "data": {
      "text/html": [
       "<div>\n",
       "<table border=\"1\" class=\"dataframe\">\n",
       "  <thead>\n",
       "    <tr style=\"text-align: right;\">\n",
       "      <th></th>\n",
       "      <th>left</th>\n",
       "      <th>right</th>\n",
       "    </tr>\n",
       "  </thead>\n",
       "  <tbody>\n",
       "    <tr>\n",
       "      <th>0.0</th>\n",
       "      <td>4</td>\n",
       "      <td>6</td>\n",
       "    </tr>\n",
       "    <tr>\n",
       "      <th>0.2</th>\n",
       "      <td>4</td>\n",
       "      <td>6</td>\n",
       "    </tr>\n",
       "  </tbody>\n",
       "</table>\n",
       "</div>"
      ],
      "text/plain": [
       "     left  right\n",
       "0.0     4      6\n",
       "0.2     4      6"
      ]
     },
     "execution_count": 7,
     "metadata": {},
     "output_type": "execute_result"
    }
   ],
   "source": [
    "# second version uses given label_function\n",
    "results.to_pandas(label_function=cv)"
   ]
  },
  {
   "cell_type": "markdown",
   "metadata": {},
   "source": [
    "## Analyzing shooting points from a TIS calculation\n",
    "\n",
    "The same analysis procedure can be applied to shooting points from an arbitrary TIS simulation. "
   ]
  },
  {
   "cell_type": "code",
   "execution_count": 8,
   "metadata": {
    "collapsed": false
   },
   "outputs": [],
   "source": [
    "store2 = paths.AnalysisStorage(\"mstis.nc\")"
   ]
  },
  {
   "cell_type": "code",
   "execution_count": 9,
   "metadata": {
    "collapsed": false
   },
   "outputs": [],
   "source": [
    "stateA = store2.volumes.find(\"A\")\n",
    "stateB = store2.volumes.find(\"B\")\n",
    "stateC = store2.volumes.find(\"C\")"
   ]
  },
  {
   "cell_type": "code",
   "execution_count": 10,
   "metadata": {
    "collapsed": false
   },
   "outputs": [],
   "source": [
    "results = paths.ShootingPointAnalysis(store2.steps, [stateA, stateB, stateC])"
   ]
  },
  {
   "cell_type": "code",
   "execution_count": 11,
   "metadata": {
    "collapsed": false
   },
   "outputs": [
    {
     "data": {
      "text/plain": [
       "4762"
      ]
     },
     "execution_count": 11,
     "metadata": {},
     "output_type": "execute_result"
    }
   ],
   "source": [
    "len(results)"
   ]
  },
  {
   "cell_type": "code",
   "execution_count": 12,
   "metadata": {
    "collapsed": false
   },
   "outputs": [
    {
     "data": {
      "text/plain": [
       "10401"
      ]
     },
     "execution_count": 12,
     "metadata": {},
     "output_type": "execute_result"
    }
   ],
   "source": [
    "len(store2.steps)"
   ]
  },
  {
   "cell_type": "markdown",
   "metadata": {},
   "source": [
    "### Committor as a function of one variable\n",
    "\n",
    "First we'll histogram the committor as a function of the distance from the center of state `A`. Recall that the order parameter we used is actually the square of the distance, so we take its square root to make the scale more reasonable."
   ]
  },
  {
   "cell_type": "code",
   "execution_count": 13,
   "metadata": {
    "collapsed": false
   },
   "outputs": [],
   "source": [
    "opA = store2.cvs['opA']\n",
    "distA = lambda snap : np.sqrt(opA(snap))\n",
    "bins = [0.0+0.05*i for i in range(31)]"
   ]
  },
  {
   "cell_type": "code",
   "execution_count": 14,
   "metadata": {
    "collapsed": false,
    "scrolled": true
   },
   "outputs": [
    {
     "data": {
      "image/png": "[encoded data removed]",
      "text/plain": [
       "<matplotlib.figure.Figure at 0x122555210>"
      ]
     },
     "metadata": {},
     "output_type": "display_data"
    }
   ],
   "source": [
    "hist, bins = results.committor_histogram(distA, stateA, bins)\n",
    "plt.bar(left=bins[:-1], height=hist, width=[bins[i+1]-bins[i] for i in range(len(bins)-1)], log=True)\n",
    "plt.xlim(0.0, 1.6);"
   ]
  },
  {
   "cell_type": "markdown",
   "metadata": {},
   "source": [
    "Here we've used the order parameter associated with state `A` as our collective variable. However, it is important to keep in mind that the choice of collective variable is completely arbitrary. For example, we could do the same analysis by looking at the distance from the central point `(0.0, 0.0)`. The plot would look different, since it is a different CV, but the procedure would remain the same.\n",
    "\n",
    "This is important: because we have access to the whole snapshots, things that were not calculated during the data-generation phase can be calculated in the data-analysis phase."
   ]
  },
  {
   "cell_type": "markdown",
   "metadata": {},
   "source": [
    "### Committor as a function of two variables\n",
    "\n",
    "Frequently, we're interested in looking at the committor as a function of two collective variables. This also follows the same procedure, although it is important that the new hashing function must return a tuple, where previously it returned a float. (Technically, it needs to return a hashable object. Tuples are hashable; lists, for example, are not.)"
   ]
  },
  {
   "cell_type": "code",
   "execution_count": 15,
   "metadata": {
    "collapsed": true
   },
   "outputs": [],
   "source": [
    "twoD_hash = lambda snap: (snap.xyz[0][0], snap.xyz[0][1])\n",
    "bins = [-1.0+i*0.05 for i in range(41)]"
   ]
  },
  {
   "cell_type": "code",
   "execution_count": 16,
   "metadata": {
    "collapsed": false
   },
   "outputs": [],
   "source": [
    "hist, bins_x, bins_y = results.committor_histogram(twoD_hash, stateA, bins)"
   ]
  },
  {
   "cell_type": "code",
   "execution_count": 17,
   "metadata": {
    "collapsed": false
   },
   "outputs": [
    {
     "data": {
      "image/png": "[encoded data removed]",
      "text/plain": [
       "<matplotlib.figure.Figure at 0x12252bbd0>"
      ]
     },
     "metadata": {},
     "output_type": "display_data"
    }
   ],
   "source": [
    "# when using pcolor, we need to transpose the histogram (hist.T)\n",
    "plt.pcolor(bins_x, bins_y, hist.T)\n",
    "plt.clim(0.0, 1.0)\n",
    "plt.colorbar();"
   ]
  },
  {
   "cell_type": "code",
   "execution_count": null,
   "metadata": {
    "collapsed": true
   },
   "outputs": [],
   "source": []
  }
 ],
 "metadata": {
  "kernelspec": {
   "display_name": "Python 2",
   "language": "python",
   "name": "python2"
  },
  "language_info": {
   "codemirror_mode": {
    "name": "ipython",
    "version": 2
   },
   "file_extension": ".py",
   "mimetype": "text/x-python",
   "name": "python",
   "nbconvert_exporter": "python",
   "pygments_lexer": "ipython2",
   "version": "2.7.12"
  }
 },
 "nbformat": 4,
 "nbformat_minor": 0
}
